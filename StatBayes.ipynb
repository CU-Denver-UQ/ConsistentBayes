{
 "cells": [
  {
   "cell_type": "code",
   "execution_count": null,
   "metadata": {},
   "outputs": [],
   "source": [
    "import numpy as np\n",
    "import scipy.stats as sstats\n",
    "from matplotlib import pyplot as plt"
   ]
  },
  {
   "cell_type": "code",
   "execution_count": null,
   "metadata": {},
   "outputs": [],
   "source": [
    "plt.xkcd()"
   ]
  },
  {
   "cell_type": "code",
   "execution_count": null,
   "metadata": {},
   "outputs": [],
   "source": [
    "import cbayes.sample as samp\n",
    "import cbayes.distributions as dist\n",
    "import cbayes.solve as solve"
   ]
  },
  {
   "cell_type": "code",
   "execution_count": null,
   "metadata": {},
   "outputs": [],
   "source": [
    "def QoI_fun(lam):\n",
    "    return np.power(lam, 5).reshape(-1, 1)"
   ]
  },
  {
   "cell_type": "markdown",
   "metadata": {},
   "source": [
    "## Consistent Bayes"
   ]
  },
  {
   "cell_type": "code",
   "execution_count": null,
   "metadata": {},
   "outputs": [],
   "source": [
    "N = 50000\n",
    "input_dim = 1\n",
    "output_dim = input_dim\n",
    "s_set = samp.sample_set(size=(N, input_dim))\n",
    "for i in range(input_dim):# define prior distribution\n",
    "    s_set.set_dist('uni', {'loc':-1, 'scale':2}, 0) # uniform\n",
    "#     s_set.set_dist('norm', {'loc':0, 'scale':0.5}, 0) # normal distribution \n",
    "s_set.generate_samples()\n",
    "p_set = samp.map_samples_and_create_problem(s_set, QoI_fun)"
   ]
  },
  {
   "cell_type": "code",
   "execution_count": null,
   "metadata": {},
   "outputs": [],
   "source": [
    "plt.scatter(p_set.input.samples[:], p_set.output.samples[:])\n",
    "plt.show()"
   ]
  },
  {
   "cell_type": "code",
   "execution_count": null,
   "metadata": {},
   "outputs": [],
   "source": [
    "sd = 0.1\n",
    "lo = 0.25\n",
    "p_set.set_observed_dist('norm', dim=0, kwds={'loc':lo, 'scale': sd})\n",
    "# FIX THE BUG WHERE YOU CANNOT OVERWRITE THIS... (didn't I already do this?... maybe just forgot to apply it to the observed dist part)"
   ]
  },
  {
   "cell_type": "code",
   "execution_count": null,
   "metadata": {},
   "outputs": [],
   "source": [
    "# p_set.compute_pushforward_dist(method='sk',kwds={'kernel': 'gaussian', 'bandwidth':0.1})"
   ]
  },
  {
   "cell_type": "code",
   "execution_count": null,
   "metadata": {},
   "outputs": [],
   "source": [
    "p_set.compute_pushforward_dist(method='scipy')"
   ]
  },
  {
   "cell_type": "code",
   "execution_count": null,
   "metadata": {},
   "outputs": [],
   "source": [
    "pf = p_set.pushforward_dist"
   ]
  },
  {
   "cell_type": "code",
   "execution_count": null,
   "metadata": {},
   "outputs": [],
   "source": [
    "x = np.linspace(-1.0,1.0,1000)\n",
    "plt.plot(x,pf.pdf(x))"
   ]
  },
  {
   "cell_type": "code",
   "execution_count": null,
   "metadata": {},
   "outputs": [],
   "source": [
    "p_set.set_ratio()"
   ]
  },
  {
   "cell_type": "code",
   "execution_count": null,
   "metadata": {},
   "outputs": [],
   "source": [
    "solve.problem(p_set)"
   ]
  },
  {
   "cell_type": "code",
   "execution_count": null,
   "metadata": {},
   "outputs": [],
   "source": [
    "plt.scatter(p_set.input.samples, p_set.ratio)\n",
    "plt.show()"
   ]
  },
  {
   "cell_type": "markdown",
   "metadata": {},
   "source": [
    "## Statistical Bayes"
   ]
  },
  {
   "cell_type": "code",
   "execution_count": null,
   "metadata": {},
   "outputs": [],
   "source": [
    "D = dist.parametric_dist(output_dim)\n",
    "for i in range(output_dim):\n",
    "    D.set_dist(i, 'norm',{'loc':lo, 'scale':sd })\n"
   ]
  },
  {
   "cell_type": "code",
   "execution_count": null,
   "metadata": {},
   "outputs": [],
   "source": [
    "likelihood = D.pdf(p_set.output.samples)\n",
    "prior = p_set.input.dist.pdf(p_set.input.samples)"
   ]
  },
  {
   "cell_type": "code",
   "execution_count": null,
   "metadata": {},
   "outputs": [],
   "source": [
    "post = likelihood*prior"
   ]
  },
  {
   "cell_type": "code",
   "execution_count": null,
   "metadata": {},
   "outputs": [],
   "source": [
    "plt.scatter(p_set.input.samples, post)\n",
    "plt.show()"
   ]
  },
  {
   "cell_type": "code",
   "execution_count": null,
   "metadata": {},
   "outputs": [],
   "source": [
    "# PS = post/np.max(post)\n",
    "# PC = p_set.ratio/np.max(p_set.ratio)\n",
    "# ps = np.concatenate([s_set.samples, PS.reshape(-1,1)], axis=1)\n",
    "# pc = np.concatenate([s_set.samples, PC.reshape(-1,1)], axis=1)"
   ]
  },
  {
   "cell_type": "code",
   "execution_count": null,
   "metadata": {},
   "outputs": [],
   "source": [
    "indS = solve.perform_accept_reject(s_set.samples, post)\n",
    "indC = solve.perform_accept_reject(s_set.samples, p_set.ratio)"
   ]
  },
  {
   "cell_type": "code",
   "execution_count": null,
   "metadata": {},
   "outputs": [],
   "source": [
    "cb_ps_den = dist.gkde(p_set.input.samples[indC])\n",
    "sb_ps_den = dist.gkde(p_set.input.samples[indS])\n",
    "cb_pf_den = dist.gkde(p_set.output.samples[indC])\n",
    "sb_pf_den = dist.gkde(p_set.output.samples[indS])"
   ]
  },
  {
   "cell_type": "code",
   "execution_count": null,
   "metadata": {},
   "outputs": [],
   "source": [
    "plt.plot(x, cb_pf_den.pdf(x), c='b', label='CB sol')\n",
    "plt.plot(x, sb_pf_den.pdf(x), c='k', label='SB sol')\n",
    "plt.show()"
   ]
  },
  {
   "cell_type": "code",
   "execution_count": null,
   "metadata": {},
   "outputs": [],
   "source": [
    "plt.plot(x, cb_ps_den.pdf(x), c='b', label='CB sol')\n",
    "plt.plot(x, sb_ps_den.pdf(x), c='k', label='SB sol')\n",
    "plt.show()"
   ]
  },
  {
   "cell_type": "code",
   "execution_count": null,
   "metadata": {},
   "outputs": [],
   "source": []
  }
 ],
 "metadata": {
  "kernelspec": {
   "display_name": "py3",
   "language": "python",
   "name": "py3"
  },
  "language_info": {
   "codemirror_mode": {
    "name": "ipython",
    "version": 3
   },
   "file_extension": ".py",
   "mimetype": "text/x-python",
   "name": "python",
   "nbconvert_exporter": "python",
   "pygments_lexer": "ipython3",
   "version": "3.6.4"
  }
 },
 "nbformat": 4,
 "nbformat_minor": 2
}
