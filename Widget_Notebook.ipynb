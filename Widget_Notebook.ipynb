{
 "cells": [
  {
   "cell_type": "markdown",
   "metadata": {},
   "source": [
    "http://ipywidgets.readthedocs.io/en/stable/examples/Widget%20List.html\n",
    "http://ipywidgets.readthedocs.io/en/stable/examples/Using%20Interact.html"
   ]
  },
  {
   "cell_type": "code",
   "execution_count": 37,
   "metadata": {},
   "outputs": [],
   "source": [
    "# interact(_,widgets.FloatSlider(value=0.5, min=0, max=1, step=0.1, orientation='vertical'),\n",
    "# widgets.FloatSlider(value=0.5, min=-1, max=1, step=0.1, orientation='vertical') )\n",
    "\n",
    "from ipywidgets import *\n",
    "    "
   ]
  },
  {
   "cell_type": "markdown",
   "metadata": {},
   "source": [
    "### Unpacking a tab-nest and reading the values for further processing.\n",
    "This could be very useful for setting up simulations and then grabbing data from them."
   ]
  },
  {
   "cell_type": "code",
   "execution_count": 3,
   "metadata": {},
   "outputs": [
    {
     "data": {
      "application/vnd.jupyter.widget-view+json": {
       "model_id": "61940e986bab44a59fbc93917b1ad7e7",
       "version_major": 2,
       "version_minor": 0
      },
      "text/plain": [
       "A Jupyter Widget"
      ]
     },
     "metadata": {},
     "output_type": "display_data"
    }
   ],
   "source": [
    "accordion = widgets.Accordion(children=[widgets.IntSlider(), widgets.Text()])\n",
    "accordion.set_title(0, 'Slider')\n",
    "accordion.set_title(1, 'Text')\n",
    "accordion\n",
    "\n",
    "tab_nest = widgets.Tab()\n",
    "tab_nest.children = [accordion, widgets.Accordion(children=[widgets.IntSlider(), widgets.Text()])]\n",
    "tab_nest.set_title(0, 'An accordion')\n",
    "tab_nest.set_title(1, 'Copy of the accordion')\n",
    "tab_nest\n",
    "\n",
    "\n"
   ]
  },
  {
   "cell_type": "markdown",
   "metadata": {},
   "source": [
    "## Pulling Data from objects in widgets"
   ]
  },
  {
   "cell_type": "code",
   "execution_count": 4,
   "metadata": {},
   "outputs": [
    {
     "data": {
      "text/plain": [
       "[[0, 0], ['', '']]"
      ]
     },
     "execution_count": 4,
     "metadata": {},
     "output_type": "execute_result"
    }
   ],
   "source": [
    "[[tab_nest.children[i].children[k].value for i in range(len(tab_nest.children[k].children))] for k in range(len(tab_nest.children))]\n",
    "# [tab_nest.children[i].children[1].value for i in range(len(tab_nest.children))]\n",
    "\n",
    "\n"
   ]
  },
  {
   "cell_type": "markdown",
   "metadata": {},
   "source": [
    "## Designing Arrays of widgets\n"
   ]
  },
  {
   "cell_type": "code",
   "execution_count": 36,
   "metadata": {},
   "outputs": [
    {
     "data": {
      "application/vnd.jupyter.widget-view+json": {
       "model_id": "72af0de3295d4f6bbd14dc276e0c3b4f",
       "version_major": 2,
       "version_minor": 0
      },
      "text/plain": [
       "A Jupyter Widget"
      ]
     },
     "metadata": {},
     "output_type": "display_data"
    },
    {
     "data": {
      "application/vnd.jupyter.widget-view+json": {
       "model_id": "dee14b0587ea4092bc6ef797303639ba",
       "version_major": 2,
       "version_minor": 0
      },
      "text/plain": [
       "A Jupyter Widget"
      ]
     },
     "metadata": {},
     "output_type": "display_data"
    }
   ],
   "source": [
    "a = widgets.IntSlider()\n",
    "b = widgets.IntSlider()\n",
    "c = widgets.FloatRangeSlider(continuous_update=False)\n",
    "d = widgets.IntSlider(orientation='vertical')\n",
    "e = widgets.IntSlider(orientation='vertical')\n",
    "l = widgets.Label(\"Hello\", disabled=True)\n",
    "ui = widgets.VBox([l, a, b, c])\n",
    "ui.layout.justify_content = 'center'\n",
    "vi = widgets.HBox([d, e])\n",
    "wi = widgets.HBox([vi, ui])\n",
    "def f(a, b, c):\n",
    "    print((a, b, c))\n",
    "\n",
    "out = widgets.interactive_output(f, {'a': a, 'b': b, 'c': c})\n",
    "\n",
    "display(wi, out)\n"
   ]
  },
  {
   "cell_type": "code",
   "execution_count": 18,
   "metadata": {},
   "outputs": [
    {
     "data": {
      "application/vnd.jupyter.widget-view+json": {
       "model_id": "7c5c23901e4c4a38ae3d8b6b221ab4c8",
       "version_major": 2,
       "version_minor": 0
      },
      "text/plain": [
       "A Jupyter Widget"
      ]
     },
     "metadata": {},
     "output_type": "display_data"
    }
   ],
   "source": [
    "def g(a, b):\n",
    "    display(a + b)\n",
    "    return \"This is%d\"%(a+b)\n",
    "w = interactive(g, a=10, b=20)\n",
    "# w.children\n",
    "display(w)"
   ]
  },
  {
   "cell_type": "code",
   "execution_count": 7,
   "metadata": {},
   "outputs": [
    {
     "data": {
      "text/plain": [
       "{'a': 10, 'b': 20}"
      ]
     },
     "execution_count": 7,
     "metadata": {},
     "output_type": "execute_result"
    }
   ],
   "source": [
    "w.kwargs"
   ]
  },
  {
   "cell_type": "code",
   "execution_count": 38,
   "metadata": {},
   "outputs": [
    {
     "data": {
      "application/vnd.jupyter.widget-view+json": {
       "model_id": "c4196c021f0447628d8824d401c3b368",
       "version_major": 2,
       "version_minor": 0
      },
      "text/plain": [
       "A Jupyter Widget"
      ]
     },
     "metadata": {},
     "output_type": "display_data"
    }
   ],
   "source": [
    "x_widget = FloatSlider(min=0.0, max=10.0, step=0.05)\n",
    "y_widget = FloatSlider(min=0.5, max=10.0, step=0.05, value=5.0)\n",
    "\n",
    "def update_x_range(*args):\n",
    "    x_widget.max = 2.0 * y_widget.value\n",
    "y_widget.observe(update_x_range, 'value')\n",
    "\n",
    "def printer(x, y):\n",
    "    print(x, y)\n",
    "interact(printer,x=x_widget, y=y_widget);"
   ]
  },
  {
   "cell_type": "markdown",
   "metadata": {},
   "source": [
    "## How to \"write\" vector of any size - Use for custom variance vectors."
   ]
  },
  {
   "cell_type": "code",
   "execution_count": 101,
   "metadata": {},
   "outputs": [
    {
     "data": {
      "application/vnd.jupyter.widget-view+json": {
       "model_id": "6ed898aaa1bc4a21ab3fd56f2c9cc5c6",
       "version_major": 2,
       "version_minor": 0
      },
      "text/plain": [
       "A Jupyter Widget"
      ]
     },
     "metadata": {},
     "output_type": "display_data"
    }
   ],
   "source": [
    "def make_dict_dataset(N):\n",
    "    return [{\"property\":k} for k in range(N)]\n",
    "\n",
    "def make_dataset(N):\n",
    "    return np.zeros(N)\n",
    "\n",
    "def read_data(dataset, index):\n",
    "    return dataset[index]\n",
    "\n",
    "def write_data(dataset, index, var): # read the variance, write it, and print\n",
    "    dataset[index] = var\n",
    "    print(var)\n",
    "\n",
    "def set_vars(dataset,index):\n",
    "    global sliders\n",
    "    try:\n",
    "        sliders.close()\n",
    "    except NameError:\n",
    "        pass\n",
    "    datum = read_dataset(dataset, index)\n",
    "    sliders =  interactive(write_data, dataset=fixed(dataset), index=fixed(index), \n",
    "                         var=FloatSlider(value=dataset[index], min=0, max=1,step=0.1)) # note I am now using interactive, instead of interact, because I need the close() function\n",
    "#                            var=FloatSlider(min=0, max=dataset[\"property\"],step=0.1)) # note I am now using interactive, instead of interact, because I need the close() function\n",
    "    display(sliders)\n",
    "\n",
    "    \n",
    "# if you define this stuff up here, it will stay in memory even as you re-run interact.\n",
    "N = 3\n",
    "sl = interactive(make_dataset, N=IntSlider(value=1, min=1, max=10))\n",
    "display(sl)"
   ]
  },
  {
   "cell_type": "code",
   "execution_count": 108,
   "metadata": {},
   "outputs": [
    {
     "data": {
      "application/vnd.jupyter.widget-view+json": {
       "model_id": "0840279d3a164d7084d708ce4fe72db7",
       "version_major": 2,
       "version_minor": 0
      },
      "text/plain": [
       "A Jupyter Widget"
      ]
     },
     "metadata": {},
     "output_type": "display_data"
    },
    {
     "data": {
      "text/plain": [
       "<function __main__.set_vars>"
      ]
     },
     "execution_count": 108,
     "metadata": {},
     "output_type": "execute_result"
    }
   ],
   "source": [
    "interact(set_vars, dataset=fixed(sl.result), index=IntSlider(value=0, min=0, max=sl.kwargs['N']-1, step=1))"
   ]
  },
  {
   "cell_type": "code",
   "execution_count": 52,
   "metadata": {},
   "outputs": [
    {
     "data": {
      "text/plain": [
       "[{'property': 0}, {'property': 1}, {'property': 2}]"
      ]
     },
     "execution_count": 52,
     "metadata": {},
     "output_type": "execute_result"
    }
   ],
   "source": [
    "dataset\n",
    "read_dataset\n"
   ]
  },
  {
   "cell_type": "code",
   "execution_count": 53,
   "metadata": {},
   "outputs": [
    {
     "data": {
      "text/plain": [
       "array([ 0.,  0.,  0.])"
      ]
     },
     "execution_count": 53,
     "metadata": {},
     "output_type": "execute_result"
    }
   ],
   "source": [
    "import numpy as np\n",
    "np.zeros(3)"
   ]
  },
  {
   "cell_type": "code",
   "execution_count": 60,
   "metadata": {},
   "outputs": [
    {
     "data": {
      "application/vnd.jupyter.widget-view+json": {
       "model_id": "c95da8b776804f009bed2e24dfb8ad32",
       "version_major": 2,
       "version_minor": 0
      },
      "text/plain": [
       "A Jupyter Widget"
      ]
     },
     "metadata": {},
     "output_type": "display_data"
    },
    {
     "data": {
      "text/plain": [
       "<function __main__.fun2>"
      ]
     },
     "execution_count": 60,
     "metadata": {},
     "output_type": "execute_result"
    },
    {
     "name": "stdout",
     "output_type": "stream",
     "text": [
      "0 1.9\n"
     ]
    }
   ],
   "source": [
    "datasets=[{\"property\":1},{\"property\":2},{\"property\":3},{\"property\":4},{\"property\":5}]\n",
    "\n",
    "def read_dataset(dataset_id):\n",
    "    return datasets[dataset_id]\n",
    "\n",
    "w_slider1 = IntSlider(min=0, max=len(datasets)-1, step=1)\n",
    "w_slider2 = FloatSlider(min=0, step=0.1)\n",
    "\n",
    "def fun1(dataset_id):\n",
    "    dataset = read_dataset(dataset_id)\n",
    "    #you could get rid of function \"read_dataset\"\n",
    "    #dataset = datasets[dataset_id]\n",
    "    w_slider2.max = dataset['property']\n",
    "\n",
    "def fun2(data, var):\n",
    "    #call fun1 to update the size of 2nd slider\n",
    "    fun1(data)\n",
    "    #do something\n",
    "    print(data, var)\n",
    "\n",
    "interact(fun2, data=w_slider1, var=w_slider2)"
   ]
  },
  {
   "cell_type": "code",
   "execution_count": 99,
   "metadata": {},
   "outputs": [
    {
     "ename": "KeyError",
     "evalue": "'N'",
     "output_type": "error",
     "traceback": [
      "\u001b[0;31m-----------------------------------------------------------\u001b[0m",
      "\u001b[0;31mKeyError\u001b[0m                  Traceback (most recent call last)",
      "\u001b[0;32m<ipython-input-99-d4761e428ca3>\u001b[0m in \u001b[0;36m<module>\u001b[0;34m()\u001b[0m\n\u001b[0;32m----> 1\u001b[0;31m \u001b[0msl\u001b[0m\u001b[0;34m.\u001b[0m\u001b[0mkwargs\u001b[0m\u001b[0;34m[\u001b[0m\u001b[0;34m'N'\u001b[0m\u001b[0;34m]\u001b[0m\u001b[0;34m\u001b[0m\u001b[0m\n\u001b[0m",
      "\u001b[0;31mKeyError\u001b[0m: 'N'"
     ]
    }
   ],
   "source": [
    "sl.kwargs['N']"
   ]
  },
  {
   "cell_type": "code",
   "execution_count": 94,
   "metadata": {},
   "outputs": [
    {
     "data": {
      "text/plain": [
       "8"
      ]
     },
     "execution_count": 94,
     "metadata": {},
     "output_type": "execute_result"
    }
   ],
   "source": [
    "sl.children[0].value"
   ]
  },
  {
   "cell_type": "code",
   "execution_count": 95,
   "metadata": {},
   "outputs": [
    {
     "data": {
      "text/plain": [
       "array([ 0.,  0.,  0.,  0.,  0.,  0.,  0.,  0.])"
      ]
     },
     "execution_count": 95,
     "metadata": {},
     "output_type": "execute_result"
    }
   ],
   "source": [
    "sl.result"
   ]
  },
  {
   "cell_type": "markdown",
   "metadata": {},
   "source": [
    "## Test Widgets in Dictionary\n",
    "does a deep copy of the dictionary create new instances of these widgets?"
   ]
  },
  {
   "cell_type": "code",
   "execution_count": 111,
   "metadata": {
    "collapsed": true
   },
   "outputs": [],
   "source": [
    "D={'%d'%k: widgets.IntSlider(value=1000, continuous_update=False, orientation='vertical',\n",
    "    min=int(5E2), max=int(5E4), step=500, description='$N$ :') for k in range(3)}"
   ]
  },
  {
   "cell_type": "code",
   "execution_count": 112,
   "metadata": {},
   "outputs": [
    {
     "data": {
      "text/plain": [
       "{'0': IntSlider(value=1000, continuous_update=False, description='$N$ :', max=50000, min=500, orientation='vertical', step=500),\n",
       " '1': IntSlider(value=1000, continuous_update=False, description='$N$ :', max=50000, min=500, orientation='vertical', step=500),\n",
       " '2': IntSlider(value=1000, continuous_update=False, description='$N$ :', max=50000, min=500, orientation='vertical', step=500)}"
      ]
     },
     "execution_count": 112,
     "metadata": {},
     "output_type": "execute_result"
    }
   ],
   "source": [
    "D"
   ]
  },
  {
   "cell_type": "markdown",
   "metadata": {},
   "source": [
    "It appears not. We can just use list syntax to create multiple instances. Can figure out \"current tab\" as well.\n",
    "\n"
   ]
  },
  {
   "cell_type": "markdown",
   "metadata": {},
   "source": [
    "### Another way to link sliders"
   ]
  },
  {
   "cell_type": "code",
   "execution_count": null,
   "metadata": {
    "collapsed": true
   },
   "outputs": [],
   "source": [
    "import traitlets\n",
    "caption = widgets.Label(value='The values of slider1 and slider2 are synchronized')\n",
    "sliders1, slider2 = widgets.IntSlider(description='Slider 1'),\\\n",
    "                    widgets.IntSlider(description='Slider 2')\n",
    "l = traitlets.link((sliders1, 'value'), (slider2, 'value') )\n",
    "display(caption, sliders1, slider2)\n",
    "print(widgets.Widget.observe.__doc__)\n",
    "\n"
   ]
  },
  {
   "cell_type": "code",
   "execution_count": null,
   "metadata": {
    "collapsed": true
   },
   "outputs": [],
   "source": []
  }
 ],
 "metadata": {
  "kernelspec": {
   "display_name": "Python 3",
   "language": "python",
   "name": "python3"
  },
  "language_info": {
   "codemirror_mode": {
    "name": "ipython",
    "version": 3
   },
   "file_extension": ".py",
   "mimetype": "text/x-python",
   "name": "python",
   "nbconvert_exporter": "python",
   "pygments_lexer": "ipython3",
   "version": "3.6.3"
  }
 },
 "nbformat": 4,
 "nbformat_minor": 2
}
