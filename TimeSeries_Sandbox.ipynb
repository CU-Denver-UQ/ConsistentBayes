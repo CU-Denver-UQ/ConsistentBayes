{
 "cells": [
  {
   "cell_type": "markdown",
   "metadata": {},
   "source": [
    "# Working with Time-Series Data in a Consistent Bayesian Framework\n",
    "---\n",
    "\n",
    "Copyright 2017 Michael Pilosov\n"
   ]
  },
  {
   "cell_type": "markdown",
   "metadata": {},
   "source": [
    "### Import Libraries\n",
    "_(should be 2.7 and 3.x compatible) _"
   ]
  },
  {
   "cell_type": "code",
   "execution_count": 1,
   "metadata": {
    "collapsed": true
   },
   "outputs": [],
   "source": [
    "# Mathematics and Plotting\n",
    "from HelperFuns import * # pyplot wrapper functions useful for visualizations, numpy, scipy, etc.\n",
    "%matplotlib inline\n",
    "plt.rcParams.update({'font.size': 14})\n",
    "plt.rcParams['figure.figsize'] = 5, 5\n",
    "\n",
    "# Interactivity\n",
    "from ipywidgets import *"
   ]
  },
  {
   "cell_type": "markdown",
   "metadata": {},
   "source": [
    "---\n",
    "## Defining the Parameter to Observables (PtO) Map "
   ]
  },
  {
   "cell_type": "markdown",
   "metadata": {},
   "source": [
    "---\n",
    "Consider the Ordinary Differential Equation Initival Value Problem given by  \n",
    "\n",
    "$$\n",
    "\\partial_t u(t) = -u(t) \\\\\n",
    "u(0) = \\lambda_0\n",
    "$$\n",
    "\n",
    "The solution to this problem is $u(t) = \\lambda_0 \\,e^{-t}$."
   ]
  },
  {
   "cell_type": "markdown",
   "metadata": {},
   "source": [
    "Suppose $\\lambda_0$ is some uncertain input parameter that we are trying to estimate through experimental observations. \n",
    "\n",
    "Suppose we know that $\\lambda_0 \\in [0, 2]$ with uniform probability and that we hope to infer the parameter by observing the system $u$ at K evenly spaced intervals in the interval $[T_0, T]$, where $T > T_0 > 0$. "
   ]
  },
  {
   "cell_type": "markdown",
   "metadata": {},
   "source": [
    "In order to define our Parameter-to-Observables Map, we want to transform these observations into a single measurement, which we do by looking at the **Mean Squared Error (2-norm) between the observations and the model predictions**:  \n",
    "\n",
    "$$\n",
    "O(\\lambda) = \\frac{1}{K} \\sum_{k=1}^{K} \\frac{(\\lambda e^{-k\\Delta_t} - \\lambda_0e^{-k\\Delta_t}) ^ 2}{\\sigma_k^2} = \\frac{1}{K}  \\sum_{k=1}^{K} \\frac{( (\\lambda- \\lambda_0) e^{-k\\Delta_t} ) ^ 2 }{ \\sigma_k^2}\n",
    "$$\n",
    "$$\n",
    "= \\frac{(\\lambda- \\lambda_0)^2}{K}  \\sum_{k=1}^{K}  \\left ( \\frac{e^{-k\\Delta_t}}{\\sigma_k} \\right )^2, \\quad \\text{where } \\Delta_t\\equiv T_0 + \\frac{T - T_0}{K}\n",
    "$$"
   ]
  },
  {
   "cell_type": "markdown",
   "metadata": {},
   "source": [
    "Observe that the division of each measurement by a standard deviation is consistent with the formulation of an additive error statistical model familiar to the usual Bayesian formulation:  \n",
    "\n",
    "$$\n",
    "y_i = \\beta\\, x_i + \\epsilon_i, \\quad \\epsilon_i \\sim N(0,\\sigma_i)\n",
    "$$"
   ]
  },
  {
   "cell_type": "markdown",
   "metadata": {},
   "source": [
    "For a step-by-step walkthrough, please see the CBayes_TS.ipynb file.\n",
    "Below you will find an all-in-one version. \n"
   ]
  },
  {
   "cell_type": "markdown",
   "metadata": {},
   "source": [
    "### Define some functions for the sandbox"
   ]
  },
  {
   "cell_type": "code",
   "execution_count": 2,
   "metadata": {},
   "outputs": [],
   "source": [
    "def sandbox(num_samples = int(1E4), lam_bound = [0,2], lam0=0.5, num_observations=1,\n",
    "            T=[0.1,1], uncertainty = 0.05, sd = 1):\n",
    "    # NOTE this version only uses constant variances for the sake\n",
    "    # of interactivity. \n",
    "    sigma = sd*np.ones(num_observations)\n",
    "    T_start, T_end = T\n",
    "    if T_end < T_start:\n",
    "        print('Error: end time is before start time. Switching them now.')\n",
    "        T_temp = T_end\n",
    "        T_end = T_start\n",
    "        T_start = T_temp\n",
    "    if num_observations == 1:\n",
    "        print('K=1 specified, This is a single observation at t = %f.'%T_start)\n",
    "    t = np.linspace(T_start, T_end, num_observations)\n",
    "    def PtO_fun(lam):\n",
    "        return ((lam - lam0)**2/num_observations)*np.sum( [ np.power(\n",
    "            [ np.exp(-t[k])/sigma[k] ], 2)[0] \n",
    "            for k in range(int(num_observations))          ], 0 )\n",
    "    \n",
    "    # Sample the Parameter Space\n",
    "    a, b = lam_bound\n",
    "    lam = np.random.uniform(a, b, size = (1, int(num_samples)) ) # standard uniform\n",
    "    # Map to Data Space\n",
    "    D = PtO_fun(lam)\n",
    "    print('dimensions :  lambda = ' + str(lam.shape) + '   D = ' + str(D.shape) )\n",
    "    # Perform KDE to estimate the pushforward\n",
    "    pf_dens = gkde(D) # compute KDE estimate of it\n",
    "    # Specify Observed Measure - Uniform Density\n",
    "    \n",
    "    obs_dens = sstats.uniform(0,uncertainty) # 1D only\n",
    "    # Solve the problem\n",
    "    r = obs_dens.pdf( D ) / pf_dens.evaluate(D) # vector of ratios evaluated at all the O(lambda)'s\n",
    "    M = np.max(r)\n",
    "    eta_r = r[0]/M\n",
    "    \n",
    "    res = 50;\n",
    "    max_x = 1.1;\n",
    "    # Plot stuff\n",
    "    plt.rcParams['figure.figsize'] = (18, 6)\n",
    "    plt.figure()\n",
    "    plt.subplot(1, 3, 1)\n",
    "    x = np.linspace(0, max_x, res)\n",
    "    plt.plot(x,pf_dens.evaluate(x))\n",
    "    plt.title('Pushforward of Prior')\n",
    "    plt.xlabel('O(lambda)')\n",
    "    \n",
    "    plt.subplot(1, 3, 2)\n",
    "    xx = np.linspace(0, max_x, res)\n",
    "    plt.plot(xx,obs_dens.pdf(xx))\n",
    "    plt.title('Observed Density')\n",
    "    plt.xlabel('O(lambda)')\n",
    "\n",
    "    plt.subplot(1, 3, 3)\n",
    "    plt.scatter(lam,eta_r)\n",
    "    # plt.plot(lam_accept, gkde(lam_accept))\n",
    "    plt.scatter(lam0, 0.05)\n",
    "    # plt.title('Posterior Distribution\\nof Uniform Observed Density \\nwith bound = %1.2e'%uni_max)\n",
    "    plt.xlabel('Lambda')\n",
    "    # # OPTIONAL:\n",
    "    # pr = 0.2 # percentage view-window around true parameter.\n",
    "#     plt.xlim(lam0*np.array([1-pr,1+pr]))\n",
    "    plt.xlim([a,b])\n",
    "    plt.show()\n",
    "\n"
   ]
  },
  {
   "cell_type": "markdown",
   "metadata": {},
   "source": [
    "Jump to [Extra Visualizations](#Extra-Visualizations) at the bottom of the worksheet to see the prior compared to the posterior as well as the pushforward of the posterior compared to the observed density. "
   ]
  },
  {
   "cell_type": "markdown",
   "metadata": {},
   "source": [
    "---\n",
    "\n",
    "# All-in-One Sandbox!\n",
    "_Run the cells below to start experimenting_"
   ]
  },
  {
   "cell_type": "code",
   "execution_count": 27,
   "metadata": {},
   "outputs": [
    {
     "data": {
      "application/vnd.jupyter.widget-view+json": {
       "model_id": "7f8575dae8fe4018b9f1aeb995e8df4d",
       "version_major": 2,
       "version_minor": 0
      },
      "text/plain": [
       "A Jupyter Widget"
      ]
     },
     "metadata": {},
     "output_type": "display_data"
    }
   ],
   "source": [
    "interact_manual(sandbox, \n",
    "        num_samples = IntSlider(value=500, \n",
    "            min=int(5E2), max=int(5E4), step=500, description='Samp. $N$ ='), \n",
    "        lam_bound = FloatRangeSlider(value=[0.0, 2.0], \n",
    "            min=-5.0, max = 5.0, step=0.25, description='Param $\\Lambda \\in$'),\n",
    "        lam0 = FloatSlider(value=1.0, \n",
    "            min=0.25, max=1.75, step=0.05, description='IC: $\\lambda_0$ ='), \n",
    "        num_observations = IntSlider(value=10, \n",
    "            min=1, max=50, description='Obs. $K$ ='), \n",
    "        T = FloatRangeSlider( value=[0.5, 1], min=0.1, max=7.5, step=0.1,\n",
    "            description='$t\\in [T_0, T]$:', orientation='horizontal',\n",
    "            readout=True, readout_format='.1f'), \n",
    "        uncertainty = FloatSlider(value=0.1, \n",
    "            min=0.005, max=0.5, step=0.005, description='Invert MSE $\\leq$'),\n",
    "        sd = FloatSlider(value=1, \n",
    "            min=0.15, max=1.85, step=0.05, description='Constant $\\sigma$:') )\n",
    "plt.show()"
   ]
  },
  {
   "cell_type": "code",
   "execution_count": null,
   "metadata": {
    "collapsed": true
   },
   "outputs": [],
   "source": []
  }
 ],
 "metadata": {
  "anaconda-cloud": {},
  "kernelspec": {
   "display_name": "Python 3",
   "language": "python",
   "name": "python3"
  },
  "language_info": {
   "codemirror_mode": {
    "name": "ipython",
    "version": 3
   },
   "file_extension": ".py",
   "mimetype": "text/x-python",
   "name": "python",
   "nbconvert_exporter": "python",
   "pygments_lexer": "ipython3",
   "version": "3.6.3"
  }
 },
 "nbformat": 4,
 "nbformat_minor": 2
}
