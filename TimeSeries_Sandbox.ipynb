{
 "cells": [
  {
   "cell_type": "markdown",
   "metadata": {},
   "source": [
    "# Working with Time-Series Data in a Consistent Bayesian Framework\n",
    "---\n",
    "\n",
    "Copyright 2017 Michael Pilosov\n",
    "\n",
    "Demonstration available at https://www.youtube.com/watch?v=rUIVcl64NXw"
   ]
  },
  {
   "cell_type": "markdown",
   "metadata": {},
   "source": [
    "### Import Libraries\n",
    "_(should be 2.7 and 3.x compatible) _"
   ]
  },
  {
   "cell_type": "code",
   "execution_count": null,
   "metadata": {
    "collapsed": true
   },
   "outputs": [],
   "source": [
    "# Mathematics and Plotting\n",
    "import numpy as np\n",
    "from matplotlib import pyplot as plt\n",
    "import scipy.stats as sstats\n",
    "from scipy.stats import gaussian_kde as gkde\n",
    "%matplotlib inline\n",
    "plt.rcParams.update({'font.size': 14})\n",
    "plt.rcParams['figure.figsize'] = 5, 5\n",
    "\n",
    "# Interactivity\n",
    "from ipywidgets import *"
   ]
  },
  {
   "cell_type": "markdown",
   "metadata": {},
   "source": [
    "---\n",
    "## Defining the Parameter to Observables (PtO) and Quantity of Interest (QoI) maps\n",
    "\n",
    "---\n",
    "Consider the Initival Value Problem (IVP)\n",
    "\n",
    "$$\n",
    "\\begin{cases}\n",
    "    \\dot{u}(t) = -u(t), & t>0 \\\\\n",
    "    u(0) = \\lambda, & \n",
    "\\end{cases}\n",
    "$$\n",
    "\n",
    "with solution $u(t;\\lambda) = \\lambda \\,e^{-t}$.\n",
    "\n",
    "Let $0<t_0<t_1<\\ldots, t_K$ denote the observation times. \n",
    "Given a fixed initial condition (i.e., parameter) $\\lambda$, let $y_k$ denote the set of (noisy) observations of the state variable $u(t_k,\\lambda)$ for $k=0,1,\\ldots, K$. \n",
    "\n",
    "We make the standard assumption of an additive error model with independent identically distributed noise, i.e., for each $k=0,1,\\ldots,K$ and fixed value of $\\lambda$, we assume that the Parameter-to-Observables (PtO) maps are given by\n",
    "\n",
    "$$\n",
    "O_k(\\lambda) := u(t_k;\\lambda) + \\epsilon_k, \\quad \\epsilon_k \\sim N(0,\\sigma_k). \n",
    "$$\n",
    "\n",
    "Assume that there is a true value of $\\lambda$, which we denoted by $\\lambda_0$, for which the observations $y_k:=O_k(\\lambda_0)$ are given for $k=0,1,\\ldots,K$.\n",
    "\n",
    "Then, for any other value of $\\lambda$ in the IVP above, we define the Quantity of Interest (QoI) as the **Weighted Sum Squared Error (a weighted 2-norm) between the observations and the model predictions**, i.e., we define the QoI map as\n",
    "\n",
    "$$\n",
    "    \\boxed{Q(\\lambda) := \\sum_{k=0}^{K} \\frac{(u(t_k;\\lambda) - y_k) ^ 2}{\\sigma_k^2}}\n",
    "$$\n",
    "\n",
    "We let $\\mathcal{D} := Q(\\Lambda)$ denote the space of all possible observations of mean squared error. \n"
   ]
  },
  {
   "cell_type": "markdown",
   "metadata": {},
   "source": [
    "---\n",
    "## Formulating the Inverse Problem:\n",
    "---\n",
    "### Prior Information/Assumptions\n",
    "\n",
    "* We assume that the true value $\\lambda_0$ belongs to the parameter space defined by $\\Lambda:= [0, 2]$.\n",
    "\n",
    "\n",
    "* Prior to the data $\\{y_k\\}_{k=0}^K$ being available, any value of the parameter $\\lambda$ in $\\Lambda$ is assumed to be equally likely. In other words, we take $\\pi^{prior}_\\Lambda(\\lambda)$ to be a uniform density.\n",
    "\n",
    "\n",
    "### The Observed Density\n",
    "\n",
    "* For the true value of $\\lambda_0$, we have that $u(t_k;\\lambda_0)-y_k = \\epsilon_k$ for each $k$. Thus, the observed density on $\\mathcal{D}$, denoted by $\\pi^{obs}_{\\mathcal{D}}(d)$, is given by a $\\chi^2_{K+1}$ distribution.\n",
    "\n",
    "### The Posterior Density\n",
    "\n",
    "* Let $\\pi^{O(prior)}_{\\mathcal{D}}(d)$ denote the push-forward of the prior density onto $\\mathcal{D}$. Then, the posterior density on $\\Lambda$ is given by\n",
    "\n",
    "$$\n",
    "    \\pi^{post}_\\Lambda(\\lambda) := \\pi^{prior}_\\Lambda(\\lambda)\\frac{\\pi^{obs}_{\\mathcal{D}}(Q(\\lambda))}{\\pi^{O(prior)}_{\\mathcal{D}}(Q(\\lambda))}\n",
    "$$"
   ]
  },
  {
   "cell_type": "markdown",
   "metadata": {},
   "source": [
    "---\n",
    "## The numerical implementation and practical considerations\n",
    "---\n",
    "Here, we provide only a few brief remarks on the implementation.\n",
    "For a step-by-step walkthrough, please see the CBayes_TS.ipynb file.\n",
    "Below you will find an all-in-one version. \n",
    "\n",
    "***Some useful remarks go here.***\n",
    "\n",
    "* In the `sandbox` function below, `T` is an interval of observation times\n",
    "\n"
   ]
  },
  {
   "cell_type": "markdown",
   "metadata": {},
   "source": [
    "---\n",
    "\n",
    "### Define some functions for the sandbox"
   ]
  },
  {
   "cell_type": "code",
   "execution_count": null,
   "metadata": {
    "collapsed": false
   },
   "outputs": [],
   "source": [
    "def sandbox(num_samples = int(1E4), lam_bound = [3,6], lam_0=3.5, \n",
    "            t_0 = 0.1, Delta_t = 0.1, num_observations = 4, sd=1):\n",
    "#            T=[0.1,1], uncertainty = 0.05, sd = 1):\n",
    "    # NOTE this version only uses constant variances for the sake\n",
    "    # of interactivity.\n",
    "    sigma = sd*np.ones(num_observations)\n",
    "    \n",
    "    if num_observations == 1:\n",
    "        print('K=0 specified, This is a single observation at t = %f.'%t_0)\n",
    "        \n",
    "    t = np.linspace(t_0, t_0 + Delta_t*(num_observations-1), num_observations)\n",
    "    \n",
    "    def Q_fun(lam,obs_data):\n",
    "        predictions = lam*np.exp(-t)\n",
    "        residuals = predictions - obs_data\n",
    "        QoI = np.sum( (residuals/sigma)**2 )\n",
    "        return QoI\n",
    "    \n",
    "    # Sample the Parameter Space\n",
    "    a, b = lam_bound\n",
    "    lam = np.random.uniform(a, b, size = (int(num_samples), 1) ) # standard uniform\n",
    "    \n",
    "    # Create observations\n",
    "    obs_data = lam_0 * np.exp(-t) + np.random.randn(int(num_observations))*sigma\n",
    "    \n",
    "    # Map to Data Space\n",
    "    D = np.zeros(int(num_samples))\n",
    "    for i in range(int(num_samples)):\n",
    "        D[i] = Q_fun(lam[i,:], obs_data)\n",
    "    \n",
    "#     print('dimensions :  lambda = ' + str(lam.shape) + '   D = ' + str(D.shape) )\n",
    "    # Perform KDE to estimate the pushforward\n",
    "    pf_dens = gkde(D) # compute KDE estimate of it\n",
    "    # Specify Observed Measure - Uniform Density\n",
    "    \n",
    "    #obs_dens = sstats.uniform(0,uncertainty) # 1D only\n",
    "    obs_dens = sstats.chi2(int(num_observations))\n",
    "    \n",
    "    # Solve the problem\n",
    "    r = obs_dens.pdf(D) / pf_dens.evaluate(D) # vector of ratios evaluated at all the O(lambda)'s\n",
    "    M = np.max(r)\n",
    "\n",
    "    r = r[:,np.newaxis]\n",
    "    eta_r = r[:,0]/M\n",
    "    \n",
    "    print('\\tEntropy is %1.4e'%sstats.entropy( obs_dens.pdf(D), pf_dens.evaluate(D) ))\n",
    "    \n",
    "    res = 50;\n",
    "    max_x = D.max();\n",
    "    # Plot stuff\n",
    "    plt.rcParams['figure.figsize'] = (18, 6)\n",
    "    plt.figure()\n",
    "    plt.subplot(1, 3, 1)\n",
    "    x = np.linspace(-0.25, max_x, res)\n",
    "    plt.plot(x, pf_dens.evaluate(x))\n",
    "    plt.title('Pushforward of Prior')\n",
    "    plt.xlabel('O(lambda)')\n",
    "    \n",
    "    plt.subplot(1, 3, 2)\n",
    "    xx = np.linspace(0, max_x, res)\n",
    "    plt.plot(xx, obs_dens.pdf(xx))\n",
    "    plt.title('Observed Density')\n",
    "    plt.xlabel('O(lambda)')\n",
    "\n",
    "    plt.subplot(1, 3, 3)\n",
    "    plt.scatter(lam, eta_r)\n",
    "    # plt.plot(lam_accept, gkde(lam_accept))\n",
    "    plt.scatter(lam_0, 0.05)\n",
    "    plt.title('Posterior Distribution') #\\nof Uniform Observed Density \\nwith bound = %1.2e'%uncertainty)\n",
    "    plt.xlabel('Lambda')\n",
    "#     plt.title('$\\eta_r$')\n",
    "    # # OPTIONAL:\n",
    "    # pr = 0.2 # percentage view-window around true parameter.\n",
    "#     plt.xlim(lam0*np.array([1-pr,1+pr]))\n",
    "    plt.xlim([a,b])\n",
    "    plt.show()\n",
    "    \n",
    "#     return eta_r"
   ]
  },
  {
   "cell_type": "markdown",
   "metadata": {},
   "source": [
    "---\n",
    "\n",
    "# All-in-One Sandbox!\n",
    "_Run the cells below to start experimenting_"
   ]
  },
  {
   "cell_type": "code",
   "execution_count": null,
   "metadata": {
    "collapsed": false
   },
   "outputs": [],
   "source": [
    "interact_manual(sandbox, \n",
    "        num_samples = IntSlider(value=2500, \n",
    "            min=int(5E2), max=int(5E4), step=500, description='Samp. $N$ ='), \n",
    "        lam_bound = FloatRangeSlider(value=[3.0, 6.0], \n",
    "            min=2.0, max = 7.0, step=0.5, description='Param $\\Lambda \\in$'),\n",
    "        lam_0 = FloatSlider(value=3.5, \n",
    "            min=2.0, max=7.0, step=0.1, description='IC: $\\lambda_0$ ='), \n",
    "        t_0 = FloatSlider(value=0.5, \n",
    "            min=0.1, max=2, step=0.1, description='$t_0$ ='),\n",
    "        Delta_t = FloatSlider(value=0.1, \n",
    "            min=0.05, max=0.5, step=0.05, description='$\\Delta_t$ ='),\n",
    "        num_observations = IntSlider(value=50, \n",
    "            min=1, max=100, description='Num. of Obs. ='), \n",
    "        T = FloatRangeSlider( value=[0.5, 2], min=0.1, max=7.5, step=0.1,\n",
    "            description='$t\\in [T_0, T]$:', orientation='horizontal',\n",
    "            readout=True, readout_format='.1f'), \n",
    "        uncertainty = FloatSlider(value=0.01, \n",
    "            min=0.005, max=0.25, step=0.005, \n",
    "            description='Invert MSE $\\leq$', readout_format='.3f'),\n",
    "        sd = FloatSlider(value=0.1, \n",
    "            min=0.05, max=0.25, step=0.01, description='Constant $\\sigma$:'));\n",
    "plt.show()"
   ]
  },
  {
   "cell_type": "code",
   "execution_count": null,
   "metadata": {
    "collapsed": false,
    "scrolled": false
   },
   "outputs": [],
   "source": [
    "num_samples = widgets.IntSlider(value=1000, continuous_update=False, orientation='vertical',\n",
    "    min=int(5E2), max=int(5E4), step=500, description='$N$ :')\n",
    "\n",
    "lam_bound = widgets.FloatRangeSlider(value=[0.0, 2.0], continuous_update=False, orientation='horizontal',\n",
    "    min=-5.0, max = 5.0, step=0.25, description='Param: $\\Lambda \\in$')\n",
    "\n",
    "lam0 = widgets.FloatSlider(value=1.0, continuous_update=False, orientation='horizontal',\n",
    "    min=0.25, max=1.75, step=0.05, description='IC: $\\lambda_0$')\n",
    "\n",
    "def update_lam0_range(*args): # update ref lambda if lambda bound changes\n",
    "    lam0.min = lam_bound.value[0]\n",
    "    lam0.max = lam_bound.value[1]\n",
    "lam_bound.observe(update_lam0_range, 'value')\n",
    "\n",
    "dof = widgets.IntSlider(value=0, continuous_update=False, orientation='horizontal',\n",
    "    min=0, max=50, description='d.o.f: $K$ =')\n",
    "\n",
    "T = widgets.FloatRangeSlider( value=[0.5, 1], min=0.1, max=7.5, step=0.1, continuous_update=False,\n",
    "    description='$t\\in [T_0, T]$ :', orientation='horizontal',\n",
    "    readout=True, readout_format='.1f')\n",
    "\n",
    "uncertainty = widgets.FloatSlider(value=0.01, continuous_update=False, orientation='vertical',\n",
    "    min=0.005, max=0.25, step=0.005, \n",
    "    description='$\\epsilon$ :', readout_format='.3f')\n",
    "\n",
    "sd = widgets.FloatSlider(value=1, continuous_update=False, orientation='vertical',\n",
    "    min=0.15, max=1.85, step=0.05, description='$\\sigma$ :')\n",
    "\n",
    "lbl = widgets.Label(\"UQ Sandbox\", disabled=False)\n",
    "u1 = widgets.VBox([lbl, lam_bound, lam0, dof, T])\n",
    "u2 = widgets.HBox([num_samples, uncertainty, sd])\n",
    "# u3 = widgets.HBox([uncertainty, sd])\n",
    "ui = widgets.HBox([u1, u2])\n",
    "u1.layout.justify_content = 'center'\n",
    "ui.layout.justify_content = 'center'\n",
    "\n",
    "\n",
    "out = interactive_output(sandbox, {'num_samples': num_samples,\n",
    "                        'lam_bound': lam_bound,\n",
    "                        'lam0': lam0,\n",
    "                        'dof': dof,\n",
    "                        'T': T,\n",
    "                        'uncertainty': uncertainty,\n",
    "                         'sd': sd} )\n",
    "display(ui, out)"
   ]
  },
  {
   "cell_type": "markdown",
   "metadata": {},
   "source": [
    "---\n",
    "\n",
    "### Suggestions\n",
    "\n",
    "- Increase $N$ and watch the Pushforward of the Prior change/converge.\n",
    "- If you broaden the standard deviation $\\sigma$, we suggest to also broaden the bound on the parameter space $\\Lambda$ in order to avoid voilating the predictability assumption.\n",
    "- Notice the relationship between the bound on the interval we are inverting for the Mean Squared Error and the support of the posterior.\n",
    "- The same happens as you increase $\\sigma$.\n",
    "- Change the initial condition $\\lambda_0$ and watch the posterior distribution follow the slider.\n",
    "\n",
    "\n",
    "\n",
    "- Fix the number of observations to 1 and change the interval over which the observation is being made (with $K=0$, the observation occurs only at $T_0$). Notice the diminishing returns as you wait to make your measurement. \n",
    "- Fix some interval and change the number of observations made during this time period.\n",
    "- Fix a number of observations (several) and fix $T_0$ while changing $T$ to observe another example of diminshing returns."
   ]
  },
  {
   "cell_type": "markdown",
   "metadata": {},
   "source": [
    "### Observations"
   ]
  },
  {
   "cell_type": "markdown",
   "metadata": {
    "collapsed": true
   },
   "source": [
    "- Entropy barely changes as $\\lambda_0$ moves around. Increases a bit near boundary of $\\Lambda$ (likely due to predictability assumption being violated)\n",
    "- For a wide time measurement window, entropy increases with the number of observations $K$ (d.o.f.)\n",
    "- Widening $\\Lambda$ decreases entropy, obviously enlarges $\\mathcal{D}$, support of $P_\\mathcal{D}$.\n",
    "- If you narrow the window, the entropy decreases.\n",
    "- As the window slides earlier in time, the entropy decreases.\n",
    "- Higher MSE threshold ($\\epsilon$, support of observed density) means higher entropy.\n",
    "- Higher variance means higher entropy. We might run a suite of $\\sigma$s MADS-style to study the robustness of a design. \n",
    "    - perhaps if we try to minimize entropy (maximize information gain), we look for designs that are less sensitive to the choice of $\\sigma$s, which would **correspond to an experimental design that is robust to measurement uncertainty.**\n",
    "- Increasing the number of samples $N$ increases entropy quite a bit. Would like to figure out a way to control for this? _Is it even right to be using `scipy.stats.entropy`?_"
   ]
  },
  {
   "cell_type": "code",
   "execution_count": null,
   "metadata": {
    "collapsed": false,
    "scrolled": false
   },
   "outputs": [],
   "source": [
    "display(ui, out)"
   ]
  },
  {
   "cell_type": "code",
   "execution_count": null,
   "metadata": {
    "collapsed": false
   },
   "outputs": [],
   "source": [
    "np.exp(-1)*2"
   ]
  },
  {
   "cell_type": "code",
   "execution_count": null,
   "metadata": {
    "collapsed": true
   },
   "outputs": [],
   "source": []
  }
 ],
 "metadata": {
  "anaconda-cloud": {},
  "kernelspec": {
   "display_name": "Python 3",
   "language": "python",
   "name": "python3"
  },
  "language_info": {
   "codemirror_mode": {
    "name": "ipython",
    "version": 3
   },
   "file_extension": ".py",
   "mimetype": "text/x-python",
   "name": "python",
   "nbconvert_exporter": "python",
   "pygments_lexer": "ipython3",
   "version": "3.6.0"
  }
 },
 "nbformat": 4,
 "nbformat_minor": 2
}
