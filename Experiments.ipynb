{
 "cells": [
  {
   "cell_type": "markdown",
   "metadata": {},
   "source": [
    "# Working with Time-Series Data in a Consistent Bayesian Framework\n",
    "---\n",
    "\n",
    "Copyright 2017 Michael Pilosov\n",
    "\n",
    "Demonstration available at https://www.youtube.com/watch?v=rUIVcl64NXw"
   ]
  },
  {
   "cell_type": "markdown",
   "metadata": {},
   "source": [
    "### Import Libraries\n",
    "_(should be 2.7 and 3.x compatible) _"
   ]
  },
  {
   "cell_type": "code",
   "execution_count": 1,
   "metadata": {},
   "outputs": [],
   "source": [
    "# Interactivity\n",
    "from ipywidgets import *\n",
    "from cb_sandbox import *\n",
    "%matplotlib inline\n",
    "\n",
    "def make_tabulated_sandbox(num_experiments=1):\n",
    "    # We create many copies of the same widget objects in order to isolate our experimental areas.\n",
    "    num_samples = [widgets.IntSlider(value=1000, continuous_update=False, \n",
    "        orientation='vertical', disable=False,\n",
    "        min=int(2.5E2), max=int(1E4), step=500, \n",
    "        description='Samples $N$') for k in range(num_experiments)]\n",
    "\n",
    "    sd = [widgets.FloatSlider(value=0.25, continuous_update=False, \n",
    "        orientation='vertical', disable=False,\n",
    "        min=0.05, max=1.75, step=0.05, \n",
    "        description='$\\sigma$') for k in range(num_experiments)]\n",
    "\n",
    "    lam_min, lam_max = 2.0, 7.0\n",
    "    lam_bound = [widgets.FloatRangeSlider(value=[3.0, 6.0], continuous_update=False, \n",
    "        orientation='horizontal', disable=False,\n",
    "        min=lam_min, max = lam_max, step=0.5, \n",
    "        description='Param: $\\Lambda \\in$') for k in range(num_experiments)]\n",
    "\n",
    "    lam_0 = [widgets.FloatSlider(value=4.5, continuous_update=False, \n",
    "        orientation='horizontal', disable=False,\n",
    "        min=lam_bound[k].value[0], max=lam_bound[k].value[1], step=0.1, \n",
    "        description='IC: $\\lambda_0$') for k in range(num_experiments)]\n",
    "\n",
    "\n",
    "    t_0 = [widgets.FloatSlider(value=0.5, continuous_update=False, \n",
    "        orientation='horizontal', disable=False,\n",
    "        min=0.1, max=2.0, step=0.1,\n",
    "        description='$t_0$ =', readout_format='.1f') for k in range(num_experiments)]\n",
    "\n",
    "    Delta_t = [widgets.FloatSlider(value=0.1, continuous_update=False, \n",
    "        orientation='horizontal', disable=False,\n",
    "        min=0.05, max=0.5, step=0.05,\n",
    "        description='$\\Delta_t$ =', readout_format='.2f') for k in range(num_experiments)]\n",
    "\n",
    "    num_observations = [widgets.IntSlider(value=50, continuous_update=False, \n",
    "        orientation='horizontal', disable=False,\n",
    "        min=1, max=100, \n",
    "        description='# Obs. =') for k in range(num_experiments)]\n",
    "    \n",
    "    compare = [widgets.Checkbox(value=False, disable=False,\n",
    "        description='Observed v. Q(Post)') for k in range(num_experiments)]\n",
    "    \n",
    "    smooth_post = [widgets.Checkbox(value=True, disable=False,\n",
    "        description='Smooth Posterior') for k in range(num_experiments)]\n",
    "    \n",
    "    fixed_noise = [widgets.Checkbox(value=True, disable=False,\n",
    "        description='Fixed Noise Model') for k in range(num_experiments)]\n",
    "    \n",
    "    num_trials = [widgets.IntSlider(value=1, continuous_update=False, \n",
    "        orientation='vertical', disable=False,\n",
    "        min=1, max=25, \n",
    "        description='Trials') for k in range(num_experiments)]\n",
    "    \n",
    "    Keys = [{'num_samples': num_samples[k], \n",
    "            'lam_bound': lam_bound[k], \n",
    "            'lam_0': lam_0[k], \n",
    "            't_0': t_0[k], \n",
    "            'Delta_t': Delta_t[k],\n",
    "            'num_observations': num_observations[k], \n",
    "            'sd': sd[k],\n",
    "            'compare': compare[k],\n",
    "            'smooth_post': smooth_post[k],\n",
    "            'fixed_noise': fixed_noise[k],\n",
    "            'num_trials': num_trials[k]} for k in range(num_experiments)] \n",
    "\n",
    "    # Make all the interactive outputs for each tab and store them in a vector called out. (for output)\n",
    "    out = [interactive_output(sandbox, Keys[k]) for k in range(num_experiments)]\n",
    "    \n",
    "    \n",
    "    ### LINK WIDGETS TOGETHER (dependent variables) ###\n",
    "    # if you change the bounds on the parameter space, update the bounds of lambda_0                          \n",
    "    def update_lam_0(*args):\n",
    "        k = tab_nest.selected_index\n",
    "    #     lam_0[k].value = np.minimum(lam_0[k].value, lam_bound[k].value[1] )\n",
    "    #     lam_0[k].value = np.maximum(lam_0[k].value, lam_bound[k].value[0] )\n",
    "        lam_0[k].min = lam_bound[k].value[0] \n",
    "        lam_0[k].max = lam_bound[k].value[1]\n",
    "\n",
    "    [lam_bound[k].observe(update_lam_0, 'value') for k in range(num_experiments)]\n",
    "\n",
    "\n",
    "    ### GENERATE USER INTERFACE ###\n",
    "    lbl = widgets.Label(\"UQ Sandbox\", disabled=False)\n",
    "    # horizontal and vertical sliders are grouped together, displayed in one horizontal box.\n",
    "    # This HBox lives in a collapsable accordion below which the results are displayed.\n",
    "    h_sliders = [widgets.VBox([lam_bound[k], lam_0[k], \n",
    "                               t_0[k], Delta_t[k], \n",
    "                               num_observations[k],\n",
    "                              compare[k], smooth_post[k] ]) for k in range(num_experiments) ]\n",
    "    v_sliders = [ widgets.VBox( [ fixed_noise[k], widgets.HBox([ num_samples[k], num_trials[k],\n",
    "                               sd[k] ])] ) for k in range(num_experiments) ]\n",
    "    user_interface = [widgets.HBox([h_sliders[k], v_sliders[k]]) for k in range(num_experiments)]\n",
    "    \n",
    "    # format the widgets layout (non-default options)\n",
    "#     for k in range(num_experiments): \n",
    "#         h_sliders[k].layout.justify_content = 'center'\n",
    "#         v_sliders[k].layout.justify_content = 'center'\n",
    "#         options[k].layout.justify_content = 'center'\n",
    "#         user_interface[k].layout.justify_content = 'center'\n",
    "\n",
    "        \n",
    "    ### MAKE TABULATED NOTEBOOK ###\n",
    "    # Create our pages\n",
    "    pages = [widgets.HBox() for k in range(num_experiments)]\n",
    "\n",
    "    # instantiate notebook with tabs (accordions) representing experiments\n",
    "    tab_nest = widgets.Tab()\n",
    "    tab_nest.children = [pages[k] for k in range(num_experiments)]\n",
    "\n",
    "    # title your notebooks\n",
    "    experiment_names = ['Experiment %d'%(k+1) for k in range(num_experiments)]\n",
    "    for k in range(num_experiments):\n",
    "        tab_nest.set_title(k, experiment_names[k])\n",
    "\n",
    "    # Spawn the children!!!\n",
    "    for k in range(num_experiments):\n",
    "    #     content = widgets.VBox( [user_interface[k], out[k]] )\n",
    "        A = widgets.Accordion(children=[ user_interface[k] ])\n",
    "        A.set_title(0,lbl.value)\n",
    "        A.layout.justify_content = 'center'\n",
    "        content = widgets.VBox([ A, out[k]  ])\n",
    "        content.layout.justify_content = 'center'\n",
    "        tab_nest.children[k].children = [content]\n",
    "    \n",
    "    return tab_nest, Keys\n",
    "\n",
    "# define wrapper function to repeat trials. "
   ]
  },
  {
   "cell_type": "markdown",
   "metadata": {},
   "source": [
    "---\n",
    "## Defining the Parameter to Observables (PtO) and Quantity of Interest (QoI) maps\n",
    "\n",
    "---\n",
    "Consider the Initival Value Problem (IVP)\n",
    "\n",
    "$$\n",
    "\\begin{cases}\n",
    "    \\dot{u}(t) = -u(t), & t>0 \\\\\n",
    "    u(0) = \\lambda, & \n",
    "\\end{cases}\n",
    "$$\n",
    "\n",
    "with solution $u(t;\\lambda) = \\lambda \\,e^{-t}$.\n",
    "\n",
    "Let $0<t_0<t_1<\\ldots, t_K$ denote the observation times. \n",
    "Given a fixed initial condition (i.e., parameter) $\\lambda$, let $y_k$ denote the set of (noisy) observations of the state variable $u(t_k,\\lambda)$ for $k=0,1,\\ldots, K$. \n",
    "\n",
    "We make the standard assumption of an additive error model with independent identically distributed noise, i.e., for each $k=0,1,\\ldots,K$ and fixed value of $\\lambda$, we assume that the Parameter-to-Observables (PtO) maps are given by\n",
    "\n",
    "$$\n",
    "O_k(\\lambda) := u(t_k;\\lambda) + \\epsilon_k, \\quad \\epsilon_k \\sim N(0,\\sigma_k). \n",
    "$$\n",
    "\n",
    "Assume that there is a true value of $\\lambda$, which we denoted by $\\lambda_0$, for which the observations $y_k:=O_k(\\lambda_0)$ are given for $k=0,1,\\ldots,K$.\n",
    "\n",
    "Then, for any other value of $\\lambda$ in the IVP above, we define the Quantity of Interest (QoI) as the **Weighted Sum Squared Error (a weighted 2-norm) between the observations and the model predictions**, i.e., we define the QoI map as\n",
    "\n",
    "$$\n",
    "    \\boxed{Q(\\lambda) := \\sum_{k=0}^{K} \\frac{(u(t_k;\\lambda) - y_k) ^ 2}{\\sigma_k^2}}\n",
    "$$\n",
    "\n",
    "We let $\\mathcal{D} := Q(\\Lambda)$ denote the space of all possible observations of mean squared error. \n"
   ]
  },
  {
   "cell_type": "markdown",
   "metadata": {},
   "source": [
    "---\n",
    "## Formulating the Inverse Problem:\n",
    "---\n",
    "### Prior Information/Assumptions\n",
    "\n",
    "* We assume that the true value $\\lambda_0$ belongs to the parameter space defined by $\\Lambda:= [0, 2]$.\n",
    "\n",
    "\n",
    "* Prior to the data $\\{y_k\\}_{k=0}^K$ being available, any value of the parameter $\\lambda$ in $\\Lambda$ is assumed to be equally likely. In other words, we take $\\pi^{prior}_\\Lambda(\\lambda)$ to be a uniform density.\n",
    "\n",
    "\n",
    "### The Observed Density\n",
    "\n",
    "* For the true value of $\\lambda_0$, we have that $u(t_k;\\lambda_0)-y_k = \\epsilon_k$ for each $k$. Thus, the observed density on $\\mathcal{D}$, denoted by $\\pi^{obs}_{\\mathcal{D}}(d)$, is given by a $\\chi^2_{K+1}$ distribution.\n",
    "\n",
    "### The Posterior Density\n",
    "\n",
    "* Let $\\pi^{O(prior)}_{\\mathcal{D}}(d)$ denote the push-forward of the prior density onto $\\mathcal{D}$. Then, the posterior density on $\\Lambda$ is given by\n",
    "\n",
    "$$\n",
    "    \\pi^{post}_\\Lambda(\\lambda) := \\pi^{prior}_\\Lambda(\\lambda)\\frac{\\pi^{obs}_{\\mathcal{D}}(Q(\\lambda))}{\\pi^{O(prior)}_{\\mathcal{D}}(Q(\\lambda))}\n",
    "$$"
   ]
  },
  {
   "cell_type": "markdown",
   "metadata": {},
   "source": [
    "---\n",
    "## The numerical implementation and practical considerations\n",
    "---\n",
    "Here, we provide only a few brief remarks on the implementation.\n",
    "For a step-by-step walkthrough, please see the CBayes_TS.ipynb file.\n",
    "Below you will find an all-in-one version. \n",
    "\n",
    "***Some useful remarks go here.***\n",
    "\n",
    "* In the `sandbox` function below, `T` is an interval of observation times\n",
    "\n"
   ]
  },
  {
   "cell_type": "markdown",
   "metadata": {},
   "source": [
    "---\n",
    "\n",
    "### Define some functions for the sandbox"
   ]
  },
  {
   "cell_type": "markdown",
   "metadata": {},
   "source": [
    "---\n",
    "\n",
    "# All-in-One Sandbox!\n",
    "_Run the cells below to start experimenting_"
   ]
  },
  {
   "cell_type": "code",
   "execution_count": 2,
   "metadata": {
    "scrolled": false
   },
   "outputs": [],
   "source": [
    "# Display the \"tabulated nest\" with this many tabs\n",
    "num_experiments = 6"
   ]
  },
  {
   "cell_type": "markdown",
   "metadata": {},
   "source": [
    "### Set up an example to illustrate some observations of this system\n",
    "\n",
    "The follow are available handles:  \n",
    "`num_samples`  `sd`  `num_trials`  \n",
    "`lam_bound`  `lam_0`    \n",
    "`t_0`  `Delta_t`  `num_observations`  \n",
    "\n",
    "`compare`  `smooth_post`  `fixed_noise`\n"
   ]
  },
  {
   "cell_type": "markdown",
   "metadata": {},
   "source": [
    "### Measuring Earlier is Advantageous"
   ]
  },
  {
   "cell_type": "code",
   "execution_count": 3,
   "metadata": {},
   "outputs": [],
   "source": [
    "# acc = tab_nest.children[1].children[0].children[0] # accordion object. how to collapse??"
   ]
  },
  {
   "cell_type": "code",
   "execution_count": 4,
   "metadata": {
    "scrolled": false
   },
   "outputs": [],
   "source": [
    "def set_prop(K, prop, val):\n",
    "    for k in range(num_experiments): # for each tab\n",
    "        K[k][prop].value = val"
   ]
  },
  {
   "cell_type": "code",
   "execution_count": 5,
   "metadata": {},
   "outputs": [
    {
     "data": {
      "application/vnd.jupyter.widget-view+json": {
       "model_id": "2e95e16cd4a345538060bf579eb707b8",
       "version_major": 2,
       "version_minor": 0
      },
      "text/html": [
       "<p>Failed to display Jupyter Widget of type <code>interactive</code>.</p>\n",
       "<p>\n",
       "  If you're reading this message in the Jupyter Notebook or JupyterLab Notebook, it may mean\n",
       "  that the widgets JavaScript is still loading. If this message persists, it\n",
       "  likely means that the widgets JavaScript library is either not installed or\n",
       "  not enabled. See the <a href=\"https://ipywidgets.readthedocs.io/en/stable/user_install.html\">Jupyter\n",
       "  Widgets Documentation</a> for setup instructions.\n",
       "</p>\n",
       "<p>\n",
       "  If you're reading this message in another frontend (for example, a static\n",
       "  rendering on GitHub or <a href=\"https://nbviewer.jupyter.org/\">NBViewer</a>),\n",
       "  it may mean that your frontend doesn't currently support widgets.\n",
       "</p>\n"
      ],
      "text/plain": [
       "interactive(children=(Checkbox(value=True, description='Fix Noise'), Output()), _dom_classes=('widget-interact',))"
      ]
     },
     "metadata": {},
     "output_type": "display_data"
    },
    {
     "data": {
      "application/vnd.jupyter.widget-view+json": {
       "model_id": "de1253ba46cf4d7085e2fbd634408206",
       "version_major": 2,
       "version_minor": 0
      },
      "text/html": [
       "<p>Failed to display Jupyter Widget of type <code>interactive</code>.</p>\n",
       "<p>\n",
       "  If you're reading this message in the Jupyter Notebook or JupyterLab Notebook, it may mean\n",
       "  that the widgets JavaScript is still loading. If this message persists, it\n",
       "  likely means that the widgets JavaScript library is either not installed or\n",
       "  not enabled. See the <a href=\"https://ipywidgets.readthedocs.io/en/stable/user_install.html\">Jupyter\n",
       "  Widgets Documentation</a> for setup instructions.\n",
       "</p>\n",
       "<p>\n",
       "  If you're reading this message in another frontend (for example, a static\n",
       "  rendering on GitHub or <a href=\"https://nbviewer.jupyter.org/\">NBViewer</a>),\n",
       "  it may mean that your frontend doesn't currently support widgets.\n",
       "</p>\n"
      ],
      "text/plain": [
       "interactive(children=(Checkbox(value=True, description='Smooth Post'), Output()), _dom_classes=('widget-interact',))"
      ]
     },
     "metadata": {},
     "output_type": "display_data"
    },
    {
     "data": {
      "application/vnd.jupyter.widget-view+json": {
       "model_id": "9fdb4fe575f6433f818c6be6600c6b81",
       "version_major": 2,
       "version_minor": 0
      },
      "text/html": [
       "<p>Failed to display Jupyter Widget of type <code>interactive</code>.</p>\n",
       "<p>\n",
       "  If you're reading this message in the Jupyter Notebook or JupyterLab Notebook, it may mean\n",
       "  that the widgets JavaScript is still loading. If this message persists, it\n",
       "  likely means that the widgets JavaScript library is either not installed or\n",
       "  not enabled. See the <a href=\"https://ipywidgets.readthedocs.io/en/stable/user_install.html\">Jupyter\n",
       "  Widgets Documentation</a> for setup instructions.\n",
       "</p>\n",
       "<p>\n",
       "  If you're reading this message in another frontend (for example, a static\n",
       "  rendering on GitHub or <a href=\"https://nbviewer.jupyter.org/\">NBViewer</a>),\n",
       "  it may mean that your frontend doesn't currently support widgets.\n",
       "</p>\n"
      ],
      "text/plain": [
       "interactive(children=(IntSlider(value=50, description='Samp. $N$ =', min=1), Button(description='Run Interact', style=ButtonStyle()), Output()), _dom_classes=('widget-interact',))"
      ]
     },
     "metadata": {},
     "output_type": "display_data"
    },
    {
     "data": {
      "application/vnd.jupyter.widget-view+json": {
       "model_id": "3d85d527257b473bb67a53cc859274a1",
       "version_major": 2,
       "version_minor": 0
      },
      "text/html": [
       "<p>Failed to display Jupyter Widget of type <code>interactive</code>.</p>\n",
       "<p>\n",
       "  If you're reading this message in the Jupyter Notebook or JupyterLab Notebook, it may mean\n",
       "  that the widgets JavaScript is still loading. If this message persists, it\n",
       "  likely means that the widgets JavaScript library is either not installed or\n",
       "  not enabled. See the <a href=\"https://ipywidgets.readthedocs.io/en/stable/user_install.html\">Jupyter\n",
       "  Widgets Documentation</a> for setup instructions.\n",
       "</p>\n",
       "<p>\n",
       "  If you're reading this message in another frontend (for example, a static\n",
       "  rendering on GitHub or <a href=\"https://nbviewer.jupyter.org/\">NBViewer</a>),\n",
       "  it may mean that your frontend doesn't currently support widgets.\n",
       "</p>\n"
      ],
      "text/plain": [
       "interactive(children=(FloatSlider(value=0.1, description='$\\\\Delta_t$ =', max=0.5, min=0.05, step=0.05), Button(description='Run Interact', style=ButtonStyle()), Output()), _dom_classes=('widget-interact',))"
      ]
     },
     "metadata": {},
     "output_type": "display_data"
    },
    {
     "data": {
      "application/vnd.jupyter.widget-view+json": {
       "model_id": "07a660a66431428491dfa88d2aef2b22",
       "version_major": 2,
       "version_minor": 0
      },
      "text/html": [
       "<p>Failed to display Jupyter Widget of type <code>interactive</code>.</p>\n",
       "<p>\n",
       "  If you're reading this message in the Jupyter Notebook or JupyterLab Notebook, it may mean\n",
       "  that the widgets JavaScript is still loading. If this message persists, it\n",
       "  likely means that the widgets JavaScript library is either not installed or\n",
       "  not enabled. See the <a href=\"https://ipywidgets.readthedocs.io/en/stable/user_install.html\">Jupyter\n",
       "  Widgets Documentation</a> for setup instructions.\n",
       "</p>\n",
       "<p>\n",
       "  If you're reading this message in another frontend (for example, a static\n",
       "  rendering on GitHub or <a href=\"https://nbviewer.jupyter.org/\">NBViewer</a>),\n",
       "  it may mean that your frontend doesn't currently support widgets.\n",
       "</p>\n"
      ],
      "text/plain": [
       "interactive(children=(FloatSlider(value=0.1, description='Constant $\\\\sigma$:', max=0.25, min=0.05, step=0.01), Button(description='Run Interact', style=ButtonStyle()), Output()), _dom_classes=('widget-interact',))"
      ]
     },
     "metadata": {},
     "output_type": "display_data"
    },
    {
     "data": {
      "application/vnd.jupyter.widget-view+json": {
       "model_id": "bfeb9276e97d41728df1e896dad710c4",
       "version_major": 2,
       "version_minor": 0
      },
      "text/html": [
       "<p>Failed to display Jupyter Widget of type <code>Tab</code>.</p>\n",
       "<p>\n",
       "  If you're reading this message in the Jupyter Notebook or JupyterLab Notebook, it may mean\n",
       "  that the widgets JavaScript is still loading. If this message persists, it\n",
       "  likely means that the widgets JavaScript library is either not installed or\n",
       "  not enabled. See the <a href=\"https://ipywidgets.readthedocs.io/en/stable/user_install.html\">Jupyter\n",
       "  Widgets Documentation</a> for setup instructions.\n",
       "</p>\n",
       "<p>\n",
       "  If you're reading this message in another frontend (for example, a static\n",
       "  rendering on GitHub or <a href=\"https://nbviewer.jupyter.org/\">NBViewer</a>),\n",
       "  it may mean that your frontend doesn't currently support widgets.\n",
       "</p>\n"
      ],
      "text/plain": [
       "Tab(children=(HBox(children=(VBox(children=(Accordion(children=(HBox(children=(VBox(children=(FloatRangeSlider(value=(3.0, 6.0), continuous_update=False, description='Param: $\\\\Lambda \\\\in$', max=7.0, min=2.0, step=0.5), FloatSlider(value=4.5, continuous_update=False, description='IC: $\\\\lambda_0$', max=6.0, min=3.0), FloatSlider(value=0.1, continuous_update=False, description='$t_0$ =', max=2.0, min=0.1, readout_format='.1f'), FloatSlider(value=0.1, continuous_update=False, description='$\\\\Delta_t$ =', max=0.5, min=0.05, step=0.05), IntSlider(value=50, continuous_update=False, description='# Obs. =', min=1), Checkbox(value=False, description='Observed v. Q(Post)'), Checkbox(value=True, description='Smooth Posterior'))), VBox(children=(Checkbox(value=True, description='Fixed Noise Model'), HBox(children=(IntSlider(value=1000, continuous_update=False, description='Samples $N$', max=10000, min=250, orientation='vertical', step=500), IntSlider(value=5, continuous_update=False, description='Trials', max=25, min=1, orientation='vertical'), FloatSlider(value=0.15, continuous_update=False, description='$\\\\sigma$', max=1.75, min=0.05, orientation='vertical', step=0.05))))))),), layout=Layout(justify_content='center'), _titles={'0': 'UQ Sandbox'}), Output()), layout=Layout(justify_content='center')),)), HBox(children=(VBox(children=(Accordion(children=(HBox(children=(VBox(children=(FloatRangeSlider(value=(3.0, 6.0), continuous_update=False, description='Param: $\\\\Lambda \\\\in$', max=7.0, min=2.0, step=0.5), FloatSlider(value=4.5, continuous_update=False, description='IC: $\\\\lambda_0$', max=6.0, min=3.0), FloatSlider(value=0.2, continuous_update=False, description='$t_0$ =', max=2.0, min=0.1, readout_format='.1f'), FloatSlider(value=0.1, continuous_update=False, description='$\\\\Delta_t$ =', max=0.5, min=0.05, step=0.05), IntSlider(value=50, continuous_update=False, description='# Obs. =', min=1), Checkbox(value=False, description='Observed v. Q(Post)'), Checkbox(value=True, description='Smooth Posterior'))), VBox(children=(Checkbox(value=True, description='Fixed Noise Model'), HBox(children=(IntSlider(value=1000, continuous_update=False, description='Samples $N$', max=10000, min=250, orientation='vertical', step=500), IntSlider(value=5, continuous_update=False, description='Trials', max=25, min=1, orientation='vertical'), FloatSlider(value=0.15, continuous_update=False, description='$\\\\sigma$', max=1.75, min=0.05, orientation='vertical', step=0.05))))))),), layout=Layout(justify_content='center'), _titles={'0': 'UQ Sandbox'}), Output()), layout=Layout(justify_content='center')),)), HBox(children=(VBox(children=(Accordion(children=(HBox(children=(VBox(children=(FloatRangeSlider(value=(3.0, 6.0), continuous_update=False, description='Param: $\\\\Lambda \\\\in$', max=7.0, min=2.0, step=0.5), FloatSlider(value=4.5, continuous_update=False, description='IC: $\\\\lambda_0$', max=6.0, min=3.0), FloatSlider(value=0.3, continuous_update=False, description='$t_0$ =', max=2.0, min=0.1, readout_format='.1f'), FloatSlider(value=0.1, continuous_update=False, description='$\\\\Delta_t$ =', max=0.5, min=0.05, step=0.05), IntSlider(value=50, continuous_update=False, description='# Obs. =', min=1), Checkbox(value=False, description='Observed v. Q(Post)'), Checkbox(value=True, description='Smooth Posterior'))), VBox(children=(Checkbox(value=True, description='Fixed Noise Model'), HBox(children=(IntSlider(value=1000, continuous_update=False, description='Samples $N$', max=10000, min=250, orientation='vertical', step=500), IntSlider(value=5, continuous_update=False, description='Trials', max=25, min=1, orientation='vertical'), FloatSlider(value=0.15, continuous_update=False, description='$\\\\sigma$', max=1.75, min=0.05, orientation='vertical', step=0.05))))))),), layout=Layout(justify_content='center'), _titles={'0': 'UQ Sandbox'}), Output()), layout=Layout(justify_content='center')),)), HBox(children=(VBox(children=(Accordion(children=(HBox(children=(VBox(children=(FloatRangeSlider(value=(3.0, 6.0), continuous_update=False, description='Param: $\\\\Lambda \\\\in$', max=7.0, min=2.0, step=0.5), FloatSlider(value=4.5, continuous_update=False, description='IC: $\\\\lambda_0$', max=6.0, min=3.0), FloatSlider(value=0.4, continuous_update=False, description='$t_0$ =', max=2.0, min=0.1, readout_format='.1f'), FloatSlider(value=0.1, continuous_update=False, description='$\\\\Delta_t$ =', max=0.5, min=0.05, step=0.05), IntSlider(value=50, continuous_update=False, description='# Obs. =', min=1), Checkbox(value=False, description='Observed v. Q(Post)'), Checkbox(value=True, description='Smooth Posterior'))), VBox(children=(Checkbox(value=True, description='Fixed Noise Model'), HBox(children=(IntSlider(value=1000, continuous_update=False, description='Samples $N$', max=10000, min=250, orientation='vertical', step=500), IntSlider(value=5, continuous_update=False, description='Trials', max=25, min=1, orientation='vertical'), FloatSlider(value=0.15, continuous_update=False, description='$\\\\sigma$', max=1.75, min=0.05, orientation='vertical', step=0.05))))))),), layout=Layout(justify_content='center'), _titles={'0': 'UQ Sandbox'}), Output()), layout=Layout(justify_content='center')),)), HBox(children=(VBox(children=(Accordion(children=(HBox(children=(VBox(children=(FloatRangeSlider(value=(3.0, 6.0), continuous_update=False, description='Param: $\\\\Lambda \\\\in$', max=7.0, min=2.0, step=0.5), FloatSlider(value=4.5, continuous_update=False, description='IC: $\\\\lambda_0$', max=6.0, min=3.0), FloatSlider(value=0.5, continuous_update=False, description='$t_0$ =', max=2.0, min=0.1, readout_format='.1f'), FloatSlider(value=0.1, continuous_update=False, description='$\\\\Delta_t$ =', max=0.5, min=0.05, step=0.05), IntSlider(value=50, continuous_update=False, description='# Obs. =', min=1), Checkbox(value=False, description='Observed v. Q(Post)'), Checkbox(value=True, description='Smooth Posterior'))), VBox(children=(Checkbox(value=True, description='Fixed Noise Model'), HBox(children=(IntSlider(value=1000, continuous_update=False, description='Samples $N$', max=10000, min=250, orientation='vertical', step=500), IntSlider(value=5, continuous_update=False, description='Trials', max=25, min=1, orientation='vertical'), FloatSlider(value=0.15, continuous_update=False, description='$\\\\sigma$', max=1.75, min=0.05, orientation='vertical', step=0.05))))))),), layout=Layout(justify_content='center'), _titles={'0': 'UQ Sandbox'}), Output()), layout=Layout(justify_content='center')),)), HBox(children=(VBox(children=(Accordion(children=(HBox(children=(VBox(children=(FloatRangeSlider(value=(3.0, 6.0), continuous_update=False, description='Param: $\\\\Lambda \\\\in$', max=7.0, min=2.0, step=0.5), FloatSlider(value=4.5, continuous_update=False, description='IC: $\\\\lambda_0$', max=6.0, min=3.0), FloatSlider(value=0.6, continuous_update=False, description='$t_0$ =', max=2.0, min=0.1, readout_format='.1f'), FloatSlider(value=0.1, continuous_update=False, description='$\\\\Delta_t$ =', max=0.5, min=0.05, step=0.05), IntSlider(value=50, continuous_update=False, description='# Obs. =', min=1), Checkbox(value=False, description='Observed v. Q(Post)'), Checkbox(value=True, description='Smooth Posterior'))), VBox(children=(Checkbox(value=True, description='Fixed Noise Model'), HBox(children=(IntSlider(value=1000, continuous_update=False, description='Samples $N$', max=10000, min=250, orientation='vertical', step=500), IntSlider(value=5, continuous_update=False, description='Trials', max=25, min=1, orientation='vertical'), FloatSlider(value=0.15, continuous_update=False, description='$\\\\sigma$', max=1.75, min=0.05, orientation='vertical', step=0.05))))))),), layout=Layout(justify_content='center'), _titles={'0': 'UQ Sandbox'}), Output()), layout=Layout(justify_content='center')),))), _titles={'0': 'Experiment 1', '1': 'Experiment 2', '2': 'Experiment 3', '3': 'Experiment 4', '4': 'Experiment 5', '5': 'Experiment 6'})"
      ]
     },
     "metadata": {},
     "output_type": "display_data"
    }
   ],
   "source": [
    "times = [0.1, 0.2, 0.3, 0.4, 0.5, 0.6]\n",
    "\n",
    "T1, K1 = make_tabulated_sandbox(num_experiments)\n",
    "for k in range(num_experiments):\n",
    "    K1[k]['t_0'].value = times[k]\n",
    "    K1[k]['num_trials'].value = 5\n",
    "    K1[k]['sd'].value = 0.15\n",
    "\n",
    "prop = 'fixed_noise'\n",
    "interact(set_prop, K = fixed(K1), prop=fixed(prop), \n",
    "                val = Checkbox(value=True, description = 'Fix Noise') );\n",
    "prop = 'smooth_post'\n",
    "interact(set_prop, K = fixed(K1), prop=fixed(prop), \n",
    "                val = Checkbox(value=True, description = 'Smooth Post') );\n",
    "\n",
    "prop = 'num_observations'\n",
    "interact_manual(set_prop, K = fixed(K1), prop=fixed(prop), \n",
    "                val = IntSlider(value=50, min=1, max=100, description='Samp. $N$ =') );\n",
    "prop = 'Delta_t'\n",
    "interact_manual(set_prop, K = fixed(K1), prop=fixed(prop), \n",
    "                val = FloatSlider(value=0.1, min=0.05, max=0.5, step=0.05, description='$\\Delta_t$ =') );\n",
    "prop = 'sd'\n",
    "interact_manual(set_prop, K = fixed(K1), prop=fixed(prop), \n",
    "                val = FloatSlider(value=0.1, min=0.05, max=0.25, step=0.01, description='Constant $\\sigma$:' ));\n",
    "\n",
    "T1"
   ]
  },
  {
   "cell_type": "markdown",
   "metadata": {},
   "source": [
    "### If you get to measure early, more measurements provide little gain"
   ]
  },
  {
   "cell_type": "code",
   "execution_count": 6,
   "metadata": {},
   "outputs": [
    {
     "data": {
      "application/vnd.jupyter.widget-view+json": {
       "model_id": "ae1c0fddbbe04e73a67e6440128c615e",
       "version_major": 2,
       "version_minor": 0
      },
      "text/html": [
       "<p>Failed to display Jupyter Widget of type <code>interactive</code>.</p>\n",
       "<p>\n",
       "  If you're reading this message in the Jupyter Notebook or JupyterLab Notebook, it may mean\n",
       "  that the widgets JavaScript is still loading. If this message persists, it\n",
       "  likely means that the widgets JavaScript library is either not installed or\n",
       "  not enabled. See the <a href=\"https://ipywidgets.readthedocs.io/en/stable/user_install.html\">Jupyter\n",
       "  Widgets Documentation</a> for setup instructions.\n",
       "</p>\n",
       "<p>\n",
       "  If you're reading this message in another frontend (for example, a static\n",
       "  rendering on GitHub or <a href=\"https://nbviewer.jupyter.org/\">NBViewer</a>),\n",
       "  it may mean that your frontend doesn't currently support widgets.\n",
       "</p>\n"
      ],
      "text/plain": [
       "interactive(children=(Checkbox(value=True, description='Fix Noise'), Output()), _dom_classes=('widget-interact',))"
      ]
     },
     "metadata": {},
     "output_type": "display_data"
    },
    {
     "data": {
      "application/vnd.jupyter.widget-view+json": {
       "model_id": "4405496a74d1440f83e10d810086b7ea",
       "version_major": 2,
       "version_minor": 0
      },
      "text/html": [
       "<p>Failed to display Jupyter Widget of type <code>interactive</code>.</p>\n",
       "<p>\n",
       "  If you're reading this message in the Jupyter Notebook or JupyterLab Notebook, it may mean\n",
       "  that the widgets JavaScript is still loading. If this message persists, it\n",
       "  likely means that the widgets JavaScript library is either not installed or\n",
       "  not enabled. See the <a href=\"https://ipywidgets.readthedocs.io/en/stable/user_install.html\">Jupyter\n",
       "  Widgets Documentation</a> for setup instructions.\n",
       "</p>\n",
       "<p>\n",
       "  If you're reading this message in another frontend (for example, a static\n",
       "  rendering on GitHub or <a href=\"https://nbviewer.jupyter.org/\">NBViewer</a>),\n",
       "  it may mean that your frontend doesn't currently support widgets.\n",
       "</p>\n"
      ],
      "text/plain": [
       "interactive(children=(Checkbox(value=True, description='Smooth Post'), Output()), _dom_classes=('widget-interact',))"
      ]
     },
     "metadata": {},
     "output_type": "display_data"
    },
    {
     "data": {
      "application/vnd.jupyter.widget-view+json": {
       "model_id": "0919844d47ea44f3944a17ea9e325c8f",
       "version_major": 2,
       "version_minor": 0
      },
      "text/html": [
       "<p>Failed to display Jupyter Widget of type <code>interactive</code>.</p>\n",
       "<p>\n",
       "  If you're reading this message in the Jupyter Notebook or JupyterLab Notebook, it may mean\n",
       "  that the widgets JavaScript is still loading. If this message persists, it\n",
       "  likely means that the widgets JavaScript library is either not installed or\n",
       "  not enabled. See the <a href=\"https://ipywidgets.readthedocs.io/en/stable/user_install.html\">Jupyter\n",
       "  Widgets Documentation</a> for setup instructions.\n",
       "</p>\n",
       "<p>\n",
       "  If you're reading this message in another frontend (for example, a static\n",
       "  rendering on GitHub or <a href=\"https://nbviewer.jupyter.org/\">NBViewer</a>),\n",
       "  it may mean that your frontend doesn't currently support widgets.\n",
       "</p>\n"
      ],
      "text/plain": [
       "interactive(children=(FloatSlider(value=0.1, description='$t_0$ =', max=2.0, min=0.1), Button(description='Run Interact', style=ButtonStyle()), Output()), _dom_classes=('widget-interact',))"
      ]
     },
     "metadata": {},
     "output_type": "display_data"
    },
    {
     "data": {
      "application/vnd.jupyter.widget-view+json": {
       "model_id": "f8270efeb47d4eaa9b218d81b383fe34",
       "version_major": 2,
       "version_minor": 0
      },
      "text/html": [
       "<p>Failed to display Jupyter Widget of type <code>interactive</code>.</p>\n",
       "<p>\n",
       "  If you're reading this message in the Jupyter Notebook or JupyterLab Notebook, it may mean\n",
       "  that the widgets JavaScript is still loading. If this message persists, it\n",
       "  likely means that the widgets JavaScript library is either not installed or\n",
       "  not enabled. See the <a href=\"https://ipywidgets.readthedocs.io/en/stable/user_install.html\">Jupyter\n",
       "  Widgets Documentation</a> for setup instructions.\n",
       "</p>\n",
       "<p>\n",
       "  If you're reading this message in another frontend (for example, a static\n",
       "  rendering on GitHub or <a href=\"https://nbviewer.jupyter.org/\">NBViewer</a>),\n",
       "  it may mean that your frontend doesn't currently support widgets.\n",
       "</p>\n"
      ],
      "text/plain": [
       "interactive(children=(IntSlider(value=1000, description='Samp. $N$ =', max=10000, min=500, step=250), Button(description='Run Interact', style=ButtonStyle()), Output()), _dom_classes=('widget-interact',))"
      ]
     },
     "metadata": {},
     "output_type": "display_data"
    },
    {
     "data": {
      "application/vnd.jupyter.widget-view+json": {
       "model_id": "7a5f2a5b48a244eb9996eb6637abae8d",
       "version_major": 2,
       "version_minor": 0
      },
      "text/html": [
       "<p>Failed to display Jupyter Widget of type <code>interactive</code>.</p>\n",
       "<p>\n",
       "  If you're reading this message in the Jupyter Notebook or JupyterLab Notebook, it may mean\n",
       "  that the widgets JavaScript is still loading. If this message persists, it\n",
       "  likely means that the widgets JavaScript library is either not installed or\n",
       "  not enabled. See the <a href=\"https://ipywidgets.readthedocs.io/en/stable/user_install.html\">Jupyter\n",
       "  Widgets Documentation</a> for setup instructions.\n",
       "</p>\n",
       "<p>\n",
       "  If you're reading this message in another frontend (for example, a static\n",
       "  rendering on GitHub or <a href=\"https://nbviewer.jupyter.org/\">NBViewer</a>),\n",
       "  it may mean that your frontend doesn't currently support widgets.\n",
       "</p>\n"
      ],
      "text/plain": [
       "interactive(children=(FloatSlider(value=0.1, description='$\\\\Delta_t$ =', max=0.5, min=0.05, step=0.05), Button(description='Run Interact', style=ButtonStyle()), Output()), _dom_classes=('widget-interact',))"
      ]
     },
     "metadata": {},
     "output_type": "display_data"
    },
    {
     "data": {
      "application/vnd.jupyter.widget-view+json": {
       "model_id": "9734cee1da2d49d592e1d1fea2280550",
       "version_major": 2,
       "version_minor": 0
      },
      "text/html": [
       "<p>Failed to display Jupyter Widget of type <code>interactive</code>.</p>\n",
       "<p>\n",
       "  If you're reading this message in the Jupyter Notebook or JupyterLab Notebook, it may mean\n",
       "  that the widgets JavaScript is still loading. If this message persists, it\n",
       "  likely means that the widgets JavaScript library is either not installed or\n",
       "  not enabled. See the <a href=\"https://ipywidgets.readthedocs.io/en/stable/user_install.html\">Jupyter\n",
       "  Widgets Documentation</a> for setup instructions.\n",
       "</p>\n",
       "<p>\n",
       "  If you're reading this message in another frontend (for example, a static\n",
       "  rendering on GitHub or <a href=\"https://nbviewer.jupyter.org/\">NBViewer</a>),\n",
       "  it may mean that your frontend doesn't currently support widgets.\n",
       "</p>\n"
      ],
      "text/plain": [
       "interactive(children=(FloatSlider(value=0.1, description='Constant $\\\\sigma$:', max=0.25, min=0.05, step=0.01), Button(description='Run Interact', style=ButtonStyle()), Output()), _dom_classes=('widget-interact',))"
      ]
     },
     "metadata": {},
     "output_type": "display_data"
    },
    {
     "data": {
      "application/vnd.jupyter.widget-view+json": {
       "model_id": "e15994f7555442c2a21672eb435cd510",
       "version_major": 2,
       "version_minor": 0
      },
      "text/html": [
       "<p>Failed to display Jupyter Widget of type <code>Tab</code>.</p>\n",
       "<p>\n",
       "  If you're reading this message in the Jupyter Notebook or JupyterLab Notebook, it may mean\n",
       "  that the widgets JavaScript is still loading. If this message persists, it\n",
       "  likely means that the widgets JavaScript library is either not installed or\n",
       "  not enabled. See the <a href=\"https://ipywidgets.readthedocs.io/en/stable/user_install.html\">Jupyter\n",
       "  Widgets Documentation</a> for setup instructions.\n",
       "</p>\n",
       "<p>\n",
       "  If you're reading this message in another frontend (for example, a static\n",
       "  rendering on GitHub or <a href=\"https://nbviewer.jupyter.org/\">NBViewer</a>),\n",
       "  it may mean that your frontend doesn't currently support widgets.\n",
       "</p>\n"
      ],
      "text/plain": [
       "Tab(children=(HBox(children=(VBox(children=(Accordion(children=(HBox(children=(VBox(children=(FloatRangeSlider(value=(3.0, 6.0), continuous_update=False, description='Param: $\\\\Lambda \\\\in$', max=7.0, min=2.0, step=0.5), FloatSlider(value=4.5, continuous_update=False, description='IC: $\\\\lambda_0$', max=6.0, min=3.0), FloatSlider(value=0.5, continuous_update=False, description='$t_0$ =', max=2.0, min=0.1, readout_format='.1f'), FloatSlider(value=0.1, continuous_update=False, description='$\\\\Delta_t$ =', max=0.5, min=0.05, step=0.05), IntSlider(value=5, continuous_update=False, description='# Obs. =', min=1), Checkbox(value=False, description='Observed v. Q(Post)'), Checkbox(value=True, description='Smooth Posterior'))), VBox(children=(Checkbox(value=True, description='Fixed Noise Model'), HBox(children=(IntSlider(value=1000, continuous_update=False, description='Samples $N$', max=10000, min=250, orientation='vertical', step=500), IntSlider(value=3, continuous_update=False, description='Trials', max=25, min=1, orientation='vertical'), FloatSlider(value=0.25, continuous_update=False, description='$\\\\sigma$', max=1.75, min=0.05, orientation='vertical', step=0.05))))))),), layout=Layout(justify_content='center'), _titles={'0': 'UQ Sandbox'}), Output()), layout=Layout(justify_content='center')),)), HBox(children=(VBox(children=(Accordion(children=(HBox(children=(VBox(children=(FloatRangeSlider(value=(3.0, 6.0), continuous_update=False, description='Param: $\\\\Lambda \\\\in$', max=7.0, min=2.0, step=0.5), FloatSlider(value=4.5, continuous_update=False, description='IC: $\\\\lambda_0$', max=6.0, min=3.0), FloatSlider(value=0.5, continuous_update=False, description='$t_0$ =', max=2.0, min=0.1, readout_format='.1f'), FloatSlider(value=0.1, continuous_update=False, description='$\\\\Delta_t$ =', max=0.5, min=0.05, step=0.05), IntSlider(value=10, continuous_update=False, description='# Obs. =', min=1), Checkbox(value=False, description='Observed v. Q(Post)'), Checkbox(value=True, description='Smooth Posterior'))), VBox(children=(Checkbox(value=True, description='Fixed Noise Model'), HBox(children=(IntSlider(value=1000, continuous_update=False, description='Samples $N$', max=10000, min=250, orientation='vertical', step=500), IntSlider(value=3, continuous_update=False, description='Trials', max=25, min=1, orientation='vertical'), FloatSlider(value=0.25, continuous_update=False, description='$\\\\sigma$', max=1.75, min=0.05, orientation='vertical', step=0.05))))))),), layout=Layout(justify_content='center'), _titles={'0': 'UQ Sandbox'}), Output()), layout=Layout(justify_content='center')),)), HBox(children=(VBox(children=(Accordion(children=(HBox(children=(VBox(children=(FloatRangeSlider(value=(3.0, 6.0), continuous_update=False, description='Param: $\\\\Lambda \\\\in$', max=7.0, min=2.0, step=0.5), FloatSlider(value=4.5, continuous_update=False, description='IC: $\\\\lambda_0$', max=6.0, min=3.0), FloatSlider(value=0.5, continuous_update=False, description='$t_0$ =', max=2.0, min=0.1, readout_format='.1f'), FloatSlider(value=0.1, continuous_update=False, description='$\\\\Delta_t$ =', max=0.5, min=0.05, step=0.05), IntSlider(value=15, continuous_update=False, description='# Obs. =', min=1), Checkbox(value=False, description='Observed v. Q(Post)'), Checkbox(value=True, description='Smooth Posterior'))), VBox(children=(Checkbox(value=True, description='Fixed Noise Model'), HBox(children=(IntSlider(value=1000, continuous_update=False, description='Samples $N$', max=10000, min=250, orientation='vertical', step=500), IntSlider(value=3, continuous_update=False, description='Trials', max=25, min=1, orientation='vertical'), FloatSlider(value=0.25, continuous_update=False, description='$\\\\sigma$', max=1.75, min=0.05, orientation='vertical', step=0.05))))))),), layout=Layout(justify_content='center'), _titles={'0': 'UQ Sandbox'}), Output()), layout=Layout(justify_content='center')),)), HBox(children=(VBox(children=(Accordion(children=(HBox(children=(VBox(children=(FloatRangeSlider(value=(3.0, 6.0), continuous_update=False, description='Param: $\\\\Lambda \\\\in$', max=7.0, min=2.0, step=0.5), FloatSlider(value=4.5, continuous_update=False, description='IC: $\\\\lambda_0$', max=6.0, min=3.0), FloatSlider(value=0.5, continuous_update=False, description='$t_0$ =', max=2.0, min=0.1, readout_format='.1f'), FloatSlider(value=0.1, continuous_update=False, description='$\\\\Delta_t$ =', max=0.5, min=0.05, step=0.05), IntSlider(value=20, continuous_update=False, description='# Obs. =', min=1), Checkbox(value=False, description='Observed v. Q(Post)'), Checkbox(value=True, description='Smooth Posterior'))), VBox(children=(Checkbox(value=True, description='Fixed Noise Model'), HBox(children=(IntSlider(value=1000, continuous_update=False, description='Samples $N$', max=10000, min=250, orientation='vertical', step=500), IntSlider(value=3, continuous_update=False, description='Trials', max=25, min=1, orientation='vertical'), FloatSlider(value=0.25, continuous_update=False, description='$\\\\sigma$', max=1.75, min=0.05, orientation='vertical', step=0.05))))))),), layout=Layout(justify_content='center'), _titles={'0': 'UQ Sandbox'}), Output()), layout=Layout(justify_content='center')),)), HBox(children=(VBox(children=(Accordion(children=(HBox(children=(VBox(children=(FloatRangeSlider(value=(3.0, 6.0), continuous_update=False, description='Param: $\\\\Lambda \\\\in$', max=7.0, min=2.0, step=0.5), FloatSlider(value=4.5, continuous_update=False, description='IC: $\\\\lambda_0$', max=6.0, min=3.0), FloatSlider(value=0.5, continuous_update=False, description='$t_0$ =', max=2.0, min=0.1, readout_format='.1f'), FloatSlider(value=0.1, continuous_update=False, description='$\\\\Delta_t$ =', max=0.5, min=0.05, step=0.05), IntSlider(value=25, continuous_update=False, description='# Obs. =', min=1), Checkbox(value=False, description='Observed v. Q(Post)'), Checkbox(value=True, description='Smooth Posterior'))), VBox(children=(Checkbox(value=True, description='Fixed Noise Model'), HBox(children=(IntSlider(value=1000, continuous_update=False, description='Samples $N$', max=10000, min=250, orientation='vertical', step=500), IntSlider(value=3, continuous_update=False, description='Trials', max=25, min=1, orientation='vertical'), FloatSlider(value=0.25, continuous_update=False, description='$\\\\sigma$', max=1.75, min=0.05, orientation='vertical', step=0.05))))))),), layout=Layout(justify_content='center'), _titles={'0': 'UQ Sandbox'}), Output()), layout=Layout(justify_content='center')),)), HBox(children=(VBox(children=(Accordion(children=(HBox(children=(VBox(children=(FloatRangeSlider(value=(3.0, 6.0), continuous_update=False, description='Param: $\\\\Lambda \\\\in$', max=7.0, min=2.0, step=0.5), FloatSlider(value=4.5, continuous_update=False, description='IC: $\\\\lambda_0$', max=6.0, min=3.0), FloatSlider(value=0.5, continuous_update=False, description='$t_0$ =', max=2.0, min=0.1, readout_format='.1f'), FloatSlider(value=0.1, continuous_update=False, description='$\\\\Delta_t$ =', max=0.5, min=0.05, step=0.05), IntSlider(value=50, continuous_update=False, description='# Obs. =', min=1), Checkbox(value=False, description='Observed v. Q(Post)'), Checkbox(value=True, description='Smooth Posterior'))), VBox(children=(Checkbox(value=True, description='Fixed Noise Model'), HBox(children=(IntSlider(value=1000, continuous_update=False, description='Samples $N$', max=10000, min=250, orientation='vertical', step=500), IntSlider(value=3, continuous_update=False, description='Trials', max=25, min=1, orientation='vertical'), FloatSlider(value=0.25, continuous_update=False, description='$\\\\sigma$', max=1.75, min=0.05, orientation='vertical', step=0.05))))))),), layout=Layout(justify_content='center'), _titles={'0': 'UQ Sandbox'}), Output()), layout=Layout(justify_content='center')),))), _titles={'0': 'Experiment 1', '1': 'Experiment 2', '2': 'Experiment 3', '3': 'Experiment 4', '4': 'Experiment 5', '5': 'Experiment 6'})"
      ]
     },
     "metadata": {},
     "output_type": "display_data"
    }
   ],
   "source": [
    "multiplier = 5\n",
    "num_obs = multiplier*np.array([1,2,3,4,5,10]).astype('int')\n",
    "\n",
    "T2, K2 = make_tabulated_sandbox(num_experiments)\n",
    "for k in range(num_experiments):\n",
    "    K2[k]['num_observations'].value = num_obs[k]\n",
    "    K2[k]['num_trials'].value = 3\n",
    "\n",
    "prop = 'fixed_noise'\n",
    "interact(set_prop, K = fixed(K2), prop=fixed(prop), \n",
    "                val = Checkbox(value=True, description = 'Fix Noise') );\n",
    "prop = 'smooth_post'\n",
    "interact(set_prop, K = fixed(K2), prop=fixed(prop), \n",
    "                val = Checkbox(value=True, description = 'Smooth Post') );\n",
    "\n",
    "prop = 't_0'\n",
    "interact_manual(set_prop, K = fixed(K2), prop=fixed(prop), \n",
    "                val = FloatSlider(value=0.1, min=0.1, max=2, step=0.1, description='$t_0$ =') );\n",
    "prop = 'num_samples'\n",
    "interact_manual(set_prop, K = fixed(K2), prop=fixed(prop), \n",
    "                val = IntSlider(value=1000, min=int(5E2), max=int(1E4), step=250, description='Samp. $N$ =') );\n",
    "prop = 'Delta_t'\n",
    "interact_manual(set_prop, K = fixed(K2), prop=fixed(prop), \n",
    "                val = FloatSlider(value=0.1, min=0.05, max=0.5, step=0.05, description='$\\Delta_t$ =') );\n",
    "prop = 'sd'\n",
    "interact_manual(set_prop, K = fixed(K2), prop=fixed(prop), \n",
    "                val = FloatSlider(value=0.1, min=0.05, max=0.25, step=0.01, description='Constant $\\sigma$:' ));\n",
    "T2"
   ]
  },
  {
   "cell_type": "markdown",
   "metadata": {},
   "source": [
    "## Manual Interactive Mode (no tabs)\n",
    "Once you find some parameters you like, you can run multiple instances of it below to get a sense of the variations in the solutions:\n",
    "\n"
   ]
  },
  {
   "cell_type": "code",
   "execution_count": 7,
   "metadata": {},
   "outputs": [
    {
     "data": {
      "application/vnd.jupyter.widget-view+json": {
       "model_id": "1c0f95c1013d4dc1a118223d926283c9",
       "version_major": 2,
       "version_minor": 0
      },
      "text/html": [
       "<p>Failed to display Jupyter Widget of type <code>interactive</code>.</p>\n",
       "<p>\n",
       "  If you're reading this message in the Jupyter Notebook or JupyterLab Notebook, it may mean\n",
       "  that the widgets JavaScript is still loading. If this message persists, it\n",
       "  likely means that the widgets JavaScript library is either not installed or\n",
       "  not enabled. See the <a href=\"https://ipywidgets.readthedocs.io/en/stable/user_install.html\">Jupyter\n",
       "  Widgets Documentation</a> for setup instructions.\n",
       "</p>\n",
       "<p>\n",
       "  If you're reading this message in another frontend (for example, a static\n",
       "  rendering on GitHub or <a href=\"https://nbviewer.jupyter.org/\">NBViewer</a>),\n",
       "  it may mean that your frontend doesn't currently support widgets.\n",
       "</p>\n"
      ],
      "text/plain": [
       "interactive(children=(IntSlider(value=2500, description='Samp. $N$ =', max=50000, min=500, step=500), FloatRangeSlider(value=(3.0, 6.0), description='Param $\\\\Lambda \\\\in$', max=7.0, min=2.0, step=0.5), FloatSlider(value=3.5, description='IC: $\\\\lambda_0$ =', max=7.0, min=2.0), FloatSlider(value=0.5, description='$t_0$ =', max=2.0, min=0.1), FloatSlider(value=0.1, description='$\\\\Delta_t$ =', max=0.5, min=0.05, step=0.05), IntSlider(value=50, description='# of Obs. =', min=1), FloatSlider(value=0.1, description='Constant $\\\\sigma$:', max=0.25, min=0.05, step=0.01), IntSlider(value=1, description='num_trials', max=3, min=-1), Button(description='Run Interact', style=ButtonStyle()), Output()), _dom_classes=('widget-interact',))"
      ]
     },
     "metadata": {},
     "output_type": "display_data"
    }
   ],
   "source": [
    "interact_manual(sandbox, \n",
    "        num_samples = IntSlider(value=2500, \n",
    "            min=int(5E2), max=int(5E4), step=500, description='Samp. $N$ ='), \n",
    "        lam_bound = FloatRangeSlider(value=[3.0, 6.0], \n",
    "            min=2.0, max = 7.0, step=0.5, description='Param $\\Lambda \\in$'),\n",
    "        lam_0 = FloatSlider(value=3.5, \n",
    "            min=2.0, max=7.0, step=0.1, description='IC: $\\lambda_0$ ='), \n",
    "        t_0 = FloatSlider(value=0.5, \n",
    "            min=0.1, max=2, step=0.1, description='$t_0$ ='),\n",
    "        Delta_t = FloatSlider(value=0.1, \n",
    "            min=0.05, max=0.5, step=0.05, description='$\\Delta_t$ ='),\n",
    "        num_observations = IntSlider(value=50, \n",
    "            min=1, max=100, description='# of Obs. ='), \n",
    "        sd = FloatSlider(value=0.1, \n",
    "            min=0.05, max=0.25, step=0.01, description='Constant $\\sigma$:'), \n",
    "        fixed_noise=fixed(True), \n",
    "        compare = fixed(False),\n",
    "        smooth_post = fixed(False)); "
   ]
  },
  {
   "cell_type": "markdown",
   "metadata": {},
   "source": [
    "---\n",
    "\n",
    "### Suggestions\n",
    "\n",
    "- Increase $N$ and watch the Pushforward of the Prior change/converge.\n",
    "- If you broaden the standard deviation $\\sigma$, we suggest to also broaden the bound on the parameter space $\\Lambda$ in order to avoid voilating the predictability assumption.\n",
    "- Notice the relationship between the bound on the interval we are inverting for the Mean Squared Error and the support of the posterior.\n",
    "- The same happens as you increase $\\sigma$.\n",
    "- Change the initial condition $\\lambda_0$ and watch the posterior distribution follow the slider.\n",
    "\n",
    "\n",
    "\n",
    "- Fix the number of observations to 1 and change the interval over which the observation is being made (with $K=0$, the observation occurs only at $T_0$). Notice the diminishing returns as you wait to make your measurement. \n",
    "- Fix some interval and change the number of observations made during this time period.\n",
    "- Fix a number of observations (several) and fix $T_0$ while changing $T$ to observe another example of diminshing returns."
   ]
  },
  {
   "cell_type": "markdown",
   "metadata": {},
   "source": [
    "### Observations"
   ]
  },
  {
   "cell_type": "markdown",
   "metadata": {
    "collapsed": true
   },
   "source": [
    "- Entropy barely changes as $\\lambda_0$ moves around. Increases a bit near boundary of $\\Lambda$ (likely due to predictability assumption being violated)\n",
    "- For a wide time measurement window, entropy increases with the number of observations (d.o.f.)\n",
    "- Widening $\\Lambda$ decreases entropy, obviously enlarges $\\mathcal{D}$, support of $P_\\mathcal{D}$.\n",
    "- If you narrow the window, the entropy decreases.\n",
    "- As the window slides earlier in time, the entropy decreases.\n",
    "- Higher MSE threshold ($\\epsilon$, support of observed density) means higher entropy.\n",
    "- Higher variance means higher entropy. We might run a suite of $\\sigma$s MADS-style to study the robustness of a design. \n",
    "    - perhaps if we try to minimize entropy (maximize information gain), we look for designs that are less sensitive to the choice of $\\sigma$s, which would **correspond to an experimental design that is robust to measurement uncertainty.**\n",
    "- Increasing the number of samples $N$ increases entropy quite a bit. Would like to figure out a way to control for this? _Is it even right to be using `scipy.stats.entropy`?_"
   ]
  },
  {
   "cell_type": "code",
   "execution_count": null,
   "metadata": {},
   "outputs": [],
   "source": []
  }
 ],
 "metadata": {
  "anaconda-cloud": {},
  "kernelspec": {
   "display_name": "py3",
   "language": "python",
   "name": "py3"
  },
  "language_info": {
   "codemirror_mode": {
    "name": "ipython",
    "version": 3
   },
   "file_extension": ".py",
   "mimetype": "text/x-python",
   "name": "python",
   "nbconvert_exporter": "python",
   "pygments_lexer": "ipython3",
   "version": "3.6.4"
  }
 },
 "nbformat": 4,
 "nbformat_minor": 2
}
