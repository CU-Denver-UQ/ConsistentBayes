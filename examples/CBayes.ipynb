{
 "cells": [
  {
   "cell_type": "markdown",
   "metadata": {},
   "source": [
    "# Consistent Bayes: Some Motivating Examples\n",
    "---\n",
    "\n",
    "Copyright 2017-2018 Michael Pilosov\n"
   ]
  },
  {
   "cell_type": "markdown",
   "metadata": {},
   "source": [
    "### Import Libraries\n",
    "_tested with python 3.6 on 01/26/18_"
   ]
  },
  {
   "cell_type": "code",
   "execution_count": null,
   "metadata": {},
   "outputs": [],
   "source": [
    "# Mathematics and Plotting\n",
    "from HelperFuns import * # pyplot wrapper functions useful for visualizations, numpy, scipy, etc.\n",
    "%matplotlib inline\n",
    "plt.rcParams.update({'font.size': 14})\n",
    "plt.rcParams['figure.figsize'] = 10, 5\n",
    "from cbayes import sample, solve, distributions\n",
    "# Interactivity\n",
    "from ipywidgets import *"
   ]
  },
  {
   "cell_type": "markdown",
   "metadata": {},
   "source": [
    "---\n",
    "\n",
    "Some introductory text goes here.   \n",
    "Define $\\Lambda$, $\\mathcal{D}$.\n"
   ]
  },
  {
   "cell_type": "markdown",
   "metadata": {},
   "source": [
    "--- \n",
    "\n",
    "## Sample from $\\Lambda$\n",
    "_Here we implement uniform random priors on the unit hypercube_"
   ]
  },
  {
   "cell_type": "code",
   "execution_count": null,
   "metadata": {},
   "outputs": [],
   "source": [
    "input_dim = 2 # Specify input space dimension (n)\n",
    "num_samples = int(1E4) # number of input samples (N)\n",
    "\n",
    "s_set = sample.sample_set(size=(num_samples, input_dim))\n",
    "s_set.set_dist('uniform', {'loc': 0, 'scale': 1})\n",
    "s_set.generate_samples()\n",
    "\n",
    "lam = s_set.samples # create a pointer for ease of reference later with plotting."
   ]
  },
  {
   "cell_type": "markdown",
   "metadata": {},
   "source": [
    "---\n",
    "## Define Parameter to Observables (PtO) Map\n",
    "_ Choose from one of the following example options, feel free to add your own _ \n",
    "\n",
    "$O_1(\\lambda) = \\sum_{i=1}^n \\lambda_i$  \n",
    "\n",
    "$O_2(\\lambda) = \\lbrace \\lambda_0 - \\lambda_1, \\; \\;\\lambda_1\\rbrace$ \n"
   ]
  },
  {
   "cell_type": "code",
   "execution_count": null,
   "metadata": {},
   "outputs": [],
   "source": [
    "PtO_fun_choice = 1\n",
    "\n",
    "def fun1(lam): # sum all params\n",
    "    return np.sum(lam,axis=1)\n",
    "\n",
    "def fun2(lam): # pull two params, linear combination.\n",
    "    return np.array([ lam[:,0] - lam[:,1], lam[:,1] ])\n",
    "\n",
    "if PtO_fun_choice == 1:\n",
    "    PtO_fun = fun1\n",
    "elif PtO_fun_choice == 2:\n",
    "    PtO_fun = fun2\n",
    "else:\n",
    "    raise( ValueError('Specify Proper PtO choice!') )"
   ]
  },
  {
   "cell_type": "markdown",
   "metadata": {},
   "source": [
    "---\n",
    "## Compute Data Space $O(\\Lambda) = \\mathcal{D}$ \n",
    "\n",
    "Format: `(n_dims, n_samples)`  \n",
    "_Optional_: Specify subset of PtO map's components to use for inversion using the variable `sub_indices` "
   ]
  },
  {
   "cell_type": "code",
   "execution_count": null,
   "metadata": {},
   "outputs": [],
   "source": [
    "p_set = sample.map_samples_and_create_problem(s_set, PtO_fun)\n",
    "D_full = p_set.output.samples\n",
    "\n",
    "sub_indices = None\n",
    "if sub_indices is not None:\n",
    "    D = D_full[:,sub_indices]\n",
    "else:\n",
    "    D = D_full\n",
    "    type(np.sum(lam, axis=1))\n",
    "# this is how we handle exceptions:\n",
    "try:\n",
    "    output_dim = D.shape[1]\n",
    "except IndexError:\n",
    "    output_dim = 1\n",
    "print('dimensions :  lambda = '+str(lam.shape)+'   D = '+str(D.shape)+'   D_full = '+str(D_full.shape) )"
   ]
  },
  {
   "cell_type": "markdown",
   "metadata": {},
   "source": [
    "## Compute Push-Forward of the Prior $P_{O(\\Lambda)}$\n",
    "_ ... i.e. Visualize the Data Space_"
   ]
  },
  {
   "cell_type": "code",
   "execution_count": null,
   "metadata": {},
   "outputs": [],
   "source": [
    "# Interactive Marginal Visualization\n",
    "p_set.compute_pushforward_dist()\n",
    "pf_dens = p_set.pushforward_dist"
   ]
  },
  {
   "cell_type": "code",
   "execution_count": null,
   "metadata": {
    "scrolled": false
   },
   "outputs": [],
   "source": [
    "# Can plot \"slices\" of densities to observe differences between posterior and prior, but not that useful\n",
    "data_min, data_max = -.25,4.25 # linspace parameters for plotting\n",
    "plot_grid = np.linspace(data_min, data_max, 100)\n",
    "widgets.interact(view_est_dens, x = fixed(plot_grid), \n",
    "         estimated_dens = fixed(pf_dens), \n",
    "         lab = fixed('KDE data'), title=fixed('Pushforward of Prior'),\n",
    "         viewdim=(0, output_dim-1, 1) )\n",
    "plt.show()"
   ]
  },
  {
   "cell_type": "markdown",
   "metadata": {},
   "source": [
    "## Define Observed Probability Measure $P_\\mathcal{D}$"
   ]
  },
  {
   "cell_type": "code",
   "execution_count": null,
   "metadata": {},
   "outputs": [],
   "source": [
    "# p_set.set_observed_dist('normal', {'loc':[0.5, 0.4], 'scale':0.1}) # better for function choice = 2\n",
    "p_set.set_observed_dist('uni', {'loc':1, 'scale':0.25}) # default is normal based on the data space # for function choice = 1\n",
    "\n",
    "obs_dist = p_set.observed_dist # this is define a pointer for ease of reference.\n",
    "\n",
    "widgets.interact(view_analytical_dens, x = fixed(plot_grid), \n",
    "         analytical_dens = fixed(obs_dist), \n",
    "         lab = fixed('Observed'), title=fixed('Observed $P_\\mathcal{D}$'),\n",
    "         viewdim=(0, output_dim-1, 1) )\n",
    "plt.show()"
   ]
  },
  {
   "cell_type": "markdown",
   "metadata": {},
   "source": [
    "---\n",
    "\n",
    "At this point we have performed the computations we need to. We have evaluated the input points through our map and performed a KDE on them. It would be useful at this point to save this object and/or its evaluation at every point in the data space for later re-use. Doing so here would be an appropriate place. "
   ]
  },
  {
   "cell_type": "markdown",
   "metadata": {},
   "source": [
    "--- \n",
    "\n",
    "## Accept/Reject Sampling of Posterior\n",
    "\n",
    "Since we have already used the samples in our prior to compute the pushforward density, we can re-use these with an accept/reject algorithm to get a set of samples generated from the posterior according to the solution of the stochastic inverse problem as outlined in the Consistent Bayes formulation. "
   ]
  },
  {
   "cell_type": "code",
   "execution_count": null,
   "metadata": {},
   "outputs": [],
   "source": [
    "p_set.set_ratio()\n",
    "eta_r = p_set.ratio\n",
    "solve.problem(p_set)"
   ]
  },
  {
   "cell_type": "code",
   "execution_count": null,
   "metadata": {},
   "outputs": [],
   "source": [
    "accept_inds = p_set.accept_inds\n",
    "lam_accept = p_set.input.samples[accept_inds,:]\n",
    "num_accept = len(accept_inds)\n",
    "print('Number accepted: %d = %2.2f%%'%(num_accept, 100*np.float(num_accept)/num_samples))"
   ]
  },
  {
   "cell_type": "markdown",
   "metadata": {},
   "source": [
    "### Visualize Accept/Reject Samples"
   ]
  },
  {
   "cell_type": "code",
   "execution_count": null,
   "metadata": {
    "scrolled": false
   },
   "outputs": [],
   "source": [
    "widgets.interact_manual(pltaccept, lam = fixed(lam), inds = fixed(accept_inds), \n",
    "         N = (1, num_accept+1, 10), eta_r = fixed(eta_r), \n",
    "         i = (0, input_dim-1, 1), j = (0, input_dim-1, 1))\n",
    "# You will visualize the accepted samples in a subset of size N of the input samples. \n",
    "# This is for faster plotting but also so you can see the progression of accepted sampling in the algorithm.\n"
   ]
  },
  {
   "cell_type": "markdown",
   "metadata": {
    "collapsed": true
   },
   "source": [
    "---\n",
    "## Visualize Posterior Density"
   ]
  },
  {
   "cell_type": "code",
   "execution_count": null,
   "metadata": {},
   "outputs": [],
   "source": [
    "prior_dens_kde = distributions.gkde(lam) # this method wants dimensions different than ours.\n",
    "post_dens_kde = distributions.gkde(lam_accept)\n",
    "\n",
    "lam_min, lam_max = p_set.input.dist.a, p_set.input.dist.b # linspace parameters for plotting\n",
    "lam_plot_grid = np.linspace(lam_min, lam_max, 100)\n",
    "\n",
    "# Can plot \"slices\" of densities to observe differences between posterior and prior, but not that useful\n",
    "interact(compare_est_input_dens, x = fixed(lam_plot_grid), \n",
    "         estimated_dens1 = fixed(prior_dens_kde), estimated_dens2 = fixed(post_dens_kde), \n",
    "         lab_1 = fixed('KDE prior'), lab_2 = fixed('KDE post'), title=fixed(''),\n",
    "         viewdim=(0, input_dim-1, 1))\n",
    "plt.show()"
   ]
  },
  {
   "cell_type": "markdown",
   "metadata": {},
   "source": [
    "## Visualize Quality of Solution \n",
    "_We compare the push-forward of the posterior using accepted samples against the observed density_"
   ]
  },
  {
   "cell_type": "code",
   "execution_count": null,
   "metadata": {},
   "outputs": [],
   "source": [
    "push_post_dens_kde = distributions.gkde(D[accept_inds,:])\n",
    "# diagonal crossection view\n",
    "interact(compare_output_dens, x = fixed(plot_grid), \n",
    "         analytical_dens = fixed(obs_dist), estimated_dens = fixed(push_post_dens_kde), \n",
    "         lab_1 = fixed('observed'), lab_2 = fixed('KDE push'), title = fixed('Slice - Observed v. PF'),\n",
    "         viewdim = (0, output_dim-1, 1))\n",
    "plt.show()"
   ]
  },
  {
   "cell_type": "code",
   "execution_count": null,
   "metadata": {},
   "outputs": [],
   "source": []
  }
 ],
 "metadata": {
  "anaconda-cloud": {},
  "kernelspec": {
   "display_name": "test_py_env",
   "language": "python",
   "name": "test_py_env"
  },
  "language_info": {
   "codemirror_mode": {
    "name": "ipython",
    "version": 3
   },
   "file_extension": ".py",
   "mimetype": "text/x-python",
   "name": "python",
   "nbconvert_exporter": "python",
   "pygments_lexer": "ipython3",
   "version": "3.6.4"
  }
 },
 "nbformat": 4,
 "nbformat_minor": 2
}
