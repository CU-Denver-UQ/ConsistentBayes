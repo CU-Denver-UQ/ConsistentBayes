{
 "cells": [
  {
   "cell_type": "markdown",
   "metadata": {},
   "source": [
    "# Consistent Bayes: An Agricultural Example\n",
    "---\n",
    "\n",
    "Copyright 2018 Michael Pilosov\n",
    "\n",
    "Based on work done by ... "
   ]
  },
  {
   "cell_type": "markdown",
   "metadata": {},
   "source": [
    "# Example Summary\n",
    "\n",
    "Suppose we have an acre of land and we are trying to decide what to plant on it. To keep this example really simple, we keep our decisions limited to just two crops: corn and soy. \n",
    "These two crops have very different yields and prices per bushel.  \n",
    "\n",
    "We will explore how the uncertainty in crop yields affects our decision about what to plant. Our main objective is to maximize profit. \n",
    "\n",
    "There may very well be uncertainty in the price for each crop, but for the purposes of an initial example, we treat these quantities as if they were known/fixed (I do believe that contracts can be purchased for fixed prices ahead of time, so this may not be such a strong assumption). \n",
    "\n",
    "We can explore the effect of price uncertainty on our decision making as well, but for clarity and easier results visualization, we leave that for future exploration.\n",
    "\n",
    "Conventionally, this problem would be solved with deterministic optimization (using techniques from linear programming and operations research), but these techniques have a difficult time taking into consideration all the different sources of uncertainty that plague the decision-making process. "
   ]
  },
  {
   "cell_type": "markdown",
   "metadata": {},
   "source": [
    "To this end, we define the following variables:\n",
    "\\begin{eqnarray}\n",
    "x &=& \\text{ Percentage of acreage that corn will be grown on} \\\\  \n",
    "p_c &=& \\text{ Price of Corn (\\$/bushels) } \\\\  \n",
    "y_c &=& \\text{ Yield of Corn (bushels/acre) } \\\\  \n",
    "p_s &=& \\text{ Price of Soy (\\$/bushels) } \\\\  \n",
    "y_s &=& \\text{ Yield of Soy (bushels/acre) } \\\\  \n",
    "R &=& \\text{ Revenue (\\$) }  \n",
    "\\end{eqnarray}\n",
    "\n",
    "which leads us to the following equation to describe our expected revenue:  \n",
    "\n",
    "\\begin{equation}\n",
    "R = x \\cdot p_c \\cdot y_c + (1-x) \\cdot p_s \\cdot y_s\n",
    "\\end{equation}\n",
    "\n",
    "**Do note that this is expected _revenue_, not _profit_. It is a certainty that there are different costs associated with planting each crop, different tax incentives, and different harvesting costs.**\n",
    "_These would all be factored into a more realistic model. For simplicity, we start with a study of revenue to gain an intuition of how simulation-driven decision making can help us predict our bottom line more confidently._"
   ]
  },
  {
   "cell_type": "markdown",
   "metadata": {},
   "source": [
    "We pull figures from The USDA website to set some baselines for the expected [price](https://www.ers.usda.gov/data-products/season-average-price-forecasts/) and [yield](https://www.nass.usda.gov/Charts_and_Maps/Crops_County/index.php).\n",
    "\n",
    "<table>\n",
    "<tr>\n",
    "<td> <img src=\"https://www.nass.usda.gov/Charts_and_Maps/graphics/CR-YI-RGBChor.png\"> </td>\n",
    "<td> <img src=\"https://www.nass.usda.gov/Charts_and_Maps/graphics/SB-YI-RGBChor.png\"> </td>\n",
    "</tr>\n",
    "</table>"
   ]
  },
  {
   "cell_type": "markdown",
   "metadata": {},
   "source": [
    "As of mid-February 2018, the price of corn per bushel is around \\$3.50 and soy goes for \\$9.50. Recall that we are treating these as being certain. \n",
    "\n",
    "The yields are uncertain, and we represent these with Normal distributions centered around expected values of\n",
    "\n",
    "**125 bushels/acre for corn**   \n",
    "and   \n",
    "**45 bushels/acre for soy.**    \n",
    "\n",
    "Since the variations differ as well, we experiment with standard deviations that are multiples of 25 bushels/acre and 5 bushels/acre, respectively. We choose these values based on the legends in the figures above corresponding to a median yield. The qualitative relationship between the relative yield uncertainties is the same this way, and we can explore how our decisions are affected by uncertainty in the yields."
   ]
  },
  {
   "cell_type": "markdown",
   "metadata": {},
   "source": [
    "We are trying to decide on a good value for $x$, which determines how we allocate our acre of land. \n",
    "For those wondering _why just one acre?_, consider that more acreage leads to a constant multiple of profit. The decision making is thus framed as a percentage so this generalization is easily made. \n",
    "\n",
    "Figuring in different yield uncertainties depending on individual plots of land can certainly be taken into account but is outside the scope of this preliminary investigation."
   ]
  },
  {
   "cell_type": "markdown",
   "metadata": {},
   "source": [
    "--- \n",
    "### Import Libraries\n",
    "_tested with python 3.6 on 02/11/18_"
   ]
  },
  {
   "cell_type": "code",
   "execution_count": 1,
   "metadata": {
    "collapsed": true
   },
   "outputs": [],
   "source": [
    "# Mathematics and Plotting\n",
    "from HelperFuns import * # pyplot wrapper functions useful for visualizations, numpy, scipy, etc.\n",
    "# %matplotlib inline\n",
    "%matplotlib notebook\n",
    "plt.rcParams.update({'font.size': 14})\n",
    "plt.rcParams['figure.figsize'] = 10, 5\n",
    "from cbayes import sample, solve, distributions\n",
    "# Interactivity\n",
    "from ipywidgets import *"
   ]
  },
  {
   "cell_type": "markdown",
   "metadata": {},
   "source": [
    "---\n",
    "## Define Functions"
   ]
  },
  {
   "cell_type": "code",
   "execution_count": 2,
   "metadata": {
    "collapsed": true
   },
   "outputs": [],
   "source": [
    "def expected_revenue(lam):\n",
    "    if lam.shape[1] != 3:\n",
    "        raise(AttributeError('Your lambda must be three-dimensional'))\n",
    "    # our first column is x, second is y_c, third is y_s\n",
    "    percentage_corn = lam[:,0]\n",
    "    corn_productivity = lam[:,1]\n",
    "    soy_productivity = lam[:,2]\n",
    "    corn_yield = percentage_corn*corn_productivity\n",
    "    soy_yield = (1.0 - percentage_corn)*soy_productivity\n",
    "    return (3.5*corn_yield + 9.5*soy_yield)\n"
   ]
  },
  {
   "cell_type": "markdown",
   "metadata": {},
   "source": [
    "--- \n",
    "\n",
    "# Sample from Prior\n"
   ]
  },
  {
   "cell_type": "code",
   "execution_count": 17,
   "metadata": {
    "collapsed": true
   },
   "outputs": [],
   "source": [
    "num_samples = int(1E4) # number of input samples (N)\n",
    "uncertainty_multiple = 0.5\n",
    "\n",
    "input_dim = 3 # Specify input space dimension (n)\n",
    "s_set = sample.sample_set(size=(num_samples, input_dim))\n",
    "PtO_fun = expected_revenue\n",
    "\n",
    "# s_set.set_dist('beta', kwds={'a': 1, 'b': 1, 'loc': 0, 'scale': 1}, dim=0) # uniform distribution\n",
    "s_set.set_dist('uni', kwds={'loc': 0, 'scale': 1}, dim=0) # uniform distribution\n",
    "s_set.set_dist('normal', kwds={'loc': 125, 'scale': 25*uncertainty_multiple}, dim=1)\n",
    "s_set.set_dist('normal', kwds={'loc': 45, 'scale': 5*uncertainty_multiple}, dim=2)\n",
    "\n",
    "s_set.generate_samples()\n",
    "\n",
    "lam = s_set.samples # create a pointer for ease of reference later with plotting."
   ]
  },
  {
   "cell_type": "markdown",
   "metadata": {},
   "source": [
    "### Visualize Prior "
   ]
  },
  {
   "cell_type": "code",
   "execution_count": 18,
   "metadata": {},
   "outputs": [
    {
     "data": {
      "application/vnd.jupyter.widget-view+json": {
       "model_id": "67cdf50f933b4f7f9cadcf51e215a76b",
       "version_major": 2,
       "version_minor": 0
      },
      "text/html": [
       "<p>Failed to display Jupyter Widget of type <code>interactive</code>.</p>\n",
       "<p>\n",
       "  If you're reading this message in the Jupyter Notebook or JupyterLab Notebook, it may mean\n",
       "  that the widgets JavaScript is still loading. If this message persists, it\n",
       "  likely means that the widgets JavaScript library is either not installed or\n",
       "  not enabled. See the <a href=\"https://ipywidgets.readthedocs.io/en/stable/user_install.html\">Jupyter\n",
       "  Widgets Documentation</a> for setup instructions.\n",
       "</p>\n",
       "<p>\n",
       "  If you're reading this message in another frontend (for example, a static\n",
       "  rendering on GitHub or <a href=\"https://nbviewer.jupyter.org/\">NBViewer</a>),\n",
       "  it may mean that your frontend doesn't currently support widgets.\n",
       "</p>\n"
      ],
      "text/plain": [
       "interactive(children=(IntSlider(value=1, continuous_update=False, description='view_dim_1', max=2), IntSlider(value=2, continuous_update=False, description='view_dim_2', max=2), IntSlider(value=5000, continuous_update=False, description='N', max=10000, min=100, step=100), Text(value='orange', continuous_update=False, description='color'), Checkbox(value=False, description='svd'), Output()), _dom_classes=('widget-interact',))"
      ]
     },
     "metadata": {},
     "output_type": "display_data"
    }
   ],
   "source": [
    "widgets.interactive(pltdata, data = fixed(lam), inds = fixed(None), \n",
    "                    N = widgets.IntSlider(value=5000, min = 100, max=10000, step=100, continuous_update=False), \n",
    "                    eta_r = fixed(None), space=fixed(0.05), svd=widgets.Checkbox(value=False), color=widgets.Text(value=\"orange\", continuous_update=False),\n",
    "                    view_dim_1 = widgets.IntSlider(value=1, min=0, max=input_dim-1, step=1, continuous_update=False), \n",
    "                    view_dim_2 = widgets.IntSlider(value=input_dim-1, min=0, max=input_dim-1, step=1, continuous_update=False))\n"
   ]
  },
  {
   "cell_type": "markdown",
   "metadata": {},
   "source": [
    "---\n",
    "# Compute Data Space $O(\\Lambda) = \\mathcal{D}$ \n",
    "\n",
    "Format: `(n_dims, n_samples)`  "
   ]
  },
  {
   "cell_type": "code",
   "execution_count": 19,
   "metadata": {},
   "outputs": [
    {
     "name": "stdout",
     "output_type": "stream",
     "text": [
      "dimensions :  lambda = (10000, 3)   D = (10000, 1)\n"
     ]
    }
   ],
   "source": [
    "p_set = sample.map_samples_and_create_problem(s_set, PtO_fun)\n",
    "D = p_set.output.samples\n",
    "\n",
    "# this is how we handle trying to infer the dimension based on what the map put out.\n",
    "try:\n",
    "    output_dim = D.shape[1] # if your function was coded correctly, you should have an (n, d) data space.\n",
    "except IndexError:\n",
    "    print(Warning(\"Warning: Your map might be returning the wrong dimensional data.\"))\n",
    "    try:\n",
    "       output_dim = D.shape[0] \n",
    "    except IndexError:\n",
    "        print(Warning(\"Warning: Guessing it's 1-dimensional.\"))\n",
    "        output_dim = 1\n",
    "print('dimensions :  lambda = '+str(lam.shape)+'   D = '+str(D.shape) )"
   ]
  },
  {
   "cell_type": "markdown",
   "metadata": {},
   "source": [
    "# Compute Push-Forward of the Prior $P_{O(\\Lambda)}$\n",
    "_ ... i.e. Characterize the Data Space_"
   ]
  },
  {
   "cell_type": "code",
   "execution_count": 20,
   "metadata": {
    "collapsed": true
   },
   "outputs": [],
   "source": [
    "# Interactive Marginal Visualization\n",
    "p_set.compute_pushforward_dist()\n",
    "pf_dist = p_set.pushforward_dist"
   ]
  },
  {
   "cell_type": "code",
   "execution_count": 21,
   "metadata": {
    "scrolled": false
   },
   "outputs": [
    {
     "data": {
      "application/vnd.jupyter.widget-view+json": {
       "model_id": "8f2e26bb68b14b35b5f7c3bded647ef3",
       "version_major": 2,
       "version_minor": 0
      },
      "text/html": [
       "<p>Failed to display Jupyter Widget of type <code>interactive</code>.</p>\n",
       "<p>\n",
       "  If you're reading this message in the Jupyter Notebook or JupyterLab Notebook, it may mean\n",
       "  that the widgets JavaScript is still loading. If this message persists, it\n",
       "  likely means that the widgets JavaScript library is either not installed or\n",
       "  not enabled. See the <a href=\"https://ipywidgets.readthedocs.io/en/stable/user_install.html\">Jupyter\n",
       "  Widgets Documentation</a> for setup instructions.\n",
       "</p>\n",
       "<p>\n",
       "  If you're reading this message in another frontend (for example, a static\n",
       "  rendering on GitHub or <a href=\"https://nbviewer.jupyter.org/\">NBViewer</a>),\n",
       "  it may mean that your frontend doesn't currently support widgets.\n",
       "</p>\n"
      ],
      "text/plain": [
       "interactive(children=(IntSlider(value=0, continuous_update=False, description='view_dim_1', max=0), IntSlider(value=0, continuous_update=False, description='view_dim_2', max=0), IntSlider(value=5000, continuous_update=False, description='N', max=10000, min=100, step=100), Text(value='brown', continuous_update=False, description='color'), Output()), _dom_classes=('widget-interact',))"
      ]
     },
     "metadata": {},
     "output_type": "display_data"
    }
   ],
   "source": [
    "widgets.interactive(pltdata, data = fixed(pf_dist), inds = fixed(None), \n",
    "        N = widgets.IntSlider(value=5000, min = 100, max=10000, step=100, continuous_update=False), \n",
    "        eta_r = fixed(None), space=fixed(0.05), svd=fixed(False), color=widgets.Text(value=\"brown\", continuous_update=False),\n",
    "        view_dim_1 = widgets.IntSlider(value=0, min=0, max=output_dim-1, step=1, continuous_update=False), \n",
    "        view_dim_2 = widgets.IntSlider(value=output_dim-1, min=0, max=output_dim-1, step=1, continuous_update=False))"
   ]
  },
  {
   "cell_type": "markdown",
   "metadata": {},
   "source": [
    "## Some observations at this time."
   ]
  },
  {
   "cell_type": "markdown",
   "metadata": {},
   "source": [
    "From the plot above, we are able to get a sense of our potential profits. It seems like we can mnake between \\$300 and \\$550 per acre, depending on the choices we make (_which choices? We'll find out soon._).\n",
    "\n",
    "The peak in the distribution above represents your expected revenue from this acre of land across all possible decisions you might make. This is about \\$425. \n",
    "\n",
    "We use this observation to define our _observed probability measure_, which represents our desired outcome. Since we can expect \\$425, let us shoot for earning $\\$475\\pm 50$ instead. A potential \\$100 per-acre revenue gain over guessing."
   ]
  },
  {
   "cell_type": "markdown",
   "metadata": {},
   "source": [
    "# Define Observed Probability Measure $P_\\mathcal{D}$"
   ]
  },
  {
   "cell_type": "code",
   "execution_count": 22,
   "metadata": {},
   "outputs": [
    {
     "data": {
      "application/vnd.jupyter.widget-view+json": {
       "model_id": "8d7f5c90b21848dbb5eb192bd49409aa",
       "version_major": 2,
       "version_minor": 0
      },
      "text/html": [
       "<p>Failed to display Jupyter Widget of type <code>interactive</code>.</p>\n",
       "<p>\n",
       "  If you're reading this message in the Jupyter Notebook or JupyterLab Notebook, it may mean\n",
       "  that the widgets JavaScript is still loading. If this message persists, it\n",
       "  likely means that the widgets JavaScript library is either not installed or\n",
       "  not enabled. See the <a href=\"https://ipywidgets.readthedocs.io/en/stable/user_install.html\">Jupyter\n",
       "  Widgets Documentation</a> for setup instructions.\n",
       "</p>\n",
       "<p>\n",
       "  If you're reading this message in another frontend (for example, a static\n",
       "  rendering on GitHub or <a href=\"https://nbviewer.jupyter.org/\">NBViewer</a>),\n",
       "  it may mean that your frontend doesn't currently support widgets.\n",
       "</p>\n"
      ],
      "text/plain": [
       "interactive(children=(IntSlider(value=0, continuous_update=False, description='view_dim_1', max=0), IntSlider(value=0, continuous_update=False, description='view_dim_2', max=0), IntSlider(value=10000, continuous_update=False, description='N', max=50000, min=100, step=100), Text(value='wine', continuous_update=False, description='color'), Output()), _dom_classes=('widget-interact',))"
      ]
     },
     "metadata": {},
     "output_type": "display_data"
    }
   ],
   "source": [
    "desired_revenue = 500\n",
    "desired_range = 50\n",
    "# p_set.set_observed_dist('uni', {'loc':desired_revenue-0.5*desired_range, 'scale':desired_range}) # default is normal based on the data space # for function choice = 1\n",
    "p_set.set_observed_dist('normal', {'loc':desired_revenue, 'scale':desired_range/6}) # default is normal based on the data space # for function choice = 1\n",
    "\n",
    "obs_dist = p_set.observed_dist # this is define a pointer for ease of reference.\n",
    "\n",
    "widgets.interactive(pltdata, data = fixed(obs_dist), inds = fixed(None), \n",
    "        N = widgets.IntSlider(value=10000, min = 100, max=50000, step=100, continuous_update=False), \n",
    "        eta_r = fixed(None), space=fixed(0.05), svd=fixed(False), color=widgets.Text(value=\"wine\", continuous_update=False),\n",
    "        view_dim_1 = widgets.IntSlider(value=0, min=0, max=output_dim-1, step=1, continuous_update=False), \n",
    "        view_dim_2 = widgets.IntSlider(value=output_dim-1, min=0, max=output_dim-1, step=1, continuous_update=False))\n"
   ]
  },
  {
   "cell_type": "markdown",
   "metadata": {},
   "source": [
    "The bumpiness in the figure is solely a result of visualization choices for expediency.\n",
    "\n",
    "---\n",
    "\n",
    "At this point we have performed the computations we need to. We have evaluated the input points through our map and performed a KDE on them. It would be useful at this point to save this object and/or its evaluation at every point in the data space for later re-use. Doing so here would be an appropriate place. "
   ]
  },
  {
   "cell_type": "markdown",
   "metadata": {},
   "source": [
    "--- \n",
    "\n",
    "# Accept/Reject Sampling of Posterior\n",
    "\n",
    "Since we have already used the samples in our prior to compute the pushforward density, we can re-use these with an accept/reject algorithm to get a set of samples generated from the posterior according to the solution of the stochastic inverse problem as outlined in the Consistent Bayes formulation. "
   ]
  },
  {
   "cell_type": "code",
   "execution_count": 23,
   "metadata": {
    "collapsed": true
   },
   "outputs": [],
   "source": [
    "p_set.set_ratio()\n",
    "eta_r = p_set.ratio\n",
    "solve.problem(p_set)"
   ]
  },
  {
   "cell_type": "code",
   "execution_count": 24,
   "metadata": {},
   "outputs": [
    {
     "name": "stdout",
     "output_type": "stream",
     "text": [
      "Number accepted: 106 = 1.06%\n"
     ]
    }
   ],
   "source": [
    "accept_inds = p_set.accept_inds\n",
    "lam_accept = p_set.input.samples[accept_inds,:]\n",
    "num_accept = len(accept_inds)\n",
    "print('Number accepted: %d = %2.2f%%'%(num_accept, 100*np.float(num_accept)/num_samples))"
   ]
  },
  {
   "cell_type": "markdown",
   "metadata": {},
   "source": [
    "## Visualize Posterior Density\n",
    "### (Visualize Accept/Reject Samples)\n"
   ]
  },
  {
   "cell_type": "code",
   "execution_count": 25,
   "metadata": {
    "scrolled": false
   },
   "outputs": [
    {
     "data": {
      "application/vnd.jupyter.widget-view+json": {
       "model_id": "597aa952c0be43aeaed0cb5a7a708751",
       "version_major": 2,
       "version_minor": 0
      },
      "text/html": [
       "<p>Failed to display Jupyter Widget of type <code>interactive</code>.</p>\n",
       "<p>\n",
       "  If you're reading this message in the Jupyter Notebook or JupyterLab Notebook, it may mean\n",
       "  that the widgets JavaScript is still loading. If this message persists, it\n",
       "  likely means that the widgets JavaScript library is either not installed or\n",
       "  not enabled. See the <a href=\"https://ipywidgets.readthedocs.io/en/stable/user_install.html\">Jupyter\n",
       "  Widgets Documentation</a> for setup instructions.\n",
       "</p>\n",
       "<p>\n",
       "  If you're reading this message in another frontend (for example, a static\n",
       "  rendering on GitHub or <a href=\"https://nbviewer.jupyter.org/\">NBViewer</a>),\n",
       "  it may mean that your frontend doesn't currently support widgets.\n",
       "</p>\n"
      ],
      "text/plain": [
       "interactive(children=(IntSlider(value=0, continuous_update=False, description='view_dim_1', max=2), IntSlider(value=2, continuous_update=False, description='view_dim_2', max=2), IntSlider(value=53, continuous_update=False, description='N', max=107, min=2), Text(value='orange', continuous_update=False, description='color'), Checkbox(value=False, description='svd'), Output()), _dom_classes=('widget-interact',))"
      ]
     },
     "metadata": {},
     "output_type": "display_data"
    }
   ],
   "source": [
    "widgets.interactive(pltdata, data = fixed(lam), inds = fixed(accept_inds), \n",
    "        N = widgets.IntSlider(value=num_accept/2, min = 2, max=num_accept+1, step=1, continuous_update=False), \n",
    "        eta_r = fixed(None), space=fixed(0.05), svd=widgets.Checkbox(value=False), color=widgets.Text(value=\"orange\", continuous_update=False),\n",
    "        view_dim_1 = widgets.IntSlider(value=0, min=0, max=input_dim-1, step=1, continuous_update=False), \n",
    "        view_dim_2 = widgets.IntSlider(value=input_dim-1, min=0, max=input_dim-1, step=1, continuous_update=False))\n",
    "\n",
    "# You will visualize the accepted samples in a subset of size N of the input samples. \n",
    "# This is mostly for faster plotting, but also so you can see the progression of accepted sampling in the algorithm.\n"
   ]
  },
  {
   "cell_type": "markdown",
   "metadata": {},
   "source": [
    "---\n",
    "# Now what? \n",
    "\n",
    "Well, we can...\n",
    "\n",
    "## _Visualize the Quality of our SIP Solution by Comparing it to the Observed_\n",
    "_We compare the push-forward of the posterior using accepted samples against the observed density_  \n",
    "_(SIP = Stochastic Inverse Problem)_\n",
    "### Observed:"
   ]
  },
  {
   "cell_type": "code",
   "execution_count": 12,
   "metadata": {
    "scrolled": false
   },
   "outputs": [
    {
     "data": {
      "application/vnd.jupyter.widget-view+json": {
       "model_id": "3aa2342fd1614b42a7a8f690fe4e2037",
       "version_major": 2,
       "version_minor": 0
      },
      "text/html": [
       "<p>Failed to display Jupyter Widget of type <code>interactive</code>.</p>\n",
       "<p>\n",
       "  If you're reading this message in the Jupyter Notebook or JupyterLab Notebook, it may mean\n",
       "  that the widgets JavaScript is still loading. If this message persists, it\n",
       "  likely means that the widgets JavaScript library is either not installed or\n",
       "  not enabled. See the <a href=\"https://ipywidgets.readthedocs.io/en/stable/user_install.html\">Jupyter\n",
       "  Widgets Documentation</a> for setup instructions.\n",
       "</p>\n",
       "<p>\n",
       "  If you're reading this message in another frontend (for example, a static\n",
       "  rendering on GitHub or <a href=\"https://nbviewer.jupyter.org/\">NBViewer</a>),\n",
       "  it may mean that your frontend doesn't currently support widgets.\n",
       "</p>\n"
      ],
      "text/plain": [
       "interactive(children=(IntSlider(value=0, continuous_update=False, description='view_dim_1', max=0), IntSlider(value=0, continuous_update=False, description='view_dim_2', max=0), IntSlider(value=500, continuous_update=False, description='N', max=5000, min=100, step=100), Text(value='wine', continuous_update=False, description='color'), Output()), _dom_classes=('widget-interact',))"
      ]
     },
     "metadata": {},
     "output_type": "display_data"
    }
   ],
   "source": [
    "widgets.interactive(pltdata, data = fixed(obs_dist), inds = fixed(None), \n",
    "        N = widgets.IntSlider(value=500, min = 100, max=5000, step=100, continuous_update=False), \n",
    "        eta_r = fixed(None), space=fixed(0.05), svd=fixed(False), color=widgets.Text(value=\"wine\", continuous_update=False),\n",
    "        view_dim_1 = widgets.IntSlider(value=0, min=0, max=output_dim-1, step=1, continuous_update=False), \n",
    "        view_dim_2 = widgets.IntSlider(value=output_dim-1, min=0, max=output_dim-1, step=1, continuous_update=False))"
   ]
  },
  {
   "cell_type": "markdown",
   "metadata": {},
   "source": [
    "## Pushforward of Posterior:"
   ]
  },
  {
   "cell_type": "code",
   "execution_count": 13,
   "metadata": {
    "scrolled": false
   },
   "outputs": [
    {
     "data": {
      "application/vnd.jupyter.widget-view+json": {
       "model_id": "2ab56621430149628831e36906fcc256",
       "version_major": 2,
       "version_minor": 0
      },
      "text/html": [
       "<p>Failed to display Jupyter Widget of type <code>interactive</code>.</p>\n",
       "<p>\n",
       "  If you're reading this message in the Jupyter Notebook or JupyterLab Notebook, it may mean\n",
       "  that the widgets JavaScript is still loading. If this message persists, it\n",
       "  likely means that the widgets JavaScript library is either not installed or\n",
       "  not enabled. See the <a href=\"https://ipywidgets.readthedocs.io/en/stable/user_install.html\">Jupyter\n",
       "  Widgets Documentation</a> for setup instructions.\n",
       "</p>\n",
       "<p>\n",
       "  If you're reading this message in another frontend (for example, a static\n",
       "  rendering on GitHub or <a href=\"https://nbviewer.jupyter.org/\">NBViewer</a>),\n",
       "  it may mean that your frontend doesn't currently support widgets.\n",
       "</p>\n"
      ],
      "text/plain": [
       "interactive(children=(IntSlider(value=0, continuous_update=False, description='view_dim_1', max=0), IntSlider(value=0, continuous_update=False, description='view_dim_2', max=0), IntSlider(value=24, continuous_update=False, description='N', max=47, min=2), Text(value='eggplant', continuous_update=False, description='color'), Output()), _dom_classes=('widget-interact',))"
      ]
     },
     "metadata": {},
     "output_type": "display_data"
    }
   ],
   "source": [
    "widgets.interactive(pltdata, data = fixed(D), inds = fixed(accept_inds), \n",
    "        N = widgets.IntSlider(value=num_accept/2, min = 2, max=num_accept-1, step=1, continuous_update=False), \n",
    "        eta_r = fixed(None), space=fixed(0.05), svd=fixed(False), color=widgets.Text(value=\"eggplant\", continuous_update=False),\n",
    "        view_dim_1 = widgets.IntSlider(value=0, min=0, max=output_dim-1, step=1, continuous_update=False), \n",
    "        view_dim_2 = widgets.IntSlider(value=output_dim-1, min=0, max=output_dim-1, step=1, continuous_update=False))\n"
   ]
  },
  {
   "cell_type": "code",
   "execution_count": 14,
   "metadata": {},
   "outputs": [
    {
     "data": {
      "image/png": "[encoded data removed]",
      "text/plain": [
       "<matplotlib.figure.Figure at 0x110459cc0>"
      ]
     },
     "metadata": {},
     "output_type": "display_data"
    }
   ],
   "source": [
    "sb.set_context(\"notebook\", font_scale=1.25)\n",
    "str2 = \"Expected Revenue\\n(after)\"\n",
    "str1 = \"Expected Revenue\\n(before)\"\n",
    "\n",
    "f = sb.kdeplot(D[accept_inds,0], color=sb.xkcd_rgb['wine'])\n",
    "f.set_title(str2)\n",
    "f.set_xlabel(\"Dollars\")\n",
    "f.set_ylabel(\"Relative Likelihood\")\n",
    "\n",
    "g = f.get_figure()\n",
    "g.tight_layout()\n",
    "g.savefig(\"expected_rev_after.png\")\n",
    "f.cla()\n",
    "\n",
    "\n",
    "f = sb.kdeplot(D[:,0], color=sb.xkcd_rgb['ocre'])\n",
    "f.set_title(str1)\n",
    "f.set_xlabel(\"Dollars\")\n",
    "f.set_ylabel(\"Relative Likelihood\")\n",
    "\n",
    "g = f.get_figure()\n",
    "g.tight_layout()\n",
    "g.savefig(\"expected_rev_before.png\")\n",
    "\n",
    "f = sb.kdeplot(D[accept_inds,0], color=sb.xkcd_rgb['wine'])\n",
    "f.set_title(str2)\n",
    "f.set_xlabel(\"Dollars\")\n",
    "f.set_ylabel(\"Relative Likelihood\")\n",
    "\n",
    "f = sb.kdeplot(D[:,0], color=sb.xkcd_rgb['ocre'])\n",
    "f.set_title(\"Expected Revenue\")\n",
    "f.set_xlabel(\"Dollars\")\n",
    "f.set_ylabel(\"Relative Likelihood\")\n",
    "\n",
    "g = f.get_figure()\n",
    "g.tight_layout()\n",
    "g.savefig(\"expected_both.png\")"
   ]
  },
  {
   "cell_type": "markdown",
   "metadata": {},
   "source": [
    "## Verify our parametric test statistics.\n",
    "Let's see if the pushforward of the posterior results in a sample mean and standard deviation that are close to the observed."
   ]
  },
  {
   "cell_type": "code",
   "execution_count": 15,
   "metadata": {},
   "outputs": [
    {
     "data": {
      "text/plain": [
       "[501.94945926308793, 5.42921672214187]"
      ]
     },
     "execution_count": 15,
     "metadata": {},
     "output_type": "execute_result"
    }
   ],
   "source": [
    "# From our propogated decisions:\n",
    "[np.mean(D[accept_inds,:]), np.std(D[accept_inds,:])]"
   ]
  },
  {
   "cell_type": "code",
   "execution_count": 16,
   "metadata": {},
   "outputs": [
    {
     "data": {
      "text/plain": [
       "[500.0, 8.333333333333334]"
      ]
     },
     "execution_count": 16,
     "metadata": {},
     "output_type": "execute_result"
    }
   ],
   "source": [
    "# From the observed (target) distribution:\n",
    "[p_set.observed_dist.mean(), p_set.observed_dist.std()]"
   ]
  },
  {
   "cell_type": "markdown",
   "metadata": {},
   "source": [
    "They look pretty good! Now go back to the [Sampling Section](#Sample-from-Prior) and change the distribution on the prior or choose another example problem."
   ]
  },
  {
   "cell_type": "markdown",
   "metadata": {},
   "source": [
    "# Future Work"
   ]
  },
  {
   "cell_type": "markdown",
   "metadata": {},
   "source": [
    "A perhaps more nuanced approach would actually be to solve a 1D problem with a stochastic map in place of 3D problem where 2 of the parameters being used are representing the uncertainty in yields. \n",
    "\n",
    "These are different questions though.\n",
    "\n",
    "Inverting a distribution through a stochastic map would identify a strategy that is robust to the uncertainty. \n",
    "\n",
    "Inverting through a deterministic map with random variables as parameters identifies regions of certainty that inform the decision process (informs the feedback loop with the decision-maker). "
   ]
  },
  {
   "cell_type": "code",
   "execution_count": null,
   "metadata": {
    "collapsed": true
   },
   "outputs": [],
   "source": []
  }
 ],
 "metadata": {
  "anaconda-cloud": {},
  "kernelspec": {
   "display_name": "test_py_env",
   "language": "python",
   "name": "test_py_env"
  },
  "language_info": {
   "codemirror_mode": {
    "name": "ipython",
    "version": 3
   },
   "file_extension": ".py",
   "mimetype": "text/x-python",
   "name": "python",
   "nbconvert_exporter": "python",
   "pygments_lexer": "ipython3",
   "version": "3.6.4"
  }
 },
 "nbformat": 4,
 "nbformat_minor": 2
}
