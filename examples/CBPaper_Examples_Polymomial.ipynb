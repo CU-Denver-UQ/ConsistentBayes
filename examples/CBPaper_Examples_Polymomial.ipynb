{
 "cells": [
  {
   "cell_type": "markdown",
   "metadata": {},
   "source": [
    "# Consistent Bayes: Polynomial Example\n",
    "---\n",
    "\n",
    "Copyright 2018 Michael Pilosov\n"
   ]
  },
  {
   "cell_type": "markdown",
   "metadata": {},
   "source": [
    "### Import Libraries\n"
   ]
  },
  {
   "cell_type": "code",
   "execution_count": 1,
   "metadata": {},
   "outputs": [
    {
     "ename": "ModuleNotFoundError",
     "evalue": "No module named 'nose'",
     "output_type": "error",
     "traceback": [
      "\u001b[0;31m---------------------------------------------------------------------------\u001b[0m",
      "\u001b[0;31mModuleNotFoundError\u001b[0m                       Traceback (most recent call last)",
      "\u001b[0;32m<ipython-input-1-018f1effe621>\u001b[0m in \u001b[0;36m<module>\u001b[0;34m()\u001b[0m\n\u001b[1;32m      4\u001b[0m \u001b[0;31m# %matplotlib notebook\u001b[0m\u001b[0;34m\u001b[0m\u001b[0;34m\u001b[0m\u001b[0m\n\u001b[1;32m      5\u001b[0m \u001b[0;31m# plt.xkcd(scale=1, length=1000, randomness=0)\u001b[0m\u001b[0;34m\u001b[0m\u001b[0;34m\u001b[0m\u001b[0m\n\u001b[0;32m----> 6\u001b[0;31m \u001b[0;32mfrom\u001b[0m \u001b[0mcbayes\u001b[0m \u001b[0;32mimport\u001b[0m \u001b[0msample\u001b[0m\u001b[0;34m,\u001b[0m \u001b[0msolve\u001b[0m\u001b[0;34m,\u001b[0m \u001b[0mdistributions\u001b[0m\u001b[0;34m\u001b[0m\u001b[0m\n\u001b[0m\u001b[1;32m      7\u001b[0m \u001b[0;31m# Interactivity\u001b[0m\u001b[0;34m\u001b[0m\u001b[0;34m\u001b[0m\u001b[0m\n\u001b[1;32m      8\u001b[0m \u001b[0;32mfrom\u001b[0m \u001b[0mipywidgets\u001b[0m \u001b[0;32mimport\u001b[0m \u001b[0;34m*\u001b[0m\u001b[0;34m\u001b[0m\u001b[0m\n",
      "\u001b[0;32m~/anaconda3/envs/py3/lib/python3.6/site-packages/cbayes-0.3.23-py3.6.egg/cbayes/solve.py\u001b[0m in \u001b[0;36m<module>\u001b[0;34m()\u001b[0m\n\u001b[1;32m     12\u001b[0m \u001b[0;31m# import cbayes.sample as sample\u001b[0m\u001b[0;34m\u001b[0m\u001b[0;34m\u001b[0m\u001b[0m\n\u001b[1;32m     13\u001b[0m \u001b[0;32mimport\u001b[0m \u001b[0mnumpy\u001b[0m \u001b[0;32mas\u001b[0m \u001b[0mnp\u001b[0m\u001b[0;34m\u001b[0m\u001b[0m\n\u001b[0;32m---> 14\u001b[0;31m \u001b[0;32mfrom\u001b[0m \u001b[0mnose\u001b[0m \u001b[0;32mimport\u001b[0m \u001b[0mwith_setup\u001b[0m \u001b[0;31m# optional\u001b[0m\u001b[0;34m\u001b[0m\u001b[0m\n\u001b[0m\u001b[1;32m     15\u001b[0m \u001b[0;34m\u001b[0m\u001b[0m\n\u001b[1;32m     16\u001b[0m \u001b[0;31m#: TODO add logging/warnings, save options, load options.\u001b[0m\u001b[0;34m\u001b[0m\u001b[0;34m\u001b[0m\u001b[0m\n",
      "\u001b[0;31mModuleNotFoundError\u001b[0m: No module named 'nose'"
     ]
    }
   ],
   "source": [
    "# Mathematics and Plotting\n",
    "from HelperFuns import * # pyplot wrapper functions useful for visualizations, numpy, scipy, etc.\n",
    "%matplotlib inline\n",
    "# %matplotlib notebook\n",
    "# plt.xkcd(scale=1, length=1000, randomness=0)\n",
    "from cbayes import sample, solve, distributions\n",
    "# Interactivity\n",
    "from ipywidgets import *\n",
    "import matplotlib.colors as colors\n",
    "\n",
    "# import numpy as np\n",
    "from scipy.integrate import odeint\n",
    "# import matplotlib.pyplot as plt\n",
    "import progressbar"
   ]
  },
  {
   "cell_type": "code",
   "execution_count": null,
   "metadata": {},
   "outputs": [],
   "source": [
    "plt.rcParams.update({'font.size': 14})\n",
    "plt.rcParams['figure.figsize'] = 20, 10"
   ]
  },
  {
   "cell_type": "markdown",
   "metadata": {},
   "source": [
    "# Example Summary\n",
    "\n",
    "---\n",
    "\n",
    "We work with the following model:  \n",
    "\n",
    "\\begin{equation}\n",
    "u(\\lambda) = \\lambda^p\n",
    "\\end{equation}\n",
    "\n",
    "for $\\lambda \\in [-1, 1]$."
   ]
  },
  {
   "cell_type": "markdown",
   "metadata": {},
   "source": [
    "---\n",
    "## Define Functions"
   ]
  },
  {
   "cell_type": "code",
   "execution_count": null,
   "metadata": {},
   "outputs": [],
   "source": [
    "def MSE_generator(model, obs_data, sigma=None):   # this generates a sum of squared residuals.\n",
    "    def QoI_fun(inputs): # that conforms to our desired model input\n",
    "        M = len(obs_data)\n",
    "        predictions = model(inputs)\n",
    "        assert predictions.shape[1] == M\n",
    "        residuals = predictions - obs_data\n",
    "        if sigma is not None:\n",
    "            QoI = (1./M)*np.sum( (residuals/sigma)**2, axis=1 )   # MSE\n",
    "        else:\n",
    "            QoI = (1./M)*np.sum( (residuals/obs_data)**2, axis=1 )  # MRSE\n",
    "#             QoI = np.sum( (residuals/sigma)**2, axis=1 )          # RSS\n",
    "        return QoI\n",
    "    return QoI_fun\n",
    "\n",
    "# The model of the harmonic oscillator \n",
    "def makemodel(p):\n",
    "    def model(lam = np.array([[-1, 1]]) ):\n",
    "        QoI = np.power(lam, p)\n",
    "        if QoI.shape[0] == 1:\n",
    "            return QoI.ravel() # this allows support for simpler 1D plotting.\n",
    "        else:\n",
    "            return QoI\n",
    "    return model"
   ]
  },
  {
   "cell_type": "code",
   "execution_count": null,
   "metadata": {},
   "outputs": [],
   "source": [
    "##### FIXED PARAMETERS #####\n",
    "p = 1\n",
    "model = makemodel(p)\n",
    "u = model()"
   ]
  },
  {
   "cell_type": "code",
   "execution_count": null,
   "metadata": {},
   "outputs": [],
   "source": [
    "# # Plot the data \n",
    "# fig = plt.figure(facecolor='w')\n",
    "# ax = fig.add_subplot(111, facecolor='#ffffff', axisbelow=True)\n",
    "# ax.plot(t, u, 'b', alpha=0.5, lw=2)\n",
    "\n",
    "# ax.set_xlabel('Time (s)')\n",
    "# ax.set_ylabel('Height')\n",
    "\n",
    "# ax.set_ylim(-1.2,1.2)\n",
    "# ax.yaxis.set_tick_params(length=0)\n",
    "# ax.xaxis.set_tick_params(length=0)\n",
    "\n",
    "# # ax.grid(b=True, which='major', c='w', lw=2, ls='-')\n",
    "# # legend = ax.legend()\n",
    "# # legend.get_frame().set_alpha(0.5)\n",
    "# # for spine in ('top', 'right', 'bottom', left'):\n",
    "# #     ax.spines[spine].set_visible(False)\n",
    "# plt.show()"
   ]
  },
  {
   "cell_type": "markdown",
   "metadata": {},
   "source": [
    "## Get a sense of the variation in the system you are studying\n",
    "\n"
   ]
  },
  {
   "cell_type": "code",
   "execution_count": null,
   "metadata": {},
   "outputs": [],
   "source": [
    "n = 50\n",
    "lam = np.random.random(size=(n,2))\n",
    "lam[:,0] = 0.5*lam[:,0] - 0.25\n",
    "lam[:,1] = lam[:,1] + 0.5\n",
    "\n",
    "sd_test_n = 0.025\n",
    "# sd_test_u = 0.1\n",
    "# sd_test_c = 0.1\n",
    "mintime = 0\n",
    "maxtime = 5\n",
    "tt = np.linspace(mintime, maxtime, 1000)\n",
    "m = makemodel(tt)\n",
    "ui = m(lam)\n",
    "\n",
    "um = m()\n",
    "plt.cla()\n",
    "show_obs = False\n",
    "# Plotting the default IR results from the epidemic_IR function.\n",
    "for i in range(n):\n",
    "    d = ui[i,:]\n",
    "    if i == n-1:\n",
    "        plt.plot(tt, d, c='k', alpha=5/n, label='Potential Signals')\n",
    "    else:\n",
    "        plt.plot(tt, d, c='k', alpha=5/n) # I\n",
    "    \n",
    "# plt.scatter(t, u + np.random.randn(num_observations)*sd_test_n, s=50, c='k', label='Normal', alpha=0.5)\n",
    "# plt.scatter(t, u + (np.random.rand(num_observations)-0.5)*sd_test_u,c='b', s=5, label='Uniform')\n",
    "# plt.scatter(t, u + (np.random.standard_cauchy(num_observations))*sd_test_c,c='g', s=50, marker='x',label='Cauchy')\n",
    "plt.plot(tt, um, c='k', lw=3, ls='-', label='True Signal')\n",
    "if show_obs:\n",
    "    plt.scatter(t, u + np.random.randn(num_observations)*sd_test_n, marker='x', s=50, c='k', label='{} Observations'.format(num_observations), alpha=1)\n",
    "\n",
    "plt.legend(fontsize=18,loc='upper left')\n",
    "plt.ylabel('Magnitude', fontsize=18)\n",
    "plt.xlabel('Time (s)', fontsize=18)\n",
    "# plt.ylim([-.25,1.25])\n",
    "plt.xlim([0,5])\n",
    "ftype = 'png'\n",
    "if show_obs:\n",
    "    summary_save_str = \"saveimgs/HO/HO_%d_r-%d_obs-%de-3_sd-t_%d_%d_st%d_%d.%s\"%(n, num_observations, 1000*sd_test_n, mintime, maxtime, start_time, end_time, ftype)\n",
    "else:\n",
    "    summary_save_str = \"saveimgs/HO/HO_signal-%d_t_%d_%d_st%d_%d.%s\"%(n, mintime, maxtime, start_time, end_time, ftype)\n",
    "\n",
    "print(\"saving \" + summary_save_str)\n",
    "plt.savefig(summary_save_str)\n",
    "plt.show()"
   ]
  },
  {
   "cell_type": "markdown",
   "metadata": {},
   "source": [
    "--- \n",
    "\n",
    "# Define Prior Measure $P_\\Lambda$\n"
   ]
  },
  {
   "cell_type": "code",
   "execution_count": null,
   "metadata": {},
   "outputs": [],
   "source": [
    "input_dim = 2 # Specify input space dimension (n) -- this is a handle that the widgets depend on.\n",
    "num_samples = int(1E4) # number of input samples (N)\n",
    "s_set = sample.sample_set(size=(num_samples, input_dim))\n",
    "\n",
    "# s_set.set_dist('beta', kwds={'a': 1, 'b': 1, 'loc': -1, 'scale': 2}, dim=0) # initial condition\n",
    "# s_set.set_dist('beta', kwds={'a': 1, 'b': 1, 'loc': 0, 'scale': 2}, dim=1) # frequency\n",
    "s_set.set_dist('beta', kwds={'a': 1, 'b': 1, 'loc': -0.25, 'scale': 0.5}, dim=0) # initial condition\n",
    "s_set.set_dist('beta', kwds={'a': 1, 'b': 1, 'loc': .5, 'scale': 1}, dim=1) # frequency\n",
    "s_set.generate_samples()\n",
    "\n",
    "lam = s_set.samples # create a pointer for ease of reference later with plotting."
   ]
  },
  {
   "cell_type": "markdown",
   "metadata": {},
   "source": [
    "### Visualize Prior "
   ]
  },
  {
   "cell_type": "code",
   "execution_count": null,
   "metadata": {},
   "outputs": [],
   "source": [
    "# widgets.interactive(pltdata, data = fixed(lam), inds = fixed(None), \n",
    "#                     N = widgets.IntSlider(value=500, min = 100, max=5000, step=100, continuous_update=False), \n",
    "#                     eta_r = fixed(None), space=fixed(0.05), svd=widgets.Checkbox(value=False), color=widgets.Text(value=\"orange\", continuous_update=False),\n",
    "#                     view_dim_1 = widgets.IntSlider(value=0, min=0, max=input_dim-1, step=1, continuous_update=False), \n",
    "#                     view_dim_2 = widgets.IntSlider(value=input_dim-1, min=0, max=input_dim-1, step=1, continuous_update=False))\n"
   ]
  },
  {
   "cell_type": "markdown",
   "metadata": {},
   "source": [
    "---\n",
    "# Compute Data Space $O(\\Lambda) = \\mathcal{D}$ \n",
    "\n",
    "Format: `(n_dims, n_samples)`  "
   ]
  },
  {
   "cell_type": "code",
   "execution_count": null,
   "metadata": {},
   "outputs": [],
   "source": [
    "u_true = model() # t as a subscript stands for \"truth\"\n",
    "sd_true = sd_test_n\n",
    "sd_guess = sd_true\n",
    "\n",
    "# sd_true = 0.05\n",
    "# sd_guess = 0.025\n",
    "\n",
    "obs_data = u_true + np.random.randn(int(num_observations))*sd_true\n",
    "# obs_data = u_true + np.random.standard_cauchy(int(num_observations))*sd_true\n",
    "# obs_data = u_true + (np.random.rand(int(num_observations))-0.5)*sd_true\n",
    "\n",
    "PtO_fun = MSE_generator(model, obs_data, sd_guess)"
   ]
  },
  {
   "cell_type": "code",
   "execution_count": null,
   "metadata": {},
   "outputs": [],
   "source": [
    "p_set = sample.map_samples_and_create_problem(s_set, PtO_fun)\n",
    "D = p_set.output.samples\n",
    "\n",
    "# This is how we handle trying to infer the dimension based on what the map put out.\n",
    "# You can delete this once you are certain your model is correctly defined.\n",
    "try:\n",
    "    output_dim = D.shape[1] # if your function was coded correctly, you should have an (n, d) data space.\n",
    "except IndexError:\n",
    "    print(Warning(\"Warning: Your map might be returning the wrong dimensional data.\"))\n",
    "    try:\n",
    "       output_dim = D.shape[0] \n",
    "    except IndexError:\n",
    "        print(Warning(\"Warning: Guessing it's 1-dimensional.\"))\n",
    "        output_dim = 1\n",
    "print('dimensions :  lambda = '+str(lam.shape)+'   D = '+str(D.shape) )"
   ]
  },
  {
   "cell_type": "markdown",
   "metadata": {},
   "source": [
    "# Compute Push-Forward of the Prior $P_{O(\\Lambda)}$\n",
    "_ ... i.e. Characterize the Data Space_"
   ]
  },
  {
   "cell_type": "code",
   "execution_count": null,
   "metadata": {},
   "outputs": [],
   "source": [
    "# Interactive Marginal Visualization\n",
    "# p_set.compute_pushforward_dist(mirror=False, kwds={'kernel': 'gaussian', 'bandwidth': .25})\n",
    "# p_set.compute_pushforward_dist(mirror=False, kwds={'kernel': 'gaussian', 'bandwidth': 5})\n",
    "p_set.compute_pushforward_dist()\n",
    "pf_dist = p_set.pushforward_dist"
   ]
  },
  {
   "cell_type": "code",
   "execution_count": null,
   "metadata": {
    "scrolled": false
   },
   "outputs": [],
   "source": [
    "# widgets.interactive(pltdata, data = fixed(pf_dist), inds = fixed(None), \n",
    "#         N = widgets.IntSlider(value=10000, min = 100, max=10000, step=100, continuous_update=False), \n",
    "#         eta_r = fixed(None), space=fixed(0.05), svd=fixed(False), color=widgets.Text(value=\"brown\", continuous_update=False),\n",
    "#         view_dim_1 = widgets.IntSlider(value=0, min=0, max=output_dim-1, step=1, continuous_update=False), \n",
    "#         view_dim_2 = widgets.IntSlider(value=output_dim-1, min=0, max=output_dim-1, step=1, continuous_update=False))"
   ]
  },
  {
   "cell_type": "markdown",
   "metadata": {},
   "source": [
    "# Define Observed Probability Measure $P_\\mathcal{D}$"
   ]
  },
  {
   "cell_type": "code",
   "execution_count": null,
   "metadata": {},
   "outputs": [],
   "source": [
    "p_set.set_observed_dist('gamma', {'a':num_observations/2, 'scale':2/num_observations}, dim=0)\n",
    "# \n",
    "# p_set.set_observed_dist('chi2', {'df':num_observations}, dim=0)\n",
    "# p_set.set_observed_dist('normal', {'loc': 0, 'scale': 0.05}, dim=0)\n",
    "# p_set.set_observed_dist('uniform', {'loc': 0, 'scale': 0.0025}, dim=0)\n",
    "\n",
    "obs_dist = p_set.observed_dist # this is define a pointer for ease of reference.\n",
    "\n",
    "# widgets.interactive(pltdata, data = fixed(obs_dist), inds = fixed(None), \n",
    "#         N = widgets.IntSlider(value=500, min = 100, max=5000, step=100, continuous_update=False), \n",
    "#         eta_r = fixed(None), space=fixed(0.05), svd=fixed(False), color=widgets.Text(value=\"wine\", continuous_update=False),\n",
    "#         view_dim_1 = widgets.IntSlider(value=0, min=0, max=output_dim-1, step=1, continuous_update=False), \n",
    "#         view_dim_2 = widgets.IntSlider(value=output_dim-1, min=0, max=output_dim-1, step=1, continuous_update=False))\n",
    "xx = np.linspace(-1,10,500).reshape(-1,1)\n",
    "obs_dist = p_set.observed_dist # this is define a pointer for ease of reference.\n",
    "zz = pf_dist.pdf(xx)\n",
    "yy = obs_dist.pdf(xx)"
   ]
  },
  {
   "cell_type": "code",
   "execution_count": null,
   "metadata": {},
   "outputs": [],
   "source": [
    "plt.plot(xx, zz, c='blue',label='Pushforward of Prior')\n",
    "plt.plot(xx, yy,c='orange',label='Observed Density')\n",
    "# plt.ylim([0,0.05])\n",
    "plt.legend()\n",
    "plt.show()"
   ]
  },
  {
   "cell_type": "markdown",
   "metadata": {},
   "source": [
    "---\n",
    "\n",
    "At this point we have performed the computations we need to. We have evaluated the input points through our map and performed a KDE on them. It would be useful at this point to save this object and/or its evaluation at every point in the data space for later re-use. Doing so here would be an appropriate place. "
   ]
  },
  {
   "cell_type": "markdown",
   "metadata": {},
   "source": [
    "--- \n",
    "\n",
    "# Accept/Reject Sampling of Posterior\n",
    "\n",
    "Since we have already used the samples in our prior to compute the pushforward density, we can re-use these with an accept/reject algorithm to get a set of samples generated from the posterior according to the solution of the stochastic inverse problem as outlined in the Consistent Bayes formulation. "
   ]
  },
  {
   "cell_type": "code",
   "execution_count": null,
   "metadata": {},
   "outputs": [],
   "source": [
    "p_set.set_ratio()\n",
    "eta_r = p_set.ratio\n",
    "s_set.seed = 11\n",
    "solve.problem(p_set)"
   ]
  },
  {
   "cell_type": "code",
   "execution_count": null,
   "metadata": {},
   "outputs": [],
   "source": [
    "accept_inds = p_set.accept_inds\n",
    "lam_accept = p_set.input.samples[accept_inds,:]\n",
    "lam_true = np.array([0, 1])\n",
    "num_accept = len(accept_inds)\n",
    "print('Number accepted: %d = %2.2f%%'%(num_accept, 100*np.float(num_accept)/num_samples))"
   ]
  },
  {
   "cell_type": "markdown",
   "metadata": {},
   "source": [
    "## Visualize Posterior Density\n",
    "### (Visualize Accept/Reject Samples)\n"
   ]
  },
  {
   "cell_type": "code",
   "execution_count": null,
   "metadata": {
    "scrolled": false
   },
   "outputs": [],
   "source": [
    "# widgets.interactive(pltdata, data = fixed(lam), inds = fixed(accept_inds), \n",
    "#         N = widgets.IntSlider(value=num_accept/2+1, min = 2, max=num_accept, step=1, continuous_update=False), \n",
    "#         eta_r = fixed(None), space=fixed(0.05), svd=widgets.Checkbox(value=False), color=widgets.Text(value=\"orange\", continuous_update=False),\n",
    "#         view_dim_1 = widgets.IntSlider(value=0, min=0, max=input_dim-1, step=1, continuous_update=False), \n",
    "#         view_dim_2 = widgets.IntSlider(value=input_dim-1, min=0, max=input_dim-1, step=1, continuous_update=False))\n",
    "\n",
    "# You will visualize the accepted samples in a subset of size N of the input samples. \n",
    "# This is mostly for faster plotting, but also so you can see the progression of accepted sampling in the algorithm.\n",
    "plt.figure()\n",
    "plt.title(\"Accept/Reject Results\\n\", fontsize=18)\n",
    "plt.scatter(lam_accept[:,0], lam_accept[:,1], c='black', s=25)\n",
    "plt.scatter(lam_true[0],lam_true[1], c='yellow', edgecolor='black', s=200, label='True Parameter')\n",
    "# plt.scatter(lam[:,0], lam[:,1], c='gray', s=10)\n",
    "\n",
    "plt.scatter(lam_accept[:,0].mean(), lam_accept[:,1].mean(),  c='red', edgecolor='black', s=100, label='Mean Estimate from\\n{} Accepted Samples'.format(num_accept))\n",
    "plt.legend(loc='upper center', fontsize=18)\n",
    "plt.xlim([-.25, .25])\n",
    "# plt.xlim([-1, 1])\n",
    "plt.ylim([0, 2])\n",
    "plt.show()"
   ]
  },
  {
   "cell_type": "markdown",
   "metadata": {},
   "source": [
    "# Alternative Visualization Approach\n",
    "\n",
    "Now that we have constructed the posterior distribution, we can evaluate it at whatever set of samples we want, so we plot it directly, rather than use Accept/Reject.\n"
   ]
  },
  {
   "cell_type": "code",
   "execution_count": null,
   "metadata": {},
   "outputs": [],
   "source": [
    "nbins = 250\n",
    "# mins = np.min(p_set.input.samples,axis=0)\n",
    "# maxs = np.max(p_set.input.samples,axis=0)\n",
    "\n",
    "mins = np.array([-0.25, .5]) # original domain\n",
    "maxs = np.array([0.25, 1.5])\n",
    "\n",
    "# mins = np.array([-0.025, 0.975])\n",
    "# maxs = np.array([.052, 1.025])\n",
    "\n",
    "# mins = np.min(lam_accept, axis=0)\n",
    "# maxs = np.max(lam_accept, axis=0)\n",
    "\n",
    "# mins = np.array([-0.075, 0.9])\n",
    "# maxs = np.array([.05, 1.1])\n",
    "\n",
    "X = ngrid(nbins, mins, maxs)\n",
    "post_eval = p_set.evaluate_posterior(X)\n",
    "# post_eval = p_set.compute_ratio(PtO_fun(X))*p_set.input.dist.pdf(X)"
   ]
  },
  {
   "cell_type": "code",
   "execution_count": null,
   "metadata": {},
   "outputs": [],
   "source": [
    "# Make the plot\n",
    "xi = X[:,0].reshape(nbins, nbins)\n",
    "yi = X[:,1].reshape(nbins, nbins)\n",
    "zi = post_eval.reshape(nbins, nbins)\n",
    "plt.pcolormesh(xi, yi, zi)\n",
    "plt.scatter(lam_true[0],lam_true[1], c='white', edgecolor='black', s=300, label='True Parameter')\n",
    "plt.scatter(lam_accept[:,0].mean(), lam_accept[:,1].mean(),  c='red', edgecolor='black', s=200, label='Mean Accepted Sample')\n",
    "# plt.scatter(X[inds_new,0].mean(), X[inds_new,1].mean(),  c='yellow', edgecolor='black', s=100, label='Mean Estimate') # can run after the cell below is executed\n",
    "plt.legend(loc='upper right', fontsize=16)\n",
    "plt.show()\n",
    "# ?plt.pcolormesh"
   ]
  },
  {
   "cell_type": "code",
   "execution_count": null,
   "metadata": {},
   "outputs": [],
   "source": [
    "plot_new = True\n",
    "mins = np.array([-0.05, 0.95])\n",
    "maxs = np.array([.05, 1.05])\n",
    "\n",
    "XX = ngrid(nbins, mins, maxs)\n",
    "# Perform accept/reject on that grid you see plotted above.\n",
    "if plot_new:\n",
    "    Y = PtO_fun(XX)\n",
    "    inds_new = solve.perform_accept_reject(XX, p_set.compute_ratio(Y))\n",
    "    print('Num accepted:', len(inds_new))\n",
    "    new_accepted_in = XX[inds_new,:]\n",
    "    new_accepted_out = Y[inds_new].reshape(-1,1)\n",
    "    new_num_accept = len(inds_new)"
   ]
  },
  {
   "cell_type": "code",
   "execution_count": null,
   "metadata": {},
   "outputs": [],
   "source": [
    "if plot_new:\n",
    "    # Make the plot\n",
    "    xi = XX[:,0].reshape(nbins, nbins)\n",
    "    yi = XX[:,1].reshape(nbins, nbins)\n",
    "    post_eval2 = p_set.evaluate_posterior(XX)\n",
    "    zi = post_eval2.reshape(nbins, nbins)\n",
    "    plt.pcolormesh(xi, yi, zi)\n",
    "    plt.scatter(lam_true[0],lam_true[1], c='white', edgecolor='black', s=300, label='True Parameter')\n",
    "    plt.scatter(lam_accept[:,0].mean(), lam_accept[:,1].mean(),  c='red', edgecolor='black', s=200, label='Mean Accepted Sample')\n",
    "    plt.scatter(XX[inds_new,0].mean(), XX[inds_new,1].mean(),  c='yellow', edgecolor='black', s=100, label='Mean Estimate') # can run after the cell below is executed\n",
    "    plt.legend(loc='lower right', fontsize=16)\n",
    "    plt.show()\n",
    "    print('Abs Error in Parameter and MAP:', [*np.abs( lam_true - np.mean(X[inds_new,:],axis=0) )] )\n",
    "    print('Param. Test Stats for Gamma Dist:', [*np.abs( p_set.observed_dist.mean()-np.mean(Y[inds_new],axis=0))/p_set.observed_dist.mean() , *np.abs( p_set.observed_dist.std()-np.std(Y[inds_new],axis=0))/p_set.observed_dist.std()])\n"
   ]
  },
  {
   "cell_type": "markdown",
   "metadata": {},
   "source": [
    "---\n",
    "# Now what? \n",
    "\n",
    "Well, we can...\n",
    "\n",
    "## _Visualize the Quality of our SIP Solution by Comparing it to the Observed_\n",
    "_We compare the push-forward of the posterior using accepted samples against the observed density_  \n",
    "_(SIP = Stochastic Inverse Problem)_\n",
    "### Observed:"
   ]
  },
  {
   "cell_type": "code",
   "execution_count": null,
   "metadata": {},
   "outputs": [],
   "source": [
    "xxi = np.linspace(0,4,100)\n",
    "plt.plot(xxi, p_set.observed_dist.pdf(xxi), label='Observed', ls=':')\n",
    "dy = distributions.skde(data=p_set.output.samples[accept_inds,:], **{'kernel': 'gaussian', 'bandwidth': 0.25})\n",
    "plt.plot(xxi, dy.pdf(xxi), label='Pushforward of PosterIOR');\n",
    "if plot_new:\n",
    "    dyy = distributions.skde(data=new_accepted_out, **{'kernel': 'gaussian', 'bandwidth': 0.025})\n",
    "    plt.plot(xxi, dyy.pdf(xxi), label='Pushforward of Posterior - {} AS from Refined Eyeball Run'.format(len(inds_new)))\n",
    "\n",
    "plt.legend(loc='best')\n",
    "plt.xlabel('Response')\n",
    "plt.ylabel('Relative Likelihood')\n",
    "plt.title('Pushforward of Posterior')\n",
    "plt.show()"
   ]
  },
  {
   "cell_type": "code",
   "execution_count": null,
   "metadata": {},
   "outputs": [],
   "source": [
    "u1 = model(lam_accept)\n",
    "plt.plot(t, obs_data, c='red', lw=3, ls=':', label='Observed Data')\n",
    "# Plotting the default IR results from the epidemic_IR function.\n",
    "if plot_new:\n",
    "    u = model(new_accepted_in)\n",
    "    for i in range(u.shape[0]):\n",
    "        d = u[i,:]\n",
    "        if i==1:\n",
    "            plt.plot(t, d, c='k', alpha=0.1, lw=1, label='New Accept')\n",
    "        else:\n",
    "            plt.plot(t, d, c='k', alpha=0.1, lw=1)\n",
    "        \n",
    "for i in range(u1.shape[0]):\n",
    "    d = u1[i,:]\n",
    "    if i==1:\n",
    "        plt.plot(t, d, c='b', alpha=0.5, lw=1, label='Original Accept')\n",
    "    else:\n",
    "        plt.plot(t, d, c='b', alpha=0.5, lw=1)\n",
    "\n",
    "plt.ylabel('Height')\n",
    "plt.xlabel('Time (s)')\n",
    "plt.ylim([-2,2])\n",
    "plt.title('Recovered Signal based on Accepted Samples')\n",
    "plt.legend()\n",
    "plt.show()"
   ]
  },
  {
   "cell_type": "code",
   "execution_count": null,
   "metadata": {
    "scrolled": false
   },
   "outputs": [],
   "source": [
    "# widgets.interactive(pltdata, data = fixed(obs_dist), inds = fixed(None), \n",
    "#         N = widgets.IntSlider(value=500, min = 100, max=5000, step=100, continuous_update=False), \n",
    "#         eta_r = fixed(None), space=fixed(0.05), svd=fixed(False), color=widgets.Text(value=\"wine\", continuous_update=False),\n",
    "#         view_dim_1 = widgets.IntSlider(value=0, min=0, max=output_dim-1, step=1, continuous_update=False), \n",
    "#         view_dim_2 = widgets.IntSlider(value=output_dim-1, min=0, max=output_dim-1, step=1, continuous_update=False))"
   ]
  },
  {
   "cell_type": "markdown",
   "metadata": {},
   "source": [
    "## Pushforward of Posterior:"
   ]
  },
  {
   "cell_type": "code",
   "execution_count": null,
   "metadata": {},
   "outputs": [],
   "source": [
    "# widgets.interactive(pltdata, data = fixed(D), inds = fixed(accept_inds), \n",
    "#         N = widgets.IntSlider(value=num_accept/2, min = 2, max=num_accept-1, step=1, continuous_update=False), \n",
    "#         eta_r = fixed(None), space=fixed(0.05), svd=fixed(False), color=widgets.Text(value=\"eggplant\", continuous_update=False),\n",
    "#         view_dim_1 = widgets.IntSlider(value=0, min=0, max=output_dim-1, step=1, continuous_update=False), \n",
    "#         view_dim_2 = widgets.IntSlider(value=output_dim-1, min=0, max=output_dim-1, step=1, continuous_update=False))\n"
   ]
  },
  {
   "cell_type": "markdown",
   "metadata": {},
   "source": [
    "## Verify our parametric test statistics.\n",
    "Let's see if the pushforward of the posterior results in a sample mean and standard deviation that are close to the observed."
   ]
  },
  {
   "cell_type": "code",
   "execution_count": null,
   "metadata": {},
   "outputs": [],
   "source": [
    "[np.mean(D[accept_inds,:]), np.std(D[accept_inds,:])]"
   ]
  },
  {
   "cell_type": "code",
   "execution_count": null,
   "metadata": {},
   "outputs": [],
   "source": [
    "[p_set.observed_dist.mean(), p_set.observed_dist.std()]"
   ]
  },
  {
   "cell_type": "markdown",
   "metadata": {},
   "source": [
    "Now go back to the [Define Functions](#Define-Functions) and change the distribution on the prior or choose another example problem."
   ]
  },
  {
   "cell_type": "code",
   "execution_count": null,
   "metadata": {},
   "outputs": [],
   "source": []
  },
  {
   "cell_type": "code",
   "execution_count": null,
   "metadata": {},
   "outputs": [],
   "source": []
  },
  {
   "cell_type": "code",
   "execution_count": null,
   "metadata": {},
   "outputs": [],
   "source": []
  },
  {
   "cell_type": "code",
   "execution_count": null,
   "metadata": {},
   "outputs": [],
   "source": []
  },
  {
   "cell_type": "code",
   "execution_count": null,
   "metadata": {},
   "outputs": [],
   "source": []
  },
  {
   "cell_type": "code",
   "execution_count": null,
   "metadata": {},
   "outputs": [],
   "source": []
  },
  {
   "cell_type": "code",
   "execution_count": null,
   "metadata": {},
   "outputs": [],
   "source": []
  },
  {
   "cell_type": "code",
   "execution_count": null,
   "metadata": {},
   "outputs": [],
   "source": []
  },
  {
   "cell_type": "code",
   "execution_count": null,
   "metadata": {},
   "outputs": [],
   "source": []
  },
  {
   "cell_type": "code",
   "execution_count": null,
   "metadata": {},
   "outputs": [],
   "source": []
  }
 ],
 "metadata": {
  "anaconda-cloud": {},
  "kernelspec": {
   "display_name": "py3",
   "language": "python",
   "name": "py3"
  },
  "language_info": {
   "codemirror_mode": {
    "name": "ipython",
    "version": 3
   },
   "file_extension": ".py",
   "mimetype": "text/x-python",
   "name": "python",
   "nbconvert_exporter": "python",
   "pygments_lexer": "ipython3",
   "version": "3.6.4"
  }
 },
 "nbformat": 4,
 "nbformat_minor": 2
}
