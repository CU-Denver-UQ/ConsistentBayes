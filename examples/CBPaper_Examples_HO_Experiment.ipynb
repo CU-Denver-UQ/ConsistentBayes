{
 "cells": [
  {
   "cell_type": "markdown",
   "metadata": {},
   "source": [
    "# Consistent Bayes: Harmonic Oscillator Example (Parallelized)\n",
    "---\n",
    "\n",
    "Copyright 2018 Michael Pilosov\n"
   ]
  },
  {
   "cell_type": "markdown",
   "metadata": {},
   "source": [
    "### Import Libraries\n"
   ]
  },
  {
   "cell_type": "code",
   "execution_count": 12,
   "metadata": {},
   "outputs": [],
   "source": [
    "from matplotlib import pyplot as plt\n",
    "import numpy as np"
   ]
  },
  {
   "cell_type": "code",
   "execution_count": 2,
   "metadata": {},
   "outputs": [
    {
     "name": "stderr",
     "output_type": "stream",
     "text": [
      "/home/mpilosov/anaconda3/envs/test_py_env/lib/python3.6/site-packages/ipyparallel/client/client.py:458: RuntimeWarning: \n",
      "            Controller appears to be listening on localhost, but not on this machine.\n",
      "            If this is true, you should specify Client(...,sshserver='you@math-ws-204')\n",
      "            or instruct your controller to listen on an external IP.\n",
      "  RuntimeWarning)\n"
     ]
    },
    {
     "data": {
      "text/plain": [
       "[0, 1, 2, 3, 4, 5]"
      ]
     },
     "execution_count": 2,
     "metadata": {},
     "output_type": "execute_result"
    }
   ],
   "source": [
    "import ipyparallel as ipp # import the client\n",
    "rc = ipp.Client()\n",
    "dv = rc[:]\n",
    "rc.ids # list the ids of the engine the client can communicate with"
   ]
  },
  {
   "cell_type": "code",
   "execution_count": 3,
   "metadata": {},
   "outputs": [],
   "source": [
    "%%px\n",
    "import numpy as np\n",
    "from cbayes import sample, solve, distributions\n",
    "lambda_ref = np.array([[0, 1]])\n",
    "\n",
    "def MSE_generator(model, obs_data, sigma=1):   # this generates a sum of squared residuals.\n",
    "    def QoI_fun(inputs): # that conforms to our desired model input\n",
    "        M = len(obs_data)\n",
    "        predictions = model(inputs)\n",
    "        assert predictions.shape[1] == M\n",
    "        residuals = predictions - obs_data\n",
    "        QoI = (1./M)*np.sum( (residuals/sigma)**2, axis=1 )\n",
    "        return QoI\n",
    "    return QoI_fun\n",
    "\n",
    "# The model of the harmonic oscillator \n",
    "def makemodel(t):\n",
    "    def model(lam = lambda_ref ):\n",
    "#         return np.cos(lam[:,1]*t + np.arccos(lam[:,0]) )\n",
    "        QoI = np.cos(np.outer(lam[:,1],t) + np.arccos(lam[:,0]).reshape(len(lam[:,0]),1) )\n",
    "        if QoI.shape[0] == 1:\n",
    "            return QoI.ravel() # this allows support for simpler 1D plotting.\n",
    "        else:\n",
    "            return QoI\n",
    "    return model\n"
   ]
  },
  {
   "cell_type": "code",
   "execution_count": 4,
   "metadata": {},
   "outputs": [],
   "source": [
    "# num_samples = np.linspace(5E3, 25E3, 5)\n",
    "num_observations = np.array([1, 2, 5, 10, 25, 50, 100]) \n",
    "true_observational_variance = np.array([0.0125, 0.025, 0.05]) # 0.1/6 is true\n",
    "# perceived_observational_variance = 0.1/np.linspace(4,8,5) \n",
    "start_time = np.array([0.25*2**n for n in range(5)])\n",
    "end_time = np.array([2,3,4,5])"
   ]
  },
  {
   "cell_type": "code",
   "execution_count": 5,
   "metadata": {},
   "outputs": [
    {
     "data": {
      "text/plain": [
       "array([0.25, 0.5 , 1.  , 2.  , 4.  ])"
      ]
     },
     "execution_count": 5,
     "metadata": {},
     "output_type": "execute_result"
    }
   ],
   "source": [
    "start_time"
   ]
  },
  {
   "cell_type": "code",
   "execution_count": 6,
   "metadata": {},
   "outputs": [
    {
     "name": "stdout",
     "output_type": "stream",
     "text": [
      "Number of total trials: 105\n"
     ]
    }
   ],
   "source": [
    "S = np.array([ num_observations, true_observational_variance, start_time])\n",
    "num_iterations = np.prod([ S[i].shape[0] for i in range(S.shape[0]) ])\n",
    "SS = np.array( np.meshgrid(*S) )\n",
    "trial_vector = SS.ravel().reshape(S.shape[0],num_iterations).T\n",
    "# print(trial_vector[0:5,:])\n",
    "print(\"Number of total trials:\", num_iterations) "
   ]
  },
  {
   "cell_type": "markdown",
   "metadata": {},
   "source": [
    "# Example Summary\n",
    "\n",
    "---\n",
    "\n",
    "The second example is defined by the model for a harmonic oscillator given by the initial value problem  \n",
    "\n",
    "\\begin{equation}\n",
    "\t\\begin{cases}\n",
    "\t\t\\frac{d^2u}{dt^2} &= -\\lambda_2^2 u, \\ t>0, \\\\\n",
    "\t\tu(0) &= \\lambda_1. \n",
    "\t\\end{cases}\n",
    "\\end{equation}\n",
    "\n",
    "Choosing a particular parameter $\\lambda=(\\lambda_1,\\lambda_2)\\in\\Lambda\\subset[-1,1]\\times\\mathbb{R}^+$ corresponds to fixing an initial condition, $\\lambda_1\\in[-1,1]$, and frequency of oscillation, $\\lambda_2$, where we again assume that $\\lambda_2>0$.\n",
    "\n",
    "The solution to the above is\n",
    "\\begin{equation}\n",
    "\tu(t) = \\cos(\\lambda_2 t + \\arccos(\\lambda_1)).\n",
    "\\end{equation}"
   ]
  },
  {
   "cell_type": "markdown",
   "metadata": {},
   "source": [
    "---\n",
    "## Define Functions"
   ]
  },
  {
   "cell_type": "code",
   "execution_count": 19,
   "metadata": {},
   "outputs": [],
   "source": [
    "%%px\n",
    "mins = np.array([-0.25, .5]) # original domain\n",
    "maxs = np.array([0.25, 1.5])\n",
    "nbins = 75\n",
    "def grid(nbins=5, mins=np.zeros(1), maxs=np.ones(1) ):\n",
    "    dim = len(mins)\n",
    "    S = np.array( np.meshgrid(*[np.linspace(i,j,nbins) for i,j in zip(mins+1./(2*nbins), maxs-1./(2*nbins))]) )\n",
    "    SS = S.ravel().reshape(dim,nbins**dim).T\n",
    "    return SS\n",
    "\n",
    "X = grid(nbins, mins, maxs)\n",
    "\n",
    "def run_trial(trial):\n",
    "    num_samples = int(1E4)\n",
    "    num_observations, sd_true, start_time = trial\n",
    "    end_time = start_time + 1\n",
    "    sd_guess = sd_true\n",
    "    num_observations = int(num_observations)\n",
    "    num_samples = int(num_samples)\n",
    "    \n",
    "    t = np.linspace(start_time, end_time, num_observations)\n",
    "    model = makemodel(t)\n",
    "    u_true = model()\n",
    "    obs_data = u_true + np.random.randn(int(num_observations))*sd_true\n",
    "    PtO_fun = MSE_generator(model, obs_data, sd_guess)\n",
    "    \n",
    "    s_set = sample.sample_set(size=(num_samples, 2))\n",
    "    s_set.set_dist('beta', kwds={'a': 1, 'b': 1, 'loc': -0.25, 'scale': 0.5}, dim=0) # initial condition\n",
    "    s_set.set_dist('beta', kwds={'a': 1, 'b': 1, 'loc': 0, 'scale': 2}, dim=1) # frequency\n",
    "    s_set.generate_samples()\n",
    "    p_set = sample.map_samples_and_create_problem(s_set, PtO_fun)\n",
    "    p_set.compute_pushforward_dist()\n",
    "    p_set.set_observed_dist('gamma', {'a':num_observations/2, 'scale':2/num_observations}, dim=0)\n",
    "    p_set.set_ratio()\n",
    "    #     solve.problem(p_set) # if you care to perform accept/reject on the prior, uncomment this.\n",
    "#     accept_inds = p_set.accept_inds\n",
    "#     lam_accept = p_set.input.samples[accept_inds,:]\n",
    "#     num_accept = len(accept_inds)\n",
    "#     print('Number accepted: %d = %2.2f%%'%(num_accept, 100*np.float(num_accept)/num_samples))\n",
    "    \n",
    "    # Perform accept/reject on that grid you see plotted above.\n",
    "    Y = PtO_fun(X)\n",
    "    inds = solve.perform_accept_reject(X, p_set.compute_ratio(Y))\n",
    "    abs_error = [*np.abs( lambda_ref[0,:] - np.mean(X[inds,:],axis=0) )]\n",
    "    rel_error = [*np.abs( p_set.observed_dist.mean()-np.mean(Y[inds],axis=0))/p_set.observed_dist.mean() , *np.abs( p_set.observed_dist.std()-np.std(Y[inds],axis=0))/p_set.observed_dist.std()]\n",
    "#     print('Abs Error in Parameter and MAP:', abs_error )\n",
    "#     print('Param. Test Stats for Gamma Dist:', rel_error)\n",
    "#     print(' ')\n",
    "    \n",
    "    post_eval = p_set.evaluate_posterior(X)\n",
    "    return {'p': post_eval, 'a': abs_error, 'r': rel_error, 'n': len(inds), 't': trial}\n"
   ]
  },
  {
   "cell_type": "code",
   "execution_count": 20,
   "metadata": {},
   "outputs": [
    {
     "data": {
      "text/plain": [
       "<AsyncResult: scatter>"
      ]
     },
     "execution_count": 20,
     "metadata": {},
     "output_type": "execute_result"
    }
   ],
   "source": [
    "dv.scatter('trial_chunk', trial_vector)"
   ]
  },
  {
   "cell_type": "code",
   "execution_count": 21,
   "metadata": {},
   "outputs": [],
   "source": [
    "%%capture output\n",
    "%%px\n",
    "D = list(map(run_trial, trial_chunk))"
   ]
  },
  {
   "cell_type": "code",
   "execution_count": 22,
   "metadata": {},
   "outputs": [],
   "source": [
    "output.show()"
   ]
  },
  {
   "cell_type": "code",
   "execution_count": 5,
   "metadata": {},
   "outputs": [],
   "source": [
    "plt.rcParams.update({'font.size': 14})\n",
    "plt.rcParams['figure.figsize'] = 20, 10"
   ]
  },
  {
   "cell_type": "code",
   "execution_count": 24,
   "metadata": {},
   "outputs": [],
   "source": [
    "Dg = np.array(list(dv.gather('D').get() ))\n",
    "np.save(\"savefile_gridsearch_fix_window.npy\", Dg)\n",
    "# np.save(\"savefile_gridsearch_var_window.npy\", Dg)"
   ]
  },
  {
   "cell_type": "code",
   "execution_count": 11,
   "metadata": {},
   "outputs": [
    {
     "name": "stdout",
     "output_type": "stream",
     "text": [
      "[1.0e+02 2.5e-02 2.0e+00]\n"
     ]
    },
    {
     "data": {
      "image/png": "[encoded data removed]",
      "text/plain": [
       "<matplotlib.figure.Figure at 0x7f0a342045c0>"
      ]
     },
     "metadata": {},
     "output_type": "display_data"
    }
   ],
   "source": [
    "Dg = np.load(\"savefile_gridsearch_fix_window.npy\")\n",
    "# Make the plot\n",
    "def grid(nbins=5, mins=np.zeros(1), maxs=np.ones(1) ):\n",
    "    dim = len(mins)\n",
    "    S = np.array( np.meshgrid(*[np.linspace(i,j,nbins) for i,j in zip(mins+1./(2*nbins), maxs-1./(2*nbins))]) )\n",
    "    SS = S.ravel().reshape(dim,nbins**dim).T\n",
    "    return SS\n",
    "\n",
    "nbins = 75\n",
    "mins = np.array([-0.25, .5]) # original domain\n",
    "maxs = np.array([0.25, 1.5])\n",
    "X = grid(nbins, mins, maxs)\n",
    "g = 68\n",
    "post_eval = Dg[g]['p']\n",
    "print(Dg[g]['t'])\n",
    "xi = X[:,0].reshape(nbins, nbins)\n",
    "yi = X[:,1].reshape(nbins, nbins)\n",
    "zi = post_eval.reshape(nbins, nbins)\n",
    "plt.cla()\n",
    "plt.pcolormesh(xi, yi, zi)\n",
    "# plt.pcolormesh(zi)\n",
    "plt.scatter([0], [1], c='white', edgecolor='black', s=200)\n",
    "plt.show()"
   ]
  },
  {
   "cell_type": "code",
   "execution_count": null,
   "metadata": {},
   "outputs": [],
   "source": [
    "## Dg[-1]['t']"
   ]
  },
  {
   "cell_type": "code",
   "execution_count": null,
   "metadata": {},
   "outputs": [],
   "source": [
    "from scipy.stats import entropy\n",
    "# %matplotlib inline\n",
    "# %matplotlib notebook\n",
    "plt.rcParams.update({'font.size': 14})\n",
    "plt.rcParams['figure.figsize'] = 20, 10"
   ]
  },
  {
   "cell_type": "markdown",
   "metadata": {},
   "source": [
    "## Take statistics on the stuff"
   ]
  },
  {
   "cell_type": "code",
   "execution_count": null,
   "metadata": {},
   "outputs": [],
   "source": [
    "Dg = np.load(\"savefile_gridsearch_fix_window.npy\")\n",
    "E = []\n",
    "T = []\n",
    "T0 = []\n",
    "fix_time = int(window_length[0])\n",
    "fix_obs = int(num_observations[1])\n",
    "fix_sd_true = 0.0125\n",
    "fix_sd_guess = fix_sd_true\n",
    "for D in Dg:\n",
    "    n = int(D['n'])\n",
    "    sample_err_1 = D['a'][0]\n",
    "    sample_err_2 = D['a'][1]\n",
    "    pf_rel_err_mean = D['r'][0]\n",
    "    pf_rel_err_std = D['r'][1]\n",
    "    num_obs, sd_true, sd_guess, max_time = D['t']\n",
    "    if sd_true == fix_sd_true and sd_guess == fix_sd_guess and max_time == fix_time:\n",
    "        if num_obs == num_observations[0]:\n",
    "            T0.append([ num_obs, entropy(D['p']), sample_err_1, sample_err_2 ])\n",
    "            ref = D['p']\n",
    "        else:\n",
    "            T0.append([ num_obs, entropy(D['p'],ref), sample_err_1, sample_err_2 ])\n",
    "#             print(entropy(D['p'], ref))\n",
    "#             print(pf_rel_err_mean)\n",
    "            ref = D['p']\n",
    "    if num_obs == fix_obs and max_time == fix_time:\n",
    "        T.append([sd_true, sd_guess, pf_rel_err_mean, pf_rel_err_std])\n",
    "    \n",
    "    if num_obs == fix_obs and sd_true == fix_sd_true and sd_guess == fix_sd_guess:\n",
    "        if max_time == window_length[0]:\n",
    "            E.append([ max_time, entropy(D['p']), sample_err_1, sample_err_2 ])\n",
    "            ref = D['p']\n",
    "        else:\n",
    "            E.append([ max_time, entropy(D['p'],ref), sample_err_1, sample_err_2 ])\n",
    "            ref = D['p']\n",
    "            \n",
    "E = np.array(E)\n",
    "T = np.array(T)\n",
    "T0 = np.array(T0)\n",
    "plt.close('all')\n",
    "plt.subplots(1,3)\n",
    "\n",
    "plt.subplot(131)\n",
    "xi = T[:,0].reshape(len(true_observational_variance),len(perceived_observational_variance))\n",
    "yi = T[:,1].reshape(len(true_observational_variance),len(perceived_observational_variance))\n",
    "zi = T[:,3].reshape(len(true_observational_variance),len(perceived_observational_variance))\n",
    "plt.pcolormesh(xi, yi, zi)\n",
    "plt.yscale('log')\n",
    "plt.xscale('log')\n",
    "plt.ylabel('guess at error model')\n",
    "plt.xlabel('true error model')\n",
    "plt.title('error, fix_obs = %d, fix_time = %d'%(fix_obs, fix_time))\n",
    "plt.savefig('testfig.png')\n",
    "\n",
    "plt.subplot(132)\n",
    "plt.cla()\n",
    "plt.plot(T0[:,0], T0[:,2], label='err in lam_1')\n",
    "print(np.max(T0[:,2]))\n",
    "plt.plot(T0[:,0], T0[:,3], label='err in lam_2')\n",
    "plt.plot(T0[:,0], T0[:,1], label='KL divergence')\n",
    "plt.plot(num_observations, .1/num_observations, label='MC Rate', c='k')\n",
    "\n",
    "plt.legend(fontsize=12, framealpha=0.5,loc='upper right')\n",
    "plt.title('time = %d'%fix_time)\n",
    "plt.yscale('log')\n",
    "plt.xscale('log')\n",
    "plt.ylim([1E-10, 10])\n",
    "plt.xlabel('num obs')\n",
    "plt.ylabel('error')\n",
    "\n",
    "plt.subplot(133)\n",
    "plt.cla()\n",
    "plt.plot(E[:,0], E[:,2], label='err in lam_1')\n",
    "plt.plot(E[:,0], E[:,3], label='err in lam_2')\n",
    "plt.plot(E[:,0], E[:,1], label='KL divergence')\n",
    "plt.plot(window_length, .1/window_length, label='MC Rate', c='k')\n",
    "\n",
    "plt.legend(fontsize=12, framealpha=0.5,loc='upper right')\n",
    "plt.title('fix_obs = %d, fix_sd = (%.2e, %.2e)'%(fix_obs, fix_sd_true, fix_sd_guess))\n",
    "plt.yscale('log')\n",
    "plt.xscale('log')\n",
    "plt.ylabel('error')\n",
    "plt.ylim([1E-8, 10])\n",
    "plt.xlabel('max time')\n",
    "\n",
    "plt.show()\n"
   ]
  },
  {
   "cell_type": "code",
   "execution_count": null,
   "metadata": {},
   "outputs": [],
   "source": [
    "zi"
   ]
  },
  {
   "cell_type": "code",
   "execution_count": null,
   "metadata": {},
   "outputs": [],
   "source": [
    "plt.cla()\n",
    "plt.plot(T0[:,0], T0[:,2], label='err in lam_1')\n",
    "plt.plot(T0[:,0], T0[:,3], label='err in lam_2')\n",
    "plt.plot(T0[:,0], T0[:,1], label='KL divergence')\n",
    "plt.plot(num_observations, .1/num_observations, label='MC Rate', c='k')\n",
    "\n",
    "plt.legend(fontsize=12, framealpha=0.5,loc='upper right')\n",
    "plt.title('time = %d'%fix_time)\n",
    "plt.yscale('log')\n",
    "plt.xscale('log')\n",
    "plt.ylim([1E-8, 10])\n",
    "plt.xlabel('num obs')\n",
    "plt.ylabel('error')"
   ]
  },
  {
   "cell_type": "code",
   "execution_count": null,
   "metadata": {},
   "outputs": [],
   "source": []
  },
  {
   "cell_type": "code",
   "execution_count": null,
   "metadata": {},
   "outputs": [],
   "source": []
  },
  {
   "cell_type": "code",
   "execution_count": null,
   "metadata": {},
   "outputs": [],
   "source": []
  }
 ],
 "metadata": {
  "anaconda-cloud": {},
  "kernelspec": {
   "display_name": "test_py_env",
   "language": "python",
   "name": "test_py_env"
  },
  "language_info": {
   "codemirror_mode": {
    "name": "ipython",
    "version": 3
   },
   "file_extension": ".py",
   "mimetype": "text/x-python",
   "name": "python",
   "nbconvert_exporter": "python",
   "pygments_lexer": "ipython3",
   "version": "3.6.4"
  }
 },
 "nbformat": 4,
 "nbformat_minor": 2
}
