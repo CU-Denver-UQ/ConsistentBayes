{
 "cells": [
  {
   "cell_type": "markdown",
   "metadata": {},
   "source": [
    "# Consistent Bayes: Harmonic Oscillator Example\n",
    "---\n",
    "\n",
    "Copyright 2018 Michael Pilosov\n"
   ]
  },
  {
   "cell_type": "markdown",
   "metadata": {},
   "source": [
    "### Import Libraries\n"
   ]
  },
  {
   "cell_type": "code",
   "execution_count": 1,
   "metadata": {},
   "outputs": [
    {
     "name": "stderr",
     "output_type": "stream",
     "text": [
      "/home/mpilosov/anaconda3/envs/test_py_env/lib/python3.6/site-packages/ipyparallel/client/client.py:458: RuntimeWarning: \n",
      "            Controller appears to be listening on localhost, but not on this machine.\n",
      "            If this is true, you should specify Client(...,sshserver='you@math-ws-204')\n",
      "            or instruct your controller to listen on an external IP.\n",
      "  RuntimeWarning)\n"
     ]
    },
    {
     "data": {
      "text/plain": [
       "[0, 1, 2, 3]"
      ]
     },
     "execution_count": 1,
     "metadata": {},
     "output_type": "execute_result"
    }
   ],
   "source": [
    "from matplotlib import pyplot as plt\n",
    "# %matplotlib inline\n",
    "# %matplotlib notebook\n",
    "plt.rcParams.update({'font.size': 14})\n",
    "plt.rcParams['figure.figsize'] = 8, 5\n",
    "import numpy as np\n",
    "from cbayes import sample, solve, distributions\n",
    "\n",
    "import ipyparallel as ipp # import the client\n",
    "rc = ipp.Client()\n",
    "dv = rc[:]\n",
    "rc.ids # list the ids of the engine the client can communicate with\n"
   ]
  },
  {
   "cell_type": "code",
   "execution_count": 2,
   "metadata": {},
   "outputs": [],
   "source": [
    "%%px\n",
    "\n",
    "lambda_ref = np.array([[0, 1]])\n",
    "\n",
    "def MSE_generator(model, obs_data, sigma=1):   # this generates a sum of squared residuals.\n",
    "    def QoI_fun(inputs): # that conforms to our desired model input\n",
    "        M = len(obs_data)\n",
    "        predictions = model(inputs)\n",
    "        assert predictions.shape[1] == M\n",
    "        residuals = predictions - obs_data\n",
    "        QoI = (1./M)*np.sum( (residuals/sigma)**2, axis=1 )\n",
    "        return QoI\n",
    "    return QoI_fun\n",
    "\n",
    "# The model of the harmonic oscillator \n",
    "def makemodel(t):\n",
    "    def model(lam = lambda_ref ):\n",
    "#         return np.cos(lam[:,1]*t + np.arccos(lam[:,0]) )\n",
    "        QoI = np.cos(np.outer(lam[:,1],t) + np.arccos(lam[:,0]).reshape(len(lam[:,0]),1) )\n",
    "        if QoI.shape[0] == 1:\n",
    "            return QoI.ravel() # this allows support for simpler 1D plotting.\n",
    "        else:\n",
    "            return QoI\n",
    "    return model\n"
   ]
  },
  {
   "cell_type": "code",
   "execution_count": 3,
   "metadata": {},
   "outputs": [
    {
     "name": "stdout",
     "output_type": "stream",
     "text": [
      "[[5.0e+00 5.0e+03 2.5e-02 2.5e-02 2.0e+00]\n",
      " [5.0e+00 5.0e+03 2.5e-02 2.5e-02 4.0e+00]\n",
      " [5.0e+00 5.0e+03 2.5e-02 2.5e-02 6.0e+00]\n",
      " [5.0e+00 5.0e+03 2.5e-02 2.5e-02 8.0e+00]\n",
      " [5.0e+00 5.0e+03 2.5e-02 2.5e-02 1.0e+01]]\n"
     ]
    }
   ],
   "source": [
    "num_samples = np.linspace(5E3, 25E3, 5)\n",
    "num_obs = np.linspace(5,25,5)\n",
    "true_observational_variance = 0.1/np.linspace(4,6,3)\n",
    "perceived_observational_variance = 0.1/np.linspace(4,6,5)\n",
    "window_length = np.array([2,4,6,8,10])\n",
    "S = np.array([ num_obs.astype('int'), num_samples, true_observational_variance, perceived_observational_variance, window_length])\n",
    "num_iterations = np.prod([ S[i].shape[0] for i in range(S.shape[0]) ])\n",
    "SS = np.array( np.meshgrid(*S) )\n",
    "trial_vector = SS.ravel().reshape(S.shape[0],num_iterations).T\n",
    "print(trial_vector[0:5,:])"
   ]
  },
  {
   "cell_type": "markdown",
   "metadata": {},
   "source": [
    "# Example Summary\n",
    "\n",
    "---\n",
    "\n",
    "The second example is defined by the model for a harmonic oscillator given by the initial value problem  \n",
    "\n",
    "\\begin{equation}\n",
    "\t\\begin{cases}\n",
    "\t\t\\frac{d^2u}{dt^2} &= -\\lambda_2^2 u, \\ t>0, \\\\\n",
    "\t\tu(0) &= \\lambda_1. \n",
    "\t\\end{cases}\n",
    "\\end{equation}\n",
    "\n",
    "Choosing a particular parameter $\\lambda=(\\lambda_1,\\lambda_2)\\in\\Lambda\\subset[-1,1]\\times\\mathbb{R}^+$ corresponds to fixing an initial condition, $\\lambda_1\\in[-1,1]$, and frequency of oscillation, $\\lambda_2$, where we again assume that $\\lambda_2>0$.\n",
    "\n",
    "The solution to the above is\n",
    "\\begin{equation}\n",
    "\tu(t) = \\cos(\\lambda_2 t + \\arccos(\\lambda_1)).\n",
    "\\end{equation}"
   ]
  },
  {
   "cell_type": "markdown",
   "metadata": {},
   "source": [
    "---\n",
    "## Define Functions"
   ]
  },
  {
   "cell_type": "code",
   "execution_count": 5,
   "metadata": {},
   "outputs": [],
   "source": [
    "%%px\n",
    "mins = np.array([-0.005, 0.9])\n",
    "maxs = np.array([.005, 1.1])\n",
    "nbins = 100\n",
    "X = grid(nbins, mins, maxs)\n",
    "\n",
    "def run_trial(trial):\n",
    "    num_observations, num_samples, sd_true, sd_guess, max_time = trial\n",
    "    num_observations = int(num_observations)\n",
    "    num_samples = int(num_samples)\n",
    "    \n",
    "    t = np.linspace(0, max_time, num_observations)\n",
    "    model = makemodel(t)\n",
    "    u_true = model()\n",
    "    obs_data = u_true + np.random.randn(int(num_observations))*sd_true\n",
    "    PtO_fun = MSE_generator(model, obs_data, sd_guess)\n",
    "    \n",
    "    s_set = sample.sample_set(size=(num_samples, 2))\n",
    "    s_set.set_dist('beta', kwds={'a': 1, 'b': 1, 'loc': -0.25, 'scale': 0.5}, dim=0) # initial condition\n",
    "    s_set.set_dist('beta', kwds={'a': 1, 'b': 1, 'loc': .5, 'scale': 1}, dim=1) # frequency\n",
    "    s_set.generate_samples()\n",
    "    p_set = sample.map_samples_and_create_problem(s_set, PtO_fun)\n",
    "    p_set.compute_pushforward_dist()\n",
    "    p_set.set_observed_dist('gamma', {'a':num_observations/2, 'scale':2/num_observations}, dim=0)\n",
    "    p_set.set_ratio()\n",
    "    #     solve.problem(p_set) # if you care to perform accept/reject on the prior, uncomment this.\n",
    "#     accept_inds = p_set.accept_inds\n",
    "#     lam_accept = p_set.input.samples[accept_inds,:]\n",
    "#     num_accept = len(accept_inds)\n",
    "#     print('Number accepted: %d = %2.2f%%'%(num_accept, 100*np.float(num_accept)/num_samples))\n",
    "    \n",
    "    # Perform accept/reject on that grid you see plotted above.\n",
    "    Y = PtO_fun(X)\n",
    "    inds = solve.perform_accept_reject(X, p_set.compute_ratio(Y))\n",
    "    abs_error = [*np.abs( lambda_ref[0,:] - np.mean(X[inds,:],axis=0) )]\n",
    "    rel_error = [*np.abs( p_set.observed_dist.mean()-np.mean(Y[inds],axis=0))/p_set.observed_dist.mean() , *np.abs( p_set.observed_dist.std()-np.std(Y[inds],axis=0))/p_set.observed_dist.std()]\n",
    "#     print('Abs Error in Parameter and MAP:', abs_error )\n",
    "#     print('Param. Test Stats for Gamma Dist:', rel_error)\n",
    "#     print(' ')\n",
    "    \n",
    "\n",
    "    post_eval = p_set.evaluate_posterior(X)\n",
    "    return {'p': post_eval, 'a': abs_error, 'r': rel_error}\n"
   ]
  },
  {
   "cell_type": "code",
   "execution_count": 6,
   "metadata": {},
   "outputs": [
    {
     "data": {
      "text/plain": [
       "<AsyncResult: scatter>"
      ]
     },
     "execution_count": 6,
     "metadata": {},
     "output_type": "execute_result"
    }
   ],
   "source": [
    "dv.scatter('trial_chunk', trial_vector[0:5,:])"
   ]
  },
  {
   "cell_type": "code",
   "execution_count": 10,
   "metadata": {},
   "outputs": [],
   "source": [
    "%%capture output\n",
    "%%px\n",
    "D = list(map(run_trial, trial_chunk))"
   ]
  },
  {
   "cell_type": "code",
   "execution_count": 11,
   "metadata": {},
   "outputs": [],
   "source": [
    "output.show()"
   ]
  },
  {
   "cell_type": "code",
   "execution_count": 12,
   "metadata": {},
   "outputs": [
    {
     "ename": "NameError",
     "evalue": "name 'L1_error' is not defined",
     "output_type": "error",
     "traceback": [
      "\u001b[0;31m---------------------------------------------------------------------------\u001b[0m",
      "\u001b[0;31mNameError\u001b[0m                                 Traceback (most recent call last)",
      "\u001b[0;32m<ipython-input-12-5c6369c12419>\u001b[0m in \u001b[0;36m<module>\u001b[0;34m()\u001b[0m\n\u001b[0;32m----> 1\u001b[0;31m \u001b[0mL1_error\u001b[0m\u001b[0;34m\u001b[0m\u001b[0m\n\u001b[0m",
      "\u001b[0;31mNameError\u001b[0m: name 'L1_error' is not defined"
     ]
    }
   ],
   "source": [
    "Dg = np.array(list(dv.gather('D').get() ))\n",
    "np.save(\"savefile_uni_hd.npy\", ell_1_error)"
   ]
  },
  {
   "cell_type": "code",
   "execution_count": null,
   "metadata": {},
   "outputs": [],
   "source": [
    "# Make the plot\n",
    "# xi = X[:,0].reshape(nbins, nbins)\n",
    "# yi = X[:,1].reshape(nbins, nbins)\n",
    "# zi = post_eval.reshape(nbins, nbins)\n",
    "# plt.pcolormesh(xi, yi, zi)\n",
    "# plt.scatter(lam_true[0,0], lam_true[0,1], c='white', edgecolor='black', s=50)\n",
    "# plt.show()\n"
   ]
  }
 ],
 "metadata": {
  "anaconda-cloud": {},
  "kernelspec": {
   "display_name": "test_py_env",
   "language": "python",
   "name": "test_py_env"
  },
  "language_info": {
   "codemirror_mode": {
    "name": "ipython",
    "version": 3
   },
   "file_extension": ".py",
   "mimetype": "text/x-python",
   "name": "python",
   "nbconvert_exporter": "python",
   "pygments_lexer": "ipython3",
   "version": "3.6.4"
  }
 },
 "nbformat": 4,
 "nbformat_minor": 2
}
