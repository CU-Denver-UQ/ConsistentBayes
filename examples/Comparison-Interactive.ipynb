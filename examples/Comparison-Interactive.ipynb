{
 "cells": [
  {
   "cell_type": "markdown",
   "metadata": {},
   "source": [
    "# Comparison of Statistical and Consistent Bayesian Inversion\n",
    "\n",
    "We define a problem where the observed density corresponds to a likelihood function from classical Bayesian inversion\n",
    "\n",
    "Copyright 2018 Michael Pilosov\n"
   ]
  },
  {
   "cell_type": "code",
   "execution_count": null,
   "metadata": {},
   "outputs": [],
   "source": [
    "import numpy as np\n",
    "import scipy.stats as sstats\n",
    "from matplotlib import pyplot as plt"
   ]
  },
  {
   "cell_type": "code",
   "execution_count": null,
   "metadata": {},
   "outputs": [],
   "source": [
    "plt.rcParams['figure.figsize'] = (20,10)\n",
    "plt.rcParams['font.size'] = 18"
   ]
  },
  {
   "cell_type": "code",
   "execution_count": null,
   "metadata": {},
   "outputs": [],
   "source": [
    "import cbayes.sample as samp\n",
    "import cbayes.distributions as dist\n",
    "import cbayes.solve as solve\n",
    "import scipy.integrate as integrate\n"
   ]
  },
  {
   "cell_type": "code",
   "execution_count": null,
   "metadata": {},
   "outputs": [],
   "source": [
    "import ipywidgets as wid"
   ]
  },
  {
   "cell_type": "markdown",
   "metadata": {},
   "source": [
    "## Consistent Bayes"
   ]
  },
  {
   "cell_type": "code",
   "execution_count": null,
   "metadata": {},
   "outputs": [],
   "source": [
    "def comparesandbox(N = int(5E3), M = 5, pr_sd = 0.5, pr_mean = 0, ob_mean = 0.5, ob_sd = 0.5, bw = 0):\n",
    "    s_set = samp.sample_set(size=(N, 1))\n",
    "    s_set.set_dist('norm', {'loc':pr_mean, 'scale':pr_sd}, dim=0)\n",
    "    \n",
    "    def QoI_fun(lam):\n",
    "        if M > 1:\n",
    "            residuals = lam.reshape(-1, 1) + ob_sd*np.random.rand(M)\n",
    "            return (1./M)*np.sum( (residuals/ob_sd)**2, axis=1 ).reshape(-1,1)\n",
    "        else:\n",
    "            return lam.reshape(-1,1)\n",
    "    \n",
    "    s_set.generate_samples()\n",
    "    p_set = samp.map_samples_and_create_problem(s_set, QoI_fun)\n",
    "    if M == 1:\n",
    "        p_set.set_observed_dist(dist='norm', dim=0, kwds={'loc':ob_mean, 'scale': ob_sd})\n",
    "    else:\n",
    "        p_set.set_observed_dist('gamma', {'a':M/2, 'scale':2/M}, dim=0)\n",
    "    if bw > 0:\n",
    "        p_set.compute_pushforward_dist(method='sk', kwds={'bandwidth': bw})\n",
    "    else:\n",
    "        p_set.compute_pushforward_dist(method='sc') # use scipy instead if you dont care about bw (faster)\n",
    "        \n",
    "    # CREATE SHORT-VERSION FUNCTION HANDLES (for convenience)\n",
    "    pf = p_set.pushforward_dist\n",
    "    pr = p_set.prior_dist\n",
    "    ob = p_set.observed_dist\n",
    "    # Solve CBayes \n",
    "    p_set.set_ratio()\n",
    "    indC = solve.perform_accept_reject(p_set.output.samples, p_set.ratio, seed=232)\n",
    "    # solve.problem(p_set)\n",
    "    \n",
    "    # Solve SBayes\n",
    "    L = dist.parametric_dist(1) # Define likelihood\n",
    "    L.set_dist(dim=0, dist='norm', kwds={'loc':ob_mean, 'scale':ob_sd })\n",
    "    \n",
    "    likelihood = L.pdf(p_set.output.samples)**M\n",
    "    prior = p_set.input.dist.pdf(p_set.input.samples)\n",
    "    def S_post(x): \n",
    "        return L.pdf(x)**M*p_set.input.dist.pdf(x)\n",
    "    def C_post(x):\n",
    "        tol = 1E-4\n",
    "        pfpr = p_set.pushforward_dist.pdf(QoI_fun(x))\n",
    "        pfpr[pfpr < tol] = 1.0\n",
    "        prr = p_set.input.dist.pdf(x)\n",
    "        obb = p_set.observed_dist.pdf(QoI_fun(x))\n",
    "        output = prr*obb/pfpr\n",
    "\n",
    "#         output[pfpr < tol] = pfpr[pfpr < tol]\n",
    "        return output\n",
    "\n",
    "    evidence=integrate.quad(S_post,-3,3)\n",
    "    print('Evidence: %2.4f'%evidence[0])\n",
    "    \n",
    "    \n",
    "    indS = solve.perform_accept_reject(p_set.output.samples, likelihood, seed=283)\n",
    "    print(\"ACCEPTED:\", \"S:\", len(indS), \"| B:\", len(indC), \" OF\", N)\n",
    "    if len(indC) < 10:\n",
    "        print(Warning(\"Be aware, too few accepted samples from CB\"))\n",
    "    \n",
    "    ## PLOTTING CODE\n",
    "    x = np.linspace(-2.5,2.5,1000)\n",
    "    \n",
    "    # SMOOTH POSTERIORS FOR PLOTTING\n",
    "#     cb_ps_den = dist.gkde(p_set.input.samples[indC])\n",
    "#     sb_ps_den = dist.gkde(p_set.input.samples[indS])\n",
    "    # SMOOTH PUSH-FORWARDS OF POSTERIORS FOR PLOTTING\n",
    "    cb_pf_den = dist.gkde(p_set.output.samples[indC])\n",
    "    sb_pf_den = dist.gkde(p_set.output.samples[indS])\n",
    "#     plt.plot(x,pf.pdf(x), label='Push-forward of Prior', c='k',lw=3)\n",
    "    plt.plot(x,pr.pdf(x), label='Prior', c = 'orange', ls=':', lw=5)\n",
    "    plt.plot(x,ob.pdf(x), label='Observed', c='r')\n",
    "#     sb_pf_den = post\n",
    "    plt.plot(x, cb_pf_den.pdf(x),  c='b', ls='-', label='Consistent Posterior Push-forward')\n",
    "#     plt.plot(x, C_post(x),  c='b', ls='-', label='Consistent Posterior Push-forward')\n",
    "    plt.plot(x, sb_pf_den.pdf(x),  c='g', ls='--', label='Statistical Posterior Push-forward')\n",
    "#     plt.plot(x, S_post(x)/evidence[0],  c='g', ls='--', label='Statistical Posterior Push-forward')\n",
    "    plt.plot(x, L.pdf(x),  c='k', ls=':', lw=3, label='Statistical Likelihood Function')\n",
    "    plt.vlines(ob_mean,0,5)\n",
    "    if M == 1:\n",
    "        plt.ylim([0,3])\n",
    "    \n",
    "    plt.legend(loc='upper left')\n",
    "    plt.title('Identity Map - Prior Mean at %.2f'%pr_mean)\n",
    "#     plt.savefig('comparison.png')\n",
    "    plt.show()\n",
    "    return None\n"
   ]
  },
  {
   "cell_type": "code",
   "execution_count": null,
   "metadata": {},
   "outputs": [],
   "source": [
    "N = wid.IntSlider(value=int(5E3), min=100, max=int(1E4), step=100, continuous_update=False)\n",
    "M = wid.IntSlider(value=1, min=1, max=100, step=1, continuous_update=False)\n",
    "ob_sd = wid.FloatSlider(value=0.5,  min=0.25, max=1, step=0.05, continuous_update=False)\n",
    "ob_mean = wid.FloatSlider(value=1,  min=0, max=2, step=0.25, continuous_update=False)\n",
    "pr_mean = wid.FloatSlider(value=0, min=-1, max=1, step=0.05, continuous_update=False)\n",
    "pr_sd = wid.FloatSlider(value=0.5,  min=0.25, max=2, step=0.05, continuous_update=False)\n",
    "bw = wid.FloatSlider(value=0,  min=0, max=0.5, step=0.05, continuous_update=False)"
   ]
  },
  {
   "cell_type": "code",
   "execution_count": null,
   "metadata": {},
   "outputs": [],
   "source": [
    "wid.interact_manual(comparesandbox, N=N, M=M, ob_sd=ob_sd, ob_mean=ob_mean, pr_mean=pr_mean, pr_sd=pr_sd, bw=bw)"
   ]
  },
  {
   "cell_type": "markdown",
   "metadata": {},
   "source": [
    "## The methods will be the same under a uniform prior\n",
    "(which we simulate by choosing a large prior standard deviation)"
   ]
  },
  {
   "cell_type": "code",
   "execution_count": null,
   "metadata": {},
   "outputs": [],
   "source": [
    "pr_sd.value = 2"
   ]
  },
  {
   "cell_type": "markdown",
   "metadata": {},
   "source": [
    "## Really degenerate Case\n",
    "Confident prior beliefs and a lot of poor quality data. More data does fix this."
   ]
  },
  {
   "cell_type": "code",
   "execution_count": null,
   "metadata": {},
   "outputs": [],
   "source": [
    "N.value = 5E3\n",
    "M.value = 10\n",
    "ob_mean.value = 1\n",
    "ob_sd.value = 1\n",
    "pr_mean.value = -1\n",
    "pr_sd.value = 0.1"
   ]
  },
  {
   "cell_type": "markdown",
   "metadata": {},
   "source": [
    "Confident prior beliefs and a paucity of confident data.\n",
    "Very few accepted samples for cbayes, but at least it's not just basically the prior...\n",
    "Note that we violate a consistent Bayesian assumption (predictability) when we do this."
   ]
  },
  {
   "cell_type": "code",
   "execution_count": null,
   "metadata": {},
   "outputs": [],
   "source": [
    "M.value = 1\n",
    "ob_mean.value = 1\n",
    "ob_sd.value = 1\n",
    "pr_mean.value = 0\n",
    "pr_sd.value = 0.25"
   ]
  }
 ],
 "metadata": {
  "kernelspec": {
   "display_name": "py3",
   "language": "python",
   "name": "py3"
  },
  "language_info": {
   "codemirror_mode": {
    "name": "ipython",
    "version": 3
   },
   "file_extension": ".py",
   "mimetype": "text/x-python",
   "name": "python",
   "nbconvert_exporter": "python",
   "pygments_lexer": "ipython3",
   "version": "3.6.4"
  }
 },
 "nbformat": 4,
 "nbformat_minor": 2
}
