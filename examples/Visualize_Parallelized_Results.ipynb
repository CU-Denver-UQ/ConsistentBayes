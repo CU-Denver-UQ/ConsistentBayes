{
 "cells": [
  {
   "cell_type": "markdown",
   "metadata": {},
   "source": [
    "# Visualization of Results Notebook"
   ]
  },
  {
   "cell_type": "code",
   "execution_count": null,
   "metadata": {},
   "outputs": [],
   "source": [
    "from matplotlib import pyplot as plt\n",
    "import numpy as np\n",
    "from scipy.stats import entropy\n",
    "# %matplotlib inline\n",
    "# %matplotlib notebook"
   ]
  },
  {
   "cell_type": "code",
   "execution_count": null,
   "metadata": {},
   "outputs": [],
   "source": [
    "plt.rcParams.update({'font.size': 28})"
   ]
  },
  {
   "cell_type": "code",
   "execution_count": null,
   "metadata": {},
   "outputs": [],
   "source": [
    "def grid(nbins=5, mins=np.zeros(1), maxs=np.ones(1) ):\n",
    "    dim = len(mins)\n",
    "    S = np.array( np.meshgrid(*[np.linspace(i,j,nbins) for i,j in zip(mins+1./(2*nbins), maxs-1./(2*nbins))]) )\n",
    "    SS = S.ravel().reshape(dim,nbins**dim).T\n",
    "    return SS"
   ]
  },
  {
   "cell_type": "code",
   "execution_count": null,
   "metadata": {},
   "outputs": [],
   "source": [
    "problem = 'ho' # choose between 'ed' and 'ho' and 'sir'\n",
    "ftype = 'png'"
   ]
  },
  {
   "cell_type": "code",
   "execution_count": null,
   "metadata": {},
   "outputs": [],
   "source": [
    "### DO NOTE CHANGE ### \n",
    "nbins = 250\n",
    "Vobs_len = np.array([1, 2 , 3, 4])\n",
    "Vstart_time = np.array([0.25, 0.5, 1])\n",
    "Vtrue_observational_variance = np.array([0.0125, 0.025, 0.05]) \n",
    "Vnum_observations = np.array([5, 10, 25, 50])\n",
    "\n",
    "if problem == 'ed':\n",
    "    mins = np.array([0, 0]) # original domain\n",
    "    maxs = np.array([1, 1])\n",
    "    Dg = np.load(\"savefiles/ED_savefile_gridsearch_allruns_fine.npy\")\n",
    "\n",
    "elif problem == 'ho':\n",
    "    mins = np.array([-0.25, .5]) # original domain\n",
    "    maxs = np.array([0.25, 1.5])\n",
    "    Dg = np.load(\"savefiles/HO_savefile_gridsearch_allruns_fine.npy\")\n",
    "        \n",
    "\n",
    "X = grid(nbins, mins, maxs)\n",
    "xi = X[:,1].reshape(nbins, nbins)\n",
    "yi = X[:,0].reshape(nbins, nbins) \n",
    "### DO NOTE CHANGE ### "
   ]
  },
  {
   "cell_type": "markdown",
   "metadata": {},
   "source": [
    "# Individual Plot"
   ]
  },
  {
   "cell_type": "code",
   "execution_count": null,
   "metadata": {
    "scrolled": false
   },
   "outputs": [],
   "source": [
    "num_obs = 10\n",
    "error = 0.025\n",
    "start_time = .5\n",
    "observation_len = 3\n",
    "\n",
    "if problem == 'ho':\n",
    "    plt.figure(figsize=(20, 10))\n",
    "\n",
    "if problem == 'ed':\n",
    "    plt.figure(figsize=(20, 20))\n",
    "\n",
    "\n",
    "# HO run numbers for figure regeneration in paper: 104, 107, 176, 179, 212, 215, 168, 96\n",
    "# ED run numbers for figure regeneration in paper: 224, 236, 239, 284, 128, 140, 272\n",
    "\n",
    "\n",
    "for run_num in range(len(Dg)):\n",
    "    if np.sum(np.abs(np.array(Dg[run_num]['t']) - np.array([num_obs, error, start_time, observation_len]))) == 0:\n",
    "#     num_obs, error, start_time, observation_len = Dg[run_num]['t'] # to do all of them, uncomment this, comment above\n",
    "        print(\"run number\", run_num)\n",
    "        post_eval = Dg[run_num]['p']\n",
    "        zi = post_eval.reshape(nbins, nbins)\n",
    "        plt.cla()\n",
    "        plt.pcolormesh(xi, yi, zi)\n",
    "        # plt.pcolormesh(zi)\n",
    "        if problem == 'ho':\n",
    "            plt.scatter([1], [0], c='white', edgecolor='black', s=100)\n",
    "        elif problem == 'ed':\n",
    "            plt.scatter([0.5], [0.5], c='white', edgecolor='black', s=100)    \n",
    "        plt.ylabel('$\\lambda_1$')\n",
    "        plt.xlabel('$\\lambda_2$')\n",
    "        plt.title('%d Obs. ($\\sigma$ = %.2E),  $t \\in [%d, %d]$ (ms)\\n'%(num_obs, error, 1000*start_time, 1000*(start_time+observation_len)))\n",
    "        save_str = '%s_M%d_%dE_[%d_%d]ms'%(problem.upper(),num_obs, 1000*error, 1000*start_time, 1000*observation_len)\n",
    "        save_str = 'saveimgs/%s/%s.%s'%(problem.upper(),save_str, ftype)\n",
    "        print(\"saving\", save_str)\n",
    "        plt.savefig(save_str)\n",
    "        plt.show()\n",
    "\n"
   ]
  },
  {
   "cell_type": "markdown",
   "metadata": {},
   "source": [
    "# Grid Plot - The Effect of Sampling Duration and Frequency\n",
    "## (Fixed Error and Starting Time)"
   ]
  },
  {
   "cell_type": "code",
   "execution_count": null,
   "metadata": {
    "scrolled": false
   },
   "outputs": [],
   "source": [
    "error = 0.05\n",
    "start_time = 1\n",
    "num_obs = 50\n",
    "observation_len = 1\n",
    "\n",
    "if problem == 'ho':\n",
    "    f, axarr = plt.subplots(len(Vnum_observations),len(Vobs_len),figsize=(20, 10))\n",
    "if problem == 'ed':\n",
    "    f, axarr = plt.subplots(len(Vnum_observations),len(Vobs_len),figsize=(20, 20))\n",
    "\n",
    "for i in range(len(Vnum_observations)):\n",
    "    num_obs = Vnum_observations[i] \n",
    "    for j in range(len(Vobs_len)):\n",
    "        observation_len = Vobs_len[j]\n",
    "\n",
    "        for run_num in range(len(Dg)):\n",
    "            if np.sum(np.abs(np.array(Dg[run_num]['t']) - np.array([num_obs, error, start_time, observation_len]))) == 0:\n",
    "                post_eval = Dg[run_num]['p']\n",
    "                zi = post_eval.reshape(nbins, nbins)               \n",
    "                axarr[i,j].pcolormesh(xi, yi, zi)\n",
    "                # plt.pcolormesh(zi)\n",
    "                if problem == 'ho':\n",
    "                    axarr[i,j].scatter([1], [0], c='white', edgecolor='black', s=100)\n",
    "                elif problem == 'ed':\n",
    "                    axarr[i,j].scatter([0.5], [0.5], c='white', edgecolor='black', s=100) \n",
    "                axarr[i,j].set_title('M = %d,  $T-t_0 = %d$ (ms)'%(num_obs, 1000*observation_len))\n",
    "                axarr[i,j].set_ylabel('$\\lambda_1$', fontsize=12)\n",
    "                axarr[i,j].set_xlabel('$\\lambda_2$', fontsize=12)\n",
    "#                 if j>0:\n",
    "#                     axarr[i,j].set_yticks([], minor=False)\n",
    "#                 if i<4:\n",
    "#                     axarr[i,j].set_xticks([], minor=False)\n",
    "\n",
    "if problem == 'ed':\n",
    "    pstr = 'Exponential Decay'\n",
    "elif problem == 'ho':\n",
    "    pstr = 'Harmonic Oscillator'\n",
    "else:\n",
    "    pstr = 'SIR Model'\n",
    "print('%s problem with start time %d (ms) with ($\\sigma$ = %.2E)'%(pstr, 1000*start_time, error))\n",
    "plt.show()\n"
   ]
  },
  {
   "cell_type": "markdown",
   "metadata": {},
   "source": [
    "# Start Time vs. Measurement Accuracy"
   ]
  },
  {
   "cell_type": "code",
   "execution_count": null,
   "metadata": {},
   "outputs": [],
   "source": [
    "error = 0.025\n",
    "start_time = 1\n",
    "num_obs = 5\n",
    "observation_len = 1\n",
    "\n",
    "f, axarr = plt.subplots(len(Vtrue_observational_variance),len(Vstart_time),figsize=[20,20])\n",
    "for i in range(len(Vtrue_observational_variance)):\n",
    "    error = Vtrue_observational_variance[i] \n",
    "    for j in range(len(Vstart_time)):\n",
    "        start_time = Vstart_time[j]\n",
    "        \n",
    "        for run_num in range(len(Dg)):\n",
    "            if np.sum(np.abs(np.array(Dg[run_num]['t']) - np.array([num_obs, error, start_time, observation_len]))) == 0:\n",
    "                post_eval = Dg[run_num]['p']\n",
    "                zi = post_eval.reshape(nbins, nbins)               \n",
    "                axarr[i,j].pcolormesh(xi, yi, zi)\n",
    "                # plt.pcolormesh(zi)\n",
    "                if problem == 'ho':\n",
    "                    axarr[i,j].scatter([1], [0], c='white', edgecolor='black', s=100)\n",
    "                elif problem == 'ed':\n",
    "                    axarr[i,j].scatter([0.5], [0.5], c='white', edgecolor='black', s=100) \n",
    "                axarr[i,j].set_title('M = %d, $\\sigma$ = %.2E,  $t_0 = %d$ (ms)'%(num_obs, error, 1000*start_time))\n",
    "#                 if j>0:\n",
    "#                     axarr[i,j].set_yticks([], minor=False)\n",
    "#                 if i<4:\n",
    "#                     axarr[i,j].set_xticks([], minor=False)\n",
    "\n",
    "if problem == 'ed':\n",
    "    pstr = 'Exponential Decay'\n",
    "elif problem == 'ho':\n",
    "    pstr = 'Harmonic Oscillator'\n",
    "else:\n",
    "    pstr = 'SIR Model'\n",
    "print('%s problem with observation length %d ms with sd = %.2E on %d observations'%(pstr, 1000*observation_len, error, num_obs))\n",
    "plt.show()\n"
   ]
  },
  {
   "cell_type": "markdown",
   "metadata": {},
   "source": [
    "# Statistical Analysis\n",
    "\n",
    "This is for the studies on observational variance vs true variance."
   ]
  },
  {
   "cell_type": "code",
   "execution_count": null,
   "metadata": {},
   "outputs": [],
   "source": [
    "# Dg = np.load(\"savefile_gridsearch_fix_window.npy\")\n",
    "# E = []\n",
    "# T = []\n",
    "# T0 = []\n",
    "# fix_time = int(window_length[0])\n",
    "# fix_obs = int(num_observations[1])\n",
    "# fix_sd_true = 0.0125\n",
    "# fix_sd_guess = fix_sd_true\n",
    "# for D in Dg:\n",
    "#     n = int(D['n'])\n",
    "#     sample_err_1 = D['a'][0]\n",
    "#     sample_err_2 = D['a'][1]\n",
    "#     pf_rel_err_mean = D['r'][0]\n",
    "#     pf_rel_err_std = D['r'][1]\n",
    "#     num_obs, sd_true, sd_guess, max_time = D['t']\n",
    "#     if sd_true == fix_sd_true and sd_guess == fix_sd_guess and max_time == fix_time:\n",
    "#         if num_obs == num_observations[0]:\n",
    "#             T0.append([ num_obs, entropy(D['p']), sample_err_1, sample_err_2 ])\n",
    "#             ref = D['p']\n",
    "#         else:\n",
    "#             T0.append([ num_obs, entropy(D['p'],ref), sample_err_1, sample_err_2 ])\n",
    "# #             print(entropy(D['p'], ref))\n",
    "# #             print(pf_rel_err_mean)\n",
    "#             ref = D['p']\n",
    "#     if num_obs == fix_obs and max_time == fix_time:\n",
    "#         T.append([sd_true, sd_guess, pf_rel_err_mean, pf_rel_err_std])\n",
    "    \n",
    "#     if num_obs == fix_obs and sd_true == fix_sd_true and sd_guess == fix_sd_guess:\n",
    "#         if max_time == window_length[0]:\n",
    "#             E.append([ max_time, entropy(D['p']), sample_err_1, sample_err_2 ])\n",
    "#             ref = D['p']\n",
    "#         else:\n",
    "#             E.append([ max_time, entropy(D['p'],ref), sample_err_1, sample_err_2 ])\n",
    "#             ref = D['p']\n",
    "            \n",
    "# E = np.array(E)\n",
    "# T = np.array(T)\n",
    "# T0 = np.array(T0)\n",
    "# plt.close('all')\n",
    "# plt.subplots(1,3)\n",
    "\n",
    "# plt.subplot(131)\n",
    "# xi = T[:,0].reshape(len(true_observational_variance),len(perceived_observational_variance))\n",
    "# yi = T[:,1].reshape(len(true_observational_variance),len(perceived_observational_variance))\n",
    "# zi = T[:,3].reshape(len(true_observational_variance),len(perceived_observational_variance))\n",
    "# plt.pcolormesh(xi, yi, zi)\n",
    "# plt.yscale('log')\n",
    "# plt.xscale('log')\n",
    "# plt.ylabel('guess at error model')\n",
    "# plt.xlabel('true error model')\n",
    "# plt.title('error, fix_obs = %d, fix_time = %d'%(fix_obs, fix_time))\n",
    "# plt.savefig('testfig.png')\n",
    "\n",
    "# plt.subplot(132)\n",
    "# plt.cla()\n",
    "# plt.plot(T0[:,0], T0[:,2], label='err in lam_1')\n",
    "# print(np.max(T0[:,2]))\n",
    "# plt.plot(T0[:,0], T0[:,3], label='err in lam_2')\n",
    "# plt.plot(T0[:,0], T0[:,1], label='KL divergence')\n",
    "# plt.plot(num_observations, .1/num_observations, label='MC Rate', c='k')\n",
    "\n",
    "# plt.legend(fontsize=12, framealpha=0.5,loc='upper right')\n",
    "# plt.title('time = %d'%fix_time)\n",
    "# plt.yscale('log')\n",
    "# plt.xscale('log')\n",
    "# plt.ylim([1E-10, 10])\n",
    "# plt.xlabel('num obs')\n",
    "# plt.ylabel('error')\n",
    "\n",
    "# plt.subplot(133)\n",
    "# plt.cla()\n",
    "# plt.plot(E[:,0], E[:,2], label='err in lam_1')\n",
    "# plt.plot(E[:,0], E[:,3], label='err in lam_2')\n",
    "# plt.plot(E[:,0], E[:,1], label='KL divergence')\n",
    "# plt.plot(window_length, .1/window_length, label='MC Rate', c='k')\n",
    "\n",
    "# plt.legend(fontsize=12, framealpha=0.5,loc='upper right')\n",
    "# plt.title('fix_obs = %d, fix_sd = (%.2e, %.2e)'%(fix_obs, fix_sd_true, fix_sd_guess))\n",
    "# plt.yscale('log')\n",
    "# plt.xscale('log')\n",
    "# plt.ylabel('error')\n",
    "# plt.ylim([1E-8, 10])\n",
    "# plt.xlabel('max time')\n",
    "\n",
    "# plt.show()\n"
   ]
  },
  {
   "cell_type": "code",
   "execution_count": null,
   "metadata": {},
   "outputs": [],
   "source": [
    "# plt.cla()\n",
    "# plt.plot(T0[:,0], T0[:,2], label='err in lam_1')\n",
    "# plt.plot(T0[:,0], T0[:,3], label='err in lam_2')\n",
    "# plt.plot(T0[:,0], T0[:,1], label='KL divergence')\n",
    "# plt.plot(num_observations, .1/num_observations, label='MC Rate', c='k')\n",
    "\n",
    "# plt.legend(fontsize=12, framealpha=0.5,loc='upper right')\n",
    "# plt.title('time = %d'%fix_time)\n",
    "# plt.yscale('log')\n",
    "# plt.xscale('log')\n",
    "# plt.ylim([1E-8, 10])\n",
    "# plt.xlabel('num obs')\n",
    "# plt.ylabel('error')"
   ]
  },
  {
   "cell_type": "code",
   "execution_count": null,
   "metadata": {},
   "outputs": [],
   "source": []
  },
  {
   "cell_type": "markdown",
   "metadata": {},
   "source": [
    "# Exponential Decay"
   ]
  },
  {
   "cell_type": "code",
   "execution_count": null,
   "metadata": {},
   "outputs": [],
   "source": [
    "### DO NOTE CHANGE ### \n",
    "nbins = 250\n",
    "mins = np.array([0, 0]) # original domain\n",
    "maxs = np.array([1, 1])\n",
    "X = grid(nbins, mins, maxs)\n",
    "xi = X[:,1].reshape(nbins, nbins)\n",
    "yi = X[:,0].reshape(nbins, nbins) \n",
    "### DO NOTE CHANGE ### \n",
    "\n",
    "f, axarr = plt.subplots(len(Vnum_observations),len(Vobs_len),figsize=[20,20])\n",
    "\n",
    "error = 0.05\n",
    "start_time = 0.25\n",
    "\n",
    "for i in range(len(Vnum_observations)):\n",
    "    num_obs = Vnum_observations[i]\n",
    "    for j in range(len(Vobs_len)):\n",
    "        observation_len = Vobs_len[j]\n",
    "        for run_num in range(len(Dg)):\n",
    "            if np.sum(np.abs(np.array(Dg[run_num]['t']) - np.array([num_obs, error, start_time, observation_len]))) == 0:\n",
    "                post_eval = Dg[run_num]['p']\n",
    "                zi = post_eval.reshape(nbins, nbins)               \n",
    "                axarr[i,j].pcolormesh(xi, yi, zi)\n",
    "                # plt.pcolormesh(zi)\n",
    "                axarr[i,j].scatter([0.5], [0.5], c='white', edgecolor='black', s=100)\n",
    "                axarr[i,j].set_title('M = %d  $T-t_0 = %d$ (ms)'%(num_obs, 1000*observation_len))\n",
    "\n",
    "                if j>0:\n",
    "                    axarr[i,j].set_yticks([], minor=False)\n",
    "                if i<4:\n",
    "                    axarr[i,j].set_xticks([], minor=False)\n",
    "#                 if j>0 and i<3:\n",
    "#                     axarr[i,j].set_yticks([], minor=False)\n",
    "#                     axarr[i,j].set_xticks([], minor=False)\n",
    "print('Start time %d (ms) with ($\\sigma$ = %.2E)'%(1000*start_time, error))\n",
    "plt.show()"
   ]
  },
  {
   "cell_type": "markdown",
   "metadata": {},
   "source": [
    "## The Effect of Sampling Duration and Frequency"
   ]
  },
  {
   "cell_type": "code",
   "execution_count": null,
   "metadata": {},
   "outputs": [],
   "source": [
    "# Make the plot\n",
    "### DO NOTE CHANGE ### \n",
    "nbins = 250\n",
    "\n",
    "X = grid(nbins, mins, maxs)\n",
    "xi = X[:,1].reshape(nbins, nbins)\n",
    "yi = X[:,0].reshape(nbins, nbins) \n",
    "### DO NOTE CHANGE ### \n",
    "\n",
    "num_obs = 50\n",
    "error = 0.025\n",
    "start_time = 0.25\n",
    "observation_len = 2\n",
    "\n",
    "# num_obs = 5\n",
    "# error = 0.0125\n",
    "# start_time = 1\n",
    "# observation_len = 1\n",
    "plt.figure(figsize=(20, 20))\n",
    "\n"
   ]
  },
  {
   "cell_type": "code",
   "execution_count": null,
   "metadata": {},
   "outputs": [],
   "source": []
  },
  {
   "cell_type": "code",
   "execution_count": null,
   "metadata": {},
   "outputs": [],
   "source": [
    "axarr[0,0].set"
   ]
  },
  {
   "cell_type": "code",
   "execution_count": null,
   "metadata": {
    "scrolled": true
   },
   "outputs": [],
   "source": [
    "axarr[0,0]"
   ]
  },
  {
   "cell_type": "code",
   "execution_count": null,
   "metadata": {},
   "outputs": [],
   "source": []
  },
  {
   "cell_type": "code",
   "execution_count": null,
   "metadata": {},
   "outputs": [],
   "source": [
    "save_str = 'ED_M%d_%dE_[%d_%d]ms'%(num_obs, 1000*error, 1000*start_time, 1000*observation_len)\n",
    "print(save_str)\n",
    "plt.savefig('saveimgs/%s.eps'%save_str)"
   ]
  },
  {
   "cell_type": "code",
   "execution_count": null,
   "metadata": {},
   "outputs": [],
   "source": []
  }
 ],
 "metadata": {
  "kernelspec": {
   "display_name": "test_py_env",
   "language": "python",
   "name": "test_py_env"
  },
  "language_info": {
   "codemirror_mode": {
    "name": "ipython",
    "version": 3
   },
   "file_extension": ".py",
   "mimetype": "text/x-python",
   "name": "python",
   "nbconvert_exporter": "python",
   "pygments_lexer": "ipython3",
   "version": "3.6.4"
  }
 },
 "nbformat": 4,
 "nbformat_minor": 2
}
