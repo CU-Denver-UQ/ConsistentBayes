{
 "cells": [
  {
   "cell_type": "code",
   "execution_count": null,
   "metadata": {
    "collapsed": true
   },
   "outputs": [],
   "source": [
    "from matplotlib import pyplot as plt\n",
    "import numpy as np\n",
    "from scipy.stats import entropy\n",
    "# %matplotlib inline\n",
    "# %matplotlib notebook"
   ]
  },
  {
   "cell_type": "code",
   "execution_count": null,
   "metadata": {
    "collapsed": true
   },
   "outputs": [],
   "source": [
    "plt.rcParams.update({'font.size': 14})\n",
    "plt.rcParams['figure.figsize'] = 20, 10"
   ]
  },
  {
   "cell_type": "markdown",
   "metadata": {},
   "source": [
    "# Harmonic Oscillator"
   ]
  },
  {
   "cell_type": "code",
   "execution_count": null,
   "metadata": {
    "collapsed": true
   },
   "outputs": [],
   "source": [
    "num_observations = np.array([1, 2, 5, 10, 25, 50])\n",
    "true_observational_variance = np.array([0.0125, 0.025, 0.05]) # 0.1/6 is true\n",
    "start_time = np.array([.25, 0.5, 1])\n",
    "obs_len = np.array([1, 2 , 3, 4])"
   ]
  },
  {
   "cell_type": "code",
   "execution_count": null,
   "metadata": {},
   "outputs": [],
   "source": [
    "Dg = np.load(\"savefiles/HO_savefile_gridsearch_allruns_fine.npy\")\n",
    "# Make the plot\n",
    "def grid(nbins=5, mins=np.zeros(1), maxs=np.ones(1) ):\n",
    "    dim = len(mins)\n",
    "    S = np.array( np.meshgrid(*[np.linspace(i,j,nbins) for i,j in zip(mins+1./(2*nbins), maxs-1./(2*nbins))]) )\n",
    "    SS = S.ravel().reshape(dim,nbins**dim).T\n",
    "    return SS\n",
    "\n",
    "nbins = 250\n",
    "mins = np.array([-0.25, .5]) # original domain\n",
    "maxs = np.array([0.25, 1.5])\n",
    "X = grid(nbins, mins, maxs)\n",
    "\n",
    "num_obs = 25\n",
    "error = 0.025\n",
    "start_time = 1\n",
    "observation_len = 4\n",
    "\n",
    "# num_obs = 5\n",
    "# error = 0.0125\n",
    "# start_time = 1\n",
    "# observation_len = 1\n",
    "\n",
    "xi = X[:,0].reshape(nbins, nbins)\n",
    "yi = X[:,1].reshape(nbins, nbins) \n",
    "for run_num in range(len(Dg)):\n",
    "    post_eval = Dg[run_num]['p']\n",
    "    if np.sum(np.abs(np.array(Dg[run_num]['t']) - np.array([num_obs, error, start_time, observation_len]))) == 0:\n",
    "        zi = post_eval.reshape(nbins, nbins)\n",
    "        plt.cla()\n",
    "        plt.pcolormesh(xi, yi, zi)\n",
    "        # plt.pcolormesh(zi)\n",
    "        plt.scatter([0], [1], c='white', edgecolor='black', s=100)\n",
    "        plt.show()"
   ]
  },
  {
   "cell_type": "code",
   "execution_count": null,
   "metadata": {
    "collapsed": true
   },
   "outputs": [],
   "source": [
    "plt.savefig('saveimgs/ho.eps')"
   ]
  },
  {
   "cell_type": "markdown",
   "metadata": {},
   "source": [
    "# Exponential Decay"
   ]
  },
  {
   "cell_type": "code",
   "execution_count": null,
   "metadata": {
    "collapsed": true
   },
   "outputs": [],
   "source": [
    "num_observations = np.array([1, 2, 5, 10, 25, 50])\n",
    "true_observational_variance = np.array([0.0125, 0.025, 0.05]) \n",
    "start_time = np.array([0.25, 0.5, 0.75, 1])\n",
    "obs_len = np.array([1, 2 , 3, 4])"
   ]
  },
  {
   "cell_type": "code",
   "execution_count": null,
   "metadata": {},
   "outputs": [],
   "source": [
    "Dg = np.load(\"savefiles/ED_savefile_gridsearch_allruns_fine.npy\")\n",
    "# Make the plot\n",
    "def grid(nbins=5, mins=np.zeros(1), maxs=np.ones(1) ):\n",
    "    dim = len(mins)\n",
    "    S = np.array( np.meshgrid(*[np.linspace(i,j,nbins) for i,j in zip(mins+1./(2*nbins), maxs-1./(2*nbins))]) )\n",
    "    SS = S.ravel().reshape(dim,nbins**dim).T\n",
    "    return SS\n",
    "\n",
    "nbins = 250\n",
    "mins = np.array([0, 0]) # original domain\n",
    "maxs = np.array([1, 1])\n",
    "X = grid(nbins, mins, maxs)\n",
    "\n",
    "num_obs = 50\n",
    "error = 0.025\n",
    "start_time = 0.5\n",
    "observation_len = 4\n",
    "\n",
    "# num_obs = 5\n",
    "# error = 0.0125\n",
    "# start_time = 1\n",
    "# observation_len = 1\n",
    "\n",
    "xi = X[:,0].reshape(nbins, nbins)\n",
    "yi = X[:,1].reshape(nbins, nbins) \n",
    "for run_num in range(len(Dg)):\n",
    "    post_eval = Dg[run_num]['p']\n",
    "    if np.sum(np.abs(np.array(Dg[run_num]['t']) - np.array([num_obs, error, start_time, observation_len]))) == 0:\n",
    "        zi = post_eval.reshape(nbins, nbins)\n",
    "        plt.cla()\n",
    "        plt.pcolormesh(xi, yi, zi)\n",
    "        # plt.pcolormesh(zi)\n",
    "        plt.scatter([0.5], [0.5], c='white', edgecolor='black', s=100)\n",
    "        plt.show()"
   ]
  },
  {
   "cell_type": "code",
   "execution_count": null,
   "metadata": {
    "collapsed": true
   },
   "outputs": [],
   "source": [
    "plt.savefig('saveimgs/ed.eps')"
   ]
  },
  {
   "cell_type": "markdown",
   "metadata": {},
   "source": [
    "## Stats on Stuff\n"
   ]
  },
  {
   "cell_type": "code",
   "execution_count": null,
   "metadata": {},
   "outputs": [],
   "source": [
    "Dg = np.load(\"savefile_gridsearch_fix_window.npy\")\n",
    "E = []\n",
    "T = []\n",
    "T0 = []\n",
    "fix_time = int(window_length[0])\n",
    "fix_obs = int(num_observations[1])\n",
    "fix_sd_true = 0.0125\n",
    "fix_sd_guess = fix_sd_true\n",
    "for D in Dg:\n",
    "    n = int(D['n'])\n",
    "    sample_err_1 = D['a'][0]\n",
    "    sample_err_2 = D['a'][1]\n",
    "    pf_rel_err_mean = D['r'][0]\n",
    "    pf_rel_err_std = D['r'][1]\n",
    "    num_obs, sd_true, sd_guess, max_time = D['t']\n",
    "    if sd_true == fix_sd_true and sd_guess == fix_sd_guess and max_time == fix_time:\n",
    "        if num_obs == num_observations[0]:\n",
    "            T0.append([ num_obs, entropy(D['p']), sample_err_1, sample_err_2 ])\n",
    "            ref = D['p']\n",
    "        else:\n",
    "            T0.append([ num_obs, entropy(D['p'],ref), sample_err_1, sample_err_2 ])\n",
    "#             print(entropy(D['p'], ref))\n",
    "#             print(pf_rel_err_mean)\n",
    "            ref = D['p']\n",
    "    if num_obs == fix_obs and max_time == fix_time:\n",
    "        T.append([sd_true, sd_guess, pf_rel_err_mean, pf_rel_err_std])\n",
    "    \n",
    "    if num_obs == fix_obs and sd_true == fix_sd_true and sd_guess == fix_sd_guess:\n",
    "        if max_time == window_length[0]:\n",
    "            E.append([ max_time, entropy(D['p']), sample_err_1, sample_err_2 ])\n",
    "            ref = D['p']\n",
    "        else:\n",
    "            E.append([ max_time, entropy(D['p'],ref), sample_err_1, sample_err_2 ])\n",
    "            ref = D['p']\n",
    "            \n",
    "E = np.array(E)\n",
    "T = np.array(T)\n",
    "T0 = np.array(T0)\n",
    "plt.close('all')\n",
    "plt.subplots(1,3)\n",
    "\n",
    "plt.subplot(131)\n",
    "xi = T[:,0].reshape(len(true_observational_variance),len(perceived_observational_variance))\n",
    "yi = T[:,1].reshape(len(true_observational_variance),len(perceived_observational_variance))\n",
    "zi = T[:,3].reshape(len(true_observational_variance),len(perceived_observational_variance))\n",
    "plt.pcolormesh(xi, yi, zi)\n",
    "plt.yscale('log')\n",
    "plt.xscale('log')\n",
    "plt.ylabel('guess at error model')\n",
    "plt.xlabel('true error model')\n",
    "plt.title('error, fix_obs = %d, fix_time = %d'%(fix_obs, fix_time))\n",
    "plt.savefig('testfig.png')\n",
    "\n",
    "plt.subplot(132)\n",
    "plt.cla()\n",
    "plt.plot(T0[:,0], T0[:,2], label='err in lam_1')\n",
    "print(np.max(T0[:,2]))\n",
    "plt.plot(T0[:,0], T0[:,3], label='err in lam_2')\n",
    "plt.plot(T0[:,0], T0[:,1], label='KL divergence')\n",
    "plt.plot(num_observations, .1/num_observations, label='MC Rate', c='k')\n",
    "\n",
    "plt.legend(fontsize=12, framealpha=0.5,loc='upper right')\n",
    "plt.title('time = %d'%fix_time)\n",
    "plt.yscale('log')\n",
    "plt.xscale('log')\n",
    "plt.ylim([1E-10, 10])\n",
    "plt.xlabel('num obs')\n",
    "plt.ylabel('error')\n",
    "\n",
    "plt.subplot(133)\n",
    "plt.cla()\n",
    "plt.plot(E[:,0], E[:,2], label='err in lam_1')\n",
    "plt.plot(E[:,0], E[:,3], label='err in lam_2')\n",
    "plt.plot(E[:,0], E[:,1], label='KL divergence')\n",
    "plt.plot(window_length, .1/window_length, label='MC Rate', c='k')\n",
    "\n",
    "plt.legend(fontsize=12, framealpha=0.5,loc='upper right')\n",
    "plt.title('fix_obs = %d, fix_sd = (%.2e, %.2e)'%(fix_obs, fix_sd_true, fix_sd_guess))\n",
    "plt.yscale('log')\n",
    "plt.xscale('log')\n",
    "plt.ylabel('error')\n",
    "plt.ylim([1E-8, 10])\n",
    "plt.xlabel('max time')\n",
    "\n",
    "plt.show()\n"
   ]
  },
  {
   "cell_type": "code",
   "execution_count": null,
   "metadata": {
    "collapsed": true
   },
   "outputs": [],
   "source": [
    "plt.cla()\n",
    "plt.plot(T0[:,0], T0[:,2], label='err in lam_1')\n",
    "plt.plot(T0[:,0], T0[:,3], label='err in lam_2')\n",
    "plt.plot(T0[:,0], T0[:,1], label='KL divergence')\n",
    "plt.plot(num_observations, .1/num_observations, label='MC Rate', c='k')\n",
    "\n",
    "plt.legend(fontsize=12, framealpha=0.5,loc='upper right')\n",
    "plt.title('time = %d'%fix_time)\n",
    "plt.yscale('log')\n",
    "plt.xscale('log')\n",
    "plt.ylim([1E-8, 10])\n",
    "plt.xlabel('num obs')\n",
    "plt.ylabel('error')"
   ]
  }
 ],
 "metadata": {
  "kernelspec": {
   "display_name": "test_py_env",
   "language": "python",
   "name": "test_py_env"
  },
  "language_info": {
   "codemirror_mode": {
    "name": "ipython",
    "version": 3
   },
   "file_extension": ".py",
   "mimetype": "text/x-python",
   "name": "python",
   "nbconvert_exporter": "python",
   "pygments_lexer": "ipython3",
   "version": "3.6.4"
  }
 },
 "nbformat": 4,
 "nbformat_minor": 2
}
