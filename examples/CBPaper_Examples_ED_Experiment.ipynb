{
 "cells": [
  {
   "cell_type": "markdown",
   "metadata": {},
   "source": [
    "# Consistent Bayes: Exponential Decay Example (Parallelized)\n",
    "---\n",
    "\n",
    "Copyright 2018 Michael Pilosov\n"
   ]
  },
  {
   "cell_type": "markdown",
   "metadata": {},
   "source": [
    "### Import Libraries\n"
   ]
  },
  {
   "cell_type": "code",
   "execution_count": 1,
   "metadata": {},
   "outputs": [],
   "source": [
    "from matplotlib import pyplot as plt\n",
    "import numpy as np"
   ]
  },
  {
   "cell_type": "code",
   "execution_count": 3,
   "metadata": {},
   "outputs": [
    {
     "name": "stderr",
     "output_type": "stream",
     "text": [
      "/home/mpilosov/anaconda3/envs/test_py_env/lib/python3.6/site-packages/ipyparallel/client/client.py:458: RuntimeWarning: \n",
      "            Controller appears to be listening on localhost, but not on this machine.\n",
      "            If this is true, you should specify Client(...,sshserver='you@math-ws-204')\n",
      "            or instruct your controller to listen on an external IP.\n",
      "  RuntimeWarning)\n"
     ]
    },
    {
     "data": {
      "text/plain": [
       "[0, 1, 2, 3, 4, 5, 6, 7]"
      ]
     },
     "execution_count": 3,
     "metadata": {},
     "output_type": "execute_result"
    }
   ],
   "source": [
    "import ipyparallel as ipp # import the client\n",
    "rc = ipp.Client()\n",
    "dv = rc[:]\n",
    "rc.ids # list the ids of the engine the client can communicate with"
   ]
  },
  {
   "cell_type": "code",
   "execution_count": 4,
   "metadata": {},
   "outputs": [],
   "source": [
    "%%px\n",
    "import numpy as np\n",
    "from cbayes import sample, solve, distributions\n",
    "lambda_ref = np.array([[0.5, 0.5]])\n",
    "\n",
    "def MSE_generator(model, obs_data, sigma=1):   # this generates a sum of squared residuals.\n",
    "    def QoI_fun(inputs): # that conforms to our desired model input\n",
    "        M = len(obs_data)\n",
    "        predictions = model(inputs)\n",
    "        assert predictions.shape[1] == M\n",
    "        residuals = predictions - obs_data\n",
    "        QoI = (1./M)*np.sum( (residuals/sigma)**2, axis=1 )\n",
    "        return QoI\n",
    "    return QoI_fun\n",
    "\n",
    "# The model of the harmonic oscillator \n",
    "def makemodel(t):\n",
    "    def model(lam = lambda_ref ):\n",
    "#         return np.cos(lam[:,1]*t + np.arccos(lam[:,0]) )\n",
    "        QoI = lam[:,0].reshape(-1,1)*np.exp(np.outer(lam[:,1], -t))\n",
    "        if QoI.shape[0] == 1:\n",
    "            return QoI.ravel() # this allows support for simpler 1D plotting.\n",
    "        else:\n",
    "            return QoI\n",
    "    return model\n"
   ]
  },
  {
   "cell_type": "code",
   "execution_count": 7,
   "metadata": {},
   "outputs": [],
   "source": [
    "num_observations = np.array([1])# 2, 5, 10, 25, 50])\n",
    "true_observational_variance = np.array([0.0125, 0.025, 0.05]) \n",
    "start_time = np.array([0.25, 0.5, 0.75, 1])\n",
    "obs_len = np.array([1, 2 , 3, 4])"
   ]
  },
  {
   "cell_type": "code",
   "execution_count": 8,
   "metadata": {},
   "outputs": [
    {
     "name": "stdout",
     "output_type": "stream",
     "text": [
      "Number of total trials: 48\n"
     ]
    }
   ],
   "source": [
    "S = np.array([ num_observations, true_observational_variance, start_time, obs_len])\n",
    "num_iterations = np.prod([ S[i].shape[0] for i in range(S.shape[0]) ])\n",
    "SS = np.array( np.meshgrid(*S) )\n",
    "trial_vector = SS.ravel().reshape(S.shape[0],num_iterations).T\n",
    "# print(trial_vector[0:5,:])\n",
    "print(\"Number of total trials:\", num_iterations) "
   ]
  },
  {
   "cell_type": "markdown",
   "metadata": {},
   "source": [
    "# Example Summary\n",
    "\n",
    "---\n",
    "\n",
    "The second example is defined by the model for a harmonic oscillator given by the initial value problem  \n",
    "\n",
    "\\begin{equation}\n",
    "\t\\begin{cases}\n",
    "\t\t\\frac{d^2u}{dt^2} &= -\\lambda_2^2 u, \\ t>0, \\\\\n",
    "\t\tu(0) &= \\lambda_1. \n",
    "\t\\end{cases}\n",
    "\\end{equation}\n",
    "\n",
    "Choosing a particular parameter $\\lambda=(\\lambda_1,\\lambda_2)\\in\\Lambda\\subset[-1,1]\\times\\mathbb{R}^+$ corresponds to fixing an initial condition, $\\lambda_1\\in[-1,1]$, and frequency of oscillation, $\\lambda_2$, where we again assume that $\\lambda_2>0$.\n",
    "\n",
    "The solution to the above is\n",
    "\\begin{equation}\n",
    "\tu(t) = \\cos(\\lambda_2 t + \\arccos(\\lambda_1)).\n",
    "\\end{equation}"
   ]
  },
  {
   "cell_type": "markdown",
   "metadata": {},
   "source": [
    "---\n",
    "## Define Functions"
   ]
  },
  {
   "cell_type": "code",
   "execution_count": 11,
   "metadata": {},
   "outputs": [],
   "source": [
    "%%px\n",
    "mins = np.array([0, 0]) # original domain\n",
    "maxs = np.array([1, 1])\n",
    "nbins = 250\n",
    "def grid(nbins=5, mins=np.zeros(1), maxs=np.ones(1) ):\n",
    "    dim = len(mins)\n",
    "    S = np.array( np.meshgrid(*[np.linspace(i,j,nbins) for i,j in zip(mins+1./(2*nbins), maxs-1./(2*nbins))]) )\n",
    "    SS = S.ravel().reshape(dim,nbins**dim).T\n",
    "    return SS\n",
    "\n",
    "X = grid(nbins, mins, maxs)\n",
    "\n",
    "def run_trial(trial):\n",
    "    num_samples = int(1E4)\n",
    "    num_observations, sd_true, start_time, obs_length = trial\n",
    "    end_time = start_time + obs_length\n",
    "    sd_guess = sd_true\n",
    "    num_observations = int(num_observations)\n",
    "    num_samples = int(num_samples)\n",
    "    \n",
    "    t = np.linspace(start_time, end_time, num_observations)\n",
    "    model = makemodel(t)\n",
    "    u_true = model()\n",
    "    obs_data = u_true + np.random.randn(int(num_observations))*sd_true\n",
    "    PtO_fun = MSE_generator(model, obs_data, sd_guess)\n",
    "    \n",
    "    s_set = sample.sample_set(size=(num_samples, 2))\n",
    "    s_set.set_dist('beta', kwds={'a': 1, 'b': 1, 'loc': 0, 'scale': 1}, dim=0) # initial condition\n",
    "    s_set.set_dist('beta', kwds={'a': 1, 'b': 1, 'loc': 0, 'scale': 1}, dim=1) # frequency\n",
    "    s_set.generate_samples()\n",
    "    p_set = sample.map_samples_and_create_problem(s_set, PtO_fun)\n",
    "    p_set.compute_pushforward_dist()\n",
    "    p_set.set_observed_dist('gamma', {'a':num_observations/2, 'scale':2/num_observations}, dim=0)\n",
    "    p_set.set_ratio()\n",
    "    #     solve.problem(p_set) # if you care to perform accept/reject on the prior, uncomment this.\n",
    "#     accept_inds = p_set.accept_inds\n",
    "#     lam_accept = p_set.input.samples[accept_inds,:]\n",
    "#     num_accept = len(accept_inds)\n",
    "    print('trial =', trial)\n",
    "#     print('Number accepted: %d = %2.2f%%'%(num_accept, 100*np.float(num_accept)/num_samples))\n",
    "    \n",
    "    # Perform accept/reject on that grid you see plotted above.\n",
    "    Y = PtO_fun(X)\n",
    "    inds = solve.perform_accept_reject(X, p_set.compute_ratio(Y))\n",
    "    abs_error = [*np.abs( lambda_ref[0,:] - np.mean(X[inds,:],axis=0) )]\n",
    "    rel_error = [*np.abs( p_set.observed_dist.mean()-np.mean(Y[inds],axis=0))/p_set.observed_dist.mean() , *np.abs( p_set.observed_dist.std()-np.std(Y[inds],axis=0))/p_set.observed_dist.std()]\n",
    "#     print('Abs Error in Parameter and MAP:', abs_error )\n",
    "#     print('Param. Test Stats for Gamma Dist:', rel_error)\n",
    "#     print(' ')\n",
    "    \n",
    "    post_eval = p_set.evaluate_posterior(X)\n",
    "    return {'p': post_eval, 'a': abs_error, 'r': rel_error, 'n': len(inds), 't': trial}\n"
   ]
  },
  {
   "cell_type": "code",
   "execution_count": 12,
   "metadata": {},
   "outputs": [
    {
     "data": {
      "text/plain": [
       "<AsyncResult: scatter>"
      ]
     },
     "execution_count": 12,
     "metadata": {},
     "output_type": "execute_result"
    }
   ],
   "source": [
    "dv.scatter('trial_chunk', trial_vector)"
   ]
  },
  {
   "cell_type": "code",
   "execution_count": 13,
   "metadata": {},
   "outputs": [],
   "source": [
    "%%capture output\n",
    "%%px\n",
    "D = list(map(run_trial, trial_chunk))"
   ]
  },
  {
   "cell_type": "code",
   "execution_count": 14,
   "metadata": {},
   "outputs": [
    {
     "name": "stdout",
     "output_type": "stream",
     "text": [
      "[stdout:0] \n",
      "trial = [1.     0.0125 0.25   1.    ]\n",
      "trial = [1.     0.0125 0.25   2.    ]\n",
      "trial = [1.     0.0125 0.25   3.    ]\n",
      "trial = [1.     0.0125 0.25   4.    ]\n",
      "trial = [1.     0.0125 0.5    1.    ]\n",
      "trial = [1.     0.0125 0.5    2.    ]\n",
      "[stdout:1] \n",
      "trial = [1.     0.0125 0.5    3.    ]\n",
      "trial = [1.     0.0125 0.5    4.    ]\n",
      "trial = [1.     0.0125 0.75   1.    ]\n",
      "trial = [1.     0.0125 0.75   2.    ]\n",
      "trial = [1.     0.0125 0.75   3.    ]\n",
      "trial = [1.     0.0125 0.75   4.    ]\n",
      "[stdout:2] \n",
      "trial = [1.     0.0125 1.     1.    ]\n",
      "trial = [1.     0.0125 1.     2.    ]\n",
      "trial = [1.     0.0125 1.     3.    ]\n",
      "trial = [1.     0.0125 1.     4.    ]\n",
      "trial = [1.    0.025 0.25  1.   ]\n",
      "trial = [1.    0.025 0.25  2.   ]\n",
      "[stdout:3] \n",
      "trial = [1.    0.025 0.25  3.   ]\n",
      "trial = [1.    0.025 0.25  4.   ]\n",
      "trial = [1.    0.025 0.5   1.   ]\n",
      "trial = [1.    0.025 0.5   2.   ]\n",
      "trial = [1.    0.025 0.5   3.   ]\n",
      "trial = [1.    0.025 0.5   4.   ]\n",
      "[stdout:4] \n",
      "trial = [1.    0.025 0.75  1.   ]\n",
      "trial = [1.    0.025 0.75  2.   ]\n",
      "trial = [1.    0.025 0.75  3.   ]\n",
      "trial = [1.    0.025 0.75  4.   ]\n",
      "trial = [1.    0.025 1.    1.   ]\n",
      "trial = [1.    0.025 1.    2.   ]\n",
      "[stdout:5] \n",
      "trial = [1.    0.025 1.    3.   ]\n",
      "trial = [1.    0.025 1.    4.   ]\n",
      "trial = [1.   0.05 0.25 1.  ]\n",
      "trial = [1.   0.05 0.25 2.  ]\n",
      "trial = [1.   0.05 0.25 3.  ]\n",
      "trial = [1.   0.05 0.25 4.  ]\n",
      "[stdout:6] \n",
      "trial = [1.   0.05 0.5  1.  ]\n",
      "trial = [1.   0.05 0.5  2.  ]\n",
      "trial = [1.   0.05 0.5  3.  ]\n",
      "trial = [1.   0.05 0.5  4.  ]\n",
      "trial = [1.   0.05 0.75 1.  ]\n",
      "trial = [1.   0.05 0.75 2.  ]\n",
      "[stdout:7] \n",
      "trial = [1.   0.05 0.75 3.  ]\n",
      "trial = [1.   0.05 0.75 4.  ]\n",
      "trial = [1.   0.05 1.   1.  ]\n",
      "trial = [1.   0.05 1.   2.  ]\n",
      "trial = [1.   0.05 1.   3.  ]\n",
      "trial = [1.   0.05 1.   4.  ]\n"
     ]
    }
   ],
   "source": [
    "output.show()"
   ]
  },
  {
   "cell_type": "code",
   "execution_count": null,
   "metadata": {},
   "outputs": [],
   "source": [
    "Dg = np.array(list(dv.gather('D').get() ))\n",
    "# np.save(\"ED_savefile_gridsearch_allruns_fine.npy\", Dg)\n",
    "# np.save(\"savefile_gridsearch_var_window.npy\", Dg)"
   ]
  },
  {
   "cell_type": "code",
   "execution_count": null,
   "metadata": {},
   "outputs": [],
   "source": []
  },
  {
   "cell_type": "code",
   "execution_count": null,
   "metadata": {},
   "outputs": [],
   "source": []
  },
  {
   "cell_type": "code",
   "execution_count": null,
   "metadata": {},
   "outputs": [],
   "source": []
  }
 ],
 "metadata": {
  "anaconda-cloud": {},
  "kernelspec": {
   "display_name": "test_py_env",
   "language": "python",
   "name": "test_py_env"
  },
  "language_info": {
   "codemirror_mode": {
    "name": "ipython",
    "version": 3
   },
   "file_extension": ".py",
   "mimetype": "text/x-python",
   "name": "python",
   "nbconvert_exporter": "python",
   "pygments_lexer": "ipython3",
   "version": "3.6.4"
  }
 },
 "nbformat": 4,
 "nbformat_minor": 2
}
