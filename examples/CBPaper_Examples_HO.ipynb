{
 "cells": [
  {
   "cell_type": "markdown",
   "metadata": {},
   "source": [
    "# Consistent Bayes: Harmonic Oscillator Example\n",
    "---\n",
    "\n",
    "Copyright 2018 Michael Pilosov\n"
   ]
  },
  {
   "cell_type": "markdown",
   "metadata": {},
   "source": [
    "### Import Libraries\n"
   ]
  },
  {
   "cell_type": "code",
   "execution_count": null,
   "metadata": {},
   "outputs": [],
   "source": [
    "# Mathematics and Plotting\n",
    "from HelperFuns import * # pyplot wrapper functions useful for visualizations, numpy, scipy, etc.\n",
    "# %matplotlib inline\n",
    "# %matplotlib notebook\n",
    "plt.rcParams.update({'font.size': 14})\n",
    "plt.rcParams['figure.figsize'] = 8, 5\n",
    "from cbayes import sample, solve, distributions\n",
    "# Interactivity\n",
    "from ipywidgets import *\n",
    "import matplotlib.colors as colors\n",
    "\n",
    "# import numpy as np\n",
    "from scipy.integrate import odeint\n",
    "# import matplotlib.pyplot as plt\n",
    "import progressbar\n"
   ]
  },
  {
   "cell_type": "markdown",
   "metadata": {},
   "source": [
    "# Example Summary\n",
    "\n",
    "---\n",
    "\n",
    "The second example is defined by the model for a harmonic oscillator given by the initial value problem  \n",
    "\n",
    "\\begin{equation}\n",
    "\t\\begin{cases}\n",
    "\t\t\\frac{d^2u}{dt^2} &= -\\lambda_2^2 u, \\ t>0, \\\\\n",
    "\t\tu(0) &= \\lambda_1. \n",
    "\t\\end{cases}\n",
    "\\end{equation}\n",
    "\n",
    "Choosing a particular parameter $\\lambda=(\\lambda_1,\\lambda_2)\\in\\Lambda\\subset[-1,1]\\times\\mathbb{R}^+$ corresponds to fixing an initial condition, $\\lambda_1\\in[-1,1]$, and frequency of oscillation, $\\lambda_2$, where we again assume that $\\lambda_2>0$.\n",
    "\n",
    "The solution to the above is\n",
    "\\begin{equation}\n",
    "\tu(t) = \\cos(\\lambda_2 t + \\arccos(\\lambda_1)).\n",
    "\\end{equation}"
   ]
  },
  {
   "cell_type": "markdown",
   "metadata": {},
   "source": [
    "---\n",
    "## Define Functions"
   ]
  },
  {
   "cell_type": "code",
   "execution_count": null,
   "metadata": {},
   "outputs": [],
   "source": [
    "##### FIXED PARAMETERS #####\n",
    "num_observations = 1024 # how many observations are you able to make?\n",
    "max_time = 5\n",
    "####\n",
    "\n",
    "def MSE_generator(model, obs_data, sigma=1):   # this generates a sum of squared residuals.\n",
    "    def QoI_fun(inputs): # that conforms to our desired model input\n",
    "        M = len(obs_data)\n",
    "        predictions = model(inputs)\n",
    "        assert predictions.shape[1] == M\n",
    "        residuals = predictions - obs_data\n",
    "        QoI = (1./M)*np.sum( (residuals/sigma)**2, axis=1 )\n",
    "        return QoI\n",
    "    return QoI_fun\n",
    "\n",
    "# The model of the harmonic oscillator \n",
    "def makemodel(t):\n",
    "    def model(lam = np.array([[0, 1]]) ):\n",
    "#         return np.cos(lam[:,1]*t + np.arccos(lam[:,0]) )\n",
    "        QoI = np.cos(np.outer(lam[:,1],t) + np.arccos(lam[:,0]).reshape(len(lam[:,0]),1) )\n",
    "        if QoI.shape[0] == 1:\n",
    "            return QoI.ravel() # this allows support for simpler 1D plotting.\n",
    "        else:\n",
    "            return QoI\n",
    "    return model"
   ]
  },
  {
   "cell_type": "code",
   "execution_count": null,
   "metadata": {},
   "outputs": [],
   "source": [
    "t = np.linspace(0, max_time, num_observations)\n",
    "model = makemodel(t)\n",
    "u = model()\n",
    "\n",
    "# Plot the data on three separate curves for S(t), I(t) and R(t)\n",
    "fig = plt.figure(facecolor='w')\n",
    "ax = fig.add_subplot(111, facecolor='#dddddd', axisbelow=True)\n",
    "ax.plot(t, u, 'b', alpha=0.5, lw=2)\n",
    "\n",
    "ax.set_xlabel('Time (s)')\n",
    "ax.set_ylabel('Height')\n",
    "\n",
    "ax.set_ylim(-1.2,1.2)\n",
    "ax.yaxis.set_tick_params(length=0)\n",
    "ax.xaxis.set_tick_params(length=0)\n",
    "\n",
    "ax.grid(b=True, which='major', c='w', lw=2, ls='-')\n",
    "legend = ax.legend()\n",
    "legend.get_frame().set_alpha(0.5)\n",
    "for spine in ('top', 'right', 'bottom', 'left'):\n",
    "    ax.spines[spine].set_visible(False)\n",
    "plt.show()"
   ]
  },
  {
   "cell_type": "markdown",
   "metadata": {},
   "source": [
    "## Get a sense of the variation in the system you are studying\n",
    "\n"
   ]
  },
  {
   "cell_type": "code",
   "execution_count": null,
   "metadata": {},
   "outputs": [],
   "source": [
    "n = 500\n",
    "lam = np.random.random(size=(n,2))\n",
    "lam[:,0] = 2*lam[:,0] - 1.0\n",
    "lam[:,1] = 5*lam[:,1]\n",
    "u = model(lam)\n",
    "# Plotting the default IR results from the epidemic_IR function.\n",
    "for i in range(n):\n",
    "    plt.plot(t, u[i,:], c='k', alpha=5/n) # I\n",
    "plt.plot(t,model(),c='k', lw=3, ls=':')\n",
    "plt.ylabel('Height')\n",
    "plt.xlabel('Time (s)')\n",
    "plt.show()"
   ]
  },
  {
   "cell_type": "markdown",
   "metadata": {},
   "source": [
    "--- \n",
    "\n",
    "# Define Prior Measure $P_\\Lambda$\n"
   ]
  },
  {
   "cell_type": "code",
   "execution_count": null,
   "metadata": {},
   "outputs": [],
   "source": [
    "input_dim = 2 # Specify input space dimension (n) -- this is a handle that the widgets depend on.\n",
    "num_samples = int(2E4) # number of input samples (N)\n",
    "s_set = sample.sample_set(size=(num_samples, input_dim))\n",
    "\n",
    "# s_set.set_dist('beta', kwds={'a': 1, 'b': 1, 'loc': -1, 'scale': 2}, dim=0) # initial condition\n",
    "# s_set.set_dist('beta', kwds={'a': 1, 'b': 1, 'loc': 0, 'scale': 2}, dim=1) # frequency\n",
    "s_set.set_dist('beta', kwds={'a': 1, 'b': 1, 'loc': -0.25, 'scale': 0.5}, dim=0) # initial condition\n",
    "s_set.set_dist('beta', kwds={'a': 1, 'b': 1, 'loc': .5, 'scale': 1}, dim=1) # frequency\n",
    "s_set.generate_samples()\n",
    "\n",
    "lam = s_set.samples # create a pointer for ease of reference later with plotting."
   ]
  },
  {
   "cell_type": "markdown",
   "metadata": {},
   "source": [
    "### Visualize Prior "
   ]
  },
  {
   "cell_type": "code",
   "execution_count": null,
   "metadata": {},
   "outputs": [],
   "source": [
    "widgets.interactive(pltdata, data = fixed(lam), inds = fixed(None), \n",
    "                    N = widgets.IntSlider(value=500, min = 100, max=5000, step=100, continuous_update=False), \n",
    "                    eta_r = fixed(None), space=fixed(0.05), svd=widgets.Checkbox(value=False), color=widgets.Text(value=\"orange\", continuous_update=False),\n",
    "                    view_dim_1 = widgets.IntSlider(value=0, min=0, max=input_dim-1, step=1, continuous_update=False), \n",
    "                    view_dim_2 = widgets.IntSlider(value=input_dim-1, min=0, max=input_dim-1, step=1, continuous_update=False))\n"
   ]
  },
  {
   "cell_type": "markdown",
   "metadata": {},
   "source": [
    "---\n",
    "# Compute Data Space $O(\\Lambda) = \\mathcal{D}$ \n",
    "\n",
    "Format: `(n_dims, n_samples)`  "
   ]
  },
  {
   "cell_type": "code",
   "execution_count": null,
   "metadata": {},
   "outputs": [],
   "source": [
    "u_true = model() # t as a subscript stands for \"truth\"\n",
    "sd_true = 0.1/6\n",
    "sd_guess = 0.1/8\n",
    "\n",
    "obs_data = u_true + np.random.randn(int(num_observations))*sd_true\n",
    "PtO_fun = MSE_generator(model, obs_data, sd_guess)"
   ]
  },
  {
   "cell_type": "code",
   "execution_count": null,
   "metadata": {},
   "outputs": [],
   "source": [
    "p_set = sample.map_samples_and_create_problem(s_set, PtO_fun)\n",
    "D = p_set.output.samples\n",
    "\n",
    "# This is how we handle trying to infer the dimension based on what the map put out.\n",
    "# You can delete this once you are certain your model is correctly defined.\n",
    "try:\n",
    "    output_dim = D.shape[1] # if your function was coded correctly, you should have an (n, d) data space.\n",
    "except IndexError:\n",
    "    print(Warning(\"Warning: Your map might be returning the wrong dimensional data.\"))\n",
    "    try:\n",
    "       output_dim = D.shape[0] \n",
    "    except IndexError:\n",
    "        print(Warning(\"Warning: Guessing it's 1-dimensional.\"))\n",
    "        output_dim = 1\n",
    "print('dimensions :  lambda = '+str(lam.shape)+'   D = '+str(D.shape) )"
   ]
  },
  {
   "cell_type": "markdown",
   "metadata": {},
   "source": [
    "# Compute Push-Forward of the Prior $P_{O(\\Lambda)}$\n",
    "_ ... i.e. Characterize the Data Space_"
   ]
  },
  {
   "cell_type": "code",
   "execution_count": null,
   "metadata": {},
   "outputs": [],
   "source": [
    "# Interactive Marginal Visualization\n",
    "# p_set.compute_pushforward_dist(mirror=False, kwds={'kernel': 'cosine'})\n",
    "p_set.compute_pushforward_dist()\n",
    "pf_dist = p_set.pushforward_dist"
   ]
  },
  {
   "cell_type": "code",
   "execution_count": null,
   "metadata": {
    "scrolled": false
   },
   "outputs": [],
   "source": [
    "# widgets.interactive(pltdata, data = fixed(pf_dist), inds = fixed(None), \n",
    "#         N = widgets.IntSlider(value=10000, min = 100, max=10000, step=100, continuous_update=False), \n",
    "#         eta_r = fixed(None), space=fixed(0.05), svd=fixed(False), color=widgets.Text(value=\"brown\", continuous_update=False),\n",
    "#         view_dim_1 = widgets.IntSlider(value=0, min=0, max=output_dim-1, step=1, continuous_update=False), \n",
    "#         view_dim_2 = widgets.IntSlider(value=output_dim-1, min=0, max=output_dim-1, step=1, continuous_update=False))\n",
    "\n"
   ]
  },
  {
   "cell_type": "markdown",
   "metadata": {},
   "source": [
    "# Define Observed Probability Measure $P_\\mathcal{D}$"
   ]
  },
  {
   "cell_type": "code",
   "execution_count": null,
   "metadata": {},
   "outputs": [],
   "source": [
    "p_set.set_observed_dist('gamma', {'a':num_observations/2, 'scale':2/num_observations}, dim=0)\n",
    "obs_dist = p_set.observed_dist # this is define a pointer for ease of reference.\n",
    "\n",
    "# widgets.interactive(pltdata, data = fixed(obs_dist), inds = fixed(None), \n",
    "#         N = widgets.IntSlider(value=500, min = 100, max=5000, step=100, continuous_update=False), \n",
    "#         eta_r = fixed(None), space=fixed(0.05), svd=fixed(False), color=widgets.Text(value=\"wine\", continuous_update=False),\n",
    "#         view_dim_1 = widgets.IntSlider(value=0, min=0, max=output_dim-1, step=1, continuous_update=False), \n",
    "#         view_dim_2 = widgets.IntSlider(value=output_dim-1, min=0, max=output_dim-1, step=1, continuous_update=False))\n",
    "xx = np.linspace(-10,100,1000).reshape(-1,1)\n",
    "obs_dist = p_set.observed_dist # this is define a pointer for ease of reference.\n",
    "zz = pf_dist.pdf(xx)\n",
    "yy = obs_dist.pdf(xx)"
   ]
  },
  {
   "cell_type": "code",
   "execution_count": null,
   "metadata": {},
   "outputs": [],
   "source": [
    "plt.plot(xx, zz, c='blue',label='pf_prior')\n",
    "plt.plot(xx, yy,c='orange',label='observed')\n",
    "plt.ylim([0,0.02])\n",
    "plt.legend()\n",
    "plt.show()"
   ]
  },
  {
   "cell_type": "markdown",
   "metadata": {},
   "source": [
    "---\n",
    "\n",
    "At this point we have performed the computations we need to. We have evaluated the input points through our map and performed a KDE on them. It would be useful at this point to save this object and/or its evaluation at every point in the data space for later re-use. Doing so here would be an appropriate place. "
   ]
  },
  {
   "cell_type": "markdown",
   "metadata": {},
   "source": [
    "--- \n",
    "\n",
    "# Accept/Reject Sampling of Posterior\n",
    "\n",
    "Since we have already used the samples in our prior to compute the pushforward density, we can re-use these with an accept/reject algorithm to get a set of samples generated from the posterior according to the solution of the stochastic inverse problem as outlined in the Consistent Bayes formulation. "
   ]
  },
  {
   "cell_type": "code",
   "execution_count": null,
   "metadata": {},
   "outputs": [],
   "source": [
    "p_set.set_ratio()\n",
    "eta_r = p_set.ratio\n",
    "solve.problem(p_set)"
   ]
  },
  {
   "cell_type": "code",
   "execution_count": null,
   "metadata": {},
   "outputs": [],
   "source": [
    "accept_inds = p_set.accept_inds\n",
    "lam_accept = p_set.input.samples[accept_inds,:]\n",
    "num_accept = len(accept_inds)\n",
    "print('Number accepted: %d = %2.2f%%'%(num_accept, 100*np.float(num_accept)/num_samples))"
   ]
  },
  {
   "cell_type": "markdown",
   "metadata": {},
   "source": [
    "## Visualize Posterior Density\n",
    "### (Visualize Accept/Reject Samples)\n"
   ]
  },
  {
   "cell_type": "code",
   "execution_count": null,
   "metadata": {
    "scrolled": false
   },
   "outputs": [],
   "source": [
    "# widgets.interactive(pltdata, data = fixed(lam), inds = fixed(accept_inds), \n",
    "#         N = widgets.IntSlider(value=num_accept/2+1, min = 2, max=num_accept, step=1, continuous_update=False), \n",
    "#         eta_r = fixed(None), space=fixed(0.05), svd=widgets.Checkbox(value=False), color=widgets.Text(value=\"orange\", continuous_update=False),\n",
    "#         view_dim_1 = widgets.IntSlider(value=0, min=0, max=input_dim-1, step=1, continuous_update=False), \n",
    "#         view_dim_2 = widgets.IntSlider(value=input_dim-1, min=0, max=input_dim-1, step=1, continuous_update=False))\n",
    "\n",
    "# You will visualize the accepted samples in a subset of size N of the input samples. \n",
    "# This is mostly for faster plotting, but also so you can see the progression of accepted sampling in the algorithm.\n"
   ]
  },
  {
   "cell_type": "markdown",
   "metadata": {},
   "source": [
    "# Alternative Visualization Approach\n",
    "\n",
    "Now that we have constructed the posterior distribution, we can evaluate it at whatever set of samples we want, so we plot it directly, rather than use Accept/Reject.\n"
   ]
  },
  {
   "cell_type": "code",
   "execution_count": null,
   "metadata": {},
   "outputs": [],
   "source": [
    "nbins = 20\n",
    "# mins = np.min(p_set.input.samples,axis=0)\n",
    "# maxs = np.max(p_set.input.samples,axis=0)\n",
    "# mins = np.array([-0.07, 0.75])\n",
    "# maxs = np.array([.07, 1.25])\n",
    "mins = np.array([-0.005, 0.9])\n",
    "maxs = np.array([.005, 1.1])\n",
    "X = grid(nbins, mins, maxs)\n",
    "post_eval = p_set.evaluate_posterior(X)\n",
    "# post_eval = p_set.compute_ratio(PtO_fun(X))*p_set.input.dist.pdf(X)"
   ]
  },
  {
   "cell_type": "code",
   "execution_count": null,
   "metadata": {},
   "outputs": [],
   "source": [
    "# Make the plot\n",
    "xi = X[:,0].reshape(nbins, nbins)\n",
    "yi = X[:,1].reshape(nbins, nbins)\n",
    "zi = post_eval.reshape(nbins, nbins)\n",
    "plt.pcolormesh(xi, yi, zi)\n",
    "lam_true = np.array([0, 1])\n",
    "plt.scatter(lam_true[0],lam_true[1],c='white',edgecolor='black',s=50)\n",
    "plt.show()\n",
    "# ?plt.pcolormesh"
   ]
  },
  {
   "cell_type": "code",
   "execution_count": null,
   "metadata": {},
   "outputs": [],
   "source": [
    "# Perform accept/reject on that grid you see plotted above.\n",
    "Y = PtO_fun(X)\n",
    "inds = solve.perform_accept_reject(X, p_set.compute_ratio(Y))\n",
    "print('Num accepted:', len(inds))"
   ]
  },
  {
   "cell_type": "code",
   "execution_count": null,
   "metadata": {},
   "outputs": [],
   "source": [
    "print('Abs Error in Parameter and MAP:', [*np.abs( lam_true - np.mean(X[inds,:],axis=0) )] )\n",
    "print('Param. Test Stats for Gamma Dist:', [*np.abs( p_set.observed_dist.mean()-np.mean(Y[inds],axis=0))/p_set.observed_dist.mean() , *np.abs( p_set.observed_dist.std()-np.std(Y[inds],axis=0))/p_set.observed_dist.std()])\n"
   ]
  },
  {
   "cell_type": "markdown",
   "metadata": {},
   "source": [
    "---\n",
    "# Now what? \n",
    "\n",
    "Well, we can...\n",
    "\n",
    "## _Visualize the Quality of our SIP Solution by Comparing it to the Observed_\n",
    "_We compare the push-forward of the posterior using accepted samples against the observed density_  \n",
    "_(SIP = Stochastic Inverse Problem)_\n",
    "### Observed:"
   ]
  },
  {
   "cell_type": "code",
   "execution_count": null,
   "metadata": {
    "scrolled": false
   },
   "outputs": [],
   "source": [
    "widgets.interactive(pltdata, data = fixed(obs_dist), inds = fixed(None), \n",
    "        N = widgets.IntSlider(value=500, min = 100, max=5000, step=100, continuous_update=False), \n",
    "        eta_r = fixed(None), space=fixed(0.05), svd=fixed(False), color=widgets.Text(value=\"wine\", continuous_update=False),\n",
    "        view_dim_1 = widgets.IntSlider(value=0, min=0, max=output_dim-1, step=1, continuous_update=False), \n",
    "        view_dim_2 = widgets.IntSlider(value=output_dim-1, min=0, max=output_dim-1, step=1, continuous_update=False))"
   ]
  },
  {
   "cell_type": "markdown",
   "metadata": {},
   "source": [
    "## Pushforward of Posterior:"
   ]
  },
  {
   "cell_type": "code",
   "execution_count": null,
   "metadata": {},
   "outputs": [],
   "source": [
    "widgets.interactive(pltdata, data = fixed(D), inds = fixed(accept_inds), \n",
    "        N = widgets.IntSlider(value=num_accept/2, min = 2, max=num_accept-1, step=1, continuous_update=False), \n",
    "        eta_r = fixed(None), space=fixed(0.05), svd=fixed(False), color=widgets.Text(value=\"eggplant\", continuous_update=False),\n",
    "        view_dim_1 = widgets.IntSlider(value=0, min=0, max=output_dim-1, step=1, continuous_update=False), \n",
    "        view_dim_2 = widgets.IntSlider(value=output_dim-1, min=0, max=output_dim-1, step=1, continuous_update=False))\n"
   ]
  },
  {
   "cell_type": "markdown",
   "metadata": {},
   "source": [
    "## Verify our parametric test statistics.\n",
    "Let's see if the pushforward of the posterior results in a sample mean and standard deviation that are close to the observed."
   ]
  },
  {
   "cell_type": "code",
   "execution_count": null,
   "metadata": {},
   "outputs": [],
   "source": [
    "[np.mean(D[accept_inds,:]), np.std(D[accept_inds,:])]"
   ]
  },
  {
   "cell_type": "code",
   "execution_count": null,
   "metadata": {},
   "outputs": [],
   "source": [
    "[p_set.observed_dist.mean(), p_set.observed_dist.std()]"
   ]
  },
  {
   "cell_type": "markdown",
   "metadata": {},
   "source": [
    "Now go back to the [Define Functions](#Define-Functions) and change the distribution on the prior or choose another example problem."
   ]
  },
  {
   "cell_type": "code",
   "execution_count": null,
   "metadata": {},
   "outputs": [],
   "source": []
  },
  {
   "cell_type": "code",
   "execution_count": null,
   "metadata": {},
   "outputs": [],
   "source": []
  },
  {
   "cell_type": "code",
   "execution_count": null,
   "metadata": {},
   "outputs": [],
   "source": []
  }
 ],
 "metadata": {
  "anaconda-cloud": {},
  "kernelspec": {
   "display_name": "test_py_env",
   "language": "python",
   "name": "test_py_env"
  },
  "language_info": {
   "codemirror_mode": {
    "name": "ipython",
    "version": 3
   },
   "file_extension": ".py",
   "mimetype": "text/x-python",
   "name": "python",
   "nbconvert_exporter": "python",
   "pygments_lexer": "ipython3",
   "version": "3.6.4"
  }
 },
 "nbformat": 4,
 "nbformat_minor": 2
}
