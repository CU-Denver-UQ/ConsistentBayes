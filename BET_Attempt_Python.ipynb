{
 "cells": [
  {
   "cell_type": "code",
   "execution_count": 1,
   "metadata": {},
   "outputs": [],
   "source": [
    "import numpy as np\n",
    "import bet.sample as samp\n",
    "import bet.sampling.basicSampling as bsam\n",
    "import bet.calculateP.simpleFunP as simpleFunP\n",
    "import bet.calculateP.calculateP as calculateP\n",
    "\n",
    "from scipy.stats import uniform as uni"
   ]
  },
  {
   "cell_type": "code",
   "execution_count": 2,
   "metadata": {},
   "outputs": [],
   "source": [
    "def make_model(skew_range):\n",
    "    # this function makes a linear map whos first component is the x-unit vector\n",
    "    # and each subsequent component is a norm-1 vector satisfying the property\n",
    "    # that the 2-2 map made from it and the aforementioned unit vector is a map\n",
    "    # with skewness in skew_range, which is a list of desired skewnesses   \n",
    "    # TODO currently this map only works for 2-D input space     \n",
    "    \n",
    "    def my_model(parameter_samples):\n",
    "        Q_map = [ [1.0, 0.0] ] # all map components have the same norm, rect_size to have measures of events equal btwn spaces.\n",
    "        for s in skew_range:\n",
    "            Q_map.append( [np.sqrt(s**2 - 1), 1] ) # taken with the first component, this leads to a 2-2 map with skewsness 's'\n",
    "        Q_map = np.array( Q_map )\n",
    "        QoI_samples = np.dot(parameter_samples, np.transpose(Q_map))\n",
    "        return QoI_samples\n",
    "    return my_model\n",
    "\n",
    "\n",
    "def invert_rect_cb(My_Discretization, QoI_indices, Qref, rect_size, cells_per_dimension = 1):\n",
    "    # Take full discretization objects, a set of indices for the QoI you want \n",
    "    # to use to perform inversion, and then do so by redefining the output spaces\n",
    "    # based on these indices and solving the problem as usual.\n",
    "    # My_Discretization is copied, the other two are pass-by-reference\n",
    "    # Make copy of object so we can reference it before/after\n",
    "    input_samples = My_Discretization._input_sample_set.copy()\n",
    "    output_samples = My_Discretization._output_sample_set.copy()\n",
    "\n",
    "    output_samples._dim = len(QoI_indices)\n",
    "    output_samples.set_values(output_samples._values[:, QoI_indices])\n",
    "\n",
    "    output_samples.global_to_local()\n",
    "\n",
    "    my_discretization = samp.discretization(input_sample_set=input_samples,\n",
    "                                            output_sample_set=output_samples)\n",
    "    \n",
    "    simpleFunP.regular_partition_uniform_distribution_rectangle_size(my_discretization, \n",
    "        Q_ref =  Qref[QoI_indices],\n",
    "        rect_size = rect_size,\n",
    "        cells_per_dimension = 1)\n",
    "    \n",
    "    calculateP.prob(my_discretization) # this updates the my_discretization object probabilities attribute\n",
    "    \n",
    "    return my_discretization\n"
   ]
  },
  {
   "cell_type": "markdown",
   "metadata": {},
   "source": [
    "## Define Input Samples"
   ]
  },
  {
   "cell_type": "code",
   "execution_count": 3,
   "metadata": {},
   "outputs": [],
   "source": [
    "num_samples = int(1E2) # this will be NUM SAMPLES PER DIM if you specify regular sampling.\n",
    "dim_input = 2\n",
    "dim_output = 2\n",
    "dim_range_each = [0, 1] # same uncertainty bounds for each parameter\n",
    "dim_range = np.repeat([dim_range_each], dim_input, axis=0)\n",
    "Input_Samples = samp.sample_set(dim_input)"
   ]
  },
  {
   "cell_type": "code",
   "execution_count": 4,
   "metadata": {},
   "outputs": [],
   "source": [
    "data_discretization_type = 'rand' # 'reg' for regular smapling, otherwise, random.\n",
    "\n",
    "if data_discretization_type == 'reg': # regular mesh for partition\n",
    "    Input_Samples = bsam.regular_sample_set(input_samples, \n",
    "                                            num_samples_per_dim = np.repeat(num_samples, dim_input, axis=0))\n",
    "else: # random mesh for partition\n",
    "    Input_Samples = bsam.random_sample_set('random', Input_Samples, num_samples = num_samples)\n",
    "Input_Samples.estimate_volume_mc() # Utilize the MC assumption for volumes          "
   ]
  },
  {
   "cell_type": "code",
   "execution_count": 5,
   "metadata": {},
   "outputs": [],
   "source": [
    "# Let's see what is in the probabilities vector ... it is empty.\n",
    "Input_Samples._probabilities"
   ]
  },
  {
   "cell_type": "markdown",
   "metadata": {},
   "source": [
    "## Define Map, Data Space"
   ]
  },
  {
   "cell_type": "code",
   "execution_count": 6,
   "metadata": {},
   "outputs": [],
   "source": [
    "skew_range = [1, 2] # the range of skewness values you want to compare\n",
    "QoI_choice_list = [ [0, n+1] for n in range(len(skew_range))] # this creates that range by subselecting indices from a special map we defined (see above)\n",
    "\n",
    "my_model = make_model(skew_range)\n",
    "sampler = bsam.sampler(my_model)\n"
   ]
  },
  {
   "cell_type": "code",
   "execution_count": 7,
   "metadata": {},
   "outputs": [],
   "source": [
    "My_Discretization = sampler.compute_QoI_and_create_discretization(Input_Samples)"
   ]
  },
  {
   "cell_type": "code",
   "execution_count": 8,
   "metadata": {},
   "outputs": [],
   "source": [
    "My_Discretization._output_sample_set._probabilities # notice the probabilities set is empty"
   ]
  },
  {
   "cell_type": "markdown",
   "metadata": {},
   "source": [
    "## Define Observed Density"
   ]
  },
  {
   "cell_type": "code",
   "execution_count": 9,
   "metadata": {},
   "outputs": [],
   "source": [
    "ref_input = 0.5*np.ones(dim_input)\n",
    "Qref =  my_model(ref_input)\n",
    "rect_area = 0.1 # the total volume measure of the observed density's support\n",
    "rect_size = np.power(rect_area, 1./dim_output) # make box with this sidelength. it will have support with measure equal to `rect_area`\n"
   ]
  },
  {
   "cell_type": "code",
   "execution_count": 10,
   "metadata": {},
   "outputs": [],
   "source": [
    "# see that probabilities are now defined.\n",
    "My_Discretization._output_probability_set"
   ]
  },
  {
   "cell_type": "code",
   "execution_count": 11,
   "metadata": {},
   "outputs": [],
   "source": [
    "map_number = 0\n",
    "QoI_indices = QoI_choice_list[map_number]"
   ]
  },
  {
   "cell_type": "code",
   "execution_count": 12,
   "metadata": {},
   "outputs": [],
   "source": [
    "# Make copy of object so we can reference it before/after\n",
    "input_samples = My_Discretization._input_sample_set.copy()\n",
    "output_samples = My_Discretization._output_sample_set.copy()\n",
    "\n",
    "output_samples._dim = len(QoI_indices)\n",
    "output_samples.set_values(output_samples._values[:, QoI_indices])\n",
    "\n",
    "output_samples.global_to_local()\n",
    "\n",
    "my_discretization = samp.discretization(input_sample_set=input_samples,\n",
    "                                        output_sample_set=output_samples)"
   ]
  },
  {
   "cell_type": "code",
   "execution_count": 13,
   "metadata": {},
   "outputs": [],
   "source": [
    "my_discretization._output_probability_set # look. it's empty."
   ]
  },
  {
   "cell_type": "code",
   "execution_count": 14,
   "metadata": {},
   "outputs": [
    {
     "data": {
      "text/plain": [
       "<bet.sample.cartesian_sample_set at 0x7f65c7251a50>"
      ]
     },
     "execution_count": 14,
     "metadata": {},
     "output_type": "execute_result"
    }
   ],
   "source": [
    "# Compute the simple function approximation to the distribution on the data space of interest\n",
    "simpleFunP.regular_partition_uniform_distribution_rectangle_size(my_discretization, \n",
    "        Q_ref =  Qref[QoI_indices],\n",
    "        rect_size = rect_size,\n",
    "        cells_per_dimension = 1)\n"
   ]
  },
  {
   "cell_type": "code",
   "execution_count": 15,
   "metadata": {},
   "outputs": [
    {
     "data": {
      "text/plain": [
       "<bet.sample.cartesian_sample_set at 0x7f65c7251a50>"
      ]
     },
     "execution_count": 15,
     "metadata": {},
     "output_type": "execute_result"
    }
   ],
   "source": [
    "my_discretization._output_probability_set # now there's something there."
   ]
  },
  {
   "cell_type": "code",
   "execution_count": 16,
   "metadata": {},
   "outputs": [
    {
     "data": {
      "text/plain": [
       "array([ 1.,  0.])"
      ]
     },
     "execution_count": 16,
     "metadata": {},
     "output_type": "execute_result"
    }
   ],
   "source": [
    "my_discretization._output_probability_set._probabilities"
   ]
  },
  {
   "cell_type": "code",
   "execution_count": 17,
   "metadata": {},
   "outputs": [
    {
     "data": {
      "text/plain": [
       "array([[ 0.5,  0.5],\n",
       "       [ inf,  inf]])"
      ]
     },
     "execution_count": 17,
     "metadata": {},
     "output_type": "execute_result"
    }
   ],
   "source": [
    "my_discretization._output_probability_set._values # the samples in D used to define the density"
   ]
  },
  {
   "cell_type": "markdown",
   "metadata": {},
   "source": [
    "## Solve Inverse Problem"
   ]
  },
  {
   "cell_type": "code",
   "execution_count": 18,
   "metadata": {},
   "outputs": [],
   "source": [
    "calculateP.prob(my_discretization) # this updates the my_discretization object probabilities attribute"
   ]
  },
  {
   "cell_type": "code",
   "execution_count": 19,
   "metadata": {},
   "outputs": [
    {
     "data": {
      "text/plain": [
       "array([ 0. ,  0.1,  0. ,  0. ,  0. ,  0. ,  0. ,  0. ,  0. ,  0. ,  0. ,\n",
       "        0. ,  0. ,  0. ,  0. ,  0. ,  0. ,  0. ,  0. ,  0. ,  0. ,  0. ,\n",
       "        0. ,  0. ,  0. ,  0.1,  0. ,  0.1,  0.1,  0. ,  0. ,  0. ,  0. ,\n",
       "        0. ,  0. ,  0. ,  0. ,  0. ,  0. ,  0. ,  0. ,  0. ,  0. ,  0. ,\n",
       "        0. ,  0. ,  0. ,  0. ,  0. ,  0. ,  0. ,  0. ,  0. ,  0. ,  0. ,\n",
       "        0. ,  0. ,  0. ,  0. ,  0. ,  0. ,  0. ,  0. ,  0. ,  0. ,  0. ,\n",
       "        0. ,  0. ,  0. ,  0. ,  0. ,  0. ,  0. ,  0.1,  0.1,  0.1,  0. ,\n",
       "        0. ,  0. ,  0. ,  0.1,  0. ,  0. ,  0.1,  0. ,  0. ,  0. ,  0. ,\n",
       "        0. ,  0. ,  0. ,  0. ,  0. ,  0. ,  0. ,  0. ,  0. ,  0.1,  0. ,\n",
       "        0. ])"
      ]
     },
     "execution_count": 19,
     "metadata": {},
     "output_type": "execute_result"
    }
   ],
   "source": [
    "my_discretization._input_sample_set._probabilities"
   ]
  },
  {
   "cell_type": "code",
   "execution_count": 20,
   "metadata": {},
   "outputs": [
    {
     "data": {
      "text/plain": [
       "'test_saved_discretization'"
      ]
     },
     "execution_count": 20,
     "metadata": {},
     "output_type": "execute_result"
    }
   ],
   "source": [
    "filename = 'test_saved_discretization'\n",
    "samp.save_discretization(my_discretization, filename)"
   ]
  },
  {
   "cell_type": "markdown",
   "metadata": {},
   "source": [
    "## Visualize Solution"
   ]
  },
  {
   "cell_type": "code",
   "execution_count": null,
   "metadata": {},
   "outputs": [],
   "source": []
  },
  {
   "cell_type": "code",
   "execution_count": null,
   "metadata": {},
   "outputs": [],
   "source": []
  },
  {
   "cell_type": "code",
   "execution_count": null,
   "metadata": {},
   "outputs": [],
   "source": []
  },
  {
   "cell_type": "markdown",
   "metadata": {},
   "source": [
    "## Now for Consistent Bayes..."
   ]
  },
  {
   "cell_type": "code",
   "execution_count": 21,
   "metadata": {},
   "outputs": [],
   "source": [
    "# This is the vector we'll be comparing against\n",
    "vol_lambda = 1.0 # measure of the parameter space.\n",
    "# set the prior\n",
    "prior = 1.0/vol_lambda*np.ones(num_samples)"
   ]
  },
  {
   "cell_type": "code",
   "execution_count": 22,
   "metadata": {
    "scrolled": true
   },
   "outputs": [],
   "source": [
    "input_samples = my_discretization._input_sample_set._values # points from the parameter space"
   ]
  },
  {
   "cell_type": "code",
   "execution_count": 23,
   "metadata": {},
   "outputs": [],
   "source": [
    "output_samples = my_discretization._output_sample_set._values # and where they map to."
   ]
  },
  {
   "cell_type": "code",
   "execution_count": 24,
   "metadata": {},
   "outputs": [],
   "source": [
    "from scipy.stats import uniform\n",
    "from scipy.stats import gaussian_kde as gkde"
   ]
  },
  {
   "cell_type": "code",
   "execution_count": 25,
   "metadata": {},
   "outputs": [],
   "source": [
    "data_kde = gkde(output_samples.transpose()) # pushforward of prior\n",
    "pf_pr = data_kde.pdf(output_samples.transpose())"
   ]
  },
  {
   "cell_type": "code",
   "execution_count": 26,
   "metadata": {},
   "outputs": [],
   "source": [
    "for m in QoI_indices:\n",
    "    d = Qref[m] - 0.5*rect_size # marginal distribution ... left-hand side. (loc)\n",
    "    obs = uni.pdf(output_samples[:,m].transpose(), loc=d, scale=rect_size)\n",
    "    prior *= obs\n",
    "prior /= pf_pr"
   ]
  },
  {
   "cell_type": "code",
   "execution_count": 27,
   "metadata": {},
   "outputs": [],
   "source": [
    "post = prior/np.max(prior)"
   ]
  },
  {
   "cell_type": "code",
   "execution_count": 31,
   "metadata": {},
   "outputs": [],
   "source": [
    "nonzero_cells = my_discretization._input_sample_set._probabilities/np.max(my_discretization._input_sample_set._probabilities)"
   ]
  },
  {
   "cell_type": "code",
   "execution_count": 33,
   "metadata": {
    "scrolled": true
   },
   "outputs": [],
   "source": [
    "# A check to see if the CB approach assigned positive probabilities where the BET assigned zeros.\n",
    "for i in range(num_samples):\n",
    "    if post[i] > nonzero_cells[i]:\n",
    "        print \"mismatch\""
   ]
  },
  {
   "cell_type": "code",
   "execution_count": null,
   "metadata": {},
   "outputs": [],
   "source": []
  },
  {
   "cell_type": "code",
   "execution_count": null,
   "metadata": {},
   "outputs": [],
   "source": []
  }
 ],
 "metadata": {
  "kernelspec": {
   "display_name": "py2",
   "language": "python",
   "name": "py2"
  },
  "language_info": {
   "codemirror_mode": {
    "name": "ipython",
    "version": 2
   },
   "file_extension": ".py",
   "mimetype": "text/x-python",
   "name": "python",
   "nbconvert_exporter": "python",
   "pygments_lexer": "ipython2",
   "version": "2.7.14"
  }
 },
 "nbformat": 4,
 "nbformat_minor": 2
}
