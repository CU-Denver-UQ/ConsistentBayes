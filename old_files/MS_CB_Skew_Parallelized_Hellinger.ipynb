{
 "cells": [
  {
   "cell_type": "markdown",
   "metadata": {},
   "source": [
    "## Import Libraries for Math, Distributions, Plotting"
   ]
  },
  {
   "cell_type": "markdown",
   "metadata": {},
   "source": [
    "This notebook is the same as the other one, but with naive parallelization built in to batch out the trials."
   ]
  },
  {
   "cell_type": "code",
   "execution_count": 24,
   "metadata": {
    "scrolled": true
   },
   "outputs": [
    {
     "data": {
      "text/plain": [
       "[0, 1, 2, 3, 4, 5, 6, 7]"
      ]
     },
     "execution_count": 24,
     "metadata": {},
     "output_type": "execute_result"
    }
   ],
   "source": [
    "import ipyparallel as ipp # import the client\n",
    "rc = ipp.Client()\n",
    "dv = rc[:]\n",
    "rc.ids # list the ids of the engine the client can communicate with"
   ]
  },
  {
   "cell_type": "code",
   "execution_count": 25,
   "metadata": {},
   "outputs": [],
   "source": [
    "%%px\n",
    "import numpy as np\n",
    "import matplotlib.pyplot as plt\n",
    "plt.rcParams.update({'font.size': 14})\n",
    "from scipy.stats import uniform\n",
    "# from scipy.stats import chi2\n",
    "from scipy.stats import gaussian_kde as gkde\n",
    "from scipy.stats import multivariate_normal\n",
    "# import scipy.stats as sstats \n",
    "from ipywidgets import *"
   ]
  },
  {
   "cell_type": "code",
   "execution_count": 26,
   "metadata": {},
   "outputs": [],
   "source": [
    "%%px\n",
    "def make_model(skew_range):\n",
    "    # this function makes a linear map whos first component is the x-unit vector\n",
    "    # and each subsequent component is a norm-1 vector satisfying the property\n",
    "    # that the 2-2 map made from it and the aforementioned unit vector is a map\n",
    "    # with skewness in skew_range, which is a list of desired skewnesses   \n",
    "    # TODO currently this map only works for 2-D input space     \n",
    "    \n",
    "    def my_model(parameter_samples):\n",
    "        Q_map = [ [1.0, 0.0] ] # all map components have the same norm, rect_size to have measures of events equal btwn spaces.\n",
    "        for s in skew_range:\n",
    "            Q_map.append( [np.sqrt(s**2 - 1), 1] ) # taken with the first component, this leads to a 2-2 map with skewsness 's'\n",
    "        Q_map = np.array( Q_map )\n",
    "        QoI_samples = np.dot(parameter_samples, np.transpose(Q_map))\n",
    "        return QoI_samples\n",
    "    return my_model"
   ]
  },
  {
   "cell_type": "markdown",
   "metadata": {},
   "source": [
    "## Set Simulation Options\n",
    "\n",
    "We are trying to determine the relationship between skewness and the number of samples required to approximate a solution to the inverse problem according to the $L^1$ metric (Total Variation).  "
   ]
  },
  {
   "cell_type": "code",
   "execution_count": 31,
   "metadata": {},
   "outputs": [],
   "source": [
    "%%px\n",
    "lambda_ref = np.array([0.5, 0.5])\n",
    "# num_samples = np.array([1E2, 1E3, 1E4, 1E5]).astype('int') # independent variable\n",
    "# num_samples = np.array([1E2, 2E2, 3E2, 4E2, 5E2]).astype('int')\n",
    "num_samples = np.array([250, 500, 1000, 2000, 4000, 8000, 16000]).astype('int') # independent variable\n",
    "\n",
    "\n",
    "# Number of Samples used for reference solution, number of trials\n",
    "num_emulate = int(1E6)\n",
    "\n",
    "# define some handles for functions we will use.\n",
    "# prior_dist = np.random.uniform\n",
    "prior_dist = uniform # can use any scipy.stats class\n",
    "obs_density = 'uniform' # choose 'uniform' or 'normal'. will error otherwise / use what is in memory\n"
   ]
  },
  {
   "cell_type": "code",
   "execution_count": 32,
   "metadata": {},
   "outputs": [],
   "source": [
    "%%px\n",
    "skew_range = np.array([1, 2, 4]) # skewnesses you want to compare\n",
    "sigma = 1E-3 # for the normal observed distribution choice\n",
    "scale = 0.2 # for the uniform"
   ]
  },
  {
   "cell_type": "markdown",
   "metadata": {},
   "source": [
    "## Define Global Variables for Parallel Run"
   ]
  },
  {
   "cell_type": "code",
   "execution_count": 33,
   "metadata": {},
   "outputs": [
    {
     "data": {
      "text/plain": [
       "<AsyncResult: scatter>"
      ]
     },
     "execution_count": 33,
     "metadata": {},
     "output_type": "execute_result"
    }
   ],
   "source": [
    "# all this needs to be defined outside of the parallel environment.\n",
    "import numpy as np\n",
    "# %matplotlib inline\n",
    "import matplotlib.pyplot as plt\n",
    "plt.rcParams.update({'font.size': 14})\n",
    "num_trials = 5\n",
    "trial_seed_list = list(range(num_trials))\n",
    "dv.scatter('trial_chunk', trial_seed_list)"
   ]
  },
  {
   "cell_type": "markdown",
   "metadata": {},
   "source": [
    "## Run Experiment (in Parallel)\n",
    "\n",
    "The following linear map $Q_s: \\mathbb{R}^2 \\to \\mathbb{R}^2$ is defined to have skewness $s$ at all $\\lambda \\in \\Lambda$.  \n",
    "\n",
    "$$\n",
    "Q_s(\\lambda) = \\lbrace \\, \\lambda_1, \\; \\lambda_1 \\sqrt{s^2 - 1} + \\lambda_2 \\, \\rbrace\n",
    "$$"
   ]
  },
  {
   "cell_type": "markdown",
   "metadata": {},
   "source": [
    "Since we are parallelizing the trials across the processors, we should define certain variables so that each processor has the same references."
   ]
  },
  {
   "cell_type": "code",
   "execution_count": 34,
   "metadata": {},
   "outputs": [],
   "source": [
    "%%px\n",
    "# pass the same emulated samples to everything.\n",
    "lam_emulate = prior_dist.rvs( size=(num_emulate, 2) )\n",
    "\n",
    "def run_trial(trial_seed):\n",
    "    ell_1_error = np.zeros( (skew_range.size, num_samples.size) )\n",
    "    hd_error = np.zeros( (skew_range.size, num_samples.size) )\n",
    "    for s_idx, s in enumerate(skew_range):\n",
    "    #     print('Skewness = ', s) \n",
    "        Q = make_model([s])\n",
    "        q_emulate = Q( lam_emulate )\n",
    "        pf_dens_ref = gkde(q_emulate.transpose()) # reference pushforward density\n",
    "\n",
    "        q_center = Q(lambda_ref)\n",
    "        if obs_density == 'normal':\n",
    "            obs = multivariate_normal(mean=q_center, cov=sigma) # define the handle, can now call .pdf\n",
    "        elif obs_density == 'uniform':\n",
    "            obs = uniform(loc=q_center-0.5*scale, scale=scale)\n",
    "        \n",
    "        # map ahead of time in order to save on repeated computations\n",
    "        np.random.seed(trial_seed) # this ensures that as N grows, we \"reuse\" the prior evaluations.\n",
    "        lam_full = prior_dist.rvs( size=(np.max(num_samples), 2) )\n",
    "        q_full = Q(lam_full)\n",
    "        \n",
    "        for N_idx, N in enumerate(num_samples):\n",
    "#             print( '(skew, N, k) = (%d, %d, %d)'%(s, N, trial_seed) )\n",
    "            lam = lam_full[:N,:] # generate some coarse approximations \n",
    "            q = q_full[:N,:]\n",
    "            pf_dens_approx = gkde(q.transpose())\n",
    "            if obs_density == 'normal':\n",
    "                ell_1_error[s_idx, N_idx] = ( 1.0/N * np.sum( np.abs(\n",
    "                    obs.pdf(q)*(  1/pf_dens_ref.pdf(q.transpose()) - 1./pf_dens_approx.pdf(q.transpose())  ) )) )\n",
    "            elif obs_density == 'uniform':\n",
    "#                 ell_1_error[s_idx, N_idx] = ( 1.0/N * np.sum( np.abs(\n",
    "#                     np.prod(obs.pdf(q), axis=1)*(  1./pf_dens_ref.pdf(q.transpose()) - 1./pf_dens_approx.pdf(q.transpose())  ) )) )\n",
    "                hd_error[s_idx, N_idx] = 0.5/N * np.linalg.norm(\n",
    "                    np.sqrt(np.prod(obs.pdf(q), axis=1))*( 1./np.sqrt(pf_dens_ref.pdf(q.transpose())) - 1./np.sqrt(pf_dens_approx.pdf(q.transpose()))  ) )\n",
    "    print(\"Done.\")\n",
    "#     return ell_1_error\n",
    "    return hd_error"
   ]
  },
  {
   "cell_type": "code",
   "execution_count": 35,
   "metadata": {
    "scrolled": false
   },
   "outputs": [],
   "source": [
    "%%capture output\n",
    "%%px\n",
    "L1_error = list(map(run_trial, trial_chunk))"
   ]
  },
  {
   "cell_type": "code",
   "execution_count": 36,
   "metadata": {},
   "outputs": [
    {
     "name": "stdout",
     "output_type": "stream",
     "text": [
      "[stdout:0] Done.\n",
      "[stdout:1] Done.\n",
      "[stdout:2] Done.\n",
      "[stdout:3] Done.\n",
      "[stdout:4] Done.\n"
     ]
    }
   ],
   "source": [
    "output.show()"
   ]
  },
  {
   "cell_type": "code",
   "execution_count": 37,
   "metadata": {},
   "outputs": [],
   "source": [
    "ell_1_error = np.array(list(dv.gather('L1_error').get() ))\n",
    "np.save(\"savefile_uni_hd.npy\", ell_1_error)"
   ]
  },
  {
   "cell_type": "code",
   "execution_count": 38,
   "metadata": {},
   "outputs": [
    {
     "data": {
      "text/plain": [
       "array([[  2.19855309e-03,   8.93803645e-04,   6.32273150e-04,\n",
       "          5.17489765e-04,   2.95033513e-04,   1.38397948e-04,\n",
       "          8.57273746e-05],\n",
       "       [  2.29143958e-03,   1.07670323e-03,   7.22430955e-04,\n",
       "          5.60735730e-04,   2.87998355e-04,   1.32415856e-04,\n",
       "          8.06309042e-05],\n",
       "       [  2.59524886e-03,   1.19449560e-03,   8.74399210e-04,\n",
       "          5.63491007e-04,   3.05905040e-04,   1.59995298e-04,\n",
       "          1.00134604e-04]])"
      ]
     },
     "execution_count": 38,
     "metadata": {},
     "output_type": "execute_result"
    }
   ],
   "source": [
    "mean_ell_1_error = np.mean(ell_1_error, axis=0) # average out the five trials\n",
    "mean_ell_1_error"
   ]
  },
  {
   "cell_type": "markdown",
   "metadata": {},
   "source": [
    "### Plotting Code\n",
    "** MANUALLY make sure that `num_samples` is correct **\n",
    "\n",
    "\n",
    "    (TODO: Figure out how to grab them from one of the parallel threads instead.)"
   ]
  },
  {
   "cell_type": "code",
   "execution_count": 39,
   "metadata": {},
   "outputs": [
    {
     "data": {
      "image/png": "[encoded data removed]",
      "text/plain": [
       "<matplotlib.figure.Figure at 0x7f6d8d83a898>"
      ]
     },
     "metadata": {},
     "output_type": "display_data"
    }
   ],
   "source": [
    "# num_samples = np.array([1E2, 1E3, 1E4, 1E5]).astype('int') # independent variable\n",
    "num_samples = np.array([250, 500, 1000, 2000, 4000, 8000, 16000]).astype('int') # independent variable\n",
    "\n",
    "skew_range = [1,2,4]\n",
    "\n",
    "for s_idx, s in enumerate(skew_range):\n",
    "    plt.loglog(num_samples, mean_ell_1_error[s_idx,:], label='s=%d'%s)\n",
    "plt.legend(loc=3)\n",
    "\n",
    "plt.savefig('convergence_linearQ_param_skew_vs_samples_uniform_full_hd.pdf')"
   ]
  },
  {
   "cell_type": "code",
   "execution_count": 20,
   "metadata": {},
   "outputs": [
    {
     "name": "stdout",
     "output_type": "stream",
     "text": [
      "[ 1.09455532  0.73396847  0.95649936  0.8004473 ]\n"
     ]
    }
   ],
   "source": [
    "print( mean_ell_1_error[0,:]/mean_ell_1_error[2,:] ) # convergence rate"
   ]
  },
  {
   "cell_type": "code",
   "execution_count": null,
   "metadata": {},
   "outputs": [],
   "source": []
  }
 ],
 "metadata": {
  "anaconda-cloud": {},
  "kernelspec": {
   "display_name": "py3",
   "language": "python",
   "name": "py3"
  },
  "language_info": {
   "codemirror_mode": {
    "name": "ipython",
    "version": 3
   },
   "file_extension": ".py",
   "mimetype": "text/x-python",
   "name": "python",
   "nbconvert_exporter": "python",
   "pygments_lexer": "ipython3",
   "version": "3.6.4"
  }
 },
 "nbformat": 4,
 "nbformat_minor": 2
}
