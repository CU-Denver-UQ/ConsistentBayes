{
 "cells": [
  {
   "cell_type": "markdown",
   "metadata": {},
   "source": [
    "# Working with Time-Series Data in a Consistent Bayesian Framework:\n",
    "## Case Studies\n",
    "---\n",
    "\n",
    "Copyright 2018 Michael Pilosov\n"
   ]
  },
  {
   "cell_type": "markdown",
   "metadata": {},
   "source": [
    "---\n",
    "## Defining the Parameter to Observables (PtO) and Quantity of Interest (QoI) maps\n",
    "\n",
    "---\n",
    "Consider the Initival Value Problem (IVP)\n",
    "\n",
    "$$\n",
    "\\begin{cases}\n",
    "    \\dot{u}(t) = -u(t), & t>0 \\\\\n",
    "    u(0) = \\lambda, & \n",
    "\\end{cases}\n",
    "$$\n",
    "\n",
    "with solution $u(t;\\lambda) = \\lambda \\,e^{-t}$.\n",
    "\n",
    "Let $0<t_0<t_1<\\ldots, t_K$ denote the observation times. \n",
    "Given a fixed initial condition (i.e., parameter) $\\lambda$, let $y_k$ denote the set of (noisy) observations of the state variable $u(t_k,\\lambda)$ for $k=0,1,\\ldots, K$. \n",
    "\n",
    "We make the standard assumption of an additive error model with independent identically distributed noise, i.e., for each $k=0,1,\\ldots,K$ and fixed value of $\\lambda$, we assume that the Parameter-to-Observables (PtO) maps are given by\n",
    "\n",
    "$$\n",
    "O_k(\\lambda) := u(t_k;\\lambda) + \\epsilon_k, \\quad \\epsilon_k \\sim N(0,\\sigma_k). \n",
    "$$\n",
    "\n",
    "Assume that there is a true value of $\\lambda$, which we denoted by $\\lambda_0$, for which the observations $y_k:=O_k(\\lambda_0)$ are given for $k=0,1,\\ldots,K$.\n",
    "\n",
    "Then, for any other value of $\\lambda$ in the IVP above, we define the Quantity of Interest (QoI) as the **Weighted Sum Squared Error (a weighted 2-norm) between the observations and the model predictions**, i.e., we define the QoI map as\n",
    "\n",
    "$$\n",
    "    \\boxed{Q(\\lambda) := \\sum_{k=0}^{K} \\frac{(u(t_k;\\lambda) - y_k) ^ 2}{\\sigma_k^2}}\n",
    "$$\n",
    "\n",
    "We let $\\mathcal{D} := Q(\\Lambda)$ denote the space of all possible observations of mean squared error. \n"
   ]
  },
  {
   "cell_type": "markdown",
   "metadata": {},
   "source": [
    "---\n",
    "## Formulating the Inverse Problem:\n",
    "---\n",
    "### Prior Information/Assumptions\n",
    "\n",
    "* We assume that the true value $\\lambda_0$ belongs to the parameter space defined by $\\Lambda:= [a, b]$.\n",
    "\n",
    "\n",
    "* Prior to the data $\\{y_k\\}_{k=0}^K$ being available, any value of the parameter $\\lambda$ in $\\Lambda$ is assumed to be equally likely. In other words, we take $\\pi^{prior}_\\Lambda(\\lambda)$ to be a uniform density.\n",
    "\n",
    "\n",
    "### The Observed Density\n",
    "\n",
    "* For the true value of $\\lambda_0$, we have that $u(t_k;\\lambda_0)-y_k = \\epsilon_k$ for each $k$. Thus, the observed density on $\\mathcal{D}$, denoted by $\\pi^{obs}_{\\mathcal{D}}(d)$, is given by a $\\chi^2_{K+1}$ distribution.\n",
    "\n",
    "### The Posterior Density\n",
    "\n",
    "* Let $\\pi^{O(prior)}_{\\mathcal{D}}(d)$ denote the push-forward of the prior density onto $\\mathcal{D}$. Then, the posterior density on $\\Lambda$ is given by\n",
    "\n",
    "$$\n",
    "    \\pi^{post}_\\Lambda(\\lambda) := \\pi^{prior}_\\Lambda(\\lambda)\\frac{\\pi^{obs}_{\\mathcal{D}}(Q(\\lambda))}{\\pi^{O(prior)}_{\\mathcal{D}}(Q(\\lambda))}\n",
    "$$"
   ]
  },
  {
   "cell_type": "markdown",
   "metadata": {},
   "source": [
    "---\n",
    "## The numerical implementation and practical considerations\n",
    "---\n",
    "Here, we provide only a few brief remarks on the implementation.\n",
    "For a step-by-step walkthrough, please see the CBayes_TS.ipynb file.\n",
    "Below you will find an all-in-one version. \n",
    "\n",
    "***Some useful remarks go here.***\n",
    "\n",
    "* In the `sandbox` function below, `T` is an interval of observation times\n",
    "\n"
   ]
  },
  {
   "cell_type": "markdown",
   "metadata": {},
   "source": [
    "---\n",
    "\n",
    "### Define some functions for the sandbox"
   ]
  },
  {
   "cell_type": "code",
   "execution_count": null,
   "metadata": {},
   "outputs": [],
   "source": [
    "# Interactivity\n",
    "from cb_sandbox import *\n",
    "%matplotlib inline"
   ]
  },
  {
   "cell_type": "markdown",
   "metadata": {},
   "source": [
    "---\n",
    "\n",
    "# All-in-One Sandbox!\n",
    "_Run the cells below to start experimenting_"
   ]
  },
  {
   "cell_type": "markdown",
   "metadata": {},
   "source": [
    "### Set up an example to illustrate some observations of this system\n",
    "\n",
    "The follow are available handles:  \n",
    "`num_samples`  `sd`  `num_trials`  \n",
    "`lam_bound`  `lam_0`    \n",
    "`t_0`  `Delta_t`  `num_observations`  \n",
    "\n",
    "`compare`  `smooth_post`  `fixed_noise`\n"
   ]
  },
  {
   "cell_type": "markdown",
   "metadata": {},
   "source": [
    "### Measuring Earlier is Advantageous"
   ]
  },
  {
   "cell_type": "code",
   "execution_count": null,
   "metadata": {},
   "outputs": [],
   "source": [
    "# acc = tab_nest.children[1].children[0].children[0] # accordion object. how to collapse??"
   ]
  },
  {
   "cell_type": "code",
   "execution_count": null,
   "metadata": {},
   "outputs": [],
   "source": [
    "# Display the \"tabulated nest\" with this many tabs\n",
    "times = [0.25, 0.5, 0.75, 1.0, 1.25]\n",
    "num_ex_1 = len(times)\n",
    "T1, K1, f1 = make_tabulated_sandbox(num_ex_1)"
   ]
  },
  {
   "cell_type": "code",
   "execution_count": null,
   "metadata": {
    "scrolled": false
   },
   "outputs": [],
   "source": [
    "for k in range(num_ex_1):\n",
    "    f1[k].value = False\n",
    "    K1[k]['num_samples'].value = 2500\n",
    "    K1[k]['t_0'].value = times[k]\n",
    "    K1[k]['num_trials'].value = 3\n",
    "    K1[k]['sd'].value = 0.15\n",
    "    f1[k].value = True # fixed observation window option\n",
    "    K1[k]['fun_choice'].value = 0\n",
    "    K1[k]['sd'].value = 0.10\n",
    "    \n",
    "prop = 'fixed_noise'\n",
    "widgets.interact(set_prop, num_experiments = widgets.fixed(num_ex_1), K = widgets.fixed(K1), prop=widgets.fixed(prop), \n",
    "                val = widgets.Checkbox(value=True, description = 'Fix Noise') );\n",
    "prop = 'smooth_post'\n",
    "widgets.interact(set_prop,  num_experiments = widgets.fixed(num_ex_1), K = widgets.fixed(K1), prop=widgets.fixed(prop), \n",
    "                val = widgets.Checkbox(value=True, description = 'Smooth Post') );\n",
    "prop = 'compare'\n",
    "widgets.interact(set_prop,  num_experiments = widgets.fixed(num_ex_1), K = widgets.fixed(K1), prop=widgets.fixed(prop), \n",
    "                val = widgets.Checkbox(value=False, description = 'Compare') );\n",
    "prop = 'fun_choice'\n",
    "widgets.interact(set_prop, num_experiments =  widgets.fixed(num_ex_1), K = widgets.fixed(K1), prop=widgets.fixed(prop),\n",
    "                val=widgets.IntSlider(value=0,min=0,max=1,description='Fun. Choice'))\n",
    "\n",
    "prop = 'num_observations'\n",
    "widgets.interact_manual(set_prop,  num_experiments = widgets.fixed(num_ex_1), K = widgets.fixed(K1), prop=widgets.fixed(prop), \n",
    "                val = widgets.IntSlider(value=K1[0][prop].value, min=1, max=100, description='Num. Obs') );\n",
    "prop = 'Delta_t'\n",
    "widgets.interact_manual(set_prop,  num_experiments = widgets.fixed(num_ex_1), K = widgets.fixed(K1), prop=widgets.fixed(prop), \n",
    "                val = widgets.FloatSlider(value=K1[0][prop].value, min=0.05, max=0.5, step=0.05, description='$\\Delta_t$ =') );\n",
    "prop = 'sd'\n",
    "widgets.interact_manual(set_prop,  num_experiments = widgets.fixed(num_ex_1), K = widgets.fixed(K1), prop=widgets.fixed(prop), \n",
    "                val = widgets.FloatSlider(value=K1[0][prop].value, min=0.05, max=0.25, step=0.01, description='Constant $\\sigma$:' ));\n",
    "\n",
    "T1"
   ]
  },
  {
   "cell_type": "markdown",
   "metadata": {},
   "source": [
    "---\n",
    "\n",
    "### The Effect of Measurement Frequency\n",
    "\n",
    "Now that we have established that measuring early is advantageous, we pose the question of how many measurements we should make. First suppose that we decide to *fix a measurement frequency* and study the effect of taking more observations (thus in effect, measuring for longer periods of time).  \n",
    "\n",
    "Since the system associated with `fun_choice = 0` is tending towards equilibrium, we expect to see diminishing returns. The system associated with `fun_choice = 1` should be unaffected though."
   ]
  },
  {
   "cell_type": "code",
   "execution_count": null,
   "metadata": {},
   "outputs": [],
   "source": [
    "# Display the \"tabulated nest\" with this many tabs\n",
    "multiplier = 10\n",
    "num_obs = multiplier*np.array([k for k in range(1,11)]).astype('int')\n",
    "\n",
    "num_ex_2 = len(num_obs)\n",
    "T2, K2, f2 = make_tabulated_sandbox(num_ex_2)"
   ]
  },
  {
   "cell_type": "code",
   "execution_count": null,
   "metadata": {
    "scrolled": false
   },
   "outputs": [],
   "source": [
    "for k in range(num_ex_2):\n",
    "    f2[k].value = False\n",
    "    K2[k]['num_samples'].value = 1000\n",
    "    K2[k]['num_observations'].value = num_obs[k]\n",
    "    K2[k]['num_trials'].value = 1\n",
    "    K2[k]['t_0'].value = 0.1\n",
    "    K2[k]['num_observations'].max = 1000\n",
    "    K2[k]['sd'].value = 0.10\n",
    "    K2[k]['fun_choice'].value = 0\n",
    "    K2[k]['Delta_t'].min = 0.0001\n",
    "    K2[k]['Delta_t'].step = 0.0001\n",
    "    K2[k]['Delta_t'].value = 0.1\n",
    "    \n",
    "#     f2[k].value = True\n",
    "    \n",
    "prop = 'fixed_noise'\n",
    "widgets.interact(set_prop, num_experiments = widgets.fixed(num_ex_2), K = widgets.fixed(K2), prop=widgets.fixed(prop), \n",
    "                val = widgets.Checkbox(value=True, description = 'Fix Noise') );\n",
    "prop = 'smooth_post'\n",
    "widgets.interact(set_prop, num_experiments = widgets.fixed(num_ex_2), K = widgets.fixed(K2), prop=widgets.fixed(prop), \n",
    "                val = widgets.Checkbox(value=True, description = 'Smooth Post') );\n",
    "prop = 'fun_choice'\n",
    "widgets.interact(set_prop, num_experiments =  widgets.fixed(num_ex_2), K = widgets.fixed(K2), prop=widgets.fixed(prop),\n",
    "                val=widgets.IntSlider(value=0,min=0,max=1,description='Fun. Choice'))\n",
    "\n",
    "prop = 't_0'\n",
    "widgets.interact_manual(set_prop, num_experiments = widgets.fixed(num_ex_2), K = widgets.fixed(K2), prop=widgets.fixed(prop), \n",
    "                val = widgets.FloatSlider(value=K2[0][prop].value, min=0.1, max=2, step=0.1, description='$t_0$ =') );\n",
    "prop = 'num_samples'\n",
    "widgets.interact_manual(set_prop, num_experiments = widgets.fixed(num_ex_2), K = widgets.fixed(K2), prop=widgets.fixed(prop), \n",
    "                val = widgets.IntSlider(value=K2[0][prop].value, min=int(5E2), max=int(1E4), step=250, description='Samp. $N$ =') );\n",
    "prop = 'Delta_t'\n",
    "widgets.interact_manual(set_prop, num_experiments = widgets.fixed(num_ex_2), K = widgets.fixed(K2), prop=widgets.fixed(prop), \n",
    "                val = widgets.FloatSlider(value=K2[0][prop].value, min=K2[0][prop].min, max=K2[0][prop].max, step=0.005, description='$\\Delta_t$ =') );\n",
    "prop = 'sd'\n",
    "widgets.interact_manual(set_prop, num_experiments = widgets.fixed(num_ex_2), K = widgets.fixed(K2), prop=widgets.fixed(prop), \n",
    "                val = widgets.FloatSlider(value=K2[0][prop].value, min=0.05, max=0.25, step=0.01, description='Constant $\\sigma$:' ));\n",
    "\n",
    "T2"
   ]
  },
  {
   "cell_type": "markdown",
   "metadata": {},
   "source": [
    "We see very little (if any) benefit of measuring after a certain point in time. Now let us fix an observation window and see the effect of measuring more frequently inside a fixed time interval. _We work on the same figure._"
   ]
  },
  {
   "cell_type": "code",
   "execution_count": null,
   "metadata": {},
   "outputs": [],
   "source": [
    "obs_window_length = 1.0 # choose size of the time interval over which you will perform your observations\n",
    "for k in range(num_ex_2):\n",
    "    K2[k]['num_observations'].value = num_obs[k]\n",
    "    K2[k]['Delta_t'].value = obs_window_length/K2[k]['num_observations'].value\n",
    "    K2[k]['Delta_t'].max = 0.1"
   ]
  },
  {
   "cell_type": "code",
   "execution_count": null,
   "metadata": {},
   "outputs": [],
   "source": [
    "for k in range(num_ex_2):\n",
    "    K2[k]['num_observations'].value = 100\n",
    "    f2[k].value = True"
   ]
  },
  {
   "cell_type": "code",
   "execution_count": null,
   "metadata": {},
   "outputs": [],
   "source": []
  }
 ],
 "metadata": {
  "anaconda-cloud": {},
  "kernelspec": {
   "display_name": "test_py_env",
   "language": "python",
   "name": "test_py_env"
  },
  "language_info": {
   "codemirror_mode": {
    "name": "ipython",
    "version": 3
   },
   "file_extension": ".py",
   "mimetype": "text/x-python",
   "name": "python",
   "nbconvert_exporter": "python",
   "pygments_lexer": "ipython3",
   "version": "3.6.4"
  }
 },
 "nbformat": 4,
 "nbformat_minor": 2
}
