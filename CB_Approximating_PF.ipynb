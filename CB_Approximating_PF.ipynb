{
 "cells": [
  {
   "cell_type": "markdown",
   "metadata": {},
   "source": [
    "## Import Libraries for Math, Distributions, Plotting"
   ]
  },
  {
   "cell_type": "code",
   "execution_count": 2,
   "metadata": {},
   "outputs": [],
   "source": [
    "import numpy as np\n",
    "%matplotlib inline\n",
    "import matplotlib.pyplot as plt\n",
    "plt.rcParams.update({'font.size': 14})\n",
    "from scipy.stats import uniform as uni\n",
    "# from scipy.stats import chi2\n",
    "from scipy.stats import gaussian_kde as gkde\n",
    "from scipy.stats import multivariate_normal\n",
    "# import scipy.stats as sstats \n",
    "from ipywidgets import *"
   ]
  },
  {
   "cell_type": "markdown",
   "metadata": {},
   "source": [
    "## Sample from $\\Lambda$"
   ]
  },
  {
   "cell_type": "code",
   "execution_count": 6,
   "metadata": {},
   "outputs": [],
   "source": [
    "num_samples = np.array([1E2, 1E3, 1E4, 1E5]).astype('int')\n",
    "\n",
    "skew_range = np.array([1, 2, 4])\n",
    "\n",
    "# Number of Samples used for optional Emulation\n",
    "emulate = False\n",
    "num_emulate = int(1E5)"
   ]
  },
  {
   "cell_type": "markdown",
   "metadata": {},
   "source": [
    "## Define QoI\n",
    "The following linear map $Q_s: \\mathbb{R}^2 \\to \\mathbb{R}^2$ is defined to have skewness $s$ at all $\\lambda \\in \\Lambda$.  \n",
    "\n",
    "$$\n",
    "Q_s(\\lambda) = \\lbrace \\, \\lambda_1, \\; \\lambda_1 \\sqrt{s^2 - 1} + \\lambda_2 \\, \\rbrace\n",
    "$$"
   ]
  },
  {
   "cell_type": "code",
   "execution_count": null,
   "metadata": {
    "collapsed": true
   },
   "outputs": [],
   "source": [
    "num_trials = 20\n",
    "ell_1_error = np.zeros((dim_input.size, num_samples.size, num_trials))\n",
    "\n",
    "for s_idx, s in enumerate(skew_range):\n",
    "    print('Dimension = ', s)\n",
    "    \n",
    "    pf_dens = chi2(d)\n",
    "    a, b = pf_dens.interval(0.2)\n",
    "    obs_dens = sstats.uniform(a, b-a)\n",
    "    if emulate:\n",
    "        lam_emulate = np.random.normal(size=(num_emulate,d))\n",
    "        q_emulate = np.sum(lam_emulate**2,axis=1)\n",
    "    for N_idx, N in enumerate(num_samples):\n",
    "        for k in range(num_trials):\n",
    "            print('(k, n) = ', kn)\n",
    "            lam = np.random.normal( size=(n, d) )\n",
    "            q = np.sum(lam**2, axis=1)\n",
    "            pf_dens_approx = gkde(q)\n",
    "            if emulate:\n",
    "                ell_1_error[d_iter,n_iter,k]= ( 1.0/num_emulate * np.sum(np.abs(obs_dens.pdf(q_emulate)*\n",
    "                                                   (1/pf_dens.pdf(q_emulate) -\n",
    "                                               1/pf_dens_approx.evaluate(q_emulate)))) )\n",
    "            else:                      \n",
    "                ell_1_error[d_iter,n_iter,k]= ( 1.0/n * np.sum(np.abs(obs_dens.pdf(q)*\n",
    "                                                    (1/pf_dens.pdf(q) -\n",
    "                                                1/pf_dens_approx.evaluate(q)))) )"
   ]
  },
  {
   "cell_type": "code",
   "execution_count": 7,
   "metadata": {},
   "outputs": [
    {
     "data": {
      "image/png": "[encoded data removed]",
      "text/plain": [
       "<matplotlib.figure.Figure at 0x10d896860>"
      ]
     },
     "metadata": {},
     "output_type": "display_data"
    }
   ],
   "source": [
    "plt.loglog(num_samples, np.mean(ell_1_error[0,:,:],axis=1), label='d=2')\n",
    "plt.loglog(num_samples, np.mean(ell_1_error[1,:,:],axis=1), label='d=10')\n",
    "plt.loglog(num_samples, np.mean(ell_1_error[2,:,:],axis=1), label='d=20')\n",
    "plt.legend(loc=3)\n",
    "\n",
    "plt.savefig('convergence_linearQ_paramDim_d_vs_samples.pdf')"
   ]
  },
  {
   "cell_type": "code",
   "execution_count": 8,
   "metadata": {},
   "outputs": [
    {
     "name": "stdout",
     "output_type": "stream",
     "text": [
      "[ 0.56780449  0.52063306  0.46907253  0.58689459]\n"
     ]
    }
   ],
   "source": [
    "print(np.mean(ell_1_error[0,:,:],axis=1)/np.mean(ell_1_error[2,:,:],axis=1))"
   ]
  },
  {
   "cell_type": "markdown",
   "metadata": {},
   "source": [
    "# Different vector-valued Q"
   ]
  },
  {
   "cell_type": "code",
   "execution_count": 9,
   "metadata": {
    "collapsed": true
   },
   "outputs": [],
   "source": [
    "num_samples = np.array([1E2, 1E3, 1E4, 1E5]).astype('int')\n",
    "\n",
    "lam_dim = np.array([10])\n",
    "\n",
    "#num_emulate = int(1E5)\n",
    "\n",
    "q_dim = np.array([1, 2, 5])"
   ]
  },
  {
   "cell_type": "code",
   "execution_count": 11,
   "metadata": {},
   "outputs": [
    {
     "ename": "NameError",
     "evalue": "name 'lam_emulate' is not defined",
     "output_type": "error",
     "traceback": [
      "\u001b[0;31m-------------------------------------------------------------------\u001b[0m",
      "\u001b[0;31mNameError\u001b[0m                         Traceback (most recent call last)",
      "\u001b[0;32m<ipython-input-11-889df29da00f>\u001b[0m in \u001b[0;36m<module>\u001b[0;34m()\u001b[0m\n\u001b[1;32m      1\u001b[0m \u001b[0ma\u001b[0m\u001b[0;34m,\u001b[0m \u001b[0mb\u001b[0m \u001b[0;34m=\u001b[0m \u001b[0mpf_dens\u001b[0m\u001b[0;34m.\u001b[0m\u001b[0minterval\u001b[0m\u001b[0;34m(\u001b[0m\u001b[0;34m(\u001b[0m\u001b[0;36m0.4\u001b[0m\u001b[0;34m)\u001b[0m\u001b[0;34m)\u001b[0m\u001b[0;34m\u001b[0m\u001b[0m\n\u001b[1;32m      2\u001b[0m \u001b[0;34m\u001b[0m\u001b[0m\n\u001b[0;32m----> 3\u001b[0;31m \u001b[0mplt\u001b[0m\u001b[0;34m.\u001b[0m\u001b[0mscatter\u001b[0m\u001b[0;34m(\u001b[0m\u001b[0mlam_emulate\u001b[0m\u001b[0;34m[\u001b[0m\u001b[0;34m:\u001b[0m\u001b[0;34m,\u001b[0m\u001b[0;36m0\u001b[0m\u001b[0;34m]\u001b[0m\u001b[0;34m,\u001b[0m \u001b[0mq_emulate\u001b[0m\u001b[0;34m[\u001b[0m\u001b[0;34m:\u001b[0m\u001b[0;34m,\u001b[0m\u001b[0;36m0\u001b[0m\u001b[0;34m]\u001b[0m\u001b[0;34m)\u001b[0m\u001b[0;34m\u001b[0m\u001b[0m\n\u001b[0m\u001b[1;32m      4\u001b[0m \u001b[0mplt\u001b[0m\u001b[0;34m.\u001b[0m\u001b[0mplot\u001b[0m\u001b[0;34m(\u001b[0m\u001b[0;34m[\u001b[0m\u001b[0ma\u001b[0m\u001b[0;34m,\u001b[0m \u001b[0mb\u001b[0m\u001b[0;34m,\u001b[0m \u001b[0mb\u001b[0m\u001b[0;34m,\u001b[0m \u001b[0ma\u001b[0m\u001b[0;34m,\u001b[0m \u001b[0ma\u001b[0m\u001b[0;34m]\u001b[0m\u001b[0;34m,\u001b[0m \u001b[0;34m[\u001b[0m\u001b[0ma\u001b[0m\u001b[0;34m,\u001b[0m \u001b[0ma\u001b[0m\u001b[0;34m,\u001b[0m \u001b[0mb\u001b[0m\u001b[0;34m,\u001b[0m \u001b[0mb\u001b[0m\u001b[0;34m,\u001b[0m \u001b[0ma\u001b[0m\u001b[0;34m]\u001b[0m\u001b[0;34m,\u001b[0m\u001b[0;34m'r'\u001b[0m\u001b[0;34m)\u001b[0m\u001b[0;34m\u001b[0m\u001b[0m\n\u001b[1;32m      5\u001b[0m \u001b[0;34m\u001b[0m\u001b[0m\n",
      "\u001b[0;31mNameError\u001b[0m: name 'lam_emulate' is not defined"
     ]
    }
   ],
   "source": [
    "a, b = pf_dens.interval((0.4))\n",
    "\n",
    "plt.scatter(lam_emulate[:,0], q_emulate[:,0])\n",
    "plt.plot([a, b, b, a, a], [a, a, b, b, a],'r')\n",
    "\n",
    "plt.figure(2)\n",
    "np.count_nonzero(np.where(q_emulate[:,0] < b))"
   ]
  },
  {
   "cell_type": "code",
   "execution_count": null,
   "metadata": {
    "collapsed": true
   },
   "outputs": [],
   "source": [
    "repeat = 20\n",
    "\n",
    "ell_1_error = np.zeros((q_dim.size,num_samples.size,repeat))\n",
    "\n",
    "d = lam_dim[0]\n",
    "\n",
    "m_iter = 0\n",
    "for m in q_dim:\n",
    "    print('Dimension = ', m)\n",
    "    pf_dens = chi2(1)\n",
    "    a, b = pf_dens.interval((0.4)**(1/m))\n",
    "    obs_dens = sstats.uniform(a, b)\n",
    "    lam_emulate = np.random.normal(size=(num_emulate,d))\n",
    "    q_emulate = lam_emulate[:,0:m]**2\n",
    "    n_iter = 0\n",
    "    for n in num_samples:\n",
    "        for k in range(repeat):\n",
    "            print('n = ', n)\n",
    "            lam = np.random.normal(size=(n,d))\n",
    "            q = lam[:,0:m]**2\n",
    "            pf_dens_approx = gkde(q.transpose())\n",
    "            #obs_dens_array = np.ones((num_emulate,))\n",
    "            #pf_dens_array = np.ones((num_emulate,))\n",
    "            obs_dens_array = np.ones((n,))\n",
    "            pf_dens_array = np.ones((n,))\n",
    "            for i in range(m):\n",
    "                #obs_dens_array *= obs_dens.pdf(q_emulate[:,i])\n",
    "                #pf_dens_array *= pf_dens.pdf(q_emulate[:,i])\n",
    "                obs_dens_array *= obs_dens.pdf(q[:,i])\n",
    "                pf_dens_array *= pf_dens.pdf(q[:,i])\n",
    "            #ell_1_error[m_iter,n_iter,k]= (1.0/num_emulate * \n",
    "            #                               np.sum(np.abs(obs_dens_array *\n",
    "            #                                    (1/pf_dens_array-\n",
    "            #                                    1/pf_dens_approx.evaluate(q_emulate.transpose())\n",
    "            #                                    )\n",
    "            #                                            )\n",
    "            #                                     )\n",
    "            #                              )\n",
    "            ell_1_error[m_iter,n_iter,k]= (1.0/n * \n",
    "                                           np.sum(np.abs(obs_dens_array *\n",
    "                                                (1/pf_dens_array-\n",
    "                                                1/pf_dens_approx.evaluate(q.transpose())\n",
    "                                                )\n",
    "                                                        )\n",
    "                                                 )\n",
    "                                          )\n",
    "        n_iter +=1\n",
    "    m_iter += 1"
   ]
  },
  {
   "cell_type": "code",
   "execution_count": null,
   "metadata": {
    "collapsed": true
   },
   "outputs": [],
   "source": [
    "print(ell_1_error)"
   ]
  },
  {
   "cell_type": "code",
   "execution_count": null,
   "metadata": {
    "collapsed": true
   },
   "outputs": [],
   "source": [
    "plt.loglog(num_samples, np.mean(ell_1_error[0,:,:],axis=1), label='m=1')\n",
    "plt.loglog(num_samples, np.mean(ell_1_error[1,:,:],axis=1), label='m=2')\n",
    "plt.loglog(num_samples, np.mean(ell_1_error[2,:,:],axis=1), label='m=5')\n",
    "plt.legend(loc=3)\n",
    "\n",
    "plt.savefig('convergence_linearQ_QDim_m_vs_samples.pdf')"
   ]
  },
  {
   "cell_type": "markdown",
   "metadata": {},
   "source": [
    "# Sequential inversion -- version 1, separate denominator into product of marginals"
   ]
  },
  {
   "cell_type": "code",
   "execution_count": null,
   "metadata": {
    "collapsed": true
   },
   "outputs": [],
   "source": [
    "from weighted_kde import gaussian_kde"
   ]
  },
  {
   "cell_type": "code",
   "execution_count": null,
   "metadata": {
    "collapsed": true
   },
   "outputs": [],
   "source": [
    "rv = multivariate_normal(mean = np.zeros(10), cov = np.eye(10))"
   ]
  },
  {
   "cell_type": "code",
   "execution_count": null,
   "metadata": {
    "collapsed": true
   },
   "outputs": [],
   "source": [
    "num_samples = np.array([1E2, 1E3, 1E4, 1E5]).astype('int')\n",
    "\n",
    "lam_dim = np.array([10])\n",
    "\n",
    "q_dim = np.array([1, 2, 5])"
   ]
  },
  {
   "cell_type": "code",
   "execution_count": null,
   "metadata": {
    "collapsed": true,
    "scrolled": true
   },
   "outputs": [],
   "source": [
    "repeat = 20\n",
    "\n",
    "ell_1_error = np.zeros((q_dim.size,num_samples.size,repeat))\n",
    "\n",
    "d = lam_dim[0]\n",
    "\n",
    "m_iter = 0\n",
    "for m in q_dim:\n",
    "    print('Dimension = ', m)\n",
    "    pf_dens = chi2(1)\n",
    "    a, b = pf_dens.interval((0.4)**(1/m))\n",
    "    obs_dens = sstats.uniform(a, b)\n",
    "    n_iter = 0\n",
    "    for n in num_samples:\n",
    "        for k in range(repeat):\n",
    "            print('n = ', n)\n",
    "            lam = np.random.normal(size=(n,d))\n",
    "            obs_dens_array = np.ones((n,))\n",
    "            pf_dens_array = np.ones((n,))\n",
    "            pf_dens_approx_array = np.ones((n,))\n",
    "            #prior_weights = rv.pdf(lam)\n",
    "            for i in range(m):\n",
    "                q = lam[:,i]**2\n",
    "                #if i == 0:\n",
    "                #    pf_dens_approx = gkde(q)\n",
    "                #else:\n",
    "                #    pf_dens_approx = gaussian_kde(q, weights=prior_weights)\n",
    "                pf_dens_approx = gkde(q)\n",
    "                pf_dens_approx_array *= pf_dens_approx.evaluate(q.transpose())\n",
    "                obs_dens_array *= obs_dens.pdf(q)\n",
    "                pf_dens_array *= pf_dens.pdf(q)\n",
    "                #post_weights = prior_weights * obs_dens.pdf(q)/pf_dens_approx.evaluate(q)\n",
    "                #prior_weights = post_weights\n",
    "            ell_1_error[m_iter,n_iter,k]= (1.0/n * \n",
    "                                           np.sum(np.abs(obs_dens_array*(\n",
    "                                               1/pf_dens_array-\n",
    "                                               1/pf_dens_approx_array)\n",
    "                                                         )\n",
    "                                                )\n",
    "                                          )\n",
    "        n_iter +=1\n",
    "    m_iter += 1"
   ]
  },
  {
   "cell_type": "code",
   "execution_count": null,
   "metadata": {
    "collapsed": true,
    "scrolled": false
   },
   "outputs": [],
   "source": [
    "plt.loglog(num_samples, np.mean(ell_1_error[0,:,:],axis=1), label='m=1')\n",
    "plt.loglog(num_samples, np.mean(ell_1_error[1,:,:],axis=1), label='m=2')\n",
    "plt.loglog(num_samples, np.mean(ell_1_error[2,:,:],axis=1), label='m=5')\n",
    "plt.legend(loc=3)\n",
    "\n",
    "plt.savefig('convergence_linearQ_QDim_m_sequential_vs_samples.pdf')"
   ]
  },
  {
   "cell_type": "markdown",
   "metadata": {},
   "source": [
    "## Accept/reject sampling of posterior if samples come from prior"
   ]
  },
  {
   "cell_type": "code",
   "execution_count": null,
   "metadata": {
    "collapsed": true
   },
   "outputs": [],
   "source": [
    "lam_accept = [lam[:,0]]\n",
    "r = obs_dens.pdf(q)/pf_dens.evaluate(q)\n",
    "M = np.max(r)\n",
    "eta_r = r/M\n",
    "for i in range(num_samples):\n",
    "    xi = np.random.uniform(0,1)\n",
    "    if eta_r[i] > xi:\n",
    "        lam_accept.append(lam[:,i])"
   ]
  },
  {
   "cell_type": "code",
   "execution_count": null,
   "metadata": {
    "collapsed": true
   },
   "outputs": [],
   "source": [
    "lam_accept = np.array(lam_accept)"
   ]
  },
  {
   "cell_type": "code",
   "execution_count": null,
   "metadata": {
    "collapsed": true
   },
   "outputs": [],
   "source": [
    "plt.scatter(lam[0,:],lam[1,:])\n",
    "plt.scatter(lam_accept[:,0],lam_accept[:,1])"
   ]
  },
  {
   "cell_type": "code",
   "execution_count": null,
   "metadata": {
    "collapsed": true
   },
   "outputs": [],
   "source": [
    "post_dens = gkde(lam_accept.transpose()) # Not very useful"
   ]
  },
  {
   "cell_type": "code",
   "execution_count": null,
   "metadata": {
    "collapsed": true
   },
   "outputs": [],
   "source": [
    "# Can plot \"slices\" of densities to observe differences between posterior and prior, but not that useful\n",
    "plt.plot(x, post_dens.evaluate(pts1),'r')\n",
    "\n",
    "plt.plot(x, prior_dens.pdf(pts1.transpose()))"
   ]
  },
  {
   "cell_type": "code",
   "execution_count": null,
   "metadata": {
    "collapsed": true
   },
   "outputs": [],
   "source": [
    "post_dens_TP = gkde(np.sum(lam_accept.transpose(),axis=0)) #Construct the push-forward of the posterior used accepted samples"
   ]
  },
  {
   "cell_type": "code",
   "execution_count": null,
   "metadata": {
    "collapsed": true
   },
   "outputs": [],
   "source": [
    "plt.plot(x,post_dens_TP.evaluate(x)) #Plot the push-forward of the posterior, should look like the observed density"
   ]
  },
  {
   "cell_type": "markdown",
   "metadata": {},
   "source": [
    "## QoI: $q=\\lambda_1$"
   ]
  },
  {
   "cell_type": "code",
   "execution_count": null,
   "metadata": {
    "collapsed": true
   },
   "outputs": [],
   "source": [
    "q = lam[0,:]\n",
    "q.shape"
   ]
  },
  {
   "cell_type": "markdown",
   "metadata": {},
   "source": [
    "## Push-forward density"
   ]
  },
  {
   "cell_type": "code",
   "execution_count": null,
   "metadata": {
    "collapsed": true
   },
   "outputs": [],
   "source": [
    "pf_dens = gkde(q)"
   ]
  },
  {
   "cell_type": "markdown",
   "metadata": {},
   "source": [
    "## Import `scipy.stats` to construct observed density"
   ]
  },
  {
   "cell_type": "code",
   "execution_count": null,
   "metadata": {
    "collapsed": true
   },
   "outputs": [],
   "source": [
    "obs_dens = sstats.uniform(0, 2)"
   ]
  },
  {
   "cell_type": "markdown",
   "metadata": {},
   "source": [
    "## Accept/reject sampling of posterior"
   ]
  },
  {
   "cell_type": "code",
   "execution_count": null,
   "metadata": {
    "collapsed": true
   },
   "outputs": [],
   "source": [
    "lam_accept = [lam[:,0]]\n",
    "r = obs_dens.pdf(q)/pf_dens.evaluate(q)\n",
    "M = np.max(r)\n",
    "eta_r = r/M\n",
    "for i in range(num_samples):\n",
    "    xi = np.random.uniform(0,1)\n",
    "    if eta_r[i] > xi:\n",
    "        lam_accept.append(lam[:,i])"
   ]
  },
  {
   "cell_type": "code",
   "execution_count": null,
   "metadata": {
    "collapsed": true
   },
   "outputs": [],
   "source": [
    "lam_accept = np.array(lam_accept)"
   ]
  },
  {
   "cell_type": "code",
   "execution_count": null,
   "metadata": {
    "collapsed": true
   },
   "outputs": [],
   "source": [
    "plt.scatter(lam[0,:],lam[1,:])\n",
    "plt.scatter(lam_accept[:,0],lam_accept[:,1])"
   ]
  },
  {
   "cell_type": "code",
   "execution_count": null,
   "metadata": {
    "collapsed": true
   },
   "outputs": [],
   "source": [
    "def pltaccept(N):\n",
    "    plt.scatter(lam[0,:],lam[1,:],s=2)\n",
    "    plt.scatter(lam_accept[0:N,0],lam_accept[0:N,1],s=4)\n",
    "\n",
    "num_accept = lam_accept.shape[0]\n",
    "interact(pltaccept, N=(1,num_accept,10))"
   ]
  },
  {
   "cell_type": "code",
   "execution_count": null,
   "metadata": {
    "collapsed": true
   },
   "outputs": [],
   "source": [
    "post_dens = gkde(lam_accept.transpose()) #Again, not that useful"
   ]
  },
  {
   "cell_type": "code",
   "execution_count": null,
   "metadata": {
    "collapsed": true
   },
   "outputs": [],
   "source": [
    "plt.plot(x, post_dens.evaluate(pts1),'r') #Again...not that useful\n",
    "plt.plot(x, prior_dens.pdf(pts1.transpose()))"
   ]
  },
  {
   "cell_type": "code",
   "execution_count": null,
   "metadata": {
    "collapsed": true
   },
   "outputs": [],
   "source": [
    "post_dens_TP = gkde(lam_accept[:,0])"
   ]
  },
  {
   "cell_type": "code",
   "execution_count": null,
   "metadata": {
    "collapsed": true
   },
   "outputs": [],
   "source": [
    "plt.plot(x,post_dens_TP.evaluate(x))"
   ]
  },
  {
   "cell_type": "code",
   "execution_count": null,
   "metadata": {
    "collapsed": true
   },
   "outputs": [],
   "source": []
  },
  {
   "cell_type": "markdown",
   "metadata": {},
   "source": [
    "## QoI: $q=\\lambda_1$"
   ]
  },
  {
   "cell_type": "code",
   "execution_count": null,
   "metadata": {
    "collapsed": true
   },
   "outputs": [],
   "source": [
    "lam2 = np.repeat(lam,[100,axis=0)\n",
    "lam2.shape"
   ]
  },
  {
   "cell_type": "code",
   "execution_count": null,
   "metadata": {
    "collapsed": true
   },
   "outputs": [],
   "source": [
    "xi_num = 1\n",
    "q = lam[0,:]\n",
    "xi = np.random.randn(int(1E4*xi_num)) * 10\n",
    "q = np.repeat(q,xi_num) + xi\n",
    "q.shape"
   ]
  },
  {
   "cell_type": "markdown",
   "metadata": {},
   "source": [
    "## Push-forward density"
   ]
  },
  {
   "cell_type": "code",
   "execution_count": null,
   "metadata": {
    "collapsed": true
   },
   "outputs": [],
   "source": [
    "pf_dens = gkde(q)"
   ]
  },
  {
   "cell_type": "markdown",
   "metadata": {},
   "source": [
    "## Import `scipy.stats` to construct observed density"
   ]
  },
  {
   "cell_type": "code",
   "execution_count": null,
   "metadata": {
    "collapsed": true
   },
   "outputs": [],
   "source": [
    "obs_dens = sstats.uniform(0, 2)"
   ]
  },
  {
   "cell_type": "markdown",
   "metadata": {},
   "source": [
    "## Accept/reject sampling of posterior"
   ]
  },
  {
   "cell_type": "code",
   "execution_count": null,
   "metadata": {
    "collapsed": true
   },
   "outputs": [],
   "source": [
    "lam_accept = [lam[:,0]]\n",
    "r = obs_dens.pdf(q)/pf_dens.evaluate(q)\n",
    "M = np.max(r)\n",
    "eta_r = r/M\n",
    "for i in range(num_samples):\n",
    "    eta = np.random.uniform(0,1)\n",
    "    if eta_r[i] > eta:\n",
    "        lam_accept.append(lam[:,i])"
   ]
  },
  {
   "cell_type": "code",
   "execution_count": null,
   "metadata": {
    "collapsed": true
   },
   "outputs": [],
   "source": [
    "lam_accept = np.array(lam_accept)"
   ]
  },
  {
   "cell_type": "code",
   "execution_count": null,
   "metadata": {
    "collapsed": true
   },
   "outputs": [],
   "source": [
    "plt.scatter(lam[0,:],lam[1,:])\n",
    "plt.scatter(lam_accept[:,0],lam_accept[:,1])"
   ]
  },
  {
   "cell_type": "code",
   "execution_count": null,
   "metadata": {
    "collapsed": true
   },
   "outputs": [],
   "source": [
    "def pltaccept(N):\n",
    "    plt.scatter(lam[0,:],lam[1,:],s=2)\n",
    "    plt.scatter(lam_accept[0:N,0],lam_accept[0:N,1],s=4)\n",
    "\n",
    "num_accept = lam_accept.shape[0]\n",
    "interact(pltaccept, N=(1,num_accept,10))"
   ]
  },
  {
   "cell_type": "code",
   "execution_count": null,
   "metadata": {
    "collapsed": true
   },
   "outputs": [],
   "source": [
    "post_dens = gkde(lam_accept.transpose()) #Again, not that useful"
   ]
  },
  {
   "cell_type": "code",
   "execution_count": null,
   "metadata": {
    "collapsed": true
   },
   "outputs": [],
   "source": [
    "plt.plot(x, post_dens.evaluate(pts1),'r') #Again...not that useful\n",
    "plt.plot(x, prior_dens.pdf(pts1.transpose()))"
   ]
  },
  {
   "cell_type": "code",
   "execution_count": null,
   "metadata": {
    "collapsed": true
   },
   "outputs": [],
   "source": [
    "post_dens_TP = gkde(lam_accept[:,0])"
   ]
  },
  {
   "cell_type": "code",
   "execution_count": null,
   "metadata": {
    "collapsed": true
   },
   "outputs": [],
   "source": [
    "plt.plot(x,post_dens_TP.evaluate(x))"
   ]
  }
 ],
 "metadata": {
  "anaconda-cloud": {},
  "kernelspec": {
   "display_name": "py3",
   "language": "python",
   "name": "py3"
  },
  "language_info": {
   "codemirror_mode": {
    "name": "ipython",
    "version": 3
   },
   "file_extension": ".py",
   "mimetype": "text/x-python",
   "name": "python",
   "nbconvert_exporter": "python",
   "pygments_lexer": "ipython3",
   "version": "3.6.4"
  }
 },
 "nbformat": 4,
 "nbformat_minor": 2
}
