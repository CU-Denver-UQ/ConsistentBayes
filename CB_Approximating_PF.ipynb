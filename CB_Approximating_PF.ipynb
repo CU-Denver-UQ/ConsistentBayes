{
 "cells": [
  {
   "cell_type": "markdown",
   "metadata": {},
   "source": [
    "## Import Libraries for Math, Distributions, Plotting"
   ]
  },
  {
   "cell_type": "code",
   "execution_count": null,
   "metadata": {},
   "outputs": [],
   "source": [
    "import numpy as np\n",
    "%matplotlib inline\n",
    "import matplotlib.pyplot as plt\n",
    "plt.rcParams.update({'font.size': 14})\n",
    "from scipy.stats import uniform\n",
    "# from scipy.stats import chi2\n",
    "from scipy.stats import gaussian_kde as gkde\n",
    "from scipy.stats import multivariate_normal\n",
    "# import scipy.stats as sstats \n",
    "from ipywidgets import *"
   ]
  },
  {
   "cell_type": "code",
   "execution_count": null,
   "metadata": {},
   "outputs": [],
   "source": [
    "def make_model(skew_range):\n",
    "    # this function makes a linear map whos first component is the x-unit vector\n",
    "    # and each subsequent component is a norm-1 vector satisfying the property\n",
    "    # that the 2-2 map made from it and the aforementioned unit vector is a map\n",
    "    # with skewness in skew_range, which is a list of desired skewnesses   \n",
    "    # TODO currently this map only works for 2-D input space     \n",
    "    \n",
    "    def my_model(parameter_samples):\n",
    "        Q_map = [ [1.0, 0.0] ] # all map components have the same norm, rect_size to have measures of events equal btwn spaces.\n",
    "        for s in skew_range:\n",
    "            Q_map.append( [np.sqrt(s**2 - 1), 1] ) # taken with the first component, this leads to a 2-2 map with skewsness 's'\n",
    "        Q_map = np.array( Q_map )\n",
    "        QoI_samples = np.dot(parameter_samples, np.transpose(Q_map))\n",
    "        return QoI_samples\n",
    "    return my_model"
   ]
  },
  {
   "cell_type": "markdown",
   "metadata": {},
   "source": [
    "## Set Simulation Options\n",
    "\n",
    "We are trying to determine the relationship between skewness and the number of samples required to approximate a solution to the inverse problem according to the $L^1$ metric (Total Variation).  "
   ]
  },
  {
   "cell_type": "code",
   "execution_count": null,
   "metadata": {},
   "outputs": [],
   "source": [
    "lambda_ref = np.array([0.5, 0.5])\n",
    "# num_samples = np.array([1E2, 1E3, 1E4, 1E5]).astype('int') # independent variable\n",
    "num_samples = np.array([1E2]).astype('int')\n",
    "# Number of Samples used for reference solution, number of trials\n",
    "num_trials = 5\n",
    "num_emulate = int(1E6)\n",
    "\n",
    "# define some handles for functions we will use.\n",
    "# prior_dist = np.random.uniform\n",
    "prior_dist = uniform # can use any scipy.stats class\n",
    "obs_dens = multivariate_normal"
   ]
  },
  {
   "cell_type": "code",
   "execution_count": null,
   "metadata": {},
   "outputs": [],
   "source": [
    "skew_range = np.array([1, 2, 4]) # skewnesses you want to compare\n",
    "sigma = 1E-3\n",
    "scale = 0.2\n",
    "N = 2500"
   ]
  },
  {
   "cell_type": "markdown",
   "metadata": {},
   "source": [
    "### Familiarize yourself with how the `make_model` function works."
   ]
  },
  {
   "cell_type": "markdown",
   "metadata": {},
   "source": [
    "Let us also familiarize ourselves with our observed density of choice and make sure we are not going to violate the predictability assumption. As skewness increases, it becomes necessary to lower the covariance of our observed density in order to prevent violation of the predictability assumption.\n"
   ]
  },
  {
   "cell_type": "markdown",
   "metadata": {},
   "source": [
    "Do note that the uniform pdf has a bit of an interesting trick to get the pdf properly:"
   ]
  },
  {
   "cell_type": "code",
   "execution_count": null,
   "metadata": {},
   "outputs": [],
   "source": [
    "q_center = np.array([0.5, 1.25])\n",
    "a = uniform(loc=q_center-0.5*scale, scale=scale)\n",
    "x = np.array( [[0.5, 1.3], [0.5, 1.4], [0.5, 1.5]] )\n",
    "np.prod(a.pdf( x ), axis=1) # we have to do this... "
   ]
  },
  {
   "cell_type": "markdown",
   "metadata": {},
   "source": [
    "Whereas we can just do the following if our observed distribution object already has built-in support for multivariate cases."
   ]
  },
  {
   "cell_type": "code",
   "execution_count": null,
   "metadata": {},
   "outputs": [],
   "source": [
    "b = multivariate_normal(mean=q_center, cov=sigma)\n",
    "b.pdf(x) # instead of simply this."
   ]
  },
  {
   "cell_type": "code",
   "execution_count": null,
   "metadata": {},
   "outputs": [],
   "source": [
    "skewness = skew_range[1]\n",
    "\n",
    "lam = prior_dist.rvs( size=(N, 2) ) # this is how we'll call the syntax later on as well\n",
    "Q  = make_model([skewness])\n",
    "D = Q(lam)\n",
    "q_center = Q( lambda_ref )\n",
    "obs_dens_samples_mult = multivariate_normal.rvs(mean=q_center, cov=sigma, size=(1000) )\n",
    "obs_dens_samples_uni = uniform.rvs(loc=q_center-0.5*scale, scale=scale, size=(1000,2) )\n",
    "\n",
    "plt.rcParams['figure.figsize'] = 8, 10\n",
    "plt.cla()\n",
    "plt.title('Data Space with Possible Observed Densities\\nSkewness = %2.2f'%skewness)\n",
    "plt.scatter(D[:,0], D[:,1], label='data')\n",
    "plt.scatter(obs_dens_samples_mult[:,0], obs_dens_samples_mult[:,1], color='r', label='normal, cov=%2.2e'%sigma) \n",
    "plt.scatter(obs_dens_samples_uni[:,0], obs_dens_samples_uni[:,1], color='k', label='uniform, scale=%2.2e'%scale, alpha = 0.035) \n",
    "plt.legend()\n",
    "plt.axis('equal')\n",
    "plt.show()"
   ]
  },
  {
   "cell_type": "markdown",
   "metadata": {},
   "source": [
    "We see from the above cell how to compare uniform distributions for our observed density to multivariate normals. \n",
    "\n",
    "For the MS report, a sidelength of $0.1$ was used for the uniform distribution in order to prevent violating the predictability assumption when skewness was equal to 4. Also note that the `loc` parameter passed to `scipy.stats.uniform` needs to be shifted to account for the center, as it is referring to the bottom-left corner instead in $\\mathbb{R}^2$.  \n",
    "\n",
    "With `sigma = 3E-4`, we find that the multivariate normal closely approximates the aforementioned uniform with sidelength $0.1$. Using these, we can safely go up to `skewness=6` before violating the assumption of predictability (dominating measure). \n",
    "\n",
    "Similarly, we can go up to `skew=4` with `cov=1E-3` and `scale=0.2`"
   ]
  },
  {
   "cell_type": "markdown",
   "metadata": {},
   "source": [
    "## Define QoI\n",
    "The following linear map $Q_s: \\mathbb{R}^2 \\to \\mathbb{R}^2$ is defined to have skewness $s$ at all $\\lambda \\in \\Lambda$.  \n",
    "\n",
    "$$\n",
    "Q_s(\\lambda) = \\lbrace \\, \\lambda_1, \\; \\lambda_1 \\sqrt{s^2 - 1} + \\lambda_2 \\, \\rbrace\n",
    "$$"
   ]
  },
  {
   "cell_type": "code",
   "execution_count": null,
   "metadata": {},
   "outputs": [],
   "source": [
    "b.pdf()"
   ]
  },
  {
   "cell_type": "code",
   "execution_count": null,
   "metadata": {},
   "outputs": [],
   "source": [
    "ell_1_error = np.zeros( (skew_range.size, num_samples.size, num_trials) )\n",
    "\n",
    "for s_idx, s in enumerate(skew_range):\n",
    "    print('Skewness = ', s)\n",
    "    lam_emulate = prior_dist.rvs( size=(num_emulate, 2) )\n",
    "    Q = make_model([s])\n",
    "    q_emulate = Q( lam_emulate )\n",
    "    pf_dens_ref = gkde(q_emulate.transpose()) # reference pushforward density\n",
    "    \n",
    "    q_center = Q(lambda_ref)\n",
    "    obs = multivariate_normal(mean=q_center, cov=sigma) # define the handle, can now call .pdf\n",
    "\n",
    "    for N_idx, N in enumerate(num_samples):\n",
    "        for k in range(num_trials):\n",
    "            print( '(skew, N, k) = (%d, %d, %d)'%(s, N, k) )\n",
    "            lam = prior_dist.rvs( size=(N, 2) ) # generate some coarse approximations \n",
    "            q = Q( lam )\n",
    "            pf_dens_approx = gkde(q.transpose())\n",
    "            \n",
    "            ell_1_error[s_idx, N_idx, k]= ( 1.0/N * np.sum( np.abs(\n",
    "                obs.pdf(q)*(  1/pf_dens_ref.pdf(q.transpose()) - 1/pf_dens_approx.pdf(q.transpose())  ) )) )"
   ]
  },
  {
   "cell_type": "code",
   "execution_count": null,
   "metadata": {},
   "outputs": [],
   "source": [
    "for s_idx, s in enumerate(skew_range):\n",
    "    plt.loglog(num_samples, np.mean(ell_1_error[s_idx,:,:],axis=1), label='s=%d'%s)\n",
    "plt.legend(loc=3)\n",
    "\n",
    "plt.savefig('convergence_linearQ_param_skew_vs_samples.pdf')"
   ]
  },
  {
   "cell_type": "code",
   "execution_count": null,
   "metadata": {},
   "outputs": [],
   "source": [
    "print( np.mean( ell_1_error[0,:,:],axis=1)/np.mean(ell_1_error[2,:,:], axis=1) )"
   ]
  }
 ],
 "metadata": {
  "anaconda-cloud": {},
  "kernelspec": {
   "display_name": "py3",
   "language": "python",
   "name": "py3"
  },
  "language_info": {
   "codemirror_mode": {
    "name": "ipython",
    "version": 3
   },
   "file_extension": ".py",
   "mimetype": "text/x-python",
   "name": "python",
   "nbconvert_exporter": "python",
   "pygments_lexer": "ipython3",
   "version": "3.6.4"
  }
 },
 "nbformat": 4,
 "nbformat_minor": 2
}
