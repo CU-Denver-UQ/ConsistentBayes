{
 "cells": [
  {
   "cell_type": "code",
   "execution_count": 1,
   "metadata": {
    "collapsed": true
   },
   "outputs": [],
   "source": [
    "import numpy as np\n",
    "%matplotlib inline\n",
    "import matplotlib.pyplot as plt\n",
    "plt.rcParams.update({'font.size': 14})\n",
    "from ipywidgets import *\n",
    "import scipy.stats as sstats \n",
    "from scipy.stats import gaussian_kde as gkde"
   ]
  },
  {
   "cell_type": "markdown",
   "metadata": {},
   "source": [
    "### Define plotting functions"
   ]
  },
  {
   "cell_type": "code",
   "execution_count": null,
   "metadata": {
    "collapsed": true
   },
   "outputs": [],
   "source": [
    "def comparepush(x, obs_dens, post_dens):\n",
    "    plt.plot(x, obs_dens.pdf(x.transpose()), 'y', label='obs')\n",
    "    plt.plot(x, post_dens.evaluate(x), 'c', label='Q(post)')\n",
    "    plt.xlabel('$Q(\\lambda)$')\n",
    "    plt.legend()\n",
    "    plt.show()\n",
    "\n",
    "def compare_input_dens(x, analytical_dens, estimated_dens, viewdim=0, lab_1='prior', lab_2='KDE prior', title=''):\n",
    "    # specify viewdim (list) to view crosssections e.g. [0,1] gives you the diagonal view through the first two dimensions\n",
    "    input_dim = estimated_dens.d\n",
    "    num_samples = len(x)\n",
    "    y = np.zeros( (input_dim, num_samples) )\n",
    "    y[viewdim,:] = x \n",
    "    plt.plot(x, analytical_dens.pdf( y.transpose() ), 'y', label=lab_1)\n",
    "    plt.plot(x, estimated_dens.evaluate(y), 'c', label=lab_2)\n",
    "    if type(viewdim) == int:\n",
    "        plt.xlabel('$\\lambda_%d$'%viewdim)\n",
    "    else:\n",
    "        plt.xlabel('$\\lambda_{%s}$'%str(viewdim))\n",
    "    plt.title(title)\n",
    "    plt.legend()\n",
    "    plt.show()\n",
    "    \n",
    "def compare_output_dens(x, analytical_dens, estimated_dens, viewdim=0, lab_1='observed', lab_2='KDE push', title=''):\n",
    "    # specify viewdim (list) to view crosssections e.g. [0,1] gives you the diagonal view through the first two dimensions\n",
    "    input_dim = estimated_dens.d\n",
    "    num_samples = len(x)\n",
    "    y = np.zeros( (input_dim, num_samples) )\n",
    "    y[viewdim,:] = x \n",
    "    plt.plot(x, analytical_dens.pdf( y.transpose() ), 'y', label=lab_1)\n",
    "    plt.plot(x, estimated_dens.evaluate(y), 'c', label=lab_2)\n",
    "    if type(viewdim) == int:\n",
    "        plt.xlabel('$Q(\\lambda_%d)$'%viewdim)\n",
    "    else:\n",
    "        plt.xlabel('$Q(\\lambda_{%s})$'%str(viewdim))\n",
    "    plt.title(title)\n",
    "    plt.legend()\n",
    "    plt.show()\n",
    "\n",
    "def compare_est_input_dens(x, estimated_dens1, estimated_dens2, viewdim=0, lab_1='KDE prior', lab_2='KDE post', title=''):\n",
    "    input_dim = estimated_dens1.d\n",
    "    num_samples = len(x)\n",
    "    y = np.zeros( (input_dim, num_samples) )\n",
    "    y[viewdim,:] = x # specify dim (list) to view crosssections e.g. [0,1] gives you the diagonal view through the first two dimensions\n",
    "    plt.plot(x, estimated_dens1.evaluate(y), 'y', label=lab_1)\n",
    "    plt.plot(x, estimated_dens2.evaluate(y), 'c', label=lab_2)\n",
    "    if type(viewdim)==int:\n",
    "        plt.xlabel('$\\lambda_%d$'%viewdim)\n",
    "    else:\n",
    "        plt.xlabel('$\\lambda_{%s}$'%str(viewdim))\n",
    "    plt.title(title)\n",
    "    plt.legend()\n",
    "    plt.show()\n",
    "    \n",
    "def pltaccept(lam, lam_accept, N, i=0, j=1): # plots first N of accepted, any 2D marginals specified\n",
    "    plt.scatter(lam[i,:], lam[j,:], s=2)\n",
    "    plt.scatter(lam_accept[i,0:N], lam_accept[j,0:N], s=4)\n",
    "    plt.xlabel('$\\lambda_%d$'%i)\n",
    "    plt.ylabel('$\\lambda_%d$'%j)\n",
    "    plt.show()"
   ]
  },
  {
   "cell_type": "markdown",
   "metadata": {},
   "source": [
    "## Sample from $\\Lambda$"
   ]
  },
  {
   "cell_type": "code",
   "execution_count": null,
   "metadata": {
    "collapsed": true
   },
   "outputs": [],
   "source": [
    "num_samples = int(1E4)\n",
    "input_dim = 1\n",
    "lam = 2*np.random.uniform( size = (input_dim, num_samples) ) # standard uniform\n",
    "x = np.linspace(0, 2, 100) # for plotting purposes"
   ]
  },
  {
   "cell_type": "markdown",
   "metadata": {},
   "source": [
    "Consider the ODE IVP\n",
    "$$\n",
    "\\partial_t u(t) = -u(t) \\\\\n",
    "u(0) = \\lambda_0\n",
    "$$\n",
    "\n",
    "The solution to this problem is $u(t) = \\lambda_0 e^{-t}$.\n",
    "\n",
    "Suppose $\\lambda_0$ is our true reference parameter and that we are trying to estimate this parameter through experiments. Suppose we know that $\\lambda_0 \\in [-1, 1]$ with uniform probability. Suppose we measure the solution at K evenly spaced intervals in [0, T]. \n",
    "\n",
    "We want to transform these measurements into a single measurement, which we do by looking at the MSE (2-norm) between the observations and the model predictions.  \n",
    "$$\n",
    "Q(\\lambda) = \\frac{1}{K} \\sum_{k=1}^{K} (\\lambda e^{-\\frac{Tk}{K}} - \\lambda_0e^{-\\frac{Tk}{K}}) ^ 2 / \\sigma_k^2 = \\frac{1}{K}  \\sum_{k=1}^{K} \\frac{( (\\lambda- \\lambda_0) e^{-\\frac{Tk}{K}} ) ^ 2 }{ \\sigma_k^2}\n",
    "$$"
   ]
  },
  {
   "cell_type": "code",
   "execution_count": null,
   "metadata": {
    "collapsed": true
   },
   "outputs": [],
   "source": [
    "num_times = 3 # measurement frequency (K)\n",
    "T_min, T_max = 0.1, 1 #  max time\n",
    "lam0 = 0.5 # true / reference lambda_0\n",
    "sd = 1 # STANDARD DEVIATION FOR EACH MEASUREMENT. this makes it constant for all of them.\n",
    "sigma = sd*np.ones(num_times)\n",
    "t = np.linspace(T_min,T_max,num_times)\n",
    "print t\n",
    "def QoI_fun(lam):\n",
    "    return (1./num_times)*np.sum([np.power([ ((lam - lam0)*np.exp(-t[1]*T_max/num_times))/sigma[1] ],2)[0] for k in range(1,num_times+1)],0)\n",
    "\n",
    "# def QoI_funf(lam):\n",
    "#     lam0 = 0 # true / reference lambda_0\n",
    "#     num_times = 10\n",
    "#     return np.power([lam*np.exp(t) - lam0*np.exp(t)],2)[0] for t in range(1,num_times+1)],0)"
   ]
  },
  {
   "cell_type": "markdown",
   "metadata": {},
   "source": [
    "---\n",
    "## Compute QoI vector\n",
    "\n",
    "Format: `(n_dims, n_samples)`  \n",
    "_Optional_: Specify subset of QoI's to use for inversion using variable `QoI_indices` "
   ]
  },
  {
   "cell_type": "code",
   "execution_count": null,
   "metadata": {
    "collapsed": true
   },
   "outputs": [],
   "source": [
    "q_full = QoI_fun(lam)\n",
    "QoI_indices = None\n",
    "if QoI_indices is not None:\n",
    "    q = q_full[QoI_indices,:]\n",
    "else:\n",
    "    q = q_full\n",
    "        \n",
    "print('dimensions :  lambda = '+str(lam.shape)+'   q = '+str(q.shape)+'   q_full = '+str(q_full.shape) )"
   ]
  },
  {
   "cell_type": "code",
   "execution_count": null,
   "metadata": {
    "collapsed": true
   },
   "outputs": [],
   "source": [
    "q"
   ]
  },
  {
   "cell_type": "code",
   "execution_count": null,
   "metadata": {
    "collapsed": true
   },
   "outputs": [],
   "source": [
    "np.min(q[0])"
   ]
  },
  {
   "cell_type": "code",
   "execution_count": null,
   "metadata": {
    "collapsed": true
   },
   "outputs": [],
   "source": [
    "plt.hist(q[0],100)\n",
    "plt.title('histogram of data space')\n",
    "# plt.xlim([0,100])\n",
    "plt.show()"
   ]
  },
  {
   "cell_type": "markdown",
   "metadata": {},
   "source": [
    "## Define observed density"
   ]
  },
  {
   "cell_type": "code",
   "execution_count": null,
   "metadata": {
    "collapsed": true
   },
   "outputs": [],
   "source": [
    "# var_const = .1\n",
    "output_dim = q.shape[0]\n",
    "\n",
    "# Interesting things happen with time series data that uses uniform on output.\n",
    "uni_max = 0.01\n",
    "# obs_dens = sstats.uniform(0,uni_max) # 1D only\n",
    "# obs_dens = sstats.norm(0.5,sigma) # 1D only\n",
    "# But if the errors are normally distributed, the observed density will by a chi^2 of order K.\n",
    "print num_times\n",
    "obs_dens = sstats.chi2(num_times)\n",
    "xx = np.linspace(0,20,100)\n",
    "plt.plot(xx,obs_dens.pdf(xx)) # CHI SQUARED\n",
    "# plt.plot(xx,np.divide(1,obs_dens.pdf(xx))) # RECIPRICAL CHI SQUARED\n",
    "\n",
    "# TODO: add support for multivariate uniforms. \n",
    "\n",
    "# obs_dens = sstats.multivariate_normal(mean = np.zeros(output_dim), \n",
    "#                                       cov = var_const*np.eye(output_dim) )"
   ]
  },
  {
   "cell_type": "code",
   "execution_count": null,
   "metadata": {
    "collapsed": true
   },
   "outputs": [],
   "source": [
    "# for d_dim in range(1,21):\n",
    "#     d = sstats.multivariate_normal(mean = np.zeros(d_dim), cov = np.eye(d_dim))\n",
    "#     print '%2.2e'%d.pdf(np.zeros(d_dim))"
   ]
  },
  {
   "cell_type": "code",
   "execution_count": null,
   "metadata": {
    "collapsed": true
   },
   "outputs": [],
   "source": [
    "np.max(q[0])\n",
    "num_times\n"
   ]
  },
  {
   "cell_type": "markdown",
   "metadata": {},
   "source": [
    "## Compute push-forward of the prior"
   ]
  },
  {
   "cell_type": "code",
   "execution_count": null,
   "metadata": {
    "collapsed": true
   },
   "outputs": [],
   "source": [
    "pf_dens = gkde(q[0])"
   ]
  },
  {
   "cell_type": "code",
   "execution_count": null,
   "metadata": {
    "collapsed": true
   },
   "outputs": [],
   "source": [
    "x = np.linspace(0,1.1*np.max(q[0]),100)\n",
    "plt.plot(x,pf_dens.evaluate(x))"
   ]
  },
  {
   "cell_type": "markdown",
   "metadata": {},
   "source": [
    "## Accept/reject sampling of posterior\n",
    "(samples come from prior that was used to compute the pushforward)"
   ]
  },
  {
   "cell_type": "code",
   "execution_count": null,
   "metadata": {
    "collapsed": true
   },
   "outputs": [],
   "source": [
    "lam_accept = []\n",
    "# r = (1./obs_dens.pdf( q )) / pf_dens.evaluate(q) # RECIPRICAL CHI SQUARED. REGULAR IS BELOW.\n",
    "r = obs_dens.pdf( q ) / pf_dens.evaluate(q) # vector of ratios evaluated at all the q(lambda)'s\n",
    "M = np.max(r)\n",
    "eta_r = r[0]/M"
   ]
  },
  {
   "cell_type": "code",
   "execution_count": null,
   "metadata": {
    "collapsed": true
   },
   "outputs": [],
   "source": [
    "for i in range(num_samples):\n",
    "    xi = np.random.uniform(0,1)\n",
    "    if eta_r[i] > xi:\n",
    "        lam_accept.append( lam[:,i] )\n",
    "\n",
    "lam_accept = np.array( lam_accept[1::] ).transpose()\n",
    "num_accept = lam_accept.shape[1]\n",
    "print('Number accepted: %d = %2.2f%%'%(num_accept, 100*np.float(num_accept)/num_samples))"
   ]
  },
  {
   "cell_type": "code",
   "execution_count": null,
   "metadata": {
    "collapsed": true
   },
   "outputs": [],
   "source": [
    "np.sum(r)"
   ]
  },
  {
   "cell_type": "code",
   "execution_count": null,
   "metadata": {
    "collapsed": true
   },
   "outputs": [],
   "source": [
    "plt.scatter(lam,eta_r)\n",
    "plt.scatter([lam0],0.05)\n",
    "# plt.xlim([0.05-0.01, 0.05+0.01])"
   ]
  },
  {
   "cell_type": "code",
   "execution_count": null,
   "metadata": {
    "collapsed": true,
    "scrolled": true
   },
   "outputs": [],
   "source": [
    "# interact(pltaccept, lam = fixed(lam), lam_accept = fixed(lam_accept), \n",
    "#          N = (1, num_accept, 10), i = (0, input_dim-1, 1), j = (0, input_dim-1, 1))\n"
   ]
  },
  {
   "cell_type": "code",
   "execution_count": null,
   "metadata": {
    "collapsed": true
   },
   "outputs": [],
   "source": []
  },
  {
   "cell_type": "code",
   "execution_count": null,
   "metadata": {
    "collapsed": true
   },
   "outputs": [],
   "source": []
  },
  {
   "cell_type": "markdown",
   "metadata": {},
   "source": [
    "## All in one"
   ]
  },
  {
   "cell_type": "code",
   "execution_count": 133,
   "metadata": {},
   "outputs": [
    {
     "name": "stdout",
     "output_type": "stream",
     "text": [
      "Computing QoI\n",
      "Summary of dimensions :  lambda = (1, 10000)   q = (1, 10000)   q_full = (1, 10000)\n",
      "Defining Observed Density with bound 1.00e-01\n",
      "Computing weights\n"
     ]
    },
    {
     "data": {
      "image/png": "[encoded data removed]",
      "text/plain": [
       "<matplotlib.figure.Figure at 0x10aab1fd0>"
      ]
     },
     "metadata": {},
     "output_type": "display_data"
    }
   ],
   "source": [
    "num_samples = int(1E4)\n",
    "num_times = 1000 # measurement frequency (K)\n",
    "# number of model solves = num_samples*num_times. dim_qoi = 1 because we are assimilating measurements into a single QoI\n",
    "T_min, T_max = 0.1, 10 #  max time\n",
    "# uni_max = 1E-3\n",
    "lam0 = 1 # true / reference lambda_0\n",
    "sd = 0.2 # STANDARD DEVIATION FOR EACH MEASUREMENT. this makes it constant for all of them.\n",
    "\n",
    "############################\n",
    "input_dim = 1\n",
    "lam = 2*np.random.uniform( size = (input_dim, num_samples) ) # standard uniform PRIOR\n",
    "x = np.linspace(0, 2, 100) # for plotting purposes\n",
    "\n",
    "sigma = sd*np.ones(num_times+1)\n",
    "t = np.linspace(T_min,T_max,num_times) # INCLUDES T_min - Useful if you want to be very specific about start-time\n",
    "# t = np.linspace(T_min,T_max,num_times+1)[1::] # EXCLUDES T_min - Useful if you want to keep T_min at 0\n",
    "# print t\n",
    "def data(lam):\n",
    "    noise = 1 # noise on or off\n",
    "    return lam0*np.exp(-t) + noise*sd*np.random.randn(1,num_times)\n",
    "d = data(lam) # make random data. fix it.\n",
    "\n",
    "def QoI_fun(d,lam):\n",
    "    noise = 0 # stochastic map or no? treating model like best unbiased predictor\n",
    "    return (1./1)*np.sum([np.power([ ( lam*np.exp(-t[k]) + noise*sd*np.random.randn(1,num_samples)\n",
    "                                      - d[0,k])/sigma[k] ],2)[0] for k in range(num_times)],0)\n",
    "\n",
    "print('Computing QoI')\n",
    "q_full = QoI_fun(d,lam)\n",
    "QoI_indices = None\n",
    "if QoI_indices is not None:\n",
    "    q = q_full[QoI_indices,:]\n",
    "else:\n",
    "    q = q_full\n",
    "        \n",
    "print('Summary of dimensions :  lambda = '+str(lam.shape)+'   q = '+str(q.shape)+'   q_full = '+str(q_full.shape) )\n",
    "print('Defining Observed Density with bound %2.2e'%(uni_max))\n",
    "# obs_dens = sstats.uniform(0,uni_max) # 1D only\n",
    "obs_dens = sstats.chi2(num_times)\n",
    "\n",
    "pf_dens = gkde(q[0])\n",
    "lam_accept = []\n",
    "# r = (1./obs_dens.pdf( q )) / pf_dens.evaluate(q) # RECIPRICAL CHI SQUARED. REGULAR IS BELOW.\n",
    "print('Computing weights')\n",
    "r = obs_dens.pdf( q ) / pf_dens.evaluate(q) # vector of ratios evaluated at all the q(lambda)'s\n",
    "M = np.max(r)\n",
    "eta_r = r[0]\n",
    "inds = []\n",
    "##### OPTIONAL - RUN ACCEPT/REJECT\n",
    "# print('Performing accept/reject')\n",
    "# for i in range(num_samples):\n",
    "#     xi = np.random.uniform(0,1)\n",
    "#     if eta_r[i] > xi:\n",
    "#         lam_accept.append( lam[:,i] )\n",
    "#         inds.append(i)\n",
    "\n",
    "# lam_accept = np.array( lam_accept[1::] ).transpose()\n",
    "# num_accept = lam_accept.shape[1]\n",
    "# print('Number accepted: %d = %2.2f%%'%(num_accept, 100*np.float(num_accept)/num_samples))\n",
    "######\n",
    "\n",
    "plt.rcParams['figure.figsize'] = (18, 6)\n",
    "plt.figure()\n",
    "plt.subplot(1, 3, 3)\n",
    "plt.scatter(lam,eta_r)\n",
    "# plt.plot(lam_accept, gkde(lam_accept))\n",
    "plt.scatter(lam0,0.05)\n",
    "# plt.title('Posterior Distribution\\nof Uniform Observed Density \\nwith bound = %1.2e'%uni_max)\n",
    "plt.xlabel('Lambda')\n",
    "pr = 0.2\n",
    "# plt.xlim(lam0*np.array([1-pr,1+pr]))\n",
    "\n",
    "plt.subplot(1, 3, 1)\n",
    "x = np.linspace(0,1.1*np.max(q[0]),50)\n",
    "plt.plot(x,pf_dens.evaluate(x))\n",
    "plt.title('Pushforward of Prior')\n",
    "plt.xlabel('Q(lambda)')\n",
    "\n",
    "plt.subplot(1, 3, 2)\n",
    "# xx = np.linspace(0,2*uni_max,50)\n",
    "xx = np.linspace(0,np.max(q[0]),50)\n",
    "plt.plot(xx,obs_dens.pdf(xx))\n",
    "plt.title('Observed Density')\n",
    "plt.xlabel('Q(lambda)')\n",
    "\n",
    "plt.show()"
   ]
  },
  {
   "cell_type": "code",
   "execution_count": 15,
   "metadata": {
    "collapsed": true
   },
   "outputs": [],
   "source": [
    "# np.exp(t[0])*lam - d[0,1]"
   ]
  },
  {
   "cell_type": "code",
   "execution_count": 23,
   "metadata": {},
   "outputs": [
    {
     "data": {
      "text/plain": [
       "(1, 1000)"
      ]
     },
     "execution_count": 23,
     "metadata": {},
     "output_type": "execute_result"
    }
   ],
   "source": [
    "lam.shape"
   ]
  },
  {
   "cell_type": "markdown",
   "metadata": {
    "collapsed": true
   },
   "source": [
    "---\n",
    "## Visualize Posterior Density"
   ]
  },
  {
   "cell_type": "code",
   "execution_count": null,
   "metadata": {
    "collapsed": true
   },
   "outputs": [],
   "source": [
    "prior_dens_kde = gkde(lam)\n",
    "post_dens_kde = gkde(lam_accept) # Not very useful\n",
    "# Can plot \"slices\" of densities to observe differences between posterior and prior, but not that useful\n",
    "interact(compare_est_input_dens, x = fixed(x), \n",
    "         estimated_dens1 = fixed(prior_dens_kde), estimated_dens2 = fixed(post_dens_kde), \n",
    "         lab_1 = fixed('KDE prior'), lab_2 = fixed('KDE post'), title=fixed(''),\n",
    "         viewdim=(0, input_dim-1, 1))\n"
   ]
  },
  {
   "cell_type": "code",
   "execution_count": null,
   "metadata": {
    "collapsed": true
   },
   "outputs": [],
   "source": [
    "prior_dens = sstats.multivariate_normal( mean = np.zeros(5), cov = np.eye(5) ) # Exact density\n",
    "interact(compare_input_dens, x = fixed(x), \n",
    "         analytical_dens = fixed(prior_dens), estimated_dens = fixed(post_dens_kde), \n",
    "         lab_1 = fixed('prior'), lab_2 = fixed('KDE post'), title = fixed(''),\n",
    "         viewdim = (0, input_dim-1, 1))"
   ]
  },
  {
   "cell_type": "markdown",
   "metadata": {},
   "source": [
    "## Construct the push-forward of the posterior using accepted samples"
   ]
  },
  {
   "cell_type": "code",
   "execution_count": null,
   "metadata": {
    "collapsed": true,
    "scrolled": true
   },
   "outputs": [],
   "source": [
    "x = np.linspace(-1,1, 100)\n",
    "# x = np.tile(np.linspace(-5,5,100),[output_dim,1])\n",
    "push_post_dens_kde = gkde( QoI_fun(lam_accept) )\n",
    "# Plot the push-forward of the posterior, should look like the observed density\n",
    "# interact(compare_output_dens, x = fixed(x), \n",
    "#          analytical_dens = fixed(obs_dens), estimated_dens = fixed(push_post_dens_kde), \n",
    "#          lab_1 = fixed('observed'), lab_2 = fixed('KDE push'), title = fixed(''),\n",
    "#          viewdim = (0, output_dim-1, 1))\n",
    "compare_output_dens(x,obs_dens, push_post_dens_kde)"
   ]
  },
  {
   "cell_type": "code",
   "execution_count": null,
   "metadata": {
    "collapsed": true
   },
   "outputs": [],
   "source": [
    "# diagonal crossection view\n",
    "compare_output_dens(x, obs_dens, push_post_dens_kde, \n",
    "                    viewdim = range(output_dim), title = 'Diagonal Cross-Section')"
   ]
  },
  {
   "cell_type": "markdown",
   "metadata": {},
   "source": [
    "---\n",
    "## Extra visualizations"
   ]
  },
  {
   "cell_type": "markdown",
   "metadata": {},
   "source": [
    "### Create KDE of samples on $\\Lambda$ or use specified density on $\\Lambda$\n",
    "\n",
    "***The KDE is not necessary if the density on the input space is already specified***\n",
    "\n",
    "Here, we just do this to show how the density estimator works compared to the exact density.\n",
    "\n",
    "The KDE is not necessary except for the push-forward density. "
   ]
  },
  {
   "cell_type": "markdown",
   "metadata": {},
   "source": [
    "### Compare KDE of prior to the actual prior"
   ]
  },
  {
   "cell_type": "code",
   "execution_count": null,
   "metadata": {
    "collapsed": true
   },
   "outputs": [],
   "source": [
    "interact(compare_input_dens, x = fixed(x), \n",
    "         analytical_dens = fixed(prior_dens), estimated_dens = fixed(prior_dens_kde),\n",
    "         lab_1 = fixed('prior'), lab_2 = fixed('KDE prior'), title = fixed(''),\n",
    "         viewdim = (0, input_dim-1, 1))"
   ]
  },
  {
   "cell_type": "code",
   "execution_count": null,
   "metadata": {
    "collapsed": true
   },
   "outputs": [],
   "source": [
    "# diagonal crossection view\n",
    "compare_input_dens(x, prior_dens, prior_dens_kde, \n",
    "                   viewdim = range(input_dim), title = 'Diagonal Cross-Section')"
   ]
  },
  {
   "cell_type": "code",
   "execution_count": null,
   "metadata": {
    "collapsed": true
   },
   "outputs": [],
   "source": []
  }
 ],
 "metadata": {
  "anaconda-cloud": {},
  "kernelspec": {
   "display_name": "Python 3",
   "language": "python",
   "name": "python3"
  },
  "language_info": {
   "codemirror_mode": {
    "name": "ipython",
    "version": 3
   },
   "file_extension": ".py",
   "mimetype": "text/x-python",
   "name": "python",
   "nbconvert_exporter": "python",
   "pygments_lexer": "ipython3",
   "version": "3.6.3"
  }
 },
 "nbformat": 4,
 "nbformat_minor": 2
}
