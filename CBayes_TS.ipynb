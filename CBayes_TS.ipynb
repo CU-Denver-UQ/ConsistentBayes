{
 "cells": [
  {
   "cell_type": "markdown",
   "metadata": {},
   "source": [
    "# Working with Time-Series Data in a Consistent Bayesian Framework\n",
    "---\n",
    "\n",
    "Copyright 2017 Michael Pilosov\n"
   ]
  },
  {
   "cell_type": "markdown",
   "metadata": {},
   "source": [
    "### Import Libraries\n",
    "_(should be 2.7 and 3.x compatible) _"
   ]
  },
  {
   "cell_type": "code",
   "execution_count": 1,
   "metadata": {
    "collapsed": true
   },
   "outputs": [],
   "source": [
    "# Mathematics and Plotting\n",
    "from HelperFuns import * # pyplot wrapper functions useful for visualizations, numpy, scipy, etc.\n",
    "%matplotlib inline\n",
    "plt.rcParams.update({'font.size': 14})\n",
    "plt.rcParams['figure.figsize'] = 5, 5\n",
    "\n",
    "# Interactivity\n",
    "from ipywidgets import *"
   ]
  },
  {
   "cell_type": "markdown",
   "metadata": {},
   "source": [
    "---\n",
    "## Defining the Parameter to Observables (PtO) Map "
   ]
  },
  {
   "cell_type": "markdown",
   "metadata": {},
   "source": [
    "---\n",
    "Consider the Ordinary Differential Equation Initival Value Problem given by  \n",
    "\n",
    "$$\n",
    "\\partial_t u(t) = -u(t) \\\\\n",
    "u(0) = \\lambda_0\n",
    "$$\n",
    "\n",
    "The solution to this problem is $u(t) = \\lambda_0 \\,e^{-t}$."
   ]
  },
  {
   "cell_type": "markdown",
   "metadata": {},
   "source": [
    "Suppose $\\lambda_0$ is some uncertain input parameter that we are trying to estimate through experimental observations. \n",
    "\n",
    "Suppose we know that $\\lambda_0 \\in [0, 2]$ with uniform probability and that we hope to infer the parameter by observing the system $u$ at $K+1$ evenly spaced intervals in the interval $[T_0, T]$, where $T > T_0 > 0$. This corresponds to have $K$ degrees of freedom."
   ]
  },
  {
   "cell_type": "markdown",
   "metadata": {},
   "source": [
    "In order to define our Parameter-to-Observables Map, we want to transform these observations into a single measurement, which we do by looking at the **Mean Squared Error (2-norm) between the observations and the model predictions**:  \n",
    "\n",
    "$$\n",
    "O(\\lambda) = \\frac{1}{K+1} \\sum_{k=0}^{K+1} \\frac{(\\lambda e^{-(T_0+k\\Delta_t)} - \\lambda_0e^{-(T_0+k\\Delta_t)}) ^ 2}{\\sigma_k^2} = \\frac{1}{K+1}  \\sum_{k=0}^{K} \\frac{( (\\lambda- \\lambda_0) e^{-(T_0+k\\Delta_t)} ) ^ 2 }{ \\sigma_k^2}\n",
    "$$\n",
    "$$\n",
    "= \\frac{(\\lambda- \\lambda_0)^2}{K+1}  \\sum_{k=0}^{K}  \\left ( \\frac{e^{(T_0+k\\Delta_t)}}{\\sigma_k} \\right )^2, \\quad \\text{where } \\Delta_t\\equiv \\frac{T - T_0}{K+1}\n",
    "$$"
   ]
  },
  {
   "cell_type": "markdown",
   "metadata": {},
   "source": [
    "Observe that the division of each measurement by a standard deviation is consistent with the formulation of an additive error statistical model familiar to the usual Bayesian formulation:  \n",
    "\n",
    "$$\n",
    "y_i = \\beta\\, x_i + \\epsilon_i, \\quad \\epsilon_i \\sim N(0,\\sigma_i)\n",
    "$$"
   ]
  },
  {
   "cell_type": "markdown",
   "metadata": {},
   "source": [
    "--- \n",
    "\n",
    "### Choose the Reference Parameter\n",
    "_This is what we consider the \"true\" parameter we are trying to estimate_"
   ]
  },
  {
   "cell_type": "code",
   "execution_count": 2,
   "metadata": {
    "collapsed": true
   },
   "outputs": [],
   "source": [
    "lam0 = 0.5 # true / reference lambda_0"
   ]
  },
  {
   "cell_type": "markdown",
   "metadata": {},
   "source": [
    "### Define the Experiment\n",
    "- _Set the number of observations you will make, $K$_\n",
    "- _Set the time $T_0$ of the first observation_\n",
    "- _Set the end time $T$ of the last observation_\n",
    "- _Define your confidence in each measurement (standard deviation)_"
   ]
  },
  {
   "cell_type": "code",
   "execution_count": 3,
<<<<<<< HEAD
   "metadata": {
    "collapsed": false
   },
   "outputs": [
    {
     "ename": "NameError",
     "evalue": "name 'num_observations' is not defined",
     "output_type": "error",
     "traceback": [
      "\u001b[0;31m-----------------------------------------------------------\u001b[0m",
      "\u001b[0;31mNameError\u001b[0m                 Traceback (most recent call last)",
      "\u001b[0;32m<ipython-input-3-e10998c72b68>\u001b[0m in \u001b[0;36m<module>\u001b[0;34m()\u001b[0m\n\u001b[1;32m      6\u001b[0m \u001b[0msd\u001b[0m \u001b[0;34m=\u001b[0m \u001b[0;36m1\u001b[0m  \u001b[0;31m# this makes it constant for all of them.\u001b[0m\u001b[0;34m\u001b[0m\u001b[0m\n\u001b[1;32m      7\u001b[0m \u001b[0;31m# if you want to specify them individually, replace the line below.\u001b[0m\u001b[0;34m\u001b[0m\u001b[0;34m\u001b[0m\u001b[0m\n\u001b[0;32m----> 8\u001b[0;31m \u001b[0msigma\u001b[0m \u001b[0;34m=\u001b[0m \u001b[0msd\u001b[0m\u001b[0;34m*\u001b[0m\u001b[0mnp\u001b[0m\u001b[0;34m.\u001b[0m\u001b[0mones\u001b[0m\u001b[0;34m(\u001b[0m\u001b[0mnum_observations\u001b[0m\u001b[0;34m)\u001b[0m\u001b[0;34m\u001b[0m\u001b[0m\n\u001b[0m",
      "\u001b[0;31mNameError\u001b[0m: name 'num_observations' is not defined"
     ]
    }
   ],
=======
   "metadata": {},
   "outputs": [],
>>>>>>> f07c8fc665bddc725118b2d069390254397dace5
   "source": [
    "dof = 5 # degrees of freedom (K)\n",
    "# if you specify 1, it will occur at T_0\n",
    "T_start = 0.1 # first observation\n",
    "T_end = 1 # last observation\n",
    "# STANDARD DEVIATION FOR EACH MEASUREMENT.\n",
    "sd = 1  # this makes it constant for all of them.\n",
    "# if you want to specify them individually, replace the line below.\n",
    "num_observations = dof + 1\n",
    "sigma = sd*np.ones(num_observations)"
   ]
  },
  {
   "cell_type": "markdown",
   "metadata": {},
   "source": [
    "We now use these to construct the map, which we can evaluate by calling `PtO_fun` and passing it a 1-D vector `lambda`"
   ]
  },
  {
   "cell_type": "code",
   "execution_count": 4,
   "metadata": {
    "collapsed": true
   },
   "outputs": [],
   "source": [
    "t = np.linspace(T_start, T_end, int(num_observations))\n",
    "def PtO_fun(lam):\n",
    "    return ((lam - lam0)**2/num_observations)*np.sum( [ np.power(\n",
    "        [ np.exp(-t[k])/sigma[k] ], 2)[0] \n",
    "        for k in range(int(num_observations))          ], 0 )"
   ]
  },
  {
   "cell_type": "markdown",
   "metadata": {},
   "source": [
    "--- \n",
    "\n",
    "## Sample from $\\Lambda$\n",
    "_Here we implement uniform random prior on [0, 1], but you can load in any set of samples in its place._"
   ]
  },
  {
   "cell_type": "code",
   "execution_count": 5,
   "metadata": {
    "collapsed": true
   },
   "outputs": [],
   "source": [
    "num_samples = int(1E4)\n",
    "input_dim = 1 # do not change. This is for plotting purposes. Unecessary in Sandbox.\n",
    "lam = 2*np.random.uniform( size = (int(input_dim), int(num_samples)) ) # standard uniform"
   ]
  },
  {
   "cell_type": "markdown",
   "metadata": {},
   "source": [
    "---\n",
    "## Compute Data Space $O(\\Lambda) = \\mathcal{D}$ \n",
    "\n",
    "Format: `(n_dims, n_samples)`  \n",
    "_Optional_: Specify subset of PtO map's components to use for inversion using the variable `sub_indices` "
   ]
  },
  {
   "cell_type": "code",
<<<<<<< HEAD
   "execution_count": null,
   "metadata": {
    "collapsed": true
   },
   "outputs": [],
=======
   "execution_count": 6,
   "metadata": {},
   "outputs": [
    {
     "name": "stdout",
     "output_type": "stream",
     "text": [
      "dimensions :  lambda = (1, 10000)   D = (1, 10000)\n"
     ]
    }
   ],
>>>>>>> f07c8fc665bddc725118b2d069390254397dace5
   "source": [
    "D = PtO_fun(lam)\n",
    "output_dim = D.shape[0] # This is for plotting purposes. Unecessary in Sandbox.\n",
    "print('dimensions :  lambda = ' + str(lam.shape) + '   D = ' + str(D.shape) )"
   ]
  },
  {
   "cell_type": "markdown",
   "metadata": {},
   "source": [
    "## Compute Push-Forward of the Prior $P_{O(\\Lambda)}$\n",
    "_ ... i.e. Visualize the Data Space_"
   ]
  },
  {
   "cell_type": "code",
   "execution_count": 7,
   "metadata": {
    "collapsed": true,
    "scrolled": false
   },
   "outputs": [
    {
     "data": {
      "application/vnd.jupyter.widget-view+json": {
       "model_id": "56ac990592df489e80d6dc7f4c6c9738",
       "version_major": 2,
       "version_minor": 0
      },
      "text/plain": [
       "A Jupyter Widget"
      ]
     },
     "metadata": {},
     "output_type": "display_data"
    },
    {
     "data": {
      "text/plain": [
       "<function HelperFuns.view_est_dens>"
      ]
     },
     "execution_count": 7,
     "metadata": {},
     "output_type": "execute_result"
    }
   ],
   "source": [
    "# # Below you will find one-dimensional histogram option\n",
    "# M = 100 # number of bins in the data space\n",
    "# plt.hist(D[0],M)\n",
    "# plt.title('histogram of data space')\n",
    "# plt.show()\n",
    "\n",
    "# Interactive Marginal Visualization\n",
    "pf_dens = gkde(D) # compute KDE estimate of it\n",
    "# Can plot \"slices\" of densities to observe differences between posterior and prior, but not that useful\n",
    "\n",
    "a, b = -0.1, 1.25 # linspace parameters for plotting\n",
    "plot_grid = np.linspace(a, b, 100)\n",
    "\n",
    "interact(view_est_dens, x = fixed(plot_grid), \n",
    "         estimated_dens = fixed(pf_dens), \n",
    "         lab = fixed('KDE data'), title=fixed('Pushforward of Prior'),\n",
    "         viewdim=(0, output_dim-1, 1) )"
   ]
  },
  {
   "cell_type": "markdown",
   "metadata": {},
   "source": [
    "## Define Observed Probability Measure $P_\\mathcal{D}$"
   ]
  },
  {
   "cell_type": "markdown",
   "metadata": {},
   "source": [
    "Since we have assumed an additive normal error model, our data should be distributed according to $d_i \\sim \\chi^2(K)$.  \n",
    "We also include a uniform density on $[0,$ `M` $]$ which is akin to minimizing the MSE."
   ]
  },
  {
   "cell_type": "code",
<<<<<<< HEAD
   "execution_count": null,
   "metadata": {
    "collapsed": true
   },
   "outputs": [],
=======
   "execution_count": 8,
   "metadata": {},
   "outputs": [
    {
     "data": {
      "image/png": "iVBORw0KGgoAAAANSUhEUgAAAWEAAAFZCAYAAABJ1p4XAAAABHNCSVQICAgIfAhkiAAAAAlwSFlz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\nAAAAAElFTkSuQmCC\n",
      "text/plain": [
       "<matplotlib.figure.Figure at 0x1a17431630>"
      ]
     },
     "metadata": {},
     "output_type": "display_data"
    }
   ],
>>>>>>> f07c8fc665bddc725118b2d069390254397dace5
   "source": [
    "# obs_dens = sstats.chi2(num_observations)\n",
    "a, b = 0, 1.5 # linspace parameters for plotting\n",
    "plot_grid = np.linspace(a, b, 100)\n",
    "\n",
    "# # Uniform Density\n",
    "M = 0.05\n",
    "obs_dens = sstats.uniform(0,M) # 1D only\n",
    "# # A normal density in case you want to invert something else... \n",
    "# obs_dens = sstats.norm(0.5,sigma) # 1D only\n",
    "plt.rcParams['figure.figsize'] = 5, 5\n",
    "plt.plot(plot_grid,obs_dens.pdf(plot_grid))\n",
    "# plt.title('Chi Sq, K = %d'%num_observations)\n",
    "plt.title('Observed Density')\n",
    "plt.ylabel('Rel. Freq.')\n",
    "plt.xlabel('d')\n",
    "plt.show()"
   ]
  },
  {
   "cell_type": "markdown",
   "metadata": {},
   "source": [
    "---\n",
    "\n",
    "At this point we have performed the computations we need to. We have evaluated the input points through our map and performed a KDE on them. It would be useful at this point to save this object and/or its evaluation at every point in the data space for later re-use. Doing so here would be an appropriate place. "
   ]
  },
  {
   "cell_type": "markdown",
   "metadata": {},
   "source": [
    "--- \n",
    "\n",
    "## Accept/Reject Sampling of Posterior (with Visualization)\n",
    "\n",
    "Since we have already used the samples in our prior to compute the pushforward density, we can re-use these with an accept/reject algorithm to get a set of samples generated from the posterior according to the solution of the stochastic inverse problem as outlined in the Consistent Bayes formulation. "
   ]
  },
  {
   "cell_type": "code",
   "execution_count": 9,
   "metadata": {
    "collapsed": true
   },
   "outputs": [],
   "source": [
    "accept_inds = []\n",
    "# r = (1./obs_dens.pdf( D )) / pf_dens.evaluate(D) # RECIPRICAL CHI SQUARED. REGULAR IS BELOW.\n",
    "r = obs_dens.pdf( D ) / pf_dens.evaluate(D) # vector of ratios evaluated at all the O(lambda)'s\n",
    "M = np.max(r)\n",
    "eta_r = r[0]/M"
   ]
  },
  {
   "cell_type": "code",
<<<<<<< HEAD
   "execution_count": null,
   "metadata": {
    "collapsed": true
   },
   "outputs": [],
=======
   "execution_count": 10,
   "metadata": {},
   "outputs": [
    {
     "name": "stdout",
     "output_type": "stream",
     "text": [
      "Number accepted: 3234 = 32.34%\n"
     ]
    }
   ],
>>>>>>> f07c8fc665bddc725118b2d069390254397dace5
   "source": [
    "accept_inds = [i for i in range(num_samples) if eta_r[i] > np.random.uniform(0,1) ]\n",
    "lam_accept = np.array([lam[i,accept_inds] for i in range(input_dim)])\n",
    "num_accept = len(accept_inds)\n",
    "print('Number accepted: %d = %2.2f%%'%(num_accept, 100*np.float(num_accept)/num_samples))"
   ]
  },
  {
   "cell_type": "markdown",
   "metadata": {},
   "source": [
    "### Visualize Accept/Reject samples"
   ]
  },
  {
   "cell_type": "code",
   "execution_count": 11,
   "metadata": {
    "collapsed": true,
    "scrolled": false
   },
   "outputs": [
    {
     "data": {
      "application/vnd.jupyter.widget-view+json": {
       "model_id": "b08bbf50d21d41bb8c8c8313df361fc3",
       "version_major": 2,
       "version_minor": 0
      },
      "text/plain": [
       "A Jupyter Widget"
      ]
     },
     "metadata": {},
     "output_type": "display_data"
    }
   ],
   "source": [
    "plt.rcParams['figure.figsize'] = 10, 5\n",
    "interact(pltaccept, lam = fixed(lam), lam_accept = fixed(lam_accept), \n",
    "         N = (1, num_accept+1, 10), eta_r = fixed(eta_r), \n",
    "         i = (0, input_dim-1, 1), j = (0, input_dim-1, 1))\n",
    "# You will visualize the accepted samples in a subset of size N of the input samples\n",
    "plt.show()"
   ]
  },
  {
   "cell_type": "markdown",
   "metadata": {},
   "source": [
    "### Visual Summary"
   ]
  },
  {
   "cell_type": "code",
<<<<<<< HEAD
   "execution_count": null,
   "metadata": {
    "collapsed": true
   },
   "outputs": [],
=======
   "execution_count": 12,
   "metadata": {},
   "outputs": [
    {
     "data": {
      "image/png": "iVBORw0KGgoAAAANSUhEUgAABBsAAAGPCAYAAAAdjdg2AAAABHNCSVQICAgIfAhkiAAAAAlwSFlz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\nREREREQkrf4/XMLMjwBQkfsAAAAASUVORK5CYII=\n",
      "text/plain": [
       "<matplotlib.figure.Figure at 0x1a0f8cbe48>"
      ]
     },
     "metadata": {},
     "output_type": "display_data"
    }
   ],
>>>>>>> f07c8fc665bddc725118b2d069390254397dace5
   "source": [
    "def plotstuff(lam, lam0, eta_r, res=50, max_x=1.1):\n",
    "    plt.rcParams['figure.figsize'] = (18, 6)\n",
    "    plt.figure()\n",
    "    plt.subplot(1, 3, 1)\n",
    "    x = np.linspace(0, max_x, res)\n",
    "    plt.plot(x,pf_dens.evaluate(x))\n",
    "    plt.title('Pushforward of Prior')\n",
    "    plt.xlabel('O(lambda)')\n",
    "    \n",
    "    plt.subplot(1, 3, 2)\n",
    "    xx = np.linspace(0, max_x, res)\n",
    "    plt.plot(xx,obs_dens.pdf(xx))\n",
    "    plt.title('Observed Density')\n",
    "    plt.xlabel('O(lambda)')\n",
    "\n",
    "    plt.subplot(1, 3, 3)\n",
    "    plt.scatter(lam,eta_r)\n",
    "    # plt.plot(lam_accept, gkde(lam_accept))\n",
    "    plt.scatter(lam0, 0.05)\n",
    "    # plt.title('Posterior Distribution\\nof Uniform Observed Density \\nwith bound = %1.2e'%uni_max)\n",
    "    plt.xlabel('Lambda')\n",
    "    # # OPTIONAL:\n",
    "    # pr = 0.2 # percentage view-window around true parameter.\n",
    "    # plt.xlim(lam0*np.array([1-pr,1+pr]))\n",
    "    \n",
    "    plt.show()\n",
    "\n",
    "plotstuff(lam, lam0, eta_r, res=50, max_x=1.1)"
   ]
  },
  {
   "cell_type": "markdown",
   "metadata": {},
   "source": [
    "Jump to [Extra Visualizations](#Extra-Visualizations) at the bottom of the worksheet to see the prior compared to the posterior as well as the pushforward of the posterior compared to the observed density. "
   ]
  },
  {
   "cell_type": "markdown",
   "metadata": {},
   "source": [
    "[Back to Top](#Choose-the-Reference-Parameter)\n",
    "\n",
    "--- \n",
    "\n",
    "## Extra Visualizations"
   ]
  },
  {
   "cell_type": "markdown",
   "metadata": {
    "collapsed": true
   },
   "source": [
    "---\n",
    "### Visualize Posterior Density"
   ]
  },
  {
   "cell_type": "code",
<<<<<<< HEAD
   "execution_count": null,
   "metadata": {
    "collapsed": true
   },
   "outputs": [],
=======
   "execution_count": 13,
   "metadata": {},
   "outputs": [
    {
     "data": {
      "application/vnd.jupyter.widget-view+json": {
       "model_id": "e4b7144c805e495aaa9d1b7c1de2a80c",
       "version_major": 2,
       "version_minor": 0
      },
      "text/plain": [
       "A Jupyter Widget"
      ]
     },
     "metadata": {},
     "output_type": "display_data"
    }
   ],
>>>>>>> f07c8fc665bddc725118b2d069390254397dace5
   "source": [
    "prior_dens_kde = gkde(lam)\n",
    "post_dens_kde = gkde(lam_accept)\n",
    "\n",
    "a, b = 0, 1 # linspace parameters for plotting\n",
    "plot_grid = np.linspace(a, b, 100)\n",
    "\n",
    "# Can plot \"slices\" of densities to observe differences between posterior and prior, but not that useful\n",
    "interact(compare_est_input_dens, x = fixed(plot_grid), \n",
    "         estimated_dens1 = fixed(prior_dens_kde), estimated_dens2 = fixed(post_dens_kde), \n",
    "         lab_1 = fixed('KDE prior'), lab_2 = fixed('KDE post'), title=fixed(''),\n",
    "         viewdim=(0, input_dim-1, 1))\n",
    "plt.show()"
   ]
  },
  {
   "cell_type": "markdown",
   "metadata": {},
   "source": [
    "## Visualize Quality of Solution \n",
    "_We compare the push-forward of the posterior using accepted samples against the observed density_"
   ]
  },
  {
   "cell_type": "code",
<<<<<<< HEAD
   "execution_count": null,
   "metadata": {
    "collapsed": true
   },
   "outputs": [],
=======
   "execution_count": 14,
   "metadata": {},
   "outputs": [
    {
     "data": {
      "application/vnd.jupyter.widget-view+json": {
       "model_id": "38bc91c37b0a4d729686c8f912625ac5",
       "version_major": 2,
       "version_minor": 0
      },
      "text/plain": [
       "A Jupyter Widget"
      ]
     },
     "metadata": {},
     "output_type": "display_data"
    }
   ],
>>>>>>> f07c8fc665bddc725118b2d069390254397dace5
   "source": [
    "push_post_dens_kde = gkde([D[k][accept_inds] for k in range(output_dim)])\n",
    "\n",
    "a, b = 0, 0.1 # linspace parameters for plotting\n",
    "plot_grid = np.linspace(a, b, 100)\n",
    "\n",
    "plt.rcParams['figure.figsize'] = (10, 5)\n",
    "# diagonal crossection view\n",
    "interact(compare_output_dens, x = fixed(plot_grid), \n",
    "         analytical_dens = fixed(obs_dens), estimated_dens = fixed(push_post_dens_kde), \n",
    "         lab_1 = fixed('observed'), lab_2 = fixed('KDE push'), title = fixed('Marginal - Observed v. PF'),\n",
    "         viewdim = (0, output_dim-1, 1))\n",
    "plt.show()"
   ]
  },
  {
   "cell_type": "code",
   "execution_count": null,
   "metadata": {
    "collapsed": true
   },
   "outputs": [],
   "source": []
  }
 ],
 "metadata": {
  "anaconda-cloud": {},
  "kernelspec": {
   "display_name": "Python 3",
   "language": "python",
   "name": "python3"
  },
  "language_info": {
   "codemirror_mode": {
    "name": "ipython",
    "version": 3
   },
   "file_extension": ".py",
   "mimetype": "text/x-python",
   "name": "python",
   "nbconvert_exporter": "python",
   "pygments_lexer": "ipython3",
   "version": "3.6.0"
  }
 },
 "nbformat": 4,
 "nbformat_minor": 2
}
